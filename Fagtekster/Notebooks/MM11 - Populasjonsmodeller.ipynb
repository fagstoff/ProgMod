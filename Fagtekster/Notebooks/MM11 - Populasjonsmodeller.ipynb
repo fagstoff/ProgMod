{
 "cells": [
  {
   "cell_type": "markdown",
   "metadata": {},
   "source": [
    "# Populasjonsmodeller\n",
    "\n",
    "\n",
    "__Creative Commons BY-SA : bitjungle (Rune Mathisen) og fuzzbin (Tom Jarle Christiansen)__\n",
    "\n",
    "**[Populasjonsmodeller](https://en.wikipedia.org/wiki/Population_model) er mye brukt for å kunne forutsi eller simulere hvordan en eller flere [populasjoner](https://no.wikipedia.org/wiki/Populasjon) vil utvikle seg over tid. Populasjonens utvikling vil være avhengig av mange faktorer.**\n",
    "\n",
    "På dette temaarket skal vi se på hva som skjer hvis vi plasserer rev og kaniner sammen på et avgrenset område. Vi skal bruke en kjent modell som kalles: [Lotka-Volterra Predator-Prey System](https://en.wikipedia.org/wiki/Lotka%E2%80%93Volterra_equations). Dette er ganske enkle diferensiallikninger som beskriver dhvordan rovdyr og byttedyr vil påvirke hverandre i et område.\n",
    "\n",
    "La oss først definer $x$ til å være antall kaniner, og $y$ til å være antall rev i systemet.\n",
    "\n",
    "Lotka-Volterra-modellen er som følger:\n",
    "\n",
    "$$ x' = \\alpha x - \\beta xy $$\n",
    "$$ y' = \\delta xy - \\gamma y $$\n",
    "\n",
    "$\\alpha$,$\\beta$,$\\delta$,$\\gamma$ er parametre som påvirker samhandlingen mellom kaniner og rever. Det kan være fødselsrater, dødsrater osv. Til å begynne med bruker vi ferdige verdier til dette.\n",
    "\n",
    "La oss lage modellen i python:"
   ]
  },
  {
   "cell_type": "code",
   "execution_count": 16,
   "metadata": {},
   "outputs": [
    {
     "ename": "TypeError",
     "evalue": "'module' object is not callable",
     "output_type": "error",
     "traceback": [
      "\u001b[0;31m---------------------------------------------------------------------------\u001b[0m",
      "\u001b[0;31mTypeError\u001b[0m                                 Traceback (most recent call last)",
      "\u001b[0;32m<ipython-input-16-ec9fcba3dd50>\u001b[0m in \u001b[0;36m<module>\u001b[0;34m()\u001b[0m\n\u001b[1;32m     21\u001b[0m \u001b[0mt\u001b[0m \u001b[0;34m=\u001b[0m \u001b[0mnp\u001b[0m\u001b[0;34m.\u001b[0m\u001b[0mlinspace\u001b[0m\u001b[0;34m(\u001b[0m\u001b[0;36m0\u001b[0m\u001b[0;34m,\u001b[0m\u001b[0;36m50\u001b[0m\u001b[0;34m,\u001b[0m\u001b[0;36m50\u001b[0m\u001b[0;34m)\u001b[0m \u001b[0;31m# x-verdier (Tidsaksen)\u001b[0m\u001b[0;34m\u001b[0m\u001b[0m\n\u001b[1;32m     22\u001b[0m \u001b[0mX0\u001b[0m \u001b[0;34m=\u001b[0m \u001b[0;34m[\u001b[0m\u001b[0;36m10\u001b[0m\u001b[0;34m,\u001b[0m \u001b[0;36m5\u001b[0m\u001b[0;34m]\u001b[0m  \u001b[0;31m# initialbetingelse v0 = 0 m/s\u001b[0m\u001b[0;34m\u001b[0m\u001b[0m\n\u001b[0;32m---> 23\u001b[0;31m \u001b[0mX\u001b[0m \u001b[0;34m=\u001b[0m \u001b[0modeint\u001b[0m\u001b[0;34m(\u001b[0m\u001b[0mdX_dt\u001b[0m\u001b[0;34m,\u001b[0m \u001b[0mX0\u001b[0m\u001b[0;34m,\u001b[0m \u001b[0mt\u001b[0m\u001b[0;34m,\u001b[0m \u001b[0mfull_output\u001b[0m\u001b[0;34m=\u001b[0m\u001b[0;32mTrue\u001b[0m\u001b[0;34m)\u001b[0m \u001b[0;31m# Løser difflikningen\u001b[0m\u001b[0;34m\u001b[0m\u001b[0m\n\u001b[0m\u001b[1;32m     24\u001b[0m \u001b[0;31m#X = np.array(v).flatten() # Formaterer tallene i en array\u001b[0m\u001b[0;34m\u001b[0m\u001b[0;34m\u001b[0m\u001b[0m\n\u001b[1;32m     25\u001b[0m \u001b[0;31m#\u001b[0m\u001b[0;34m\u001b[0m\u001b[0;34m\u001b[0m\u001b[0m\n",
      "\u001b[0;32m/Users/fuzzbin/anaconda/lib/python3.6/site-packages/scipy/integrate/odepack.py\u001b[0m in \u001b[0;36modeint\u001b[0;34m(func, y0, t, args, Dfun, col_deriv, full_output, ml, mu, rtol, atol, tcrit, h0, hmax, hmin, ixpr, mxstep, mxhnil, mxordn, mxords, printmessg)\u001b[0m\n\u001b[1;32m    213\u001b[0m     output = _odepack.odeint(func, y0, t, args, Dfun, col_deriv, ml, mu,\n\u001b[1;32m    214\u001b[0m                              \u001b[0mfull_output\u001b[0m\u001b[0;34m,\u001b[0m \u001b[0mrtol\u001b[0m\u001b[0;34m,\u001b[0m \u001b[0matol\u001b[0m\u001b[0;34m,\u001b[0m \u001b[0mtcrit\u001b[0m\u001b[0;34m,\u001b[0m \u001b[0mh0\u001b[0m\u001b[0;34m,\u001b[0m \u001b[0mhmax\u001b[0m\u001b[0;34m,\u001b[0m \u001b[0mhmin\u001b[0m\u001b[0;34m,\u001b[0m\u001b[0;34m\u001b[0m\u001b[0m\n\u001b[0;32m--> 215\u001b[0;31m                              ixpr, mxstep, mxhnil, mxordn, mxords)\n\u001b[0m\u001b[1;32m    216\u001b[0m     \u001b[0;32mif\u001b[0m \u001b[0moutput\u001b[0m\u001b[0;34m[\u001b[0m\u001b[0;34m-\u001b[0m\u001b[0;36m1\u001b[0m\u001b[0;34m]\u001b[0m \u001b[0;34m<\u001b[0m \u001b[0;36m0\u001b[0m\u001b[0;34m:\u001b[0m\u001b[0;34m\u001b[0m\u001b[0m\n\u001b[1;32m    217\u001b[0m         \u001b[0mwarning_msg\u001b[0m \u001b[0;34m=\u001b[0m \u001b[0m_msgs\u001b[0m\u001b[0;34m[\u001b[0m\u001b[0moutput\u001b[0m\u001b[0;34m[\u001b[0m\u001b[0;34m-\u001b[0m\u001b[0;36m1\u001b[0m\u001b[0;34m]\u001b[0m\u001b[0;34m]\u001b[0m \u001b[0;34m+\u001b[0m \u001b[0;34m\" Run with full_output = 1 to get quantitative information.\"\u001b[0m\u001b[0;34m\u001b[0m\u001b[0m\n",
      "\u001b[0;32m<ipython-input-16-ec9fcba3dd50>\u001b[0m in \u001b[0;36mdX_dt\u001b[0;34m(X, t)\u001b[0m\n\u001b[1;32m     17\u001b[0m     \u001b[0;34m\"\"\" Return the growth rate of fox and rabbit populations. X[0]=x og X[1]=y\"\"\"\u001b[0m\u001b[0;34m\u001b[0m\u001b[0m\n\u001b[1;32m     18\u001b[0m     return array([ a*X[0] -   b*X[0]*X[1] ,\n\u001b[0;32m---> 19\u001b[0;31m                   -c*X[1] + d*b*X[0]*X[1] ])\n\u001b[0m\u001b[1;32m     20\u001b[0m \u001b[0;34m\u001b[0m\u001b[0m\n\u001b[1;32m     21\u001b[0m \u001b[0mt\u001b[0m \u001b[0;34m=\u001b[0m \u001b[0mnp\u001b[0m\u001b[0;34m.\u001b[0m\u001b[0mlinspace\u001b[0m\u001b[0;34m(\u001b[0m\u001b[0;36m0\u001b[0m\u001b[0;34m,\u001b[0m\u001b[0;36m50\u001b[0m\u001b[0;34m,\u001b[0m\u001b[0;36m50\u001b[0m\u001b[0;34m)\u001b[0m \u001b[0;31m# x-verdier (Tidsaksen)\u001b[0m\u001b[0;34m\u001b[0m\u001b[0m\n",
      "\u001b[0;31mTypeError\u001b[0m: 'module' object is not callable"
     ]
    }
   ],
   "source": [
    "# Bruker SciPy ODE-solver\n",
    "\n",
    "import math\n",
    "import array\n",
    "import numpy as np\n",
    "# import scipy as sp\n",
    "from scipy.integrate import odeint\n",
    "import matplotlib.pyplot as plt\n",
    "\n",
    " # Definition of parameters\n",
    "a = 1. #alfa\n",
    "b = 0.1 #beta\n",
    "c = 1.5 #delta\n",
    "d = 0.75 #gamma\n",
    "\n",
    "def dX_dt(X, t):\n",
    "    \"\"\" Return the growth rate of fox and rabbit populations. X[0]=x og X[1]=y\"\"\"\n",
    "    return array([ a*X[0] -   b*X[0]*X[1] ,\n",
    "                  -c*X[1] + d*b*X[0]*X[1] ])\n",
    "\n",
    "t = np.linspace(0,50,50) # x-verdier (Tidsaksen)\n",
    "X0 = [10, 5]  # initialbetingelse v0 = 0 m/s\n",
    "X = odeint(dX_dt, X0, t, full_output=True) # Løser difflikningen\n",
    "#X = np.array(v).flatten() # Formaterer tallene i en array\n",
    "#\n",
    "#plt.grid(True)\n",
    "#plt.title(\"Fart som funksjon av tid\", fontsize=16)\n",
    "#plt.xlabel('Tid [s]',fontsize=12)\n",
    "#plt.ylabel('Fart [m/s]',fontsize=12)\n",
    "#plt.plot(xs,X)\n",
    "#plt.show()"
   ]
  },
  {
   "cell_type": "markdown",
   "metadata": {},
   "source": [
    "# Oppgaver\n",
    "Søk på nettet, og forsøk å finne en populasjonsmodell som du synes er interessant. Implementer modellen i Python, bruk eksemplet ovenfor som mal."
   ]
  },
  {
   "cell_type": "code",
   "execution_count": null,
   "metadata": {
    "collapsed": true
   },
   "outputs": [],
   "source": []
  }
 ],
 "metadata": {
  "kernelspec": {
   "display_name": "Python 3",
   "language": "python",
   "name": "python3"
  },
  "language_info": {
   "codemirror_mode": {
    "name": "ipython",
    "version": 3
   },
   "file_extension": ".py",
   "mimetype": "text/x-python",
   "name": "python",
   "nbconvert_exporter": "python",
   "pygments_lexer": "ipython3",
   "version": "3.6.1"
  }
 },
 "nbformat": 4,
 "nbformat_minor": 2
}

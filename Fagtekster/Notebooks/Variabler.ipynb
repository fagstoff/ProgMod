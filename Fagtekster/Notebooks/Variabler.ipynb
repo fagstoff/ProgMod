{
 "cells": [
  {
   "cell_type": "markdown",
   "metadata": {
    "slideshow": {
     "slide_type": "slide"
    }
   },
   "source": [
    "\n",
    "# Variabler\n",
    "__Creative Commons BY-SA : bitjungle (Rune Mathisen) og fuzzbin (Tom Jarle Christiansen)__\n",
    "\n",
    "**I nesten alle programmer behandler, lagrer og manipulerer vi tall og tekst. For å få til dette er vi helt avhengige av å kunne lagre denne informasjonen et sted. Dette gjøres ved hjelp av variabler.**\n",
    "\n",
    "Variabler\n",
    "---------\n",
    "\n",
    "En variabel i programmering brukes på samme måte som i matematikk. Det er et symbol som kan inneholde en verdi. Denne verdien kan være et tall, en tekst eller helt andre ting. En variabel kan endre sin verdi etter at den er laget.\n",
    "\n",
    "La oss først se på hvordan vi kan **deklarere** (opprette) en ny variabel, og **tilordne** (gi) den en verdi. Vi skriver så ut resultatet i konsollen.\n",
    "\n",
    "Variabler kan ha mange ulike typer innhold. Dette kalles for datatyper.\n",
    "\n",
    "Ulike datatyper kan være:\n",
    "\n",
    ">+ Heltall -> 3\n",
    ">+ Desimaltall -> 3.141592\n",
    ">+ Tekst -> \"Hallo verden!\"\n",
    ">+ Lister -> [\"Petter\" , \"Lise\" ,  \"Arne\" ,\"Julie\" ]\n",
    ">+ [Boolsk](https://no.wikipedia.org/wiki/Boolsk_variabel) -> Sann eller ikke sann\n",
    "\n",
    "Det er viktig at man er bevisst på datatyper for å unngå uønskede resultater på beregninger. Et eksempel på dette kan være hvis man ønsker å legge sammen to tall som er lest inn fra en tekstboks. Disse talle er da i utgangspunktet tekst, og en addisjon vil da kun legge tallene på etter hverandre som en tekst. \"11\" + \"6\" = \"116\" dersom \"tallene\" er tekst."
   ]
  },
  {
   "cell_type": "markdown",
   "metadata": {
    "slideshow": {
     "slide_type": "subslide"
    }
   },
   "source": [
    "La oss se på hvordan vi regner ut tilbakelagt strekning når vi vet den konstante farten og tiden.\n",
    "\n",
    "$$s=v \\cdot t$$\n",
    "\n",
    "Hvis vi lar $v=20\\textrm{ m/s}$ og $t=30\\textrm{s}$ så kan vi regne ut tilbakelagt strekning.\n",
    "$$ s = 20 \\cdot 30 $$\n",
    "$$ s= \\underline{\\underline{600\\textrm{ m}}}$$"
   ]
  },
  {
   "cell_type": "markdown",
   "metadata": {
    "slideshow": {
     "slide_type": "slide"
    }
   },
   "source": [
    "## Hvordan løser vi samme oppgaven i Python?"
   ]
  },
  {
   "cell_type": "code",
   "execution_count": 1,
   "metadata": {
    "slideshow": {
     "slide_type": "fragment"
    }
   },
   "outputs": [
    {
     "name": "stdout",
     "output_type": "stream",
     "text": [
      "Tilbakelagt strekning er: 600 meter.\n"
     ]
    }
   ],
   "source": [
    "v = 20 # 20 m/s\n",
    "t = 30 # 30 s\n",
    "\n",
    "s = v*t\n",
    "\n",
    "print(\"Tilbakelagt strekning er: {} meter.\".format(s))"
   ]
  },
  {
   "cell_type": "code",
   "execution_count": null,
   "metadata": {
    "collapsed": true
   },
   "outputs": [],
   "source": []
  }
 ],
 "metadata": {
  "celltoolbar": "Slideshow",
  "kernelspec": {
   "display_name": "Python 3",
   "language": "python",
   "name": "python3"
  },
  "language_info": {
   "codemirror_mode": {
    "name": "ipython",
    "version": 3
   },
   "file_extension": ".py",
   "mimetype": "text/x-python",
   "name": "python",
   "nbconvert_exporter": "python",
   "pygments_lexer": "ipython3",
   "version": "3.6.1"
  }
 },
 "nbformat": 4,
 "nbformat_minor": 2
}

{
 "cells": [
  {
   "cell_type": "markdown",
   "metadata": {
    "deletable": true,
    "editable": true
   },
   "source": [
    "# Lag et enkelt spill\n",
    "__Creative Commons BY-SA : bitjungle (Rune Mathisen) og fuzzbin (Tom Jarle Christiansen)__\n",
    "\n",
    "Den morsomste måten å lære seg å programmere på, er å lage ditt eget spill. Det skal vi gjøre nå! Men ikke ha alt for høye forventninger til hvordan spillet ser ut. For å lage et moderne dataspill trengs det rundt hundre mennesker som jobber over flere år med utviklingsarbeidet. Spillet Overwatch tok for eksempel syv år å utvikle, og spill-designeren [Jeff Caplan sier dette](https://us.battle.net/forums/en/overwatch/topic/20748786270#post-6) om hvor mange som var med i utviklingsarbeidet:\n",
    "\n",
    "<img alt=\"Cover til spillet Overwatch. Opphavsrett: Blizzard\" style=\"float: right;\" src=\"img/Overwatch_cover_art.jpg\">\n",
    "\n",
    "> The Overwatch Team (internally at Blizzard we are called \"Team 4\") is comprised of about 100 developers at this point. The disciplines who comprise the team are Audio, Art, Engineering, Production, and Design. We also have two full-time Business Operations people and an esports director who are part of the team. \n",
    "\n",
    "Det viktigste med et spill er uansett ikke at det ser flott ut, men at det er engasjerende og morsomt å spille. Har du en god idé og ikke alt for høye forventninger om fancy grafikk eller veldig kompleks spill-mekanikk, så kan du få til noe gøyalt allerede i dag.\n",
    "\n",
    "Nedenfor er det kode til et veldig enkelt spill hvor spilleren skal gjette på et tall mellom 1 og 20. Spillet er basert på [GUESS THE NUMBER](http://inventwithpython.com/chapter4.html) i boka \"Invent Your Own Computer Games With Python\" av Al Sweigart. \n",
    "\n",
    "Forsøk å spille (bruk input-boksen nederst i dette dokumentet). Gå gjennom linje for linje i programmet, og forsøk å forstå hva hver enkelt linje gjør. Deretter kan du gjennomføre disse oppgavene:\n",
    "\n",
    "* Endre antall forsøk spilleren får til å gjette tallet.\n",
    "* Endre tall-området som spilleren skal gjette i.\n",
    "* La spilleren selv taste inn antall gjettinger som er lov å gjøre.\n",
    "* Lage en egen funksjon som tester om spilleren har gjettet riktig.\n",
    "* Lage kode som håndterer feil dersom spilleren ikke taster inn et tall.\n",
    "* Bytte ut for-loop med en while-loop.\n",
    "\n",
    "Kan du selv komme på andre ting som kan gjøre spillet bedre?"
   ]
  },
  {
   "cell_type": "code",
   "execution_count": null,
   "metadata": {
    "collapsed": false,
    "deletable": true,
    "editable": true
   },
   "outputs": [
    {
     "name": "stdout",
     "output_type": "stream",
     "text": [
      "Hei, hva heter du?\n"
     ]
    }
   ],
   "source": [
    "import random # Her importerer vi en modul med funksjoner som vi skal bruke i programmet vårt.\n",
    "\n",
    "antall_forsok = 0 # Dette er en variabel hvor vi skal lagre det spilleren gjetter.\n",
    "\n",
    "print(\"Hei, hva heter du?\")\n",
    "spillernavn = input() # Vi henter spillerens navn, og lagrer det i en variabel.\n",
    "\n",
    "tall = random.randint(1, 20) # Nå plukker vi et tilfeldig tall mellom 1 og 20.\n",
    "print(\"Ok {}, jeg tenker på et tall mellom 1 og 20.\".format(spillernavn))\n",
    "\n",
    "for antall_forsok in range(6): # Vi gir spilleren 6 forsøk på å gjette riktig.\n",
    "    print(\"Gjett hvilket tall det er:\")\n",
    "    gjettet = input() # Venter på at spilleren skal taste inn et tall.\n",
    "    gjettet = int(gjettet) # Gjør om til heltall (hva skjer om spilleren taster inn noe annet?).\n",
    "\n",
    "    if gjettet < tall: # Gjettet spilleren lavere enn tallet vårt?\n",
    "        print(\"Du gjettet {}, men det er for lavt {}.\".format(gjettet, spillernavn))\n",
    "    elif gjettet > tall: # Gjettet spilleren høyere enn tallet vårt?\n",
    "        print(\"Du gjettet {}, men det er for høyt {}.\".format(gjettet, spillernavn))\n",
    "    else: # Ikke for lavt og ikke for høyt, da må det være riktig!\n",
    "        break # Hopper ut av loopen.\n",
    "\n",
    "# Her er for-loopen ferdig, legg merke til innrykket på linjene nedenfor.\n",
    "\n",
    "if gjettet == tall: # Sammenlikner det spilleren gjettet med det vi tenkte på. Er tallene like?\n",
    "    print(\"Wow {}, du gjettet riktig på {} forsøk.\".format(spillernavn, antall_forsok))\n",
    "else: # Dersom tallen ikke var like, så må de være ulike.\n",
    "    print(\"Dette var litt for vanskelig. Jeg tenkte på tallet {}.\".format(tall))\n"
   ]
  }
 ],
 "metadata": {
  "kernelspec": {
   "display_name": "Python 3",
   "language": "python",
   "name": "python3"
  },
  "language_info": {
   "codemirror_mode": {
    "name": "ipython",
    "version": 3
   },
   "file_extension": ".py",
   "mimetype": "text/x-python",
   "name": "python",
   "nbconvert_exporter": "python",
   "pygments_lexer": "ipython3",
   "version": "3.6.1"
  }
 },
 "nbformat": 4,
 "nbformat_minor": 2
}

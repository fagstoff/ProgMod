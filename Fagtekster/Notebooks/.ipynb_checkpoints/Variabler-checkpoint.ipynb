{
 "cells": [
  {
   "cell_type": "markdown",
   "metadata": {
    "slideshow": {
     "slide_type": "slide"
    }
   },
   "source": [
    "\n",
    "# Variabler\n",
    "\n",
    "## ProgMod@Telemark\n",
    "\n",
    "Rune Mathisen - Trond Hulløen - Tom Jarle Christiansen"
   ]
  },
  {
   "cell_type": "markdown",
   "metadata": {
    "slideshow": {
     "slide_type": "subslide"
    }
   },
   "source": [
    "La oss se på hvordan vi regner ut tilbakelagt strekning når vi vet den konstante farten og tiden.\n",
    "\n",
    "$$s=v \\cdot t$$\n",
    "\n",
    "Hvis vi lar $v=20\\textrm{ m/s}$ og $t=30\\textrm{s}$ så kan vi regne ut tilbakelagt strekning.\n",
    "$$ s = 20 \\cdot 30 $$\n",
    "$$ s= \\underline{\\underline{600\\textrm{ m}}}$$"
   ]
  },
  {
   "cell_type": "markdown",
   "metadata": {
    "slideshow": {
     "slide_type": "slide"
    }
   },
   "source": [
    "## Hvordan løser vi samme oppgaven i Python?"
   ]
  },
  {
   "cell_type": "code",
   "execution_count": 5,
   "metadata": {
    "slideshow": {
     "slide_type": "fragment"
    }
   },
   "outputs": [
    {
     "name": "stdout",
     "output_type": "stream",
     "text": [
      "Tilbakelagt strekning er: 600 meter.\n"
     ]
    }
   ],
   "source": [
    "v = 20 # 20 m/s\n",
    "t = 30 # 30 s\n",
    "\n",
    "s = v*t\n",
    "\n",
    "print(\"Tilbakelagt strekning er:\", s , \"meter.\")"
   ]
  }
 ],
 "metadata": {
  "celltoolbar": "Slideshow",
  "kernelspec": {
   "display_name": "Python 3",
   "language": "python",
   "name": "python3"
  },
  "language_info": {
   "codemirror_mode": {
    "name": "ipython",
    "version": 3
   },
   "file_extension": ".py",
   "mimetype": "text/x-python",
   "name": "python",
   "nbconvert_exporter": "python",
   "pygments_lexer": "ipython3",
   "version": "3.6.1"
  }
 },
 "nbformat": 4,
 "nbformat_minor": 2
}

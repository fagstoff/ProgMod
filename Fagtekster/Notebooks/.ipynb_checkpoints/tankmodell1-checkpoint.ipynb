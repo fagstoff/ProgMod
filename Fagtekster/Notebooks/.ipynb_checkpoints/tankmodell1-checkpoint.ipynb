{
 "cells": [
  {
   "cell_type": "markdown",
   "metadata": {},
   "source": [
    "# Tankmodell - vi tømmer tanken\n",
    "__Creative Commons BY-SA : bitjungle (Rune Mathisen) og fuzzbin (Tom Jarle Christiansen)__\n",
    "\n",
    "Vi har en tank med samme tverrsnitt $A=2 \\ m^2$ over hele høyden til tanken. I bunnen av tanken er det et hull hvor innholdet i tanken renner ut. Arealet til dette hullet er $a=0,01 \\ m^2$. Ved tiden $t=0$ er tanken fylt opp til høyden $h_0=4 \\ m$. Hvordan vil høyden $h$ endres over tid, og når er tanken tom? Vi antar at væsken er inkompresibel og at den strømmer friksjonsfritt ut av hullet i bunnen. Vi kan også sette $g=9.81 \\ m/s^2$.\n",
    "\n",
    "![Skisse av tanken](img/tank01.png)\n",
    "\n",
    "La oss først definere de parametrene vi har fått oppgitt:\n",
    "\n",
    "$$ \\SI{10}{kg m s^{-2}} $$"
   ]
  },
  {
   "cell_type": "code",
   "execution_count": 55,
   "metadata": {
    "collapsed": true
   },
   "outputs": [],
   "source": [
    "import math # vi trenger dette biblioteket senere\n",
    "\n",
    "A = 2\n",
    "a = 0.01\n",
    "h0 = 4\n",
    "g = 9.81"
   ]
  },
  {
   "cell_type": "markdown",
   "metadata": {},
   "source": [
    "Volumet av væsken i tanken er:\n",
    "\n",
    "$$ V = A \\cdot h $$\n",
    "\n",
    "Vi kan regne ut volumet $V_{0}$ av væsken i tanken ved tiden $t=0$:"
   ]
  },
  {
   "cell_type": "code",
   "execution_count": 3,
   "metadata": {},
   "outputs": [
    {
     "name": "stdout",
     "output_type": "stream",
     "text": [
      "Volumet ved tiden t0 er 8\n"
     ]
    }
   ],
   "source": [
    "V0 = A * h0\n",
    "print(\"Volumet ved tiden t0 er {}\".format(V0))"
   ]
  },
  {
   "cell_type": "markdown",
   "metadata": {},
   "source": [
    "Så setter vi opp et uttrykk for hvordan volumet endrer seg over tid, når det bare strømmer væske ut av tanken og det ikke kommer noe væske inn i tanken. Da har vi at:\n",
    "\n",
    "$$ \\frac{dV}{dt} = -q_{ut}$$\n",
    "\n",
    "Eller for å si det med ord: \n",
    "> Endringen til volumet av væsken i tanken er lik mengden væske som strømmer ut av tanken.\n",
    "\n",
    "Mengden $q_{ut}$ som strømmer ut av tanken er gitt ved arealet $a$ til hullet og hastigheten $v$ på væskestrømmen ut av hullet: \n",
    "\n",
    "$$ q_{ut} = a \\cdot v $$\n",
    "\n",
    "Siden tverrsnittet A til tanken er konstant og volumet av væsken i tanken $V=A \\cdot h$, kan vi nå skrive:\n",
    "\n",
    "$$ A \\frac{dh}{dt} = -a \\cdot v$$\n",
    "\n",
    "Fra fysikken vet vi at energien i systemet må være konservert. Væsken som strømmer ut av hullet i bunnen får farten fra høyden $h$ fra væskenivået i tanken. Den potensielle energien er gitt ved $mgh$, og den kinetiske energien til vannstrålen ut av hullet i bunnen er gitt ved $\\frac{1}{2}mv^2$. For at energien skal være konservert, må vi da ha:\n",
    "\n",
    "$$ \\frac{1}{2}mv^2 = mgh $$\n",
    "\n",
    "Vi kan forkorte bort massen:\n",
    "\n",
    "$$ v^2 = 2gh $$\n",
    "$$ v = \\sqrt{2gh} = k \\sqrt{h} $$"
   ]
  },
  {
   "cell_type": "code",
   "execution_count": 10,
   "metadata": {},
   "outputs": [
    {
     "name": "stdout",
     "output_type": "stream",
     "text": [
      "Konstanten k er 4.4294469180700204\n"
     ]
    }
   ],
   "source": [
    "k = math.sqrt(2*g)\n",
    "print(\"Konstanten k er {}\".format(k))"
   ]
  },
  {
   "cell_type": "markdown",
   "metadata": {},
   "source": [
    "Nå kan vi sette inn uttrykket for $v$ i uttrykket for endring av volumet til væsken i tanken:\n",
    "\n",
    "$$ A \\frac{dh}{dt} = -a k \\sqrt{h}$$\n",
    "\n",
    "Uttrykket for endring av høyden over tid blir da:\n",
    "\n",
    "$$ \\frac{dh}{dt} = - \\frac{a}{A} k \\sqrt{h}  $$\n",
    "\n",
    "Vi bruker Eulers metode for å finne ut hva høyden $h$ er ved tiden $i+1$:\n",
    "\n",
    "$$ \\frac{h_{i+1} − h_i}{t_{i+1} − t_i} = − \\frac{a}{A}  k\\sqrt{h_i} $$\n",
    "\n",
    "$$ h_{i+1} = − \\frac{a}{A}  k\\sqrt{h_i} \\cdot (t_{i+1} − t_i) + h_i $$\n",
    "\n",
    "Nå kan vi implementere Eulers metode i Python:"
   ]
  },
  {
   "cell_type": "code",
   "execution_count": 37,
   "metadata": {
    "collapsed": true
   },
   "outputs": [],
   "source": [
    "def euler(h, t, t_neste):\n",
    "    return (-a/A) * k * math.sqrt(h) * (t_neste - t) + h"
   ]
  },
  {
   "cell_type": "markdown",
   "metadata": {},
   "source": [
    "Vi starter ved tiden $t=0$ og endrer tiden med 5 sekunder for hver nye beregning ($\\Delta t=5$)."
   ]
  },
  {
   "cell_type": "code",
   "execution_count": 53,
   "metadata": {},
   "outputs": [
    {
     "name": "stdout",
     "output_type": "stream",
     "text": [
      "t = 0 => h = 4 \t v = 8.858893836140041 \t qut = 0.08858893836140042\n",
      "t = 5 => h = 3.778527654096499 \t v = 8.610151716048522 \t qut = 0.08610151716048522\n",
      "t = 10 => h = 3.563273861195286 \t v = 8.361305708838273 \t qut = 0.08361305708838274\n",
      "t = 15 => h = 3.354241218474329 \t v = 8.112349394994421 \t qut = 0.08112349394994421\n",
      "t = 20 => h = 3.1514324835994683 \t v = 7.863275737771223 \t qut = 0.07863275737771223\n",
      "t = 25 => h = 2.954850590155188 \t v = 7.614077001110823 \t qut = 0.07614077001110824\n",
      "t = 30 => h = 2.7644986651274173 \t v = 7.364744653401089 \t qut = 0.07364744653401088\n",
      "t = 35 => h = 2.58038004879239 \t v = 7.115269254027335 \t qut = 0.07115269254027334\n",
      "t = 40 => h = 2.4024983174417067 \t v = 6.865640318878224 \t qut = 0.06865640318878224\n",
      "t = 45 => h = 2.230857309469751 \t v = 6.615846159925163 \t qut = 0.06615846159925164\n",
      "t = 50 => h = 2.065461155471622 \t v = 6.3658736926170025 \t qut = 0.06365873692617002\n",
      "t = 55 => h = 1.9063143131561968 \t v = 6.115708202990443 \t qut = 0.06115708202990443\n",
      "t = 60 => h = 1.7534216080814358 \t v = 5.8653330639067525 \t qut = 0.058653330639067525\n",
      "t = 65 => h = 1.6067882814837668 \t v = 5.614729386418504 \t qut = 0.056147293864185044\n",
      "t = 70 => h = 1.4664200468233042 \t v = 5.36387558754612 \t qut = 0.05363875587546121\n",
      "t = 75 => h = 1.3323231571346512 \t v = 5.112746849099989 \t qut = 0.05112746849099989\n",
      "t = 80 => h = 1.2045044859071514 \t v = 4.861314432691874 \t qut = 0.04861314432691874\n",
      "t = 85 => h = 1.0829716250898547 \t v = 4.6095448022839465 \t qut = 0.046095448022839464\n",
      "t = 90 => h = 0.9677330050327559 \t v = 4.357398485190753 \t qut = 0.043573984851907534\n",
      "t = 95 => h = 0.8587980429029871 \t v = 4.104828571543106 \t qut = 0.04104828571543106\n",
      "t = 100 => h = 0.7561773286144094 \t v = 3.851778704366947 \t qut = 0.03851778704366947\n",
      "t = 105 => h = 0.6598828610052357 \t v = 3.598180336353742 \t qut = 0.03598180336353742\n",
      "t = 110 => h = 0.5699283525963922 \t v = 3.343948904804201 \t qut = 0.03343948904804201\n",
      "t = 115 => h = 0.48632962997628715 \t v = 3.088978365112769 \t qut = 0.03088978365112769\n",
      "t = 120 => h = 0.4091051708484679 \t v = 2.8331331511326714 \t qut = 0.028331331511326715\n",
      "t = 125 => h = 0.33827684207015113 \t v = 2.5762359444383907 \t qut = 0.025762359444383907\n",
      "t = 130 => h = 0.2738709434591914 \t v = 2.318048297743025 \t qut = 0.02318048297743025\n",
      "t = 135 => h = 0.21591973601561576 \t v = 2.058238377988901 \t qut = 0.02058238377988901\n",
      "t = 140 => h = 0.16446377656589323 \t v = 1.7963238283290754 \t qut = 0.017963238283290755\n",
      "t = 145 => h = 0.11955568085766634 \t v = 1.5315620974767603 \t qut = 0.015315620974767604\n",
      "t = 150 => h = 0.08126662842074733 \t v = 1.2627158229843574 \t qut = 0.012627158229843574\n",
      "t = 155 => h = 0.04969873284613839 \t v = 0.98746601887925 \t qut = 0.009874660188792501\n",
      "t = 160 => h = 0.025012082374157137 \t v = 0.7005262708713808 \t qut = 0.007005262708713808\n",
      "t = 165 => h = 0.007498925602372617 \t v = 0.3835738785665035 \t qut = 0.003835738785665035\n"
     ]
    },
    {
     "data": {
      "image/png": "[encoded data removed]",
      "text/plain": [
       "<matplotlib.figure.Figure at 0x103f637b8>"
      ]
     },
     "metadata": {},
     "output_type": "display_data"
    }
   ],
   "source": [
    "t = 0  # starttiden\n",
    "dt = 5 # tidssteg i sekunder\n",
    "h = h0 # starthøyden vår\n",
    "lim = 0.01 # vi stopper beregningen når høyden er mindre enn denne\n",
    "trange = []\n",
    "hrange = []\n",
    "while h > lim:\n",
    "    t_neste = t + dt\n",
    "    if t > 0: # ingen beregning ved t = 0, der bruker vi initialverdier\n",
    "        h = euler(h, t, t_neste)\n",
    "    v = k * math.sqrt(h)\n",
    "    qut = a * v\n",
    "    print(\"t = {} => h = {} \\t v = {} \\t qut = {}\".format(t, h, v, qut))\n",
    "    trange.append(t)\n",
    "    hrange.append(h)\n",
    "    t = t_neste\n",
    "\n",
    "import matplotlib.pyplot as plt\n",
    "plt.plot(trange, hrange)\n",
    "plt.show()"
   ]
  },
  {
   "cell_type": "code",
   "execution_count": null,
   "metadata": {
    "collapsed": true
   },
   "outputs": [],
   "source": []
  }
 ],
 "metadata": {
  "kernelspec": {
   "display_name": "Python 3",
   "language": "python",
   "name": "python3"
  },
  "language_info": {
   "codemirror_mode": {
    "name": "ipython",
    "version": 3
   },
   "file_extension": ".py",
   "mimetype": "text/x-python",
   "name": "python",
   "nbconvert_exporter": "python",
   "pygments_lexer": "ipython3",
   "version": "3.6.1"
  }
 },
 "nbformat": 4,
 "nbformat_minor": 2
}

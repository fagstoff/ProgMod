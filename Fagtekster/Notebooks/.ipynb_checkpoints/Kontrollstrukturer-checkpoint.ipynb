{
 "cells": [
  {
   "cell_type": "markdown",
   "metadata": {
    "deletable": true,
    "editable": true
   },
   "source": [
    "# Kontrollstrukturer\n",
    "__Creative Commons BY-SA : bitjungle (Rune Mathisen) og fuzzbin (Tom Jarle Christiansen)__\n",
    "\n",
    "En kontrollstruktur i et dataprogram er kodeblokk som velger en vei gjennom programmet basert på analyse av en eller flere variabler. Kontrollstrukterer i dataprogrammer er helt grunnleggende kode for å få et dataprogram til å reagere på en bestemt måte når en spesiell tilstand inntreffer. \n",
    "\n",
    "Praktisk eksempel her..."
   ]
  },
  {
   "cell_type": "markdown",
   "metadata": {
    "deletable": true,
    "editable": true
   },
   "source": [
    "## Betingede strukturer  (Tester)\n",
    "\n",
    "I nesten alle programmer vil man før eller siden få behov for å teste eller sammenligne verdier slik at programmet kan gjøre ulike ting avhengig av resultatet på testen.\n",
    "\n",
    "### if-test\n",
    "\n",
    "If-kommandoen bruker operatorer til å sammenlikne to verdier, og resultatet av en if-test er enten sann eller falsk. I eksempelet under skrives teksten ut _bare_ hvis variabelen a er lik 1."
   ]
  },
  {
   "cell_type": "code",
<<<<<<< Updated upstream
=======
<<<<<<< HEAD
   "execution_count": 3,
   "metadata": {},
=======
>>>>>>> Stashed changes
   "execution_count": 2,
   "metadata": {
    "collapsed": false,
    "deletable": true,
    "editable": true
   },
<<<<<<< Updated upstream
=======
>>>>>>> origin/master
>>>>>>> Stashed changes
   "outputs": [
    {
     "name": "stdout",
     "output_type": "stream",
     "text": [
      "Variablen a er lik 1\n"
     ]
    }
   ],
   "source": [
    "a = 1\n",
    "\n",
    "if a == 1:\n",
    "    print(\"Variablen a er lik {}\".format(a)) # Denne linja kjøres kun hvis a er lik 1."
   ]
  },
  {
   "cell_type": "markdown",
   "metadata": {},
   "source": [
    "\n",
    "Ofte ønsker man å gjøre litt mer avanserte ting enn kun å sjekke om to størrelser er like. Dette kan løses ved å bruke ulike operatorer. På denne måten kan man sjekke om to størrelser er større enn, mindre enn eller ulike hverandre. Man kan også kombinere flere tester med logiske operatorer som og og eller. Vi kan også lage større og mer sammensatte tester ved å kombinere kommandoene if, elif og else.\n",
    "\n",
    "I tester brukes dobbelt likhetstegn hvis man skal sjekke om to verdier er like. I en test bruker man [logiske sammenligningsvariabler](https://docs.python.org/3/reference/expressions.html#value-comparisons).\n",
    "\n",
    "La oss se på flere eksempel der vi bruker ulike operatorer."
   ]
  },
  {
   "cell_type": "code",
   "execution_count": 6,
   "metadata": {},
   "outputs": [
    {
     "name": "stdout",
     "output_type": "stream",
     "text": [
      "tall1 er større enn tall2\n",
      "tall1 er større eller lik tall2\n",
      "tall1 er ulik tall2\n"
     ]
    }
   ],
   "source": [
    "# Deklarerer to variabler og tilordner to verdier\n",
    "tall1 = 9\n",
    "tall2 = 7\n",
    "\n",
    "# Test som sjekker om tall1 er lik tall2\n",
    "if tall1 == tall2:\n",
    "    # kode som skal kjøres kun hvis tall1 er lik tall2\n",
    "    print(\"tall1 er lik tall2\")\n",
    "\n",
    "# Test som sjekker om tall1 er større enn tall2\n",
    "if tall1 > tall2:\n",
    "    # kode som skal kjøres kun hvis tall1 er større enn tall2\n",
    "    print(\"tall1 er større enn tall2\")\n",
    "\n",
    "# Test som sjekker om tall1 er større eller lik tall2\n",
    "if tall1 >= tall2:\n",
    "    # kode som skal kjøres kun hvis tall1 er større eller lik tall2\n",
    "    print(\"tall1 er større eller lik tall2\")\n",
    "    \n",
    "# Test som sjekker om tall1 er ulik tall2\n",
    "if tall1 != tall2:\n",
    "    # kode som skal kjøres kun hvis tall1 er ulik tall2\n",
    "    print(\"tall1 er ulik tall2\")"
   ]
  },
  {
   "cell_type": "markdown",
   "metadata": {
    "deletable": true,
    "editable": true
   },
<<<<<<< Updated upstream
=======
   "source": [
    "### elif og logiske kombinasjoner i tester\n",
    "\n",
    "Noen ganger kan det være nødvendig å kombinere flere typer uttrykk og operatorer for å få testet det man ønsker.\n"
   ]
  },
  {
   "cell_type": "code",
   "execution_count": 12,
   "metadata": {},
   "outputs": [
    {
     "name": "stdout",
     "output_type": "stream",
     "text": [
      "tall1 er ulik tall2 ELLER tall1 pluss tall2 er større enn 10\n"
     ]
    }
   ],
>>>>>>> Stashed changes
   "source": [
    "# To tester med if og else-if\n",
    "tall1 = 12\n",
    "tall2 = 11\n",
    "\n",
    "# Første test\n",
    "if tall1 >= tall2 and tall2%2==0:\n",
    "    # kode som skal kjøres kun hvis testen er sann\n",
    "    print(\"tall1 er større eller lik tall2 OG tall2 er et partall\")\n",
    "\n",
    "# Neste test som kun kjøres hvis ikke den første slår til\n",
    "elif tall1 != tall2 or tall1+tall2 > 10:\n",
    "    print(\"tall1 er ulik tall2 ELLER tall1 pluss tall2 er større enn 10\")\n",
    "\n",
    "# Hvis ingen av testene slår til\n",
    "else:\n",
    "    print(\"Ingen av de foregående if-testene slo til når dette vises\")"
   ]
  },
  {
   "cell_type": "code",
   "execution_count": null,
   "metadata": {
    "collapsed": true,
    "deletable": true,
    "editable": true
   },
   "outputs": [],
   "source": []
  }
 ],
 "metadata": {
  "kernelspec": {
   "display_name": "Python 3",
   "language": "python",
   "name": "python3"
  },
  "language_info": {
   "codemirror_mode": {
    "name": "ipython",
    "version": 3
   },
   "file_extension": ".py",
   "mimetype": "text/x-python",
   "name": "python",
   "nbconvert_exporter": "python",
   "pygments_lexer": "ipython3",
   "version": "3.6.1"
  }
 },
 "nbformat": 4,
 "nbformat_minor": 2
}

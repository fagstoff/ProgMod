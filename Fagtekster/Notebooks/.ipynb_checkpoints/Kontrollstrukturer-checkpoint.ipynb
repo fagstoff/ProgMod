{
 "cells": [
  {
   "cell_type": "markdown",
   "metadata": {},
   "source": [
    "# Kontrollstrukturer\n",
    "__Creative Commons BY-SA : bitjungle (Rune Mathisen) og fuzzbin (Tom Jarle Christiansen)__\n",
    "\n",
    "En kontrollstruktur i et dataprogram er kodeblokk som velger en vei gjennom programmet basert på analyse av en eller flere variabler. Kontrollstrukterer i dataprogrammer er helt grunnleggende kode for å få et dataprogram til å reagere på en bestemt måte når en spesiell tilstand inntreffer.\n",
    "\n",
    "Praktisk eksempel her...."
   ]
  },
  {
   "cell_type": "markdown",
   "metadata": {},
   "source": [
    "## Betingede strukturer  (Tester)\n",
    "\n",
    "I nesten alle programmer vil man før eller siden få behov for å teste eller sammenligne verdier slik at programmet kan gjøre ulike ting avhengig av resultatet på testen.\n",
    "\n",
    "### if-test\n",
    "\n",
    "If-kommandoen bruker operatorer til å sammenlikne to verdier, og resultatet av en if-test er enten sann eller falsk. I eksempelet under skrives teksten ut _bare_ hvis variabelen a er lik 1."
   ]
  },
  {
   "cell_type": "code",
   "execution_count": 1,
   "metadata": {},
   "outputs": [
    {
     "name": "stdout",
     "output_type": "stream",
     "text": [
      "Variablen a er lik 1\n"
     ]
    }
   ],
   "source": [
    "a = 1\n",
    "\n",
    "if a == 1:\n",
    "    print(\"Variablen a er lik {}\".format(a)) # Denne linja kjøres kun hvis a er lik 1."
   ]
  },
  {
   "cell_type": "markdown",
   "metadata": {},
   "source": [
    "\n",
    "Ofte ønsker man å gjøre litt mer avanserte ting enn kun å sjekke om to størrelser er like. Dette kan løses ved å bruke ulike operatorer. På denne måten kan man sjekke om to størrelser er større enn, mindre enn eller ulike hverandre. Man kan også kombinere flere tester med logiske operatorer som og og eller. Vi kan også lage større og mer sammensatte tester ved å kombinere kommandoene if, elif og else.\n",
    "\n",
    "I tester brukes dobbelt likhetstegn hvis man skal sjekke om to verdier er like. I en test bruker man [logiske sammenligningsvariabler](https://docs.python.org/3/reference/expressions.html#value-comparisons).\n",
    "\n",
    "La oss se på flere eksempel der vi bruker ulike operatorer."
   ]
  },
  {
   "cell_type": "code",
   "execution_count": 2,
   "metadata": {},
   "outputs": [
    {
     "name": "stdout",
     "output_type": "stream",
     "text": [
      "tall1 er større enn tall2\n",
      "tall1 er større eller lik tall2\n",
      "tall1 er ulik tall2\n"
     ]
    }
   ],
   "source": [
    "# Deklarerer to variabler og tilordner to verdier\n",
    "tall1 = 9\n",
    "tall2 = 7\n",
    "\n",
    "# Test som sjekker om tall1 er lik tall2\n",
    "if tall1 == tall2:\n",
    "    # kode som skal kjøres kun hvis tall1 er lik tall2\n",
    "    print(\"tall1 er lik tall2\")\n",
    "\n",
    "# Test som sjekker om tall1 er større enn tall2\n",
    "if tall1 > tall2:\n",
    "    # kode som skal kjøres kun hvis tall1 er større enn tall2\n",
    "    print(\"tall1 er større enn tall2\")\n",
    "\n",
    "# Test som sjekker om tall1 er større eller lik tall2\n",
    "if tall1 >= tall2:\n",
    "    # kode som skal kjøres kun hvis tall1 er større eller lik tall2\n",
    "    print(\"tall1 er større eller lik tall2\")\n",
    "    \n",
    "# Test som sjekker om tall1 er ulik tall2\n",
    "if tall1 != tall2:\n",
    "    # kode som skal kjøres kun hvis tall1 er ulik tall2\n",
    "    print(\"tall1 er ulik tall2\")"
   ]
  },
  {
   "cell_type": "markdown",
   "metadata": {},
   "source": [
    "### elif og logiske kombinasjoner i tester\n",
    "\n",
    "Noen ganger kan det være nødvendig å kombinere flere typer uttrykk og operatorer for å få testet det man ønsker.\n"
   ]
  },
  {
   "cell_type": "code",
   "execution_count": 3,
   "metadata": {},
   "outputs": [
    {
     "name": "stdout",
     "output_type": "stream",
     "text": [
      "tall1 er ulik tall2 ELLER tall1 pluss tall2 er større enn 10\n"
     ]
    }
   ],
   "source": [
    "# To tester med if og else-if\n",
    "tall1 = 12\n",
    "tall2 = 11\n",
    "\n",
    "# Første test\n",
    "if tall1 >= tall2 and tall2%2==0:\n",
    "    # kode som skal kjøres kun hvis testen er sann\n",
    "    print(\"tall1 er større eller lik tall2 OG tall2 er et partall\")\n",
    "\n",
    "# Neste test som kun kjøres hvis ikke den første slår til\n",
    "elif tall1 != tall2 or tall1+tall2 > 10:\n",
    "    print(\"tall1 er ulik tall2 ELLER tall1 pluss tall2 er større enn 10\")\n",
    "\n",
    "# Hvis ingen av testene slår til\n",
    "else:\n",
    "    print(\"Ingen av de foregående if-testene slo til når dette vises\")"
   ]
  },
  {
   "cell_type": "markdown",
   "metadata": {
    "collapsed": true
   },
   "source": [
    "OBS OBS - Må renskrives og tilpasses python - Tekst hentet fra fuzzbin/IT2\n",
    "\n",
    "\n",
    "Løkker\n",
    "======\n",
    "\n",
    "**I programmering har vi ofte behov for å gjenta kode mange ganger. For å få til dette bruker man løkker. Løkker har mye til felles med tester, men med den forskjellen at i en løkke gjentas kode intill en betingelse er sann eller usann.**\n",
    "\n",
    "Det finnes to hovedtyper løkker - for-løkker og while-løkker:\n",
    "\n",
    "+ **for** - Gjentar kode et gitt antall ganger\n",
    "+ **while** - Gjentar kode sålenge en betingelse er sann\n",
    "\n",
    "For-løkker\n",
    "----------\n",
    "\n",
    "I en for-løkke bestemmer vi hvor mange ganger en kode skal gjentas. Alt dette gjøres i deklarasjonen av løkka.\n",
    "\n",
    "``` javascript\n",
    "\n",
    "//Deklarasjon av en for-løkke\n",
    "// i er variabelen det testes på. i<10 er betingelsen.\n",
    "// i++ øker verdien til i for hver gang løkka kjøres\n",
    "\n",
    "for(var i=0; i<10; i++){\n",
    "    //Kode som gjentas sålenge betingelsen er sann.\n",
    "    console.log(\"Verdien til telleren er: \" + i);\n",
    "}\n",
    "```\n",
    "\n",
    "forEach\n",
    "-------\n",
    "\n",
    "En annen variant av for-løkker er _forEach_ og _for of_. Disse er veldig nyttige når man skal traversere alle elementene i en liste eller andre kolleksjoner av variabler.\n",
    "\n",
    "``` javascript\n",
    "\n",
    "// forEach-løkke\n",
    "// Lager en liste med tre elementer\n",
    "var minListe = ['a', 'b', 'c'];\n",
    "\n",
    "// forEach traverserer listen og skriver ut hvert enkelt element.\n",
    "minListe.forEach(function(element) {\n",
    "    console.log(element);\n",
    "});\n",
    "\n",
    "// for-of-løkke\n",
    "// Lager en liste med heltall\n",
    "var minListe = [10, 20, 30];\n",
    "\n",
    "// Listen traverseres, og det legges til veriden 1 i alle elementer.\n",
    "for (var verdi of minListe) {\n",
    "  verdi += 1;\n",
    "  console.log(verdi);\n",
    "}\n",
    "```\n",
    "\n",
    "While-løkker\n",
    "------------\n",
    "\n",
    "En while-løkke har veldig lik funksjonalitet som for-løkker. Forskjellen er at i en while-løkke så må tellevariabelen deklarereres på forhånd, og den må økes eller minkes manuelt inne i koden. Alt dette gjøres i deklarasjonen på en for-løkke. Det finnes også en variant av while-løkker som kalles do-while. Disse fungerer nesten likt som while-løkker, men med den forskjellen at innholdet i løkken kjøres alltid en gang uavhengig om betingelsen er sann eller ikke.\n",
    "\n",
    "``` javascript\n",
    "\n",
    "//Deklarasjon av tellervariabel\n",
    "var i=0;\n",
    "//Deklarasjon av en while-løkke\n",
    "while (i<5){\n",
    "     console.log(\"Verdien av i er: \" + i);\n",
    "     i++;  //Telleren må økes i koden som gjentas\n",
    "}\n",
    "\n",
    "//Deklarasjon av tellevariabel\n",
    "var i=10;\n",
    "//Deklarasjon av en do-while-løkke\n",
    "do\n",
    "  {\n",
    "  console.log(\"Verdien av i er: \" +i);\n",
    "}\n",
    "while (i<5); //Verdien til i er 10, men koden kjøres allikevel en gang\n",
    "```\n"
   ]
  },
  {
   "cell_type": "code",
   "execution_count": null,
   "metadata": {
    "collapsed": true
   },
   "outputs": [],
   "source": []
  }
 ],
 "metadata": {
  "kernelspec": {
   "display_name": "Python 3",
   "language": "python",
   "name": "python3"
  },
  "language_info": {
   "codemirror_mode": {
    "name": "ipython",
    "version": 3
   },
   "file_extension": ".py",
   "mimetype": "text/x-python",
   "name": "python",
   "nbconvert_exporter": "python",
   "pygments_lexer": "ipython3",
   "version": "3.6.1"
  }
 },
 "nbformat": 4,
 "nbformat_minor": 2
}

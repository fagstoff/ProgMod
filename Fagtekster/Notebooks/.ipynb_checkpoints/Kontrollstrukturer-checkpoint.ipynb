{
 "cells": [
  {
   "cell_type": "markdown",
   "metadata": {
    "deletable": true,
    "editable": true
   },
   "source": [
    "# Kontrollstrukturer\n",
    "__Creative Commons BY-SA : bitjungle (Rune Mathisen) og fuzzbin (Tom Jarle Christiansen)__\n",
    "\n",
    "En kontrollstruktur i et dataprogram er kodeblokk som velger en vei gjennom programmet basert på analyse av en eller flere variabler. Kontrollstrukterer i dataprogrammer er helt grunnleggende kode for å få et dataprogram til å reagere på en bestemt måte når en spesiell tilstand inntreffer. \n",
    "\n",
    "Praktisk eksempel her..."
   ]
  },
  {
   "cell_type": "markdown",
   "metadata": {
    "deletable": true,
    "editable": true
   },
   "source": [
    "## Betingede strukturer\n",
    "\n",
    "if bla bla"
   ]
  },
  {
   "cell_type": "code",
   "execution_count": 2,
   "metadata": {
    "collapsed": false,
    "deletable": true,
    "editable": true
   },
   "outputs": [
    {
     "name": "stdout",
     "output_type": "stream",
     "text": [
      "Variablen a er lik 1\n"
     ]
    }
   ],
   "source": [
    "a = 1\n",
    "\n",
    "if a==1:\n",
    "    print(\"Variablen a er lik 1\")\n",
    "elif a==2:\n",
    "    print(\"Variablen a er lik 2\")\n",
    "else:\n",
    "    print(\"Variablen a er ikke lik 1 eller 2\")"
   ]
  },
  {
   "cell_type": "markdown",
   "metadata": {
    "deletable": true,
    "editable": true
   },
   "source": [
    "## Løkker\n",
    "\n",
    "for bla bla\n",
    "\n",
    "while bla bla"
   ]
  },
  {
   "cell_type": "code",
   "execution_count": null,
   "metadata": {
    "collapsed": true,
    "deletable": true,
    "editable": true
   },
   "outputs": [],
   "source": []
  }
 ],
 "metadata": {
  "kernelspec": {
   "display_name": "Python 3",
   "language": "python",
   "name": "python3"
  },
  "language_info": {
   "codemirror_mode": {
    "name": "ipython",
    "version": 3
   },
   "file_extension": ".py",
   "mimetype": "text/x-python",
   "name": "python",
   "nbconvert_exporter": "python",
   "pygments_lexer": "ipython3",
   "version": "3.6.1"
  }
 },
 "nbformat": 4,
 "nbformat_minor": 2
}

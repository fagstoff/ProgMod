{
 "cells": [
  {
   "cell_type": "markdown",
   "metadata": {},
   "source": [
    "# Differensialligninger\n",
    "__Creative Commons BY-SA : bitjungle (Rune Mathisen) og fuzzbin (Tom Jarle Christiansen)__\n",
    "\n",
    "En differensialligning (eller bare \"diffligning\") beskriver en sammenheng mellom en funksjon og endringer i denne funksjonen.\n",
    "\n",
    "bla\n",
    "\n",
    "**\n",
    "Koden nedenfor er lånt fra https://arachnoid.com/IPython/differential_equations.html\n",
    "**\n",
    "\n",
    "**\n",
    "Må skrives om for å passe til dette kurset. OBS (C) \n",
    "**"
   ]
  },
  {
   "cell_type": "code",
   "execution_count": 4,
   "metadata": {
    "collapsed": false
   },
   "outputs": [
    {
     "data": {
      "image/png": "[encoded data removed]",
      "text/latex": [
       "$$k \\frac{d}{d t} u{\\left (t \\right )} + u{\\left (t \\right )} = 0$$"
      ],
      "text/plain": [
       "  d                  \n",
       "k⋅──(u(t)) + u(t) = 0\n",
       "  dt                 "
      ]
     },
     "metadata": {},
     "output_type": "display_data"
    },
    {
     "data": {
      "image/png": "[encoded data removed]",
      "text/latex": [
       "$$u{\\left (t \\right )} = e^{\\frac{1}{k} \\left(C_{1} - t\\right)}$$"
      ],
      "text/plain": [
       "        C₁ - t\n",
       "        ──────\n",
       "          k   \n",
       "u(t) = ℯ      "
      ]
     },
     "metadata": {},
     "output_type": "display_data"
    },
    {
     "data": {
      "image/png": "[encoded data removed]",
      "text/latex": [
       "$$u{\\left (t \\right )} = e^{- \\frac{t}{k}}$$"
      ],
      "text/plain": [
       "        -t \n",
       "        ───\n",
       "         k \n",
       "u(t) = ℯ   "
      ]
     },
     "metadata": {},
     "output_type": "display_data"
    },
    {
     "data": {
      "text/latex": [
       "$f(t,k,a,b) = b + \\left(a - b\\right) e^{- \\frac{t}{k}}$"
      ],
      "text/plain": [
       "<IPython.core.display.Latex object>"
      ]
     },
     "metadata": {},
     "output_type": "display_data"
    },
    {
     "data": {
      "image/png": "[encoded data removed]",
      "text/plain": [
       "<matplotlib.figure.Figure at 0x10bd2a860>"
      ]
     },
     "metadata": {},
     "output_type": "display_data"
    }
   ],
   "source": [
    "import numpy as np\n",
    "from sympy import *\n",
    "from IPython.display import *\n",
    "import matplotlib.pyplot as plt\n",
    "%matplotlib inline \n",
    "init_printing(use_latex=True)\n",
    "var('a b t k C1')\n",
    "u = Function(\"u\")(t)\n",
    "de = Eq(u+u.diff(t) * k)\n",
    "display(de)\n",
    "des = dsolve(de,u)\n",
    "display(des)\n",
    "des = des.subs(C1,0)\n",
    "display(des)\n",
    "f = Lambda((t,k,a,b),(a-b) * des.rhs + b)\n",
    "display(Latex('$f(t,k,a,b) = ' + str(latex(f(t,k,a,b))) + '$'))\n",
    "x = np.linspace(0,5,100)\n",
    "plt.grid(True)\n",
    "plt.xlabel('Time t seconds',fontsize=12)\n",
    "plt.ylabel('$f(t,1,4,8)$',fontsize=16)\n",
    "plt.plot(x,[f(t,1,4,8) for t in x],color='#008000')\n",
    "plt.show()"
   ]
  },
  {
   "cell_type": "code",
   "execution_count": null,
   "metadata": {
    "collapsed": true
   },
   "outputs": [],
   "source": []
  }
 ],
 "metadata": {
  "kernelspec": {
   "display_name": "Python 3",
   "language": "python",
   "name": "python3"
  },
  "language_info": {
   "codemirror_mode": {
    "name": "ipython",
    "version": 3
   },
   "file_extension": ".py",
   "mimetype": "text/x-python",
   "name": "python",
   "nbconvert_exporter": "python",
   "pygments_lexer": "ipython3",
   "version": "3.6.1"
  }
 },
 "nbformat": 4,
 "nbformat_minor": 2
}

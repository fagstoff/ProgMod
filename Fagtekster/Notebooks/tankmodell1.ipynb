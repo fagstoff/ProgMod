{
 "cells": [
  {
   "cell_type": "markdown",
   "metadata": {
    "collapsed": true,
    "deletable": true,
    "editable": true
   },
   "source": [
    "# Tankmodell - Vi tømmer tanken\n",
    "__Creative Commons BY-SA : bitjungle (Rune Mathisen) og fuzzbin (Tom Jarle Christiansen)__\n",
    "\n",
    "Vi har en tank med samme tverrsnitt $A_t=2 \\ \\mathrm{m}^2$ over hele høyden til tanken. I bunnen av tanken er det et hull hvor innholdet i tanken renner ut. Arealet til dette hullet er $A_h=0,01 \\ \\mathrm{m}^2$. Ved tiden $t=0 \\ \\mathrm{s}$ er tanken fylt opp til høyden $h=4 \\ \\mathrm{m}$. Hvordan vil høyden $h$ endres over tid? Når er tanken tom? Vi antar at væsken er inkompresibel og at den strømmer friksjonsfritt ut av hullet i bunnen. Vi kan også sette $g=9.81 \\ \\mathrm{m/s}^2$.\n",
    "\n",
    "![Skisse av tanken](img/tank01.png)\n",
    "\n",
    "La oss først definere de parametrene vi har fått oppgitt:"
   ]
  },
  {
   "cell_type": "code",
   "execution_count": 1,
   "metadata": {
    "collapsed": true,
    "deletable": true,
    "editable": true
   },
   "outputs": [],
   "source": [
    "import math # vi trenger dette biblioteket senere\n",
    "\n",
    "A_t = 2.00 # Tankens areal\n",
    "A_h = 0.01 # Hullets areal\n",
    "h = 4.00 # Vannivået i forsøket starter\n",
    "g = 9.81 # Gravitasjonskonstanten"
   ]
  },
  {
   "cell_type": "markdown",
   "metadata": {
    "deletable": true,
    "editable": true
   },
   "source": [
    "Volumet av væsken i tanken (før det renner ut) kan skrives som:\n",
    "\n",
    "$$ V = A_t \\cdot h $$\n",
    "\n",
    "Vi kan nå regne ut volumet $V_{0}$ av væsken i tanken ved tiden $t=0 \\ \\mathrm{s}$ på følgende måte i python:"
   ]
  },
  {
   "cell_type": "code",
   "execution_count": 2,
   "metadata": {
    "collapsed": false,
    "deletable": true,
    "editable": true
   },
   "outputs": [
    {
     "name": "stdout",
     "output_type": "stream",
     "text": [
      "Volumet ved tiden t = 0 s er 8.0 m^3\n"
     ]
    }
   ],
   "source": [
    "V0 = A_t * h\n",
    "print(\"Volumet ved tiden t = 0 s er {} m^3\".format(V0))"
   ]
  },
  {
   "cell_type": "markdown",
   "metadata": {
    "deletable": true,
    "editable": true
   },
   "source": [
    "Vi setter så opp et uttrykk for hvordan volumet endrer seg over tid, når det bare strømmer væske ut av tanken og det ikke kommer noe væske inn i tanken. Da har vi at:\n",
    "\n",
    "$$ \\frac{dV}{dt} = -q_{ut}$$\n",
    "\n",
    "Eller for å si det med ord: \n",
    "> Endringen til volumet av væsken i tanken er lik mengden væske som strømmer ut av tanken i det samme tidsrommet.\n",
    "\n",
    "Mengden $q_{ut}$ som strømmer ut av tanken er gitt ved arealet $A_h$ til hullet og hastigheten $v_1$ på væskestrømmen ut av hullet: \n",
    "\n",
    "$$ q_{ut} = A_h \\cdot v_1 $$\n",
    "\n",
    "Siden tverrsnittet $A_t$ til tanken er konstant og volumet av væsken i tanken er gitt ved $V=A_t \\cdot h$, kan vi nå skrive:\n",
    "\n",
    "$$ A_t \\frac{dh_0}{dt} = -A_h \\cdot v_1 $$\n",
    "\n",
    "\n",
    "Fra fysikken kjenner vi [Bernoulli's ligning](http://hyperphysics.phy-astr.gsu.edu/hbase/pber.html) som kan brukes til å beskrive hvordan vannet vil renne ut av tanken.\n",
    "\n",
    "$$ P_0 + \\rho g h + \\frac{1}{2}\\rho v_0^2= P_1 + \\rho g h_1 + \\frac{1}{2}\\rho v_1^2$$\n",
    "\n",
    "Der $P$ er trykk og $\\rho$ er massetettheten til væsken. Venstre og høyre side av ligningen tilsvarer to ulike steder i systemet. Vi lar venstre side av ligningen være et punkt i vannflaten på toppen av tanken, og høyre side er et punkt rett ved utløpet i bunnen.\n",
    "\n",
    "Vi har da at $P_0 = P_1 = P_{atm}$. Siden trykket $P$ er likt på begge sider av ligningen, kanselerer disse hverandre. Farten til vannet på toppen av tanken er så liten at vi med god rimelighet kan si at $v_0\\approx0 \\ \\mathrm{m/s}$. Vi definerer at høyden er null ved tankens bunn, og vi får $h_1=0\\ \\mathrm{m}$.\n",
    "\n",
    "Vi kan nå løse ligningen med hensyn på $v_1$, og får:\n",
    "\n",
    "$$ v_1 = \\sqrt{2gh} $$\n",
    "\n",
    "Vi setter $\\sqrt{2g} = k $, og får:\n",
    "$$ v_1 = k \\sqrt{h} $$"
   ]
  },
  {
   "cell_type": "code",
   "execution_count": 3,
   "metadata": {
    "collapsed": false,
    "deletable": true,
    "editable": true
   },
   "outputs": [
    {
     "name": "stdout",
     "output_type": "stream",
     "text": [
      "Konstanten k er 4.4294469180700204\n"
     ]
    }
   ],
   "source": [
    "k = math.sqrt(2*g)\n",
    "print(\"Konstanten k er {}\".format(k))"
   ]
  },
  {
   "cell_type": "markdown",
   "metadata": {
    "deletable": true,
    "editable": true
   },
   "source": [
    "Nå kan vi sette inn uttrykket for $v$ i uttrykket for endring av volumet til væsken i tanken:\n",
    "\n",
    "$$ A_t \\frac{dh}{dt} = -A_h k \\sqrt{h}$$\n",
    "\n",
    "Uttrykket for endring av høyden over tid blir da:\n",
    "\n",
    "$$ \\frac{dh}{dt} = - \\frac{A_h}{A_t} k \\sqrt{h}  $$\n",
    "\n",
    "Vi bruker Eulers metode for å finne ut hva høyden $h$ er ved tiden $i+1$:\n",
    "\n",
    "$$ \\frac{h_{i+1} − h_i}{t_{i+1} − t_i} = − \\frac{A_h}{A_t}  k\\sqrt{h_i} $$\n",
    "\n",
    "$$ h_{i+1} = − \\frac{A_h}{A_t}  k\\sqrt{h_i} \\cdot (t_{i+1} − t_i) + h_i $$\n",
    "\n",
    "Nå kan vi implementere Eulers metode i Python:"
   ]
  },
  {
   "cell_type": "code",
   "execution_count": 4,
   "metadata": {
    "collapsed": true,
    "deletable": true,
    "editable": true
   },
   "outputs": [],
   "source": [
    "def euler(h, t, t_neste):\n",
    "    '''Regner ut ny høyde i tanken vet tiden t_neste, gitt høyden ved tiden t. \n",
    "       Bruker globale variabler for areal av tank og hull i bunn av tanken.\n",
    "    '''\n",
    "    return -(A_h/A_t) * k * math.sqrt(h) * (t_neste - t) + h"
   ]
  },
  {
   "cell_type": "markdown",
   "metadata": {
    "deletable": true,
    "editable": true
   },
   "source": [
    "Vi starter ved tiden $t=0$ og endrer tiden med 5 sekunder for hver nye beregning ($\\Delta t=5$)."
   ]
  },
  {
   "cell_type": "code",
   "execution_count": 5,
   "metadata": {
    "collapsed": false,
    "deletable": true,
    "editable": true
   },
   "outputs": [
    {
     "name": "stdout",
     "output_type": "stream",
     "text": [
      "t = 0 => h = 4.0 \t v = 8.86 \t qut = 0.0886\n",
      "t = 5 => h = 3.78 \t v = 8.61 \t qut = 0.0861\n",
      "t = 10 => h = 3.56 \t v = 8.36 \t qut = 0.0836\n",
      "t = 15 => h = 3.35 \t v = 8.11 \t qut = 0.0811\n",
      "t = 20 => h = 3.15 \t v = 7.86 \t qut = 0.0786\n",
      "t = 25 => h = 2.95 \t v = 7.61 \t qut = 0.0761\n",
      "t = 30 => h = 2.76 \t v = 7.36 \t qut = 0.0736\n",
      "t = 35 => h = 2.58 \t v = 7.12 \t qut = 0.0712\n",
      "t = 40 => h = 2.4 \t v = 6.87 \t qut = 0.0687\n",
      "t = 45 => h = 2.23 \t v = 6.62 \t qut = 0.0662\n",
      "t = 50 => h = 2.07 \t v = 6.37 \t qut = 0.0637\n",
      "t = 55 => h = 1.91 \t v = 6.12 \t qut = 0.0612\n",
      "t = 60 => h = 1.75 \t v = 5.87 \t qut = 0.0587\n",
      "t = 65 => h = 1.61 \t v = 5.61 \t qut = 0.0561\n",
      "t = 70 => h = 1.47 \t v = 5.36 \t qut = 0.0536\n",
      "t = 75 => h = 1.33 \t v = 5.11 \t qut = 0.0511\n",
      "t = 80 => h = 1.2 \t v = 4.86 \t qut = 0.0486\n",
      "t = 85 => h = 1.08 \t v = 4.61 \t qut = 0.0461\n",
      "t = 90 => h = 0.97 \t v = 4.36 \t qut = 0.0436\n",
      "t = 95 => h = 0.86 \t v = 4.1 \t qut = 0.041\n",
      "t = 100 => h = 0.76 \t v = 3.85 \t qut = 0.0385\n",
      "t = 105 => h = 0.66 \t v = 3.6 \t qut = 0.036\n",
      "t = 110 => h = 0.57 \t v = 3.34 \t qut = 0.0334\n",
      "t = 115 => h = 0.49 \t v = 3.09 \t qut = 0.0309\n",
      "t = 120 => h = 0.41 \t v = 2.83 \t qut = 0.0283\n",
      "t = 125 => h = 0.34 \t v = 2.58 \t qut = 0.0258\n",
      "t = 130 => h = 0.27 \t v = 2.32 \t qut = 0.0232\n",
      "t = 135 => h = 0.22 \t v = 2.06 \t qut = 0.0206\n",
      "t = 140 => h = 0.16 \t v = 1.8 \t qut = 0.018\n",
      "t = 145 => h = 0.12 \t v = 1.53 \t qut = 0.0153\n",
      "t = 150 => h = 0.08 \t v = 1.26 \t qut = 0.0126\n",
      "t = 155 => h = 0.05 \t v = 0.99 \t qut = 0.0099\n",
      "t = 160 => h = 0.03 \t v = 0.7 \t qut = 0.007\n",
      "t = 165 => h = 0.01 \t v = 0.38 \t qut = 0.0038\n"
     ]
    },
    {
     "data": {
      "image/png": "[encoded data removed]",
      "text/plain": [
       "<matplotlib.figure.Figure at 0x1044cc320>"
      ]
     },
     "metadata": {},
     "output_type": "display_data"
    }
   ],
   "source": [
    "t = 0  # starttiden\n",
    "dt = 5 # tidssteg i sekunder\n",
    "h_lim = 0.01 # vi stopper beregningen når høyden er mindre enn denne\n",
    "t_hist = [] # Lagerplass for historiske tidspunkter\n",
    "h_hist = [] # Lagerplass for historiske h-verdier\n",
    "while h > h_lim:\n",
    "    t_neste = t + dt\n",
    "    if t > 0: # ingen beregning ved t = 0, der bruker vi initialverdier\n",
    "        h = euler(h, t, t_neste)\n",
    "    v = k * math.sqrt(h) # Hastigheten til væsken som strømmer ut av hullet\n",
    "    q_ut = A_h * v # Mengden væske som strømmer ut av hullet\n",
    "    print(\"t = {} => h = {} \\t v = {} \\t qut = {}\".format(t, round(h,2), round(v,2), round(q_ut,4)))\n",
    "    t_hist.append(t)\n",
    "    h_hist.append(h)\n",
    "    t = t_neste\n",
    "\n",
    "import matplotlib.pyplot as plt\n",
    "plt.plot(t_hist, h_hist)\n",
    "plt.ylabel('Høyde [m]')\n",
    "plt.xlabel('Tid [s]')\n",
    "plt.show()"
   ]
  },
  {
   "cell_type": "code",
   "execution_count": null,
   "metadata": {
    "collapsed": true,
    "deletable": true,
    "editable": true
   },
   "outputs": [],
   "source": []
  }
 ],
 "metadata": {
  "kernelspec": {
   "display_name": "Python 3",
   "language": "python",
   "name": "python3"
  },
  "language_info": {
   "codemirror_mode": {
    "name": "ipython",
    "version": 3
   },
   "file_extension": ".py",
   "mimetype": "text/x-python",
   "name": "python",
   "nbconvert_exporter": "python",
   "pygments_lexer": "ipython3",
   "version": "3.6.1"
  }
 },
 "nbformat": 4,
 "nbformat_minor": 2
}

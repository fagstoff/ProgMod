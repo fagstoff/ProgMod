{
 "cells": [
  {
   "cell_type": "markdown",
   "metadata": {},
   "source": [
    "# Spesialfunksjoner og biblioteker\n",
    "__Creative Commons BY-SA : bitjungle (Rune Mathisen) og fuzzbin (Tom Jarle Christiansen)__\n",
    "\n",
    "En av pythons store fordeler er det store økosystemet av [moduler](https://docs.python.org/3/library/functions.html) og biblioteker som enkelt kan importeres og tas i bruk. ... mer introtekst her. Husk lenker til pythondocs. Vi kan ikke dekke alt. Viktig at elevene lærer å bruke dokumentasjon selv.\n",
    "\n",
    "Lag avsnitt om:\n",
    "* [range()](https://docs.python.org/3/library/stdtypes.html#range)\n",
    "* [linepsace](https://docs.scipy.org/doc/numpy/reference/generated/numpy.linspace.html)\n",
    "* [numpy](https://docs.scipy.org/doc/numpy/reference/index.html)\n",
    "* [random](https://docs.python.org/3/library/random.html#examples-and-recipes)\n",
    "* [plotting og pyplot](https://matplotlib.org/users/pyplot_tutorial.html)\n",
    "* m.m."
   ]
  },
  {
   "cell_type": "code",
   "execution_count": null,
   "metadata": {
    "collapsed": true
   },
   "outputs": [],
   "source": []
  }
 ],
 "metadata": {
  "kernelspec": {
   "display_name": "Python 3",
   "language": "python",
   "name": "python3"
  },
  "language_info": {
   "codemirror_mode": {
    "name": "ipython",
    "version": 3
   },
   "file_extension": ".py",
   "mimetype": "text/x-python",
   "name": "python",
   "nbconvert_exporter": "python",
   "pygments_lexer": "ipython3",
   "version": "3.6.1"
  }
 },
 "nbformat": 4,
 "nbformat_minor": 2
}

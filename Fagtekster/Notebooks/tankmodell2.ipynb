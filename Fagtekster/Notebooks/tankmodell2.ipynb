{
 "cells": [
  {
   "cell_type": "markdown",
   "metadata": {
    "deletable": true,
    "editable": true
   },
   "source": [
    "# Tankmodell - vi fyller og tømmer tanken\n",
    "__Creative Commons BY-SA : bitjungle (Rune Mathisen) og fuzzbin (Tom Jarle Christiansen)__\n",
    "\n",
    "Tidligere har vi laget en modell for en tank hvor det strømmer væske ut av et hull i bunnen av tanken. Nå skal vi utvide denne modellen sånn at den har en tilførsel av væske i toppen også. Se figuren nedenfor:\n",
    "\n",
    "![Skisse av tanken](img/tank02.png)\n",
    "\n",
    "Tanken har tverrsnitt $A=2 \\ m^2$ over hele høyden til tanken. I toppen av tanken kommer det inn væske $q_{inn} = 0.1 \\ m^3/s$ (100 liter i sekundet). I bunnen av tanken er det et hull hvor innholdet i tanken renner ut. Arealet til dette hullet er $a=0,01 \\ m^2$. Ved tiden $t=0$ er tanken fylt opp til høyden $h_0=4 \\ m$. Hvordan vil høyden $h$ endres over tid, og når er tanken tom? Vi antar at væsken er inkompresibel og at den strømmer friksjonsfritt ut av hullet i bunnen. Vi kan også sette $g=9.81 \\ m/s^2$.\n",
    "\n",
    "\n",
    "La oss først definere de parametrene vi har fått oppgitt:"
   ]
  },
  {
   "cell_type": "code",
   "execution_count": 6,
   "metadata": {
    "collapsed": true,
    "deletable": true,
    "editable": true
   },
   "outputs": [],
   "source": [
    "import math # vi trenger dette biblioteket senere\n",
    "\n",
    "A = 2.00\n",
    "a = 0.01\n",
    "q_inn = 0.10\n",
    "h0 = 4.00\n",
    "g = 9.81"
   ]
  },
  {
   "cell_type": "markdown",
   "metadata": {
    "deletable": true,
    "editable": true
   },
   "source": [
    "Nå setter vi opp et uttrykk for hvordan volumet endrer seg over tid, når det kommer væske inn i toppen av tanken samtidig som det strømmer væske ut i bunnen av tanken. Da har vi at:\n",
    "\n",
    "$$ \\frac{dV}{dt} = q_{inn} - q_{ut}$$\n",
    "\n",
    "Eller for å si det med ord: \n",
    "> Endringen til volumet av væsken i tanken er lik mengden væske som strømmer inn i tanken minus det som strømmer ut av tanken.\n",
    "\n",
    "Mengden $q_{ut}$ som strømmer ut av tanken er gitt ved arealet $a$ til hullet og hastigheten $v$ på væskestrømmen ut av hullet: \n",
    "\n",
    "$$ q_{ut} = a \\cdot v $$\n",
    "\n",
    "Siden tverrsnittet A til tanken er konstant og volumet av væsken i tanken $V=A \\cdot h$, kan vi nå skrive:\n",
    "\n",
    "$$ A \\frac{dh}{dt} = q_{inn} - a \\cdot v$$\n",
    "\n",
    "Fra fysikken vet vi at energien i systemet må være konservert. Væsken som strømmer ut av hullet i bunnen får farten fra høyden $h$ fra væskenivået i tanken. Den potensielle energien er gitt ved $mgh$, og den kinetiske energien til vannstrålen ut av hullet i bunnen er gitt ved $\\frac{1}{2}mv^2$. For at energien skal være konservert, må vi da ha:\n",
    "\n",
    "$$ \\frac{1}{2}mv^2 = mgh $$\n",
    "\n",
    "Vi kan forkorte bort massen:\n",
    "\n",
    "$$ v^2 = 2gh $$\n",
    "$$ v = \\sqrt{2gh} = k \\sqrt{h} $$"
   ]
  },
  {
   "cell_type": "code",
   "execution_count": 7,
   "metadata": {
    "collapsed": false,
    "deletable": true,
    "editable": true
   },
   "outputs": [
    {
     "name": "stdout",
     "output_type": "stream",
     "text": [
      "Konstanten k er 4.4294469180700204\n"
     ]
    }
   ],
   "source": [
    "k = math.sqrt(2*g)\n",
    "print(\"Konstanten k er {}\".format(k))"
   ]
  },
  {
   "cell_type": "markdown",
   "metadata": {
    "deletable": true,
    "editable": true
   },
   "source": [
    "Nå kan vi sette inn uttrykket for $v$ i uttrykket for endring av volumet til væsken i tanken:\n",
    "\n",
    "$$ A \\frac{dh}{dt} = q_{inn} - a k \\sqrt{h}$$\n",
    "\n",
    "Uttrykket for endring av høyden over tid blir da:\n",
    "\n",
    "$$ \\frac{dh}{dt} = q_{inn} - \\frac{a}{A} k \\sqrt{h}  $$\n",
    "\n",
    "Vi bruker Eulers metode for å finne ut hva høyden $h$ er ved tiden $i+1$:\n",
    "\n",
    "$$ \\frac{h_{i+1} − h_i}{t_{i+1} − t_i} = q_{inn} − \\frac{a}{A}  k\\sqrt{h_i} $$\n",
    "\n",
    "$$ h_{i+1} = q_{inn} − \\frac{a}{A}  k\\sqrt{h_i} \\cdot (t_{i+1} − t_i) + h_i $$\n",
    "\n",
    "Nå kan vi implementere Eulers metode i Python:"
   ]
  },
  {
   "cell_type": "code",
   "execution_count": 8,
   "metadata": {
    "collapsed": true,
    "deletable": true,
    "editable": true
   },
   "outputs": [],
   "source": [
    "def euler(h, t, t_neste):\n",
    "    '''Regner ut ny høyde i tanken vet tiden t_neste, gitt høyden ved tiden t. \n",
    "       Bruker globale variabler for innstrømmen til tanken, \n",
    "       og for areal av tank og hull i bunn av tanken.\n",
    "    '''\n",
    "    return q_inn - (a/A) * k * math.sqrt(h) * (t_neste - t) + h"
   ]
  },
  {
   "cell_type": "markdown",
   "metadata": {
    "deletable": true,
    "editable": true
   },
   "source": [
    "Vi starter ved tiden $t=0$ og endrer tiden med 5 sekunder for hver nye beregning ($\\Delta t=5$)."
   ]
  },
  {
   "cell_type": "code",
   "execution_count": 9,
   "metadata": {
    "collapsed": false,
    "deletable": true,
    "editable": true
   },
   "outputs": [
    {
     "name": "stdout",
     "output_type": "stream",
     "text": [
      "t = 0 => h = 4.0 \t v = 8.86 \t qut = 0.0886\n",
      "t = 5 => h = 3.88 \t v = 8.72 \t qut = 0.0872\n",
      "t = 10 => h = 3.76 \t v = 8.59 \t qut = 0.0859\n",
      "t = 15 => h = 3.65 \t v = 8.46 \t qut = 0.0846\n",
      "t = 20 => h = 3.53 \t v = 8.33 \t qut = 0.0833\n",
      "t = 25 => h = 3.43 \t v = 8.2 \t qut = 0.082\n",
      "t = 30 => h = 3.32 \t v = 8.07 \t qut = 0.0807\n",
      "t = 35 => h = 3.22 \t v = 7.95 \t qut = 0.0795\n",
      "t = 40 => h = 3.12 \t v = 7.82 \t qut = 0.0782\n",
      "t = 45 => h = 3.03 \t v = 7.7 \t qut = 0.077\n",
      "t = 50 => h = 2.93 \t v = 7.59 \t qut = 0.0759\n",
      "t = 55 => h = 2.84 \t v = 7.47 \t qut = 0.0747\n",
      "t = 60 => h = 2.76 \t v = 7.35 \t qut = 0.0735\n",
      "t = 65 => h = 2.67 \t v = 7.24 \t qut = 0.0724\n",
      "t = 70 => h = 2.59 \t v = 7.13 \t qut = 0.0713\n",
      "t = 75 => h = 2.51 \t v = 7.02 \t qut = 0.0702\n",
      "t = 80 => h = 2.44 \t v = 6.92 \t qut = 0.0692\n",
      "t = 85 => h = 2.36 \t v = 6.81 \t qut = 0.0681\n",
      "t = 90 => h = 2.29 \t v = 6.71 \t qut = 0.0671\n",
      "t = 95 => h = 2.23 \t v = 6.61 \t qut = 0.0661\n",
      "t = 100 => h = 2.16 \t v = 6.51 \t qut = 0.0651\n",
      "t = 105 => h = 2.1 \t v = 6.42 \t qut = 0.0642\n",
      "t = 110 => h = 2.04 \t v = 6.32 \t qut = 0.0632\n",
      "t = 115 => h = 1.98 \t v = 6.23 \t qut = 0.0623\n",
      "t = 120 => h = 1.92 \t v = 6.14 \t qut = 0.0614\n",
      "t = 125 => h = 1.87 \t v = 6.06 \t qut = 0.0606\n",
      "t = 130 => h = 1.82 \t v = 5.97 \t qut = 0.0597\n",
      "t = 135 => h = 1.77 \t v = 5.89 \t qut = 0.0589\n",
      "t = 140 => h = 1.72 \t v = 5.81 \t qut = 0.0581\n",
      "t = 145 => h = 1.68 \t v = 5.74 \t qut = 0.0574\n",
      "t = 150 => h = 1.63 \t v = 5.66 \t qut = 0.0566\n",
      "t = 155 => h = 1.59 \t v = 5.59 \t qut = 0.0559\n",
      "t = 160 => h = 1.55 \t v = 5.52 \t qut = 0.0552\n",
      "t = 165 => h = 1.51 \t v = 5.45 \t qut = 0.0545\n",
      "t = 170 => h = 1.48 \t v = 5.39 \t qut = 0.0539\n",
      "t = 175 => h = 1.44 \t v = 5.32 \t qut = 0.0532\n",
      "t = 180 => h = 1.41 \t v = 5.26 \t qut = 0.0526\n",
      "t = 185 => h = 1.38 \t v = 5.2 \t qut = 0.052\n",
      "t = 190 => h = 1.35 \t v = 5.14 \t qut = 0.0514\n",
      "t = 195 => h = 1.32 \t v = 5.09 \t qut = 0.0509\n",
      "t = 200 => h = 1.29 \t v = 5.04 \t qut = 0.0504\n",
      "t = 205 => h = 1.27 \t v = 4.99 \t qut = 0.0499\n",
      "t = 210 => h = 1.24 \t v = 4.94 \t qut = 0.0494\n",
      "t = 215 => h = 1.22 \t v = 4.89 \t qut = 0.0489\n",
      "t = 220 => h = 1.2 \t v = 4.85 \t qut = 0.0485\n",
      "t = 225 => h = 1.18 \t v = 4.8 \t qut = 0.048\n",
      "t = 230 => h = 1.16 \t v = 4.76 \t qut = 0.0476\n",
      "t = 235 => h = 1.14 \t v = 4.72 \t qut = 0.0472\n",
      "t = 240 => h = 1.12 \t v = 4.68 \t qut = 0.0468\n",
      "t = 245 => h = 1.1 \t v = 4.65 \t qut = 0.0465\n",
      "t = 250 => h = 1.09 \t v = 4.61 \t qut = 0.0461\n",
      "t = 255 => h = 1.07 \t v = 4.58 \t qut = 0.0458\n",
      "t = 260 => h = 1.06 \t v = 4.55 \t qut = 0.0455\n",
      "t = 265 => h = 1.04 \t v = 4.52 \t qut = 0.0452\n",
      "t = 270 => h = 1.03 \t v = 4.49 \t qut = 0.0449\n",
      "t = 275 => h = 1.02 \t v = 4.47 \t qut = 0.0447\n",
      "t = 280 => h = 1.0 \t v = 4.44 \t qut = 0.0444\n",
      "t = 285 => h = 0.99 \t v = 4.42 \t qut = 0.0442\n",
      "t = 290 => h = 0.98 \t v = 4.39 \t qut = 0.0439\n",
      "t = 295 => h = 0.97 \t v = 4.37 \t qut = 0.0437\n",
      "t = 300 => h = 0.96 \t v = 4.35 \t qut = 0.0435\n",
      "t = 305 => h = 0.96 \t v = 4.33 \t qut = 0.0433\n",
      "t = 310 => h = 0.95 \t v = 4.31 \t qut = 0.0431\n",
      "t = 315 => h = 0.94 \t v = 4.29 \t qut = 0.0429\n",
      "t = 320 => h = 0.93 \t v = 4.28 \t qut = 0.0428\n",
      "t = 325 => h = 0.93 \t v = 4.26 \t qut = 0.0426\n",
      "t = 330 => h = 0.92 \t v = 4.25 \t qut = 0.0425\n",
      "t = 335 => h = 0.91 \t v = 4.23 \t qut = 0.0423\n",
      "t = 340 => h = 0.91 \t v = 4.22 \t qut = 0.0422\n",
      "t = 345 => h = 0.9 \t v = 4.21 \t qut = 0.0421\n",
      "t = 350 => h = 0.9 \t v = 4.19 \t qut = 0.0419\n",
      "t = 355 => h = 0.89 \t v = 4.18 \t qut = 0.0418\n",
      "t = 360 => h = 0.89 \t v = 4.17 \t qut = 0.0417\n",
      "t = 365 => h = 0.88 \t v = 4.16 \t qut = 0.0416\n",
      "t = 370 => h = 0.88 \t v = 4.15 \t qut = 0.0415\n",
      "t = 375 => h = 0.87 \t v = 4.14 \t qut = 0.0414\n",
      "t = 380 => h = 0.87 \t v = 4.13 \t qut = 0.0413\n",
      "t = 385 => h = 0.87 \t v = 4.13 \t qut = 0.0413\n",
      "t = 390 => h = 0.86 \t v = 4.12 \t qut = 0.0412\n",
      "t = 395 => h = 0.86 \t v = 4.11 \t qut = 0.0411\n",
      "t = 400 => h = 0.86 \t v = 4.1 \t qut = 0.041\n",
      "t = 405 => h = 0.86 \t v = 4.1 \t qut = 0.041\n",
      "t = 410 => h = 0.85 \t v = 4.09 \t qut = 0.0409\n",
      "t = 415 => h = 0.85 \t v = 4.09 \t qut = 0.0409\n",
      "t = 420 => h = 0.85 \t v = 4.08 \t qut = 0.0408\n",
      "t = 425 => h = 0.85 \t v = 4.08 \t qut = 0.0408\n",
      "t = 430 => h = 0.85 \t v = 4.07 \t qut = 0.0407\n",
      "t = 435 => h = 0.84 \t v = 4.07 \t qut = 0.0407\n",
      "t = 440 => h = 0.84 \t v = 4.06 \t qut = 0.0406\n",
      "t = 445 => h = 0.84 \t v = 4.06 \t qut = 0.0406\n",
      "t = 450 => h = 0.84 \t v = 4.06 \t qut = 0.0406\n",
      "t = 455 => h = 0.84 \t v = 4.05 \t qut = 0.0405\n",
      "t = 460 => h = 0.84 \t v = 4.05 \t qut = 0.0405\n",
      "t = 465 => h = 0.83 \t v = 4.05 \t qut = 0.0405\n",
      "t = 470 => h = 0.83 \t v = 4.04 \t qut = 0.0404\n",
      "t = 475 => h = 0.83 \t v = 4.04 \t qut = 0.0404\n",
      "t = 480 => h = 0.83 \t v = 4.04 \t qut = 0.0404\n",
      "t = 485 => h = 0.83 \t v = 4.04 \t qut = 0.0404\n",
      "t = 490 => h = 0.83 \t v = 4.03 \t qut = 0.0403\n",
      "t = 495 => h = 0.83 \t v = 4.03 \t qut = 0.0403\n",
      "t = 500 => h = 0.83 \t v = 4.03 \t qut = 0.0403\n",
      "t = 505 => h = 0.83 \t v = 4.03 \t qut = 0.0403\n",
      "t = 510 => h = 0.83 \t v = 4.03 \t qut = 0.0403\n",
      "t = 515 => h = 0.83 \t v = 4.03 \t qut = 0.0403\n",
      "t = 520 => h = 0.83 \t v = 4.02 \t qut = 0.0402\n",
      "t = 525 => h = 0.82 \t v = 4.02 \t qut = 0.0402\n",
      "t = 530 => h = 0.82 \t v = 4.02 \t qut = 0.0402\n",
      "t = 535 => h = 0.82 \t v = 4.02 \t qut = 0.0402\n",
      "t = 540 => h = 0.82 \t v = 4.02 \t qut = 0.0402\n",
      "t = 545 => h = 0.82 \t v = 4.02 \t qut = 0.0402\n",
      "t = 550 => h = 0.82 \t v = 4.02 \t qut = 0.0402\n",
      "t = 555 => h = 0.82 \t v = 4.02 \t qut = 0.0402\n",
      "t = 560 => h = 0.82 \t v = 4.01 \t qut = 0.0401\n",
      "t = 565 => h = 0.82 \t v = 4.01 \t qut = 0.0401\n",
      "t = 570 => h = 0.82 \t v = 4.01 \t qut = 0.0401\n",
      "t = 575 => h = 0.82 \t v = 4.01 \t qut = 0.0401\n",
      "t = 580 => h = 0.82 \t v = 4.01 \t qut = 0.0401\n",
      "t = 585 => h = 0.82 \t v = 4.01 \t qut = 0.0401\n",
      "t = 590 => h = 0.82 \t v = 4.01 \t qut = 0.0401\n",
      "t = 595 => h = 0.82 \t v = 4.01 \t qut = 0.0401\n"
     ]
    },
    {
     "data": {
      "image/png": "[encoded data removed]",
      "text/plain": [
       "<matplotlib.figure.Figure at 0x10f7e0be0>"
      ]
     },
     "metadata": {},
     "output_type": "display_data"
    }
   ],
   "source": [
    "t = 0  # starttiden\n",
    "dt = 5 # tidssteg i sekunder\n",
    "h = h0 # starthøyden vår\n",
    "h_lim = 0.01 # vi stopper beregningen når høyden er mindre enn denne\n",
    "t_lim = 600 # vi stopper beregningen etter 300 sekunder\n",
    "t_hist = [] # Lagerplass for historiske tidspunkter\n",
    "h_hist = [] # Lagerplass for historiske h-verdier\n",
    "while h > h_lim and t < t_lim:\n",
    "    t_neste = t + dt\n",
    "    if t > 0: # ingen beregning ved t = 0, der bruker vi initialverdier\n",
    "        h = euler(h, t, t_neste)\n",
    "    v = k * math.sqrt(h) # Hastigheten til væsken som strømmer ut av hullet\n",
    "    q_ut = a * v # Mengden væske som strømmer ut av hullet\n",
    "    print(\"t = {} => h = {} \\t v = {} \\t qut = {}\".format(t, round(h,2), round(v,2), round(q_ut,4)))\n",
    "    t_hist.append(t)\n",
    "    h_hist.append(h)\n",
    "    t = t_neste\n",
    "\n",
    "import matplotlib.pyplot as plt\n",
    "plt.plot(t_hist, h_hist)\n",
    "plt.show()"
   ]
  },
  {
   "cell_type": "code",
   "execution_count": null,
   "metadata": {
    "collapsed": true,
    "deletable": true,
    "editable": true
   },
   "outputs": [],
   "source": []
  }
 ],
 "metadata": {
  "kernelspec": {
   "display_name": "Python 3",
   "language": "python",
   "name": "python3"
  },
  "language_info": {
   "codemirror_mode": {
    "name": "ipython",
    "version": 3
   },
   "file_extension": ".py",
   "mimetype": "text/x-python",
   "name": "python",
   "nbconvert_exporter": "python",
   "pygments_lexer": "ipython3",
   "version": "3.6.1"
  }
 },
 "nbformat": 4,
 "nbformat_minor": 2
}

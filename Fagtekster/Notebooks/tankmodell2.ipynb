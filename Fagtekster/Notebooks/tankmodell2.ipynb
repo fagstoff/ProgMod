{
 "cells": [
  {
   "cell_type": "markdown",
   "metadata": {
    "deletable": true,
    "editable": true
   },
   "source": [
    "# Tankmodell - vi fyller og tømmer tanken\n",
    "__Creative Commons BY-SA : bitjungle (Rune Mathisen) og fuzzbin (Tom Jarle Christiansen)__\n",
    "\n",
    "Tidligere har vi laget en modell for en tank hvor det strømmer væske ut av et hull i bunnen av tanken. Nå skal vi utvide denne modellen sånn at den har en tilførsel av væske i toppen også. Se figuren nedenfor:\n",
    "\n",
    "![Skisse av tanken](img/tank02.png)\n",
    "\n",
    "Tanken har tverrsnitt $A=2 \\ m^2$ over hele høyden til tanken. I toppen av tanken kommer det inn væske $q_{inn} = 0.05 \\ m^3/s$ (50 liter i sekundet). I bunnen av tanken er det et hull hvor innholdet i tanken renner ut. Arealet til dette hullet er $a=0,01 \\ m^2$. Ved tiden $t=0$ er tanken fylt opp til høyden $h_0=4 \\ m$. Hvordan vil høyden $h$ endres over tid, og når er tanken tom? Vi antar at væsken er inkompresibel og at den strømmer friksjonsfritt ut av hullet i bunnen. Vi kan også sette $g=9.81 \\ m/s^2$.\n",
    "\n",
    "\n",
    "La oss først definere de parametrene vi har fått oppgitt:"
   ]
  },
  {
   "cell_type": "code",
   "execution_count": 11,
   "metadata": {
    "collapsed": true,
    "deletable": true,
    "editable": true
   },
   "outputs": [],
   "source": [
    "import math # vi trenger dette biblioteket senere\n",
    "\n",
    "A = 2.00\n",
    "a = 0.01\n",
    "q_inn = 0.05\n",
    "h0 = 4.00\n",
    "g = 9.81"
   ]
  },
  {
   "cell_type": "markdown",
   "metadata": {
    "deletable": true,
    "editable": true
   },
   "source": [
    "Nå setter vi opp et uttrykk for hvordan volumet endrer seg over tid, når det kommer væske inn i toppen av tanken samtidig som det strømmer væske ut i bunnen av tanken. Da har vi at:\n",
    "\n",
    "$$ \\frac{dV}{dt} = q_{inn} - q_{ut}$$\n",
    "\n",
    "Eller for å si det med ord: \n",
    "> Endringen til volumet av væsken i tanken er lik mengden væske som strømmer inn i tanken minus det som strømmer ut av tanken.\n",
    "\n",
    "Mengden $q_{ut}$ som strømmer ut av tanken er gitt ved arealet $a$ til hullet og hastigheten $v$ på væskestrømmen ut av hullet: \n",
    "\n",
    "$$ q_{ut} = a \\cdot v $$\n",
    "\n",
    "Siden tverrsnittet A til tanken er konstant og volumet av væsken i tanken $V=A \\cdot h$, kan vi nå skrive:\n",
    "\n",
    "$$ A \\frac{dh}{dt} = q_{inn} - a \\cdot v$$\n",
    "\n",
    "Fra fysikken vet vi at energien i systemet må være konservert. Væsken som strømmer ut av hullet i bunnen får farten fra høyden $h$ fra væskenivået i tanken. Den potensielle energien er gitt ved $mgh$, og den kinetiske energien til vannstrålen ut av hullet i bunnen er gitt ved $\\frac{1}{2}mv^2$. For at energien skal være konservert, må vi da ha:\n",
    "\n",
    "$$ \\frac{1}{2}mv^2 = mgh $$\n",
    "\n",
    "Vi kan forkorte bort massen:\n",
    "\n",
    "$$ v^2 = 2gh $$\n",
    "$$ v = \\sqrt{2gh} = k \\sqrt{h} $$"
   ]
  },
  {
   "cell_type": "code",
   "execution_count": 12,
   "metadata": {
    "collapsed": false,
    "deletable": true,
    "editable": true
   },
   "outputs": [
    {
     "name": "stdout",
     "output_type": "stream",
     "text": [
      "Konstanten k er 4.4294469180700204\n"
     ]
    }
   ],
   "source": [
    "k = math.sqrt(2*g)\n",
    "print(\"Konstanten k er {}\".format(k))"
   ]
  },
  {
   "cell_type": "markdown",
   "metadata": {
    "deletable": true,
    "editable": true
   },
   "source": [
    "Nå kan vi sette inn uttrykket for $v$ i uttrykket for endring av volumet til væsken i tanken:\n",
    "\n",
    "$$ A \\frac{dh}{dt} = q_{inn} - a k \\sqrt{h}$$\n",
    "\n",
    "Uttrykket for endring av høyden over tid blir da:\n",
    "\n",
    "$$ \\frac{dh}{dt} = q_{inn} - \\frac{a}{A} k \\sqrt{h}  $$\n",
    "\n",
    "Vi bruker Eulers metode for å finne ut hva høyden $h$ er ved tiden $i+1$:\n",
    "\n",
    "$$ \\frac{h_{i+1} − h_i}{t_{i+1} − t_i} = q_{inn} − \\frac{a}{A}  k\\sqrt{h_i} $$\n",
    "\n",
    "$$ h_{i+1} = q_{inn} − \\frac{a}{A}  k\\sqrt{h_i} \\cdot (t_{i+1} − t_i) + h_i $$\n",
    "\n",
    "Nå kan vi implementere Eulers metode i Python:"
   ]
  },
  {
   "cell_type": "code",
   "execution_count": 13,
   "metadata": {
    "collapsed": true,
    "deletable": true,
    "editable": true
   },
   "outputs": [],
   "source": [
    "def euler(h, t, t_neste):\n",
    "    '''Regner ut ny høyde i tanken vet tiden t_neste, gitt høyden ved tiden t. \n",
    "       Bruker globale variabler for innstrømmen til tanken, \n",
    "       og for areal av tank og hull i bunn av tanken.\n",
    "    '''\n",
    "    return q_inn - (a/A) * k * math.sqrt(h) * (t_neste - t) + h"
   ]
  },
  {
   "cell_type": "markdown",
   "metadata": {
    "deletable": true,
    "editable": true
   },
   "source": [
    "Vi starter ved tiden $t=0$ og endrer tiden med 5 sekunder for hver nye beregning ($\\Delta t=5$)."
   ]
  },
  {
   "cell_type": "code",
   "execution_count": 14,
   "metadata": {
    "collapsed": false,
    "deletable": true,
    "editable": true
   },
   "outputs": [
    {
     "name": "stdout",
     "output_type": "stream",
     "text": [
      "t = 0 => h = 4.0 \t v = 8.86 \t qut = 0.0886\n",
      "t = 5 => h = 3.83 \t v = 8.67 \t qut = 0.0867\n",
      "t = 10 => h = 3.66 \t v = 8.48 \t qut = 0.0848\n",
      "t = 15 => h = 3.5 \t v = 8.29 \t qut = 0.0829\n",
      "t = 20 => h = 3.34 \t v = 8.1 \t qut = 0.081\n",
      "t = 25 => h = 3.19 \t v = 7.91 \t qut = 0.0791\n",
      "t = 30 => h = 3.04 \t v = 7.73 \t qut = 0.0773\n",
      "t = 35 => h = 2.9 \t v = 7.54 \t qut = 0.0754\n",
      "t = 40 => h = 2.76 \t v = 7.36 \t qut = 0.0736\n",
      "t = 45 => h = 2.63 \t v = 7.18 \t qut = 0.0718\n",
      "t = 50 => h = 2.5 \t v = 7.0 \t qut = 0.07\n",
      "t = 55 => h = 2.37 \t v = 6.82 \t qut = 0.0682\n",
      "t = 60 => h = 2.25 \t v = 6.65 \t qut = 0.0665\n",
      "t = 65 => h = 2.14 \t v = 6.47 \t qut = 0.0647\n",
      "t = 70 => h = 2.02 \t v = 6.3 \t qut = 0.063\n",
      "t = 75 => h = 1.92 \t v = 6.13 \t qut = 0.0613\n",
      "t = 80 => h = 1.81 \t v = 5.96 \t qut = 0.0596\n",
      "t = 85 => h = 1.71 \t v = 5.8 \t qut = 0.058\n",
      "t = 90 => h = 1.62 \t v = 5.64 \t qut = 0.0564\n",
      "t = 95 => h = 1.53 \t v = 5.48 \t qut = 0.0548\n",
      "t = 100 => h = 1.44 \t v = 5.32 \t qut = 0.0532\n",
      "t = 105 => h = 1.36 \t v = 5.16 \t qut = 0.0516\n",
      "t = 110 => h = 1.28 \t v = 5.01 \t qut = 0.0501\n",
      "t = 115 => h = 1.2 \t v = 4.86 \t qut = 0.0486\n",
      "t = 120 => h = 1.13 \t v = 4.71 \t qut = 0.0471\n",
      "t = 125 => h = 1.06 \t v = 4.57 \t qut = 0.0457\n",
      "t = 130 => h = 1.0 \t v = 4.43 \t qut = 0.0443\n",
      "t = 135 => h = 0.94 \t v = 4.29 \t qut = 0.0429\n",
      "t = 140 => h = 0.88 \t v = 4.16 \t qut = 0.0416\n",
      "t = 145 => h = 0.83 \t v = 4.03 \t qut = 0.0403\n",
      "t = 150 => h = 0.78 \t v = 3.91 \t qut = 0.0391\n",
      "t = 155 => h = 0.73 \t v = 3.78 \t qut = 0.0378\n",
      "t = 160 => h = 0.69 \t v = 3.67 \t qut = 0.0367\n",
      "t = 165 => h = 0.64 \t v = 3.55 \t qut = 0.0355\n",
      "t = 170 => h = 0.6 \t v = 3.44 \t qut = 0.0344\n",
      "t = 175 => h = 0.57 \t v = 3.34 \t qut = 0.0334\n",
      "t = 180 => h = 0.54 \t v = 3.24 \t qut = 0.0324\n",
      "t = 185 => h = 0.5 \t v = 3.14 \t qut = 0.0314\n",
      "t = 190 => h = 0.48 \t v = 3.05 \t qut = 0.0305\n",
      "t = 195 => h = 0.45 \t v = 2.97 \t qut = 0.0297\n",
      "t = 200 => h = 0.42 \t v = 2.89 \t qut = 0.0289\n",
      "t = 205 => h = 0.4 \t v = 2.81 \t qut = 0.0281\n",
      "t = 210 => h = 0.38 \t v = 2.74 \t qut = 0.0274\n",
      "t = 215 => h = 0.36 \t v = 2.67 \t qut = 0.0267\n",
      "t = 220 => h = 0.35 \t v = 2.61 \t qut = 0.0261\n",
      "t = 225 => h = 0.33 \t v = 2.55 \t qut = 0.0255\n",
      "t = 230 => h = 0.32 \t v = 2.5 \t qut = 0.025\n",
      "t = 235 => h = 0.31 \t v = 2.45 \t qut = 0.0245\n",
      "t = 240 => h = 0.29 \t v = 2.4 \t qut = 0.024\n",
      "t = 245 => h = 0.28 \t v = 2.36 \t qut = 0.0236\n",
      "t = 250 => h = 0.28 \t v = 2.32 \t qut = 0.0232\n",
      "t = 255 => h = 0.27 \t v = 2.29 \t qut = 0.0229\n",
      "t = 260 => h = 0.26 \t v = 2.26 \t qut = 0.0226\n",
      "t = 265 => h = 0.25 \t v = 2.23 \t qut = 0.0223\n",
      "t = 270 => h = 0.25 \t v = 2.2 \t qut = 0.022\n",
      "t = 275 => h = 0.24 \t v = 2.18 \t qut = 0.0218\n",
      "t = 280 => h = 0.24 \t v = 2.16 \t qut = 0.0216\n",
      "t = 285 => h = 0.23 \t v = 2.14 \t qut = 0.0214\n",
      "t = 290 => h = 0.23 \t v = 2.13 \t qut = 0.0213\n",
      "t = 295 => h = 0.23 \t v = 2.11 \t qut = 0.0211\n",
      "t = 300 => h = 0.22 \t v = 2.1 \t qut = 0.021\n",
      "t = 305 => h = 0.22 \t v = 2.09 \t qut = 0.0209\n",
      "t = 310 => h = 0.22 \t v = 2.08 \t qut = 0.0208\n",
      "t = 315 => h = 0.22 \t v = 2.07 \t qut = 0.0207\n",
      "t = 320 => h = 0.22 \t v = 2.06 \t qut = 0.0206\n",
      "t = 325 => h = 0.21 \t v = 2.05 \t qut = 0.0205\n",
      "t = 330 => h = 0.21 \t v = 2.05 \t qut = 0.0205\n",
      "t = 335 => h = 0.21 \t v = 2.04 \t qut = 0.0204\n",
      "t = 340 => h = 0.21 \t v = 2.04 \t qut = 0.0204\n",
      "t = 345 => h = 0.21 \t v = 2.03 \t qut = 0.0203\n",
      "t = 350 => h = 0.21 \t v = 2.03 \t qut = 0.0203\n",
      "t = 355 => h = 0.21 \t v = 2.02 \t qut = 0.0202\n",
      "t = 360 => h = 0.21 \t v = 2.02 \t qut = 0.0202\n",
      "t = 365 => h = 0.21 \t v = 2.02 \t qut = 0.0202\n",
      "t = 370 => h = 0.21 \t v = 2.02 \t qut = 0.0202\n",
      "t = 375 => h = 0.21 \t v = 2.01 \t qut = 0.0201\n",
      "t = 380 => h = 0.21 \t v = 2.01 \t qut = 0.0201\n",
      "t = 385 => h = 0.21 \t v = 2.01 \t qut = 0.0201\n",
      "t = 390 => h = 0.21 \t v = 2.01 \t qut = 0.0201\n",
      "t = 395 => h = 0.21 \t v = 2.01 \t qut = 0.0201\n",
      "t = 400 => h = 0.21 \t v = 2.01 \t qut = 0.0201\n",
      "t = 405 => h = 0.21 \t v = 2.01 \t qut = 0.0201\n",
      "t = 410 => h = 0.21 \t v = 2.01 \t qut = 0.0201\n",
      "t = 415 => h = 0.2 \t v = 2.01 \t qut = 0.0201\n",
      "t = 420 => h = 0.2 \t v = 2.0 \t qut = 0.02\n",
      "t = 425 => h = 0.2 \t v = 2.0 \t qut = 0.02\n",
      "t = 430 => h = 0.2 \t v = 2.0 \t qut = 0.02\n",
      "t = 435 => h = 0.2 \t v = 2.0 \t qut = 0.02\n",
      "t = 440 => h = 0.2 \t v = 2.0 \t qut = 0.02\n",
      "t = 445 => h = 0.2 \t v = 2.0 \t qut = 0.02\n",
      "t = 450 => h = 0.2 \t v = 2.0 \t qut = 0.02\n",
      "t = 455 => h = 0.2 \t v = 2.0 \t qut = 0.02\n",
      "t = 460 => h = 0.2 \t v = 2.0 \t qut = 0.02\n",
      "t = 465 => h = 0.2 \t v = 2.0 \t qut = 0.02\n",
      "t = 470 => h = 0.2 \t v = 2.0 \t qut = 0.02\n",
      "t = 475 => h = 0.2 \t v = 2.0 \t qut = 0.02\n",
      "t = 480 => h = 0.2 \t v = 2.0 \t qut = 0.02\n",
      "t = 485 => h = 0.2 \t v = 2.0 \t qut = 0.02\n",
      "t = 490 => h = 0.2 \t v = 2.0 \t qut = 0.02\n",
      "t = 495 => h = 0.2 \t v = 2.0 \t qut = 0.02\n",
      "t = 500 => h = 0.2 \t v = 2.0 \t qut = 0.02\n",
      "t = 505 => h = 0.2 \t v = 2.0 \t qut = 0.02\n",
      "t = 510 => h = 0.2 \t v = 2.0 \t qut = 0.02\n",
      "t = 515 => h = 0.2 \t v = 2.0 \t qut = 0.02\n",
      "t = 520 => h = 0.2 \t v = 2.0 \t qut = 0.02\n",
      "t = 525 => h = 0.2 \t v = 2.0 \t qut = 0.02\n",
      "t = 530 => h = 0.2 \t v = 2.0 \t qut = 0.02\n",
      "t = 535 => h = 0.2 \t v = 2.0 \t qut = 0.02\n",
      "t = 540 => h = 0.2 \t v = 2.0 \t qut = 0.02\n",
      "t = 545 => h = 0.2 \t v = 2.0 \t qut = 0.02\n",
      "t = 550 => h = 0.2 \t v = 2.0 \t qut = 0.02\n",
      "t = 555 => h = 0.2 \t v = 2.0 \t qut = 0.02\n",
      "t = 560 => h = 0.2 \t v = 2.0 \t qut = 0.02\n",
      "t = 565 => h = 0.2 \t v = 2.0 \t qut = 0.02\n",
      "t = 570 => h = 0.2 \t v = 2.0 \t qut = 0.02\n",
      "t = 575 => h = 0.2 \t v = 2.0 \t qut = 0.02\n",
      "t = 580 => h = 0.2 \t v = 2.0 \t qut = 0.02\n",
      "t = 585 => h = 0.2 \t v = 2.0 \t qut = 0.02\n",
      "t = 590 => h = 0.2 \t v = 2.0 \t qut = 0.02\n",
      "t = 595 => h = 0.2 \t v = 2.0 \t qut = 0.02\n"
     ]
    },
    {
     "data": {
      "image/png": "[encoded data removed]",
      "text/plain": [
       "<matplotlib.figure.Figure at 0x10f907a20>"
      ]
     },
     "metadata": {},
     "output_type": "display_data"
    }
   ],
   "source": [
    "t = 0  # starttiden\n",
    "dt = 5 # tidssteg i sekunder\n",
    "h = h0 # starthøyden vår\n",
    "h_lim = 0.01 # vi stopper beregningen når høyden er mindre enn denne\n",
    "t_lim = 600 # vi stopper beregningen etter 300 sekunder\n",
    "t_hist = [] # Lagerplass for historiske tidspunkter\n",
    "h_hist = [] # Lagerplass for historiske h-verdier\n",
    "while h > h_lim and t < t_lim:\n",
    "    t_neste = t + dt\n",
    "    if t > 0: # ingen beregning ved t = 0, der bruker vi initialverdier\n",
    "        h = euler(h, t, t_neste)\n",
    "    v = k * math.sqrt(h) # Hastigheten til væsken som strømmer ut av hullet\n",
    "    q_ut = a * v # Mengden væske som strømmer ut av hullet\n",
    "    print(\"t = {} => h = {} \\t v = {} \\t qut = {}\".format(t, round(h,2), round(v,2), round(q_ut,4)))\n",
    "    t_hist.append(t)\n",
    "    h_hist.append(h)\n",
    "    t = t_neste\n",
    "\n",
    "import matplotlib.pyplot as plt\n",
    "plt.plot(t_hist, h_hist)\n",
    "plt.axis([0, 600, 0, 4])\n",
    "plt.show()"
   ]
  },
  {
   "cell_type": "code",
   "execution_count": null,
   "metadata": {
    "collapsed": true,
    "deletable": true,
    "editable": true
   },
   "outputs": [],
   "source": []
  }
 ],
 "metadata": {
  "kernelspec": {
   "display_name": "Python 3",
   "language": "python",
   "name": "python3"
  },
  "language_info": {
   "codemirror_mode": {
    "name": "ipython",
    "version": 3
   },
   "file_extension": ".py",
   "mimetype": "text/x-python",
   "name": "python",
   "nbconvert_exporter": "python",
   "pygments_lexer": "ipython3",
   "version": "3.6.1"
  }
 },
 "nbformat": 4,
 "nbformat_minor": 2
}

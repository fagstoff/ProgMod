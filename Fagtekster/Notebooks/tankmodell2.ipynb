{
 "cells": [
  {
   "cell_type": "markdown",
   "metadata": {
    "collapsed": true,
    "deletable": true,
    "editable": true
   },
   "source": [
    "# Tankmodell - Vi tømmer tanken\n",
    "__Creative Commons BY-SA : bitjungle (Rune Mathisen) og fuzzbin (Tom Jarle Christiansen)__\n",
    "\n",
    "Tidligere har vi laget en modell for en tank hvor det strømmer væske ut av et hull i bunnen av tanken. Nå skal vi utvide denne modellen sånn at den har en tilførsel av væske i toppen også. Se figuren nedenfor:\n",
    "\n",
    "![Skisse av tanken](img/tank02.png)\n",
    "\n",
    "Tanken har tverrsnitt $A_t=2 \\ \\mathrm{m}^2$ over hele høyden til tanken. I toppen av tanken kommer det inn væske $q_{inn} = 0.05 \\ m^3/s$ (50 liter i sekundet). I bunnen av tanken er det et hull hvor innholdet i tanken renner ut. Arealet til dette hullet er $A_h=0,01 \\ \\mathrm{m}^2$. Ved tiden $t=0 \\ \\mathrm{s}$ er tanken fylt opp til høyden $h=4 \\ \\mathrm{m}$. Hvordan vil høyden $h$ endres over tid? Vil tanken tømmes helt? Vi antar at væsken er inkompresibel og at den strømmer friksjonsfritt ut av hullet i bunnen. Vi kan også sette $g=9.81 \\ \\mathrm{m/s}^2$.\n",
    "\n",
    "La oss først definere de parametrene vi har fått oppgitt:"
   ]
  },
  {
   "cell_type": "code",
   "execution_count": 95,
   "metadata": {
    "collapsed": true,
    "deletable": true,
    "editable": true
   },
   "outputs": [],
   "source": [
    "import math # vi trenger dette biblioteket senere\n",
    "\n",
    "A_t = 2.00 # Tankens tverrsnittareal (m^2)\n",
    "A_h = 0.01 # Hullets tverrsnittareal (m^2)\n",
    "h = 4.00 # Vannivået når forsøket starter (m)\n",
    "g = 9.81 # Gravitasjonskonstanten (m/s^2)\n",
    "q_inn = 0.05 # Mengde vann inn i toppen av tanken (m^3/s)"
   ]
  },
  {
   "cell_type": "markdown",
   "metadata": {
    "deletable": true,
    "editable": true
   },
   "source": [
    "Nå setter vi opp et uttrykk for hvordan volumet endrer seg over tid, når det kommer væske inn i toppen av tanken samtidig som det strømmer væske ut i bunnen av tanken. Da har vi at:\n",
    "\n",
    "$$ \\frac{dV}{dt} = q_{inn} - q_{ut}$$\n",
    "\n",
    "Eller for å si det med ord: \n",
    "> Endringen til volumet av væsken i tanken er lik mengden væske som strømmer inn i tanken minus det som strømmer ut av tanken.\n",
    "\n",
    "Mengden $q_{ut}$ som strømmer ut av tanken er gitt ved arealet $A_h$ til hullet og hastigheten $v_1$ på væskestrømmen ut av hullet: \n",
    "\n",
    "$$ q_{ut} = A_h \\cdot v_1 $$\n",
    "\n",
    "Siden tverrsnittet $A_t$ til tanken er konstant og volumet av væsken i tanken er gitt ved $V=A_t \\cdot h$, kan vi nå skrive:\n",
    "\n",
    "$$ A_t \\frac{dh_0}{dt} = q_{inn} - A_h \\cdot v_1 $$\n",
    "\n",
    "I [tankmodell 1](https://github.com/fagstoff/ProgMod/blob/master/Fagtekster/Notebooks/tankmodell1.ipynb) fant vi at vi kunne uttrykke $v_1$ slik:\n",
    "\n",
    "$$ v_1 = \\sqrt{2gh} $$\n",
    "\n",
    "Vi setter $\\sqrt{2g} = k $, og får:\n",
    "$$ v_1 = k \\sqrt{h} $$"
   ]
  },
  {
   "cell_type": "code",
   "execution_count": 96,
   "metadata": {
    "collapsed": false,
    "deletable": true,
    "editable": true
   },
   "outputs": [
    {
     "name": "stdout",
     "output_type": "stream",
     "text": [
      "Konstanten k er 4.4294469180700204\n"
     ]
    }
   ],
   "source": [
    "k = math.sqrt(2*g)\n",
    "print(\"Konstanten k er {}\".format(k))"
   ]
  },
  {
   "cell_type": "markdown",
   "metadata": {
    "deletable": true,
    "editable": true
   },
   "source": [
    "Nå kan vi sette inn uttrykket for $v$ i uttrykket for endring av volumet til væsken i tanken:\n",
    "\n",
    "$$ A_t \\frac{dh}{dt} = q_{inn} - A_h k \\sqrt{h}$$\n",
    "\n",
    "Uttrykket for endring av høyden over tid blir da:\n",
    "\n",
    "$$ \\frac{dh}{dt} = \\frac{1}{A_t} \\left( q_{inn} - A_h k \\sqrt{h} \\right) $$\n",
    "\n",
    "Vi bruker Eulers metode for å finne ut hva høyden $h$ er ved tiden $i+1$:\n",
    "\n",
    "$$ \\frac{h_{i+1} - h_i}{t_{i+1} − t_i} = \\frac{1}{A_t} \\left( q_{inn} - A_h k \\sqrt{h_i} \\right) $$\n",
    "\n",
    "$$ h_{i+1} = \\frac{1}{A_t} \\left( q_{inn} - A_h  k\\sqrt{h_i} \\right) (t_{i+1} - t_i) + h_i $$\n",
    "\n",
    "Nå kan vi implementere Eulers metode i Python:"
   ]
  },
  {
   "cell_type": "code",
   "execution_count": 97,
   "metadata": {
    "collapsed": true,
    "deletable": true,
    "editable": true
   },
   "outputs": [],
   "source": [
    "def euler(h, t, t_neste):\n",
    "    '''Regner ut ny høyde i tanken vet tiden t_neste, gitt høyden ved tiden t. \n",
    "       Bruker globale variabler for areal av tank og hull i bunn av tanken.\n",
    "    '''\n",
    "    return 1/A_t * ((q_inn) - A_h * k * math.sqrt(h)) * (t_neste - t) + h"
   ]
  },
  {
   "cell_type": "markdown",
   "metadata": {
    "deletable": true,
    "editable": true
   },
   "source": [
    "Vi starter ved tiden $t=0$ og endrer tiden med 5 sekunder for hver nye beregning ($\\Delta t=5$)."
   ]
  },
  {
   "cell_type": "code",
   "execution_count": 98,
   "metadata": {
    "collapsed": false,
    "deletable": true,
    "editable": true
   },
   "outputs": [
    {
     "name": "stdout",
     "output_type": "stream",
     "text": [
      "t = 0 => h = 4.0 \t v = 8.86 \t q_inn = 0.05 \t q_ut = 0.0886\n",
      "t = 10 => h = 3.81 \t v = 8.64 \t q_inn = 0.05 \t q_ut = 0.0864\n",
      "t = 20 => h = 3.62 \t v = 8.43 \t q_inn = 0.05 \t q_ut = 0.0843\n",
      "t = 30 => h = 3.45 \t v = 8.23 \t q_inn = 0.05 \t q_ut = 0.0823\n",
      "t = 40 => h = 3.29 \t v = 8.04 \t q_inn = 0.05 \t q_ut = 0.0804\n",
      "t = 50 => h = 3.14 \t v = 7.85 \t q_inn = 0.05 \t q_ut = 0.0785\n",
      "t = 60 => h = 3.0 \t v = 7.67 \t q_inn = 0.05 \t q_ut = 0.0767\n",
      "t = 70 => h = 2.86 \t v = 7.5 \t q_inn = 0.05 \t q_ut = 0.075\n",
      "t = 80 => h = 2.74 \t v = 7.33 \t q_inn = 0.05 \t q_ut = 0.0733\n",
      "t = 90 => h = 2.62 \t v = 7.17 \t q_inn = 0.05 \t q_ut = 0.0717\n",
      "t = 100 => h = 2.51 \t v = 7.02 \t q_inn = 0.05 \t q_ut = 0.0702\n",
      "t = 110 => h = 2.41 \t v = 6.88 \t q_inn = 0.05 \t q_ut = 0.0688\n",
      "t = 120 => h = 2.32 \t v = 6.74 \t q_inn = 0.05 \t q_ut = 0.0674\n",
      "t = 130 => h = 2.23 \t v = 6.62 \t q_inn = 0.05 \t q_ut = 0.0662\n",
      "t = 140 => h = 2.15 \t v = 6.5 \t q_inn = 0.05 \t q_ut = 0.065\n",
      "t = 150 => h = 2.08 \t v = 6.38 \t q_inn = 0.05 \t q_ut = 0.0638\n",
      "t = 160 => h = 2.01 \t v = 6.27 \t q_inn = 0.05 \t q_ut = 0.0627\n",
      "t = 170 => h = 1.94 \t v = 6.17 \t q_inn = 0.05 \t q_ut = 0.0617\n",
      "t = 180 => h = 1.88 \t v = 6.08 \t q_inn = 0.05 \t q_ut = 0.0608\n",
      "t = 190 => h = 1.83 \t v = 5.99 \t q_inn = 0.05 \t q_ut = 0.0599\n",
      "t = 200 => h = 1.78 \t v = 5.91 \t q_inn = 0.05 \t q_ut = 0.0591\n",
      "t = 210 => h = 1.74 \t v = 5.83 \t q_inn = 0.05 \t q_ut = 0.0583\n",
      "t = 220 => h = 1.69 \t v = 5.76 \t q_inn = 0.05 \t q_ut = 0.0576\n",
      "t = 230 => h = 1.66 \t v = 5.7 \t q_inn = 0.05 \t q_ut = 0.057\n",
      "t = 240 => h = 1.62 \t v = 5.64 \t q_inn = 0.05 \t q_ut = 0.0564\n",
      "t = 250 => h = 1.59 \t v = 5.58 \t q_inn = 0.05 \t q_ut = 0.0558\n",
      "t = 260 => h = 1.56 \t v = 5.53 \t q_inn = 0.05 \t q_ut = 0.0553\n",
      "t = 270 => h = 1.53 \t v = 5.48 \t q_inn = 0.05 \t q_ut = 0.0548\n",
      "t = 280 => h = 1.51 \t v = 5.44 \t q_inn = 0.05 \t q_ut = 0.0544\n",
      "t = 290 => h = 1.49 \t v = 5.4 \t q_inn = 0.05 \t q_ut = 0.054\n",
      "t = 300 => h = 1.47 \t v = 5.36 \t q_inn = 0.05 \t q_ut = 0.0536\n",
      "t = 310 => h = 1.45 \t v = 5.33 \t q_inn = 0.05 \t q_ut = 0.0533\n",
      "t = 320 => h = 1.43 \t v = 5.3 \t q_inn = 0.05 \t q_ut = 0.053\n",
      "t = 330 => h = 1.42 \t v = 5.27 \t q_inn = 0.05 \t q_ut = 0.0527\n",
      "t = 340 => h = 1.4 \t v = 5.25 \t q_inn = 0.05 \t q_ut = 0.0525\n",
      "t = 350 => h = 1.39 \t v = 5.22 \t q_inn = 0.05 \t q_ut = 0.0522\n",
      "t = 360 => h = 1.38 \t v = 5.2 \t q_inn = 0.05 \t q_ut = 0.052\n",
      "t = 370 => h = 1.37 \t v = 5.18 \t q_inn = 0.05 \t q_ut = 0.0518\n",
      "t = 380 => h = 1.36 \t v = 5.17 \t q_inn = 0.05 \t q_ut = 0.0517\n",
      "t = 390 => h = 1.35 \t v = 5.15 \t q_inn = 0.05 \t q_ut = 0.0515\n",
      "t = 400 => h = 1.34 \t v = 5.14 \t q_inn = 0.05 \t q_ut = 0.0514\n",
      "t = 410 => h = 1.34 \t v = 5.12 \t q_inn = 0.05 \t q_ut = 0.0512\n",
      "t = 420 => h = 1.33 \t v = 5.11 \t q_inn = 0.05 \t q_ut = 0.0511\n",
      "t = 430 => h = 1.33 \t v = 5.1 \t q_inn = 0.05 \t q_ut = 0.051\n",
      "t = 440 => h = 1.32 \t v = 5.09 \t q_inn = 0.05 \t q_ut = 0.0509\n",
      "t = 450 => h = 1.32 \t v = 5.08 \t q_inn = 0.05 \t q_ut = 0.0508\n",
      "t = 460 => h = 1.31 \t v = 5.07 \t q_inn = 0.05 \t q_ut = 0.0507\n",
      "t = 470 => h = 1.31 \t v = 5.07 \t q_inn = 0.05 \t q_ut = 0.0507\n",
      "t = 480 => h = 1.31 \t v = 5.06 \t q_inn = 0.05 \t q_ut = 0.0506\n",
      "t = 490 => h = 1.3 \t v = 5.05 \t q_inn = 0.05 \t q_ut = 0.0505\n",
      "t = 500 => h = 1.3 \t v = 5.05 \t q_inn = 0.05 \t q_ut = 0.0505\n",
      "t = 510 => h = 1.3 \t v = 5.04 \t q_inn = 0.05 \t q_ut = 0.0504\n",
      "t = 520 => h = 1.29 \t v = 5.04 \t q_inn = 0.05 \t q_ut = 0.0504\n",
      "t = 530 => h = 1.29 \t v = 5.04 \t q_inn = 0.05 \t q_ut = 0.0504\n",
      "t = 540 => h = 1.29 \t v = 5.03 \t q_inn = 0.05 \t q_ut = 0.0503\n",
      "t = 550 => h = 1.29 \t v = 5.03 \t q_inn = 0.05 \t q_ut = 0.0503\n",
      "t = 560 => h = 1.29 \t v = 5.03 \t q_inn = 0.05 \t q_ut = 0.0503\n",
      "t = 570 => h = 1.29 \t v = 5.02 \t q_inn = 0.05 \t q_ut = 0.0502\n",
      "t = 580 => h = 1.29 \t v = 5.02 \t q_inn = 0.05 \t q_ut = 0.0502\n",
      "t = 590 => h = 1.28 \t v = 5.02 \t q_inn = 0.05 \t q_ut = 0.0502\n"
     ]
    },
    {
     "data": {
      "image/png": "[encoded data removed]",
      "text/plain": [
       "<matplotlib.figure.Figure at 0x104969ba8>"
      ]
     },
     "metadata": {},
     "output_type": "display_data"
    }
   ],
   "source": [
    "t = 0  # starttiden\n",
    "dt = 10 # tidssteg i sekunder\n",
    "h_lim = 0.01 # vi stopper beregningen når høyden er mindre enn denne\n",
    "t_lim = 600 # vi stopper beregningen etter 300 sekunder\n",
    "t_hist = [] # Lagerplass for historiske tidspunkter\n",
    "h_hist = [] # Lagerplass for historiske h-verdier\n",
    "while h > h_lim and t < t_lim:\n",
    "    t_neste = t + dt\n",
    "    if t > 0: # ingen beregning ved t = 0, der bruker vi initialverdier\n",
    "        h = euler(h, t, t_neste)\n",
    "    v = k * math.sqrt(h) # Hastigheten til væsken som strømmer ut av hullet\n",
    "    q_ut = A_h * v # Mengden væske som strømmer ut av hullet\n",
    "    print(\"t = {} => h = {} \\t v = {} \\t q_inn = {} \\t q_ut = {}\".format(t, round(h,2), round(v,2), q_inn, round(q_ut,4)))\n",
    "    t_hist.append(t)\n",
    "    h_hist.append(h)\n",
    "    t = t_neste\n",
    "\n",
    "import matplotlib.pyplot as plt\n",
    "plt.plot(t_hist, h_hist)\n",
    "plt.ylabel('Høyde [m]')\n",
    "plt.xlabel('Tid [s]')\n",
    "plt.show()"
   ]
  },
  {
   "cell_type": "code",
   "execution_count": null,
   "metadata": {
    "collapsed": true,
    "deletable": true,
    "editable": true
   },
   "outputs": [],
   "source": []
  }
 ],
 "metadata": {
  "kernelspec": {
   "display_name": "Python 3",
   "language": "python",
   "name": "python3"
  }
 },
 "nbformat": 4,
 "nbformat_minor": 2
}

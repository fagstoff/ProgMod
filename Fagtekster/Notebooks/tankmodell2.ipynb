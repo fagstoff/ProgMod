{
 "cells": [
  {
   "cell_type": "markdown",
   "metadata": {
    "collapsed": true,
    "deletable": true,
    "editable": true
   },
   "source": [
    "# Tankmodell - Vi tømmer tanken\n",
    "__Creative Commons BY-SA : bitjungle (Rune Mathisen) og fuzzbin (Tom Jarle Christiansen)__\n",
    "\n",
    "Tidligere har vi laget en modell for en tank hvor det strømmer væske ut av et hull i bunnen av tanken. Nå skal vi utvide denne modellen sånn at den har en tilførsel av væske i toppen også. Se figuren nedenfor:\n",
    "\n",
    "![Skisse av tanken](img/tank02.png)\n",
    "\n",
    "Tanken har tverrsnitt $A_t=2 \\ \\mathrm{m}^2$ over hele høyden til tanken. I toppen av tanken kommer det inn væske $q_{inn} = 0.05 \\ m^3/s$ (50 liter i sekundet). I bunnen av tanken er det et hull hvor innholdet i tanken renner ut. Arealet til dette hullet er $A_h=0,01 \\ \\mathrm{m}^2$. Ved tiden $t=0 \\ \\mathrm{s}$ er tanken fylt opp til høyden $h=4 \\ \\mathrm{m}$. Hvordan vil høyden $h$ endres over tid? Vil tanken tømmes helt? Vi antar at væsken er inkompresibel og at den strømmer friksjonsfritt ut av hullet i bunnen. Vi kan også sette $g=9.81 \\ \\mathrm{m/s}^2$.\n",
    "\n",
    "La oss først definere de parametrene vi har fått oppgitt:"
   ]
  },
  {
   "cell_type": "code",
   "execution_count": 1,
   "metadata": {
    "collapsed": true,
    "deletable": true,
    "editable": true
   },
   "outputs": [],
   "source": [
    "import math # vi trenger dette biblioteket senere\n",
    "\n",
    "A_t = 2.00 # Tankens tverrsnittareal (m^2)\n",
    "A_h = 0.01 # Hullets tverrsnittareal (m^2)\n",
    "h = 4.00 # Vannivået når forsøket starter (m)\n",
    "g = 9.81 # Gravitasjonskonstanten (m/s^2)\n",
    "q_inn = 0.05 # Mengde vann inn i toppen av tanken (m^3/s)"
   ]
  },
  {
   "cell_type": "markdown",
   "metadata": {
    "deletable": true,
    "editable": true
   },
   "source": [
    "Nå setter vi opp et uttrykk for hvordan volumet endrer seg over tid, når det kommer væske inn i toppen av tanken samtidig som det strømmer væske ut i bunnen av tanken. Da har vi at:\n",
    "\n",
    "$$ \\frac{dV}{dt} = q_{inn} - q_{ut}$$\n",
    "\n",
    "Eller for å si det med ord: \n",
    "> Endringen til volumet av væsken i tanken er lik mengden væske som strømmer inn i tanken minus det som strømmer ut av tanken.\n",
    "\n",
    "Mengden $q_{ut}$ som strømmer ut av tanken er gitt ved arealet $A_h$ til hullet og hastigheten $v_1$ på væskestrømmen ut av hullet: \n",
    "\n",
    "$$ q_{ut} = A_h \\cdot v_1 $$\n",
    "\n",
    "Siden tverrsnittet $A_t$ til tanken er konstant og volumet av væsken i tanken er gitt ved $V=A_t \\cdot h$, kan vi nå skrive:\n",
    "\n",
    "$$ A_t \\frac{dh_0}{dt} = q_{inn} - A_h \\cdot v_1 $$\n",
    "\n",
    "I [tankmodell 1](https://github.com/fagstoff/ProgMod/blob/master/Fagtekster/Notebooks/tankmodell1.ipynb) fant vi at vi kunne uttrykke $v_1$ slik:\n",
    "\n",
    "$$ v_1 = \\sqrt{2gh} $$\n",
    "\n",
    "Vi setter $\\sqrt{2g} = k $, og får:\n",
    "$$ v_1 = k \\sqrt{h} $$"
   ]
  },
  {
   "cell_type": "code",
   "execution_count": 2,
   "metadata": {
    "collapsed": false,
    "deletable": true,
    "editable": true
   },
   "outputs": [
    {
     "name": "stdout",
     "output_type": "stream",
     "text": [
      "Konstanten k er 4.4294469180700204\n"
     ]
    }
   ],
   "source": [
    "k = math.sqrt(2*g)\n",
    "print(\"Konstanten k er {}\".format(k))"
   ]
  },
  {
   "cell_type": "markdown",
   "metadata": {
    "deletable": true,
    "editable": true
   },
   "source": [
    "Nå kan vi sette inn uttrykket for $v$ i uttrykket for endring av volumet til væsken i tanken:\n",
    "\n",
    "$$ A_t \\frac{dh}{dt} = q_{inn} - A_h k \\sqrt{h}$$\n",
    "\n",
    "Uttrykket for endring av høyden over tid blir da:\n",
    "\n",
    "$$ \\frac{dh}{dt} = \\frac{1}{A_t} \\left( q_{inn} - A_h k \\sqrt{h} \\right) $$\n",
    "\n",
    "Vi bruker Eulers metode for å finne ut hva høyden $h$ er ved tiden $i+1$:\n",
    "\n",
    "$$ \\frac{h_{i+1} - h_i}{t_{i+1} − t_i} = \\frac{1}{A_t} \\left( q_{inn} - A_h k \\sqrt{h_i} \\right) $$\n",
    "\n",
    "$$ h_{i+1} = \\frac{1}{A_t} \\left( q_{inn} - A_h  k\\sqrt{h_i} \\right) (t_{i+1} - t_i) + h_i $$\n",
    "\n",
    "Nå kan vi implementere Eulers metode i Python:"
   ]
  },
  {
   "cell_type": "code",
   "execution_count": 3,
   "metadata": {
    "collapsed": true,
    "deletable": true,
    "editable": true
   },
   "outputs": [],
   "source": [
    "def euler(h, t, t_neste):\n",
    "    '''Regner ut ny høyde i tanken vet tiden t_neste, gitt høyden ved tiden t. \n",
    "       Bruker globale variabler for areal av tank og hull i bunn av tanken.\n",
    "    '''\n",
    "    return 1/A_t * ((q_inn) - A_h * k * math.sqrt(h)) * (t_neste - t) + h"
   ]
  },
  {
   "cell_type": "markdown",
   "metadata": {
    "deletable": true,
    "editable": true
   },
   "source": [
    "Vi starter ved tiden $t=0$ og endrer tiden med 5 sekunder for hver nye beregning ($\\Delta t=5$)."
   ]
  },
  {
   "cell_type": "code",
   "execution_count": 4,
   "metadata": {
    "collapsed": false,
    "deletable": true,
    "editable": true
   },
   "outputs": [
    {
     "name": "stdout",
     "output_type": "stream",
     "text": [
      "t = 0 => h = 4.0 \t v = 8.86 \t q_inn = 0.05 \t q_ut = 0.0886\n",
      "t = 5 => h = 3.9 \t v = 8.75 \t q_inn = 0.05 \t q_ut = 0.0875\n",
      "t = 10 => h = 3.81 \t v = 8.65 \t q_inn = 0.05 \t q_ut = 0.0865\n",
      "t = 15 => h = 3.72 \t v = 8.54 \t q_inn = 0.05 \t q_ut = 0.0854\n",
      "t = 20 => h = 3.63 \t v = 8.44 \t q_inn = 0.05 \t q_ut = 0.0844\n",
      "t = 25 => h = 3.54 \t v = 8.34 \t q_inn = 0.05 \t q_ut = 0.0834\n",
      "t = 30 => h = 3.46 \t v = 8.24 \t q_inn = 0.05 \t q_ut = 0.0824\n",
      "t = 35 => h = 3.38 \t v = 8.14 \t q_inn = 0.05 \t q_ut = 0.0814\n",
      "t = 40 => h = 3.3 \t v = 8.05 \t q_inn = 0.05 \t q_ut = 0.0805\n",
      "t = 45 => h = 3.22 \t v = 7.95 \t q_inn = 0.05 \t q_ut = 0.0795\n",
      "t = 50 => h = 3.15 \t v = 7.86 \t q_inn = 0.05 \t q_ut = 0.0786\n",
      "t = 55 => h = 3.08 \t v = 7.77 \t q_inn = 0.05 \t q_ut = 0.0777\n",
      "t = 60 => h = 3.01 \t v = 7.68 \t q_inn = 0.05 \t q_ut = 0.0768\n",
      "t = 65 => h = 2.94 \t v = 7.6 \t q_inn = 0.05 \t q_ut = 0.076\n",
      "t = 70 => h = 2.88 \t v = 7.51 \t q_inn = 0.05 \t q_ut = 0.0751\n",
      "t = 75 => h = 2.82 \t v = 7.43 \t q_inn = 0.05 \t q_ut = 0.0743\n",
      "t = 80 => h = 2.75 \t v = 7.35 \t q_inn = 0.05 \t q_ut = 0.0735\n",
      "t = 85 => h = 2.7 \t v = 7.27 \t q_inn = 0.05 \t q_ut = 0.0727\n",
      "t = 90 => h = 2.64 \t v = 7.2 \t q_inn = 0.05 \t q_ut = 0.072\n",
      "t = 95 => h = 2.58 \t v = 7.12 \t q_inn = 0.05 \t q_ut = 0.0712\n",
      "t = 100 => h = 2.53 \t v = 7.05 \t q_inn = 0.05 \t q_ut = 0.0705\n",
      "t = 105 => h = 2.48 \t v = 6.98 \t q_inn = 0.05 \t q_ut = 0.0698\n",
      "t = 110 => h = 2.43 \t v = 6.91 \t q_inn = 0.05 \t q_ut = 0.0691\n",
      "t = 115 => h = 2.38 \t v = 6.84 \t q_inn = 0.05 \t q_ut = 0.0684\n",
      "t = 120 => h = 2.34 \t v = 6.77 \t q_inn = 0.05 \t q_ut = 0.0677\n",
      "t = 125 => h = 2.29 \t v = 6.71 \t q_inn = 0.05 \t q_ut = 0.0671\n",
      "t = 130 => h = 2.25 \t v = 6.64 \t q_inn = 0.05 \t q_ut = 0.0664\n",
      "t = 135 => h = 2.21 \t v = 6.58 \t q_inn = 0.05 \t q_ut = 0.0658\n",
      "t = 140 => h = 2.17 \t v = 6.52 \t q_inn = 0.05 \t q_ut = 0.0652\n",
      "t = 145 => h = 2.13 \t v = 6.47 \t q_inn = 0.05 \t q_ut = 0.0647\n",
      "t = 150 => h = 2.09 \t v = 6.41 \t q_inn = 0.05 \t q_ut = 0.0641\n",
      "t = 155 => h = 2.06 \t v = 6.36 \t q_inn = 0.05 \t q_ut = 0.0636\n",
      "t = 160 => h = 2.03 \t v = 6.3 \t q_inn = 0.05 \t q_ut = 0.063\n",
      "t = 165 => h = 1.99 \t v = 6.25 \t q_inn = 0.05 \t q_ut = 0.0625\n",
      "t = 170 => h = 1.96 \t v = 6.2 \t q_inn = 0.05 \t q_ut = 0.062\n",
      "t = 175 => h = 1.93 \t v = 6.16 \t q_inn = 0.05 \t q_ut = 0.0616\n",
      "t = 180 => h = 1.9 \t v = 6.11 \t q_inn = 0.05 \t q_ut = 0.0611\n",
      "t = 185 => h = 1.87 \t v = 6.06 \t q_inn = 0.05 \t q_ut = 0.0606\n",
      "t = 190 => h = 1.85 \t v = 6.02 \t q_inn = 0.05 \t q_ut = 0.0602\n",
      "t = 195 => h = 1.82 \t v = 5.98 \t q_inn = 0.05 \t q_ut = 0.0598\n",
      "t = 200 => h = 1.8 \t v = 5.94 \t q_inn = 0.05 \t q_ut = 0.0594\n",
      "t = 205 => h = 1.77 \t v = 5.9 \t q_inn = 0.05 \t q_ut = 0.059\n",
      "t = 210 => h = 1.75 \t v = 5.86 \t q_inn = 0.05 \t q_ut = 0.0586\n",
      "t = 215 => h = 1.73 \t v = 5.83 \t q_inn = 0.05 \t q_ut = 0.0583\n",
      "t = 220 => h = 1.71 \t v = 5.79 \t q_inn = 0.05 \t q_ut = 0.0579\n",
      "t = 225 => h = 1.69 \t v = 5.76 \t q_inn = 0.05 \t q_ut = 0.0576\n",
      "t = 230 => h = 1.67 \t v = 5.73 \t q_inn = 0.05 \t q_ut = 0.0573\n",
      "t = 235 => h = 1.65 \t v = 5.69 \t q_inn = 0.05 \t q_ut = 0.0569\n",
      "t = 240 => h = 1.64 \t v = 5.66 \t q_inn = 0.05 \t q_ut = 0.0566\n",
      "t = 245 => h = 1.62 \t v = 5.64 \t q_inn = 0.05 \t q_ut = 0.0564\n",
      "t = 250 => h = 1.6 \t v = 5.61 \t q_inn = 0.05 \t q_ut = 0.0561\n",
      "t = 255 => h = 1.59 \t v = 5.58 \t q_inn = 0.05 \t q_ut = 0.0558\n",
      "t = 260 => h = 1.57 \t v = 5.56 \t q_inn = 0.05 \t q_ut = 0.0556\n",
      "t = 265 => h = 1.56 \t v = 5.53 \t q_inn = 0.05 \t q_ut = 0.0553\n",
      "t = 270 => h = 1.55 \t v = 5.51 \t q_inn = 0.05 \t q_ut = 0.0551\n",
      "t = 275 => h = 1.53 \t v = 5.48 \t q_inn = 0.05 \t q_ut = 0.0548\n",
      "t = 280 => h = 1.52 \t v = 5.46 \t q_inn = 0.05 \t q_ut = 0.0546\n",
      "t = 285 => h = 1.51 \t v = 5.44 \t q_inn = 0.05 \t q_ut = 0.0544\n",
      "t = 290 => h = 1.5 \t v = 5.42 \t q_inn = 0.05 \t q_ut = 0.0542\n",
      "t = 295 => h = 1.49 \t v = 5.4 \t q_inn = 0.05 \t q_ut = 0.054\n",
      "t = 300 => h = 1.48 \t v = 5.38 \t q_inn = 0.05 \t q_ut = 0.0538\n",
      "t = 305 => h = 1.47 \t v = 5.37 \t q_inn = 0.05 \t q_ut = 0.0537\n",
      "t = 310 => h = 1.46 \t v = 5.35 \t q_inn = 0.05 \t q_ut = 0.0535\n",
      "t = 315 => h = 1.45 \t v = 5.33 \t q_inn = 0.05 \t q_ut = 0.0533\n",
      "t = 320 => h = 1.44 \t v = 5.32 \t q_inn = 0.05 \t q_ut = 0.0532\n",
      "t = 325 => h = 1.43 \t v = 5.3 \t q_inn = 0.05 \t q_ut = 0.053\n",
      "t = 330 => h = 1.43 \t v = 5.29 \t q_inn = 0.05 \t q_ut = 0.0529\n",
      "t = 335 => h = 1.42 \t v = 5.28 \t q_inn = 0.05 \t q_ut = 0.0528\n",
      "t = 340 => h = 1.41 \t v = 5.26 \t q_inn = 0.05 \t q_ut = 0.0526\n",
      "t = 345 => h = 1.41 \t v = 5.25 \t q_inn = 0.05 \t q_ut = 0.0525\n",
      "t = 350 => h = 1.4 \t v = 5.24 \t q_inn = 0.05 \t q_ut = 0.0524\n",
      "t = 355 => h = 1.39 \t v = 5.23 \t q_inn = 0.05 \t q_ut = 0.0523\n",
      "t = 360 => h = 1.39 \t v = 5.22 \t q_inn = 0.05 \t q_ut = 0.0522\n",
      "t = 365 => h = 1.38 \t v = 5.21 \t q_inn = 0.05 \t q_ut = 0.0521\n",
      "t = 370 => h = 1.38 \t v = 5.2 \t q_inn = 0.05 \t q_ut = 0.052\n",
      "t = 375 => h = 1.37 \t v = 5.19 \t q_inn = 0.05 \t q_ut = 0.0519\n",
      "t = 380 => h = 1.37 \t v = 5.18 \t q_inn = 0.05 \t q_ut = 0.0518\n",
      "t = 385 => h = 1.36 \t v = 5.17 \t q_inn = 0.05 \t q_ut = 0.0517\n",
      "t = 390 => h = 1.36 \t v = 5.16 \t q_inn = 0.05 \t q_ut = 0.0516\n",
      "t = 395 => h = 1.35 \t v = 5.16 \t q_inn = 0.05 \t q_ut = 0.0516\n",
      "t = 400 => h = 1.35 \t v = 5.15 \t q_inn = 0.05 \t q_ut = 0.0515\n",
      "t = 405 => h = 1.35 \t v = 5.14 \t q_inn = 0.05 \t q_ut = 0.0514\n",
      "t = 410 => h = 1.34 \t v = 5.13 \t q_inn = 0.05 \t q_ut = 0.0513\n",
      "t = 415 => h = 1.34 \t v = 5.13 \t q_inn = 0.05 \t q_ut = 0.0513\n",
      "t = 420 => h = 1.34 \t v = 5.12 \t q_inn = 0.05 \t q_ut = 0.0512\n",
      "t = 425 => h = 1.33 \t v = 5.12 \t q_inn = 0.05 \t q_ut = 0.0512\n",
      "t = 430 => h = 1.33 \t v = 5.11 \t q_inn = 0.05 \t q_ut = 0.0511\n",
      "t = 435 => h = 1.33 \t v = 5.1 \t q_inn = 0.05 \t q_ut = 0.051\n",
      "t = 440 => h = 1.33 \t v = 5.1 \t q_inn = 0.05 \t q_ut = 0.051\n",
      "t = 445 => h = 1.32 \t v = 5.1 \t q_inn = 0.05 \t q_ut = 0.051\n",
      "t = 450 => h = 1.32 \t v = 5.09 \t q_inn = 0.05 \t q_ut = 0.0509\n",
      "t = 455 => h = 1.32 \t v = 5.09 \t q_inn = 0.05 \t q_ut = 0.0509\n",
      "t = 460 => h = 1.32 \t v = 5.08 \t q_inn = 0.05 \t q_ut = 0.0508\n",
      "t = 465 => h = 1.31 \t v = 5.08 \t q_inn = 0.05 \t q_ut = 0.0508\n",
      "t = 470 => h = 1.31 \t v = 5.07 \t q_inn = 0.05 \t q_ut = 0.0507\n",
      "t = 475 => h = 1.31 \t v = 5.07 \t q_inn = 0.05 \t q_ut = 0.0507\n",
      "t = 480 => h = 1.31 \t v = 5.07 \t q_inn = 0.05 \t q_ut = 0.0507\n",
      "t = 485 => h = 1.31 \t v = 5.06 \t q_inn = 0.05 \t q_ut = 0.0506\n",
      "t = 490 => h = 1.31 \t v = 5.06 \t q_inn = 0.05 \t q_ut = 0.0506\n",
      "t = 495 => h = 1.3 \t v = 5.06 \t q_inn = 0.05 \t q_ut = 0.0506\n",
      "t = 500 => h = 1.3 \t v = 5.06 \t q_inn = 0.05 \t q_ut = 0.0506\n",
      "t = 505 => h = 1.3 \t v = 5.05 \t q_inn = 0.05 \t q_ut = 0.0505\n",
      "t = 510 => h = 1.3 \t v = 5.05 \t q_inn = 0.05 \t q_ut = 0.0505\n",
      "t = 515 => h = 1.3 \t v = 5.05 \t q_inn = 0.05 \t q_ut = 0.0505\n",
      "t = 520 => h = 1.3 \t v = 5.05 \t q_inn = 0.05 \t q_ut = 0.0505\n",
      "t = 525 => h = 1.3 \t v = 5.04 \t q_inn = 0.05 \t q_ut = 0.0504\n",
      "t = 530 => h = 1.3 \t v = 5.04 \t q_inn = 0.05 \t q_ut = 0.0504\n",
      "t = 535 => h = 1.29 \t v = 5.04 \t q_inn = 0.05 \t q_ut = 0.0504\n",
      "t = 540 => h = 1.29 \t v = 5.04 \t q_inn = 0.05 \t q_ut = 0.0504\n",
      "t = 545 => h = 1.29 \t v = 5.04 \t q_inn = 0.05 \t q_ut = 0.0504\n",
      "t = 550 => h = 1.29 \t v = 5.03 \t q_inn = 0.05 \t q_ut = 0.0503\n",
      "t = 555 => h = 1.29 \t v = 5.03 \t q_inn = 0.05 \t q_ut = 0.0503\n",
      "t = 560 => h = 1.29 \t v = 5.03 \t q_inn = 0.05 \t q_ut = 0.0503\n",
      "t = 565 => h = 1.29 \t v = 5.03 \t q_inn = 0.05 \t q_ut = 0.0503\n",
      "t = 570 => h = 1.29 \t v = 5.03 \t q_inn = 0.05 \t q_ut = 0.0503\n",
      "t = 575 => h = 1.29 \t v = 5.03 \t q_inn = 0.05 \t q_ut = 0.0503\n",
      "t = 580 => h = 1.29 \t v = 5.02 \t q_inn = 0.05 \t q_ut = 0.0502\n",
      "t = 585 => h = 1.29 \t v = 5.02 \t q_inn = 0.05 \t q_ut = 0.0502\n",
      "t = 590 => h = 1.29 \t v = 5.02 \t q_inn = 0.05 \t q_ut = 0.0502\n",
      "t = 595 => h = 1.29 \t v = 5.02 \t q_inn = 0.05 \t q_ut = 0.0502\n"
     ]
    },
    {
     "data": {
      "image/png": "[encoded data removed]",
      "text/plain": [
       "<matplotlib.figure.Figure at 0x110f78eb8>"
      ]
     },
     "metadata": {},
     "output_type": "display_data"
    }
   ],
   "source": [
    "t = 0  # starttiden\n",
    "dt = 5 # tidssteg i sekunder\n",
    "h_lim = 0.01 # vi stopper beregningen når høyden er mindre enn denne\n",
    "t_lim = 600 # vi stopper beregningen etter 300 sekunder\n",
    "t_hist = [] # Lagerplass for historiske tidspunkter\n",
    "h_hist = [] # Lagerplass for historiske h-verdier\n",
    "while h > h_lim and t < t_lim:\n",
    "    t_neste = t + dt\n",
    "    if t > 0: # ingen beregning ved t = 0, der bruker vi initialverdier\n",
    "        h = euler(h, t, t_neste)\n",
    "    v = k * math.sqrt(h) # Hastigheten til væsken som strømmer ut av hullet\n",
    "    q_ut = A_h * v # Mengden væske som strømmer ut av hullet\n",
    "    print(\"t = {} => h = {} \\t v = {} \\t q_inn = {} \\t q_ut = {}\".format(t, round(h,2), round(v,2), q_inn, round(q_ut,4)))\n",
    "    t_hist.append(t)\n",
    "    h_hist.append(h)\n",
    "    t = t_neste\n",
    "\n",
    "import matplotlib.pyplot as plt\n",
    "plt.plot(t_hist, h_hist)\n",
    "plt.ylabel('Høyde [m]')\n",
    "plt.xlabel('Tid [s]')\n",
    "plt.show()"
   ]
  }
 ],
 "metadata": {
  "kernelspec": {
   "display_name": "Python 3",
   "language": "python",
   "name": "python3"
  },
  "language_info": {
   "codemirror_mode": {
    "name": "ipython",
    "version": 3
   },
   "file_extension": ".py",
   "mimetype": "text/x-python",
   "name": "python",
   "nbconvert_exporter": "python",
   "pygments_lexer": "ipython3",
   "version": "3.6.1"
  }
 },
 "nbformat": 4,
 "nbformat_minor": 2
}

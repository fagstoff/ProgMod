{
 "cells": [
  {
   "cell_type": "markdown",
   "metadata": {
    "deletable": true,
    "editable": true
   },
   "source": [
    "# Tankmodell - vi fyller og tømmer tanken\n",
    "__Creative Commons BY-SA : bitjungle (Rune Mathisen) og fuzzbin (Tom Jarle Christiansen)__\n",
    "\n",
    "Tidligere har vi laget en modell for en tank hvor det strømmer væske ut av et hull i bunnen av tanken. Nå skal vi utvide denne modellen sånn at den har en tilførsel av væske i toppen også. Se figuren nedenfor:\n",
    "\n",
    "![Skisse av tanken](img/tank02.png)\n",
    "\n",
    "Tanken har tverrsnitt $A=2 \\ m^2$ over hele høyden til tanken. I toppen av tanken kommer det inn væske $q_{inn} = 0.05 \\ m^3/s$ (50 liter i sekundet). I bunnen av tanken er det et hull hvor innholdet i tanken renner ut. Arealet til dette hullet er $a=0,01 \\ m^2$. Ved tiden $t=0$ er tanken fylt opp til høyden $h_0=4 \\ m$. Hvordan vil høyden $h$ endres over tid, og når er tanken tom? Vi antar at væsken er inkompresibel og at den strømmer friksjonsfritt ut av hullet i bunnen. Vi kan også sette $g=9.81 \\ m/s^2$.\n",
    "\n",
    "\n",
    "La oss først definere de parametrene vi har fått oppgitt:"
   ]
  },
  {
   "cell_type": "code",
   "execution_count": 20,
   "metadata": {
    "collapsed": true,
    "deletable": true,
    "editable": true
   },
   "outputs": [],
   "source": [
    "import math # vi trenger dette biblioteket senere\n",
    "\n",
    "A = 2.00\n",
    "a = 0.01\n",
    "q_inn = 0.05\n",
    "h0 = 4.00\n",
    "g = 9.81"
   ]
  },
  {
   "cell_type": "markdown",
   "metadata": {
    "deletable": true,
    "editable": true
   },
   "source": [
    "Nå setter vi opp et uttrykk for hvordan volumet endrer seg over tid, når det kommer væske inn i toppen av tanken samtidig som det strømmer væske ut i bunnen av tanken. Da har vi at:\n",
    "\n",
    "$$ \\frac{dV}{dt} = q_{inn} - q_{ut}$$\n",
    "\n",
    "Eller for å si det med ord: \n",
    "> Endringen til volumet av væsken i tanken er lik mengden væske som strømmer inn i tanken minus det som strømmer ut av tanken.\n",
    "\n",
    "Mengden $q_{ut}$ som strømmer ut av tanken er gitt ved arealet $a$ til hullet og hastigheten $v$ på væskestrømmen ut av hullet: \n",
    "\n",
    "$$ q_{ut} = a \\cdot v $$\n",
    "\n",
    "Siden tverrsnittet A til tanken er konstant og volumet av væsken i tanken $V=A \\cdot h$, kan vi nå skrive:\n",
    "\n",
    "$$ A \\frac{dh}{dt} = q_{inn} - a \\cdot v$$\n",
    "\n",
    "Fra fysikken vet vi at energien i systemet må være konservert. Væsken som strømmer ut av hullet i bunnen får farten fra høyden $h$ fra væskenivået i tanken. Den potensielle energien er gitt ved $mgh$, og den kinetiske energien til vannstrålen ut av hullet i bunnen er gitt ved $\\frac{1}{2}mv^2$. For at energien skal være konservert, må vi da ha:\n",
    "\n",
    "$$ \\frac{1}{2}mv^2 = mgh $$\n",
    "\n",
    "Vi kan forkorte bort massen:\n",
    "\n",
    "$$ v^2 = 2gh $$\n",
    "$$ v = \\sqrt{2gh} = k \\sqrt{h} $$"
   ]
  },
  {
   "cell_type": "code",
   "execution_count": 21,
   "metadata": {
    "collapsed": false,
    "deletable": true,
    "editable": true
   },
   "outputs": [
    {
     "name": "stdout",
     "output_type": "stream",
     "text": [
      "Konstanten k er 4.4294469180700204\n"
     ]
    }
   ],
   "source": [
    "k = math.sqrt(2*g)\n",
    "print(\"Konstanten k er {}\".format(k))"
   ]
  },
  {
   "cell_type": "markdown",
   "metadata": {
    "deletable": true,
    "editable": true
   },
   "source": [
    "Nå kan vi sette inn uttrykket for $v$ i uttrykket for endring av volumet til væsken i tanken:\n",
    "\n",
    "$$ A \\frac{dh}{dt} = q_{inn} - a k \\sqrt{h}$$\n",
    "\n",
    "Uttrykket for endring av høyden over tid blir da:\n",
    "\n",
    "$$ \\frac{dh}{dt} = \\frac{1}{A} q_{inn} - \\frac{a}{A} k \\sqrt{h}  $$\n",
    "\n",
    "Vi bruker Eulers metode for å finne ut hva høyden $h$ er ved tiden $i+1$:\n",
    "\n",
    "$$ \\frac{h_{i+1} − h_i}{t_{i+1} − t_i} = \\frac{1}{A} q_{inn} − \\frac{a}{A}  k\\sqrt{h_i} $$\n",
    "\n",
    "$$ h_{i+1} = \\frac{1}{A} q_{inn} − \\frac{a}{A}  k\\sqrt{h_i} \\cdot (t_{i+1} − t_i) + h_i $$\n",
    "\n",
    "Nå kan vi implementere Eulers metode i Python:"
   ]
  },
  {
   "cell_type": "code",
   "execution_count": 22,
   "metadata": {
    "collapsed": true,
    "deletable": true,
    "editable": true
   },
   "outputs": [],
   "source": [
    "def euler(h, t, t_neste):\n",
    "    '''Regner ut ny høyde i tanken vet tiden t_neste, gitt høyden ved tiden t. \n",
    "       Bruker globale variabler for innstrømmen til tanken, \n",
    "       og for areal av tank og hull i bunn av tanken.\n",
    "    '''\n",
    "    return (q_inn/A) - (a/A) * k * math.sqrt(h) * (t_neste - t) + h"
   ]
  },
  {
   "cell_type": "markdown",
   "metadata": {
    "deletable": true,
    "editable": true
   },
   "source": [
    "Vi starter ved tiden $t=0$ og endrer tiden med 5 sekunder for hver nye beregning ($\\Delta t=5$)."
   ]
  },
  {
   "cell_type": "code",
   "execution_count": 23,
   "metadata": {
    "collapsed": false,
    "deletable": true,
    "editable": true
   },
   "outputs": [
    {
     "name": "stdout",
     "output_type": "stream",
     "text": [
      "t = 0 => h = 4.0 \t v = 8.86 \t qut = 0.0886\n",
      "t = 5 => h = 3.8 \t v = 8.64 \t qut = 0.0864\n",
      "t = 10 => h = 3.61 \t v = 8.42 \t qut = 0.0842\n",
      "t = 15 => h = 3.43 \t v = 8.2 \t qut = 0.082\n",
      "t = 20 => h = 3.25 \t v = 7.98 \t qut = 0.0798\n",
      "t = 25 => h = 3.07 \t v = 7.76 \t qut = 0.0776\n",
      "t = 30 => h = 2.9 \t v = 7.55 \t qut = 0.0755\n",
      "t = 35 => h = 2.74 \t v = 7.33 \t qut = 0.0733\n",
      "t = 40 => h = 2.58 \t v = 7.12 \t qut = 0.0712\n",
      "t = 45 => h = 2.43 \t v = 6.9 \t qut = 0.069\n",
      "t = 50 => h = 2.28 \t v = 6.69 \t qut = 0.0669\n",
      "t = 55 => h = 2.14 \t v = 6.48 \t qut = 0.0648\n",
      "t = 60 => h = 2.0 \t v = 6.27 \t qut = 0.0627\n",
      "t = 65 => h = 1.87 \t v = 6.06 \t qut = 0.0606\n",
      "t = 70 => h = 1.74 \t v = 5.85 \t qut = 0.0585\n",
      "t = 75 => h = 1.62 \t v = 5.64 \t qut = 0.0564\n",
      "t = 80 => h = 1.51 \t v = 5.44 \t qut = 0.0544\n",
      "t = 85 => h = 1.4 \t v = 5.23 \t qut = 0.0523\n",
      "t = 90 => h = 1.29 \t v = 5.03 \t qut = 0.0503\n",
      "t = 95 => h = 1.19 \t v = 4.83 \t qut = 0.0483\n",
      "t = 100 => h = 1.09 \t v = 4.63 \t qut = 0.0463\n",
      "t = 105 => h = 1.0 \t v = 4.43 \t qut = 0.0443\n",
      "t = 110 => h = 0.92 \t v = 4.24 \t qut = 0.0424\n",
      "t = 115 => h = 0.84 \t v = 4.05 \t qut = 0.0405\n",
      "t = 120 => h = 0.76 \t v = 3.86 \t qut = 0.0386\n",
      "t = 125 => h = 0.69 \t v = 3.67 \t qut = 0.0367\n",
      "t = 130 => h = 0.62 \t v = 3.49 \t qut = 0.0349\n",
      "t = 135 => h = 0.56 \t v = 3.31 \t qut = 0.0331\n",
      "t = 140 => h = 0.5 \t v = 3.13 \t qut = 0.0313\n",
      "t = 145 => h = 0.45 \t v = 2.96 \t qut = 0.0296\n",
      "t = 150 => h = 0.4 \t v = 2.8 \t qut = 0.028\n",
      "t = 155 => h = 0.35 \t v = 2.63 \t qut = 0.0263\n",
      "t = 160 => h = 0.31 \t v = 2.48 \t qut = 0.0248\n",
      "t = 165 => h = 0.28 \t v = 2.33 \t qut = 0.0233\n",
      "t = 170 => h = 0.24 \t v = 2.18 \t qut = 0.0218\n",
      "t = 175 => h = 0.21 \t v = 2.04 \t qut = 0.0204\n",
      "t = 180 => h = 0.19 \t v = 1.92 \t qut = 0.0192\n",
      "t = 185 => h = 0.16 \t v = 1.79 \t qut = 0.0179\n",
      "t = 190 => h = 0.14 \t v = 1.68 \t qut = 0.0168\n",
      "t = 195 => h = 0.13 \t v = 1.58 \t qut = 0.0158\n",
      "t = 200 => h = 0.11 \t v = 1.49 \t qut = 0.0149\n",
      "t = 205 => h = 0.1 \t v = 1.4 \t qut = 0.014\n",
      "t = 210 => h = 0.09 \t v = 1.33 \t qut = 0.0133\n",
      "t = 215 => h = 0.08 \t v = 1.27 \t qut = 0.0127\n",
      "t = 220 => h = 0.08 \t v = 1.22 \t qut = 0.0122\n",
      "t = 225 => h = 0.07 \t v = 1.17 \t qut = 0.0117\n",
      "t = 230 => h = 0.07 \t v = 1.14 \t qut = 0.0114\n",
      "t = 235 => h = 0.06 \t v = 1.11 \t qut = 0.0111\n",
      "t = 240 => h = 0.06 \t v = 1.08 \t qut = 0.0108\n",
      "t = 245 => h = 0.06 \t v = 1.06 \t qut = 0.0106\n",
      "t = 250 => h = 0.06 \t v = 1.05 \t qut = 0.0105\n",
      "t = 255 => h = 0.05 \t v = 1.04 \t qut = 0.0104\n",
      "t = 260 => h = 0.05 \t v = 1.03 \t qut = 0.0103\n",
      "t = 265 => h = 0.05 \t v = 1.02 \t qut = 0.0102\n",
      "t = 270 => h = 0.05 \t v = 1.02 \t qut = 0.0102\n",
      "t = 275 => h = 0.05 \t v = 1.01 \t qut = 0.0101\n",
      "t = 280 => h = 0.05 \t v = 1.01 \t qut = 0.0101\n",
      "t = 285 => h = 0.05 \t v = 1.01 \t qut = 0.0101\n",
      "t = 290 => h = 0.05 \t v = 1.01 \t qut = 0.0101\n",
      "t = 295 => h = 0.05 \t v = 1.0 \t qut = 0.01\n",
      "t = 300 => h = 0.05 \t v = 1.0 \t qut = 0.01\n",
      "t = 305 => h = 0.05 \t v = 1.0 \t qut = 0.01\n",
      "t = 310 => h = 0.05 \t v = 1.0 \t qut = 0.01\n",
      "t = 315 => h = 0.05 \t v = 1.0 \t qut = 0.01\n",
      "t = 320 => h = 0.05 \t v = 1.0 \t qut = 0.01\n",
      "t = 325 => h = 0.05 \t v = 1.0 \t qut = 0.01\n",
      "t = 330 => h = 0.05 \t v = 1.0 \t qut = 0.01\n",
      "t = 335 => h = 0.05 \t v = 1.0 \t qut = 0.01\n",
      "t = 340 => h = 0.05 \t v = 1.0 \t qut = 0.01\n",
      "t = 345 => h = 0.05 \t v = 1.0 \t qut = 0.01\n",
      "t = 350 => h = 0.05 \t v = 1.0 \t qut = 0.01\n",
      "t = 355 => h = 0.05 \t v = 1.0 \t qut = 0.01\n",
      "t = 360 => h = 0.05 \t v = 1.0 \t qut = 0.01\n",
      "t = 365 => h = 0.05 \t v = 1.0 \t qut = 0.01\n",
      "t = 370 => h = 0.05 \t v = 1.0 \t qut = 0.01\n",
      "t = 375 => h = 0.05 \t v = 1.0 \t qut = 0.01\n",
      "t = 380 => h = 0.05 \t v = 1.0 \t qut = 0.01\n",
      "t = 385 => h = 0.05 \t v = 1.0 \t qut = 0.01\n",
      "t = 390 => h = 0.05 \t v = 1.0 \t qut = 0.01\n",
      "t = 395 => h = 0.05 \t v = 1.0 \t qut = 0.01\n",
      "t = 400 => h = 0.05 \t v = 1.0 \t qut = 0.01\n",
      "t = 405 => h = 0.05 \t v = 1.0 \t qut = 0.01\n",
      "t = 410 => h = 0.05 \t v = 1.0 \t qut = 0.01\n",
      "t = 415 => h = 0.05 \t v = 1.0 \t qut = 0.01\n",
      "t = 420 => h = 0.05 \t v = 1.0 \t qut = 0.01\n",
      "t = 425 => h = 0.05 \t v = 1.0 \t qut = 0.01\n",
      "t = 430 => h = 0.05 \t v = 1.0 \t qut = 0.01\n",
      "t = 435 => h = 0.05 \t v = 1.0 \t qut = 0.01\n",
      "t = 440 => h = 0.05 \t v = 1.0 \t qut = 0.01\n",
      "t = 445 => h = 0.05 \t v = 1.0 \t qut = 0.01\n",
      "t = 450 => h = 0.05 \t v = 1.0 \t qut = 0.01\n",
      "t = 455 => h = 0.05 \t v = 1.0 \t qut = 0.01\n",
      "t = 460 => h = 0.05 \t v = 1.0 \t qut = 0.01\n",
      "t = 465 => h = 0.05 \t v = 1.0 \t qut = 0.01\n",
      "t = 470 => h = 0.05 \t v = 1.0 \t qut = 0.01\n",
      "t = 475 => h = 0.05 \t v = 1.0 \t qut = 0.01\n",
      "t = 480 => h = 0.05 \t v = 1.0 \t qut = 0.01\n",
      "t = 485 => h = 0.05 \t v = 1.0 \t qut = 0.01\n",
      "t = 490 => h = 0.05 \t v = 1.0 \t qut = 0.01\n",
      "t = 495 => h = 0.05 \t v = 1.0 \t qut = 0.01\n",
      "t = 500 => h = 0.05 \t v = 1.0 \t qut = 0.01\n",
      "t = 505 => h = 0.05 \t v = 1.0 \t qut = 0.01\n",
      "t = 510 => h = 0.05 \t v = 1.0 \t qut = 0.01\n",
      "t = 515 => h = 0.05 \t v = 1.0 \t qut = 0.01\n",
      "t = 520 => h = 0.05 \t v = 1.0 \t qut = 0.01\n",
      "t = 525 => h = 0.05 \t v = 1.0 \t qut = 0.01\n",
      "t = 530 => h = 0.05 \t v = 1.0 \t qut = 0.01\n",
      "t = 535 => h = 0.05 \t v = 1.0 \t qut = 0.01\n",
      "t = 540 => h = 0.05 \t v = 1.0 \t qut = 0.01\n",
      "t = 545 => h = 0.05 \t v = 1.0 \t qut = 0.01\n",
      "t = 550 => h = 0.05 \t v = 1.0 \t qut = 0.01\n",
      "t = 555 => h = 0.05 \t v = 1.0 \t qut = 0.01\n",
      "t = 560 => h = 0.05 \t v = 1.0 \t qut = 0.01\n",
      "t = 565 => h = 0.05 \t v = 1.0 \t qut = 0.01\n",
      "t = 570 => h = 0.05 \t v = 1.0 \t qut = 0.01\n",
      "t = 575 => h = 0.05 \t v = 1.0 \t qut = 0.01\n",
      "t = 580 => h = 0.05 \t v = 1.0 \t qut = 0.01\n",
      "t = 585 => h = 0.05 \t v = 1.0 \t qut = 0.01\n",
      "t = 590 => h = 0.05 \t v = 1.0 \t qut = 0.01\n",
      "t = 595 => h = 0.05 \t v = 1.0 \t qut = 0.01\n"
     ]
    },
    {
     "data": {
      "image/png": "[encoded data removed]",
      "text/plain": [
       "<matplotlib.figure.Figure at 0x10fa3d588>"
      ]
     },
     "metadata": {},
     "output_type": "display_data"
    }
   ],
   "source": [
    "t = 0  # starttiden\n",
    "dt = 5 # tidssteg i sekunder\n",
    "h = h0 # starthøyden vår\n",
    "h_lim = 0.01 # vi stopper beregningen når høyden er mindre enn denne\n",
    "t_lim = 600 # vi stopper beregningen etter 300 sekunder\n",
    "t_hist = [] # Lagerplass for historiske tidspunkter\n",
    "h_hist = [] # Lagerplass for historiske h-verdier\n",
    "while h > h_lim and t < t_lim:\n",
    "    t_neste = t + dt\n",
    "    if t > 0: # ingen beregning ved t = 0, der bruker vi initialverdier\n",
    "        h = euler(h, t, t_neste)\n",
    "    v = k * math.sqrt(h) # Hastigheten til væsken som strømmer ut av hullet\n",
    "    q_ut = a * v # Mengden væske som strømmer ut av hullet\n",
    "    print(\"t = {} => h = {} \\t v = {} \\t qut = {}\".format(t, round(h,2), round(v,2), round(q_ut,4)))\n",
    "    t_hist.append(t)\n",
    "    h_hist.append(h)\n",
    "    t = t_neste\n",
    "\n",
    "import matplotlib.pyplot as plt\n",
    "plt.plot(t_hist, h_hist)\n",
    "plt.axis([0, 600, 0, 4])\n",
    "plt.show()"
   ]
  },
  {
   "cell_type": "code",
   "execution_count": null,
   "metadata": {
    "collapsed": true,
    "deletable": true,
    "editable": true
   },
   "outputs": [],
   "source": []
  }
 ],
 "metadata": {
  "kernelspec": {
   "display_name": "Python 3",
   "language": "python",
   "name": "python3"
  },
  "language_info": {
   "codemirror_mode": {
    "name": "ipython",
    "version": 3
   },
   "file_extension": ".py",
   "mimetype": "text/x-python",
   "name": "python",
   "nbconvert_exporter": "python",
   "pygments_lexer": "ipython3",
   "version": "3.6.1"
  }
 },
 "nbformat": 4,
 "nbformat_minor": 2
}

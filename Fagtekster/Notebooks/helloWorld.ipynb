{
 "cells": [
  {
   "cell_type": "markdown",
   "metadata": {
    "deletable": true,
    "editable": true
   },
   "source": [
    "Hallo verden!\n",
    "=======\n",
    "\n",
    "**Er du klar til å lage ditt første program i python?**\n",
    "\n",
    "I god gammel programmeringstradisjon  skal vi kalle vårt første program \"[Hallo verden](https://no.wikipedia.org/wiki/Hello,_world)\". Dette er den vanligste måten å bli kjent med et nytt programmeringsspråk. Programmet vi lager skal skrive teksten \"Hallo verden!\" ut på skjermen.\n",
    "\n",
    "La oss begynne med å legge inn teksten i en variabel:"
   ]
  },
  {
   "cell_type": "code",
   "execution_count": 1,
   "metadata": {
    "collapsed": true,
    "deletable": true,
    "editable": true
   },
   "outputs": [],
   "source": [
    "min_hilsen = \"Hallo verden!\""
   ]
  },
  {
   "cell_type": "markdown",
   "metadata": {
    "deletable": true,
    "editable": true
   },
   "source": [
    "Vi har nå _deklarert_ og _tilordnet_ en verdi til _variabelen_ minHilsen\n",
    "\n",
    "Vi kan nå skrive ut innholdet i variabelen med kommandoen print()"
   ]
  },
  {
   "cell_type": "code",
   "execution_count": 2,
   "metadata": {
    "collapsed": false,
    "deletable": true,
    "editable": true
   },
   "outputs": [
    {
     "name": "stdout",
     "output_type": "stream",
     "text": [
      "Hallo verden!\n"
     ]
    }
   ],
   "source": [
    "print(min_hilsen)"
   ]
  },
  {
   "cell_type": "markdown",
   "metadata": {
    "deletable": true,
    "editable": true
   },
   "source": [
    "Du kan også legge til tekst ved å bruke operatoren +="
   ]
  },
  {
   "cell_type": "code",
   "execution_count": 3,
   "metadata": {
    "collapsed": true,
    "deletable": true,
    "editable": true
   },
   "outputs": [],
   "source": [
    "min_hilsen += \" Du er flink!\""
   ]
  },
  {
   "cell_type": "code",
   "execution_count": 4,
   "metadata": {
    "collapsed": false,
    "deletable": true,
    "editable": true
   },
   "outputs": [
    {
     "name": "stdout",
     "output_type": "stream",
     "text": [
      "Hallo verden! Du er flink!\n"
     ]
    }
   ],
   "source": [
    "print(min_hilsen)"
   ]
  },
  {
   "cell_type": "markdown",
   "metadata": {},
   "source": [
    "## Oppgaver\n",
    "Gjør oppgavene nedenfor, kjør gjennom programmet hver gang du har gjort en endring.\n",
    "1. Endre verdien til variablen `min_hilsen`, sett den til \"Hallo Norge!\".\n",
    "2. Lag en ny variabel med navnet `mitt_navn`, og gi den navnet ditt som verdi.\n",
    "3. Skriv ut innhodet i variabelen `mitt_navn`"
   ]
  },
  {
   "cell_type": "code",
   "execution_count": null,
   "metadata": {
    "collapsed": true
   },
   "outputs": [],
   "source": []
  }
 ],
 "metadata": {
  "kernelspec": {
   "display_name": "Python 3",
   "language": "python",
   "name": "python3"
  },
  "language_info": {
   "codemirror_mode": {
    "name": "ipython",
    "version": 3
   },
   "file_extension": ".py",
   "mimetype": "text/x-python",
   "name": "python",
   "nbconvert_exporter": "python",
   "pygments_lexer": "ipython3",
   "version": "3.6.1"
  },
  "widgets": {
   "application/vnd.jupyter.widget-state+json": {
    "state": {},
    "version_major": 1,
    "version_minor": 0
   }
  }
 },
 "nbformat": 4,
 "nbformat_minor": 2
}

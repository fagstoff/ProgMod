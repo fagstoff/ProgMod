{
 "cells": [
  {
   "cell_type": "markdown",
   "metadata": {},
   "source": [
    "# Tankmodell - Trykk og væskehøyde\n",
    "__Creative Commons BY-SA : bitjungle (Rune Mathisen) og fuzzbin (Tom Jarle Christiansen)__\n",
    "\n",
    "Vi har en tank som er fylt med vann som har tetthet $\\rho=1000 \\ \\mathrm{kg/m}^3$. På overflaten av vannet har vi atmosfæretrykk, slik at $P_1 = P_{atm}$. I bunnen av tanken måler vi trykket $P_2$. Hvordan er sammenhengen mellom væskehøyden $h$ og trykket $P_2$ i bunnen av tanken? Vi starter med en høyde $h=4 \\ \\mathrm{m}$, og så lar vi den synke i steg på $0,1 \\ \\mathrm{m}$ til vi når $0$. Vi også kan sette $g=9.81 \\ \\mathrm{m/s}^2$ og $P_1=101500 \\ \\mathrm{Pa}$ (Pascal, en trykkenhet).\n",
    "\n",
    "![Skisse av tanken](img/tank00.png)\n",
    "\n",
    "La oss først definere de parametrene vi har fått oppgitt:"
   ]
  },
  {
   "cell_type": "code",
   "execution_count": 43,
   "metadata": {
    "collapsed": true
   },
   "outputs": [],
   "source": [
    "h = 4.00 # Vannivået når forsøket starter (m)\n",
    "dh = 0.1 # Endring i høyde mellom hver beregning (m)\n",
    "rho = 1000 # Tetthet til væsken (kg/m^3)\n",
    "g = 9.81 # Gravitasjonskonstanten (m/s^2)\n",
    "P_1 = 101500 # Omtrentlig atmosfæretrykk (Pa)"
   ]
  },
  {
   "cell_type": "markdown",
   "metadata": {},
   "source": [
    "For at vi skal kunne lage en modell for trykket i bunnen av tanken, trenger vi litt kunnskap. Tenk deg at du beveger deg rundt i denne tanken. Her er noen viktige observasjoner:\n",
    "\n",
    "* Trykket $P_{1}$ du føler mot kroppen når du er over væsken er det trykket du føler til vanlig, det vil si atmosfæretrykket ($P_{atm}$).\n",
    "* Trykket $P_{2}$ du føler når du dykker til bunnen av tanken er lik atmosfæretrykket $P_{1}=P_{atm}$ pluss tyngden av vannet over deg.\n",
    "* Størrelsen på tanken har ingen ting å si for trykket, det er kun væskesøylen $h$ du har rett over deg som bidrar til trykket du føler mot kroppen. Du føler akkurat samme trykket om du er 1 meter under vann i et bitte lite basseng eller i et kjempestort hav.\n",
    "\n",
    "Vi gjør ikke en grundig utledning av problemet her, men hopper rett til et uttrykk for trykket $P_{2}$ du føler i bunnen av tanken ut ifra de tre observasjonene ovenfor. Da må trykket $P_{2}$ være lik trykket $P_{1}$ pluss tyngden av væskesøylen rett over deg. \n",
    "\n",
    "$$P_{2} = P_{1} + \\rho g h$$\n",
    "\n",
    "\n",
    "Vær oppmerksom på at vi ikke ser på den totale kraften mot arealet av kroppen din. Vi deler heller overflaten av kroppen din opp i uendelig mange punkter, og ser på hva trykket er mot hvert enkelt punkt.\n",
    "\n",
    "Nå regner vi ut $P_{2}$ for alle $h$ fra starthøyden og ned til 0 (når tanken er tom):"
   ]
  },
  {
   "cell_type": "code",
   "execution_count": 44,
   "metadata": {
    "collapsed": false
   },
   "outputs": [
    {
     "name": "stdout",
     "output_type": "stream",
     "text": [
      "h = 4.0 \t P_2 = 140740.0\n",
      "h = 3.9 \t P_2 = 139759.0\n",
      "h = 3.8 \t P_2 = 138778.0\n",
      "h = 3.7 \t P_2 = 137797.0\n",
      "h = 3.6 \t P_2 = 136816.0\n",
      "h = 3.5 \t P_2 = 135835.0\n",
      "h = 3.4 \t P_2 = 134854.0\n",
      "h = 3.3 \t P_2 = 133873.0\n",
      "h = 3.2 \t P_2 = 132892.0\n",
      "h = 3.1 \t P_2 = 131911.0\n",
      "h = 3.0 \t P_2 = 130930.0\n",
      "h = 2.9 \t P_2 = 129949.0\n",
      "h = 2.8 \t P_2 = 128968.0\n",
      "h = 2.7 \t P_2 = 127987.0\n",
      "h = 2.6 \t P_2 = 127006.0\n",
      "h = 2.5 \t P_2 = 126025.0\n",
      "h = 2.4 \t P_2 = 125044.0\n",
      "h = 2.3 \t P_2 = 124063.0\n",
      "h = 2.2 \t P_2 = 123082.0\n",
      "h = 2.1 \t P_2 = 122101.0\n",
      "h = 2.0 \t P_2 = 121120.0\n",
      "h = 1.9 \t P_2 = 120139.0\n",
      "h = 1.8 \t P_2 = 119158.0\n",
      "h = 1.7 \t P_2 = 118177.0\n",
      "h = 1.6 \t P_2 = 117196.0\n",
      "h = 1.5 \t P_2 = 116215.0\n",
      "h = 1.4 \t P_2 = 115234.0\n",
      "h = 1.3 \t P_2 = 114253.0\n",
      "h = 1.2 \t P_2 = 113272.0\n",
      "h = 1.1 \t P_2 = 112291.0\n",
      "h = 1.0 \t P_2 = 111310.0\n",
      "h = 0.9 \t P_2 = 110329.0\n",
      "h = 0.8 \t P_2 = 109348.0\n",
      "h = 0.7 \t P_2 = 108367.0\n",
      "h = 0.6 \t P_2 = 107386.0\n",
      "h = 0.5 \t P_2 = 106405.0\n",
      "h = 0.4 \t P_2 = 105424.0\n",
      "h = 0.3 \t P_2 = 104443.0\n",
      "h = 0.2 \t P_2 = 103462.0\n",
      "h = 0.1 \t P_2 = 102481.0\n"
     ]
    },
    {
     "data": {
      "image/png": "[encoded data removed]",
      "text/plain": [
       "<matplotlib.figure.Figure at 0x112668630>"
      ]
     },
     "metadata": {},
     "output_type": "display_data"
    }
   ],
   "source": [
    "P_2_hist = [] # Lagerplass for beregnede trykk\n",
    "h_hist = [] # Lagerplass for høydene vi bruker\n",
    "\n",
    "while h >= 0: # Gjør beregninger så lenge h er større enn eller lik 0\n",
    "    P_2 = P_1 + rho*g*h # Trykket ved gitt væskehøyde h\n",
    "    print(\"h = {} \\t P_2 = {}\".format(round(h, 1), round(P_2, 0)))\n",
    "    P_2_hist.append(P_2) # Vi lagrer det beregnede trykket\n",
    "    h_hist.append(h)     # ...og den tilhørende høyden\n",
    "    h = h - dh # Vi reduserer væskehøyden stegvis for å gjøre klar til neste beregning \n",
    "\n",
    "# Nå er beregningen ferdig, og vi kan plotte resultatet\n",
    "import matplotlib.pyplot as plt\n",
    "plt.plot(P_2_hist, h_hist)\n",
    "plt.xlabel('Trykk [Pa]')\n",
    "plt.ylabel('Høyde [m]')\n",
    "plt.show()"
   ]
  },
  {
   "cell_type": "code",
   "execution_count": null,
   "metadata": {
    "collapsed": true
   },
   "outputs": [],
   "source": []
  }
 ],
 "metadata": {
  "kernelspec": {
   "display_name": "Python 3",
   "language": "python",
   "name": "python3"
  },
  "language_info": {
   "codemirror_mode": {
    "name": "ipython",
    "version": 3
   },
   "file_extension": ".py",
   "mimetype": "text/x-python",
   "name": "python",
   "nbconvert_exporter": "python",
   "pygments_lexer": "ipython3",
   "version": "3.6.1"
  }
 },
 "nbformat": 4,
 "nbformat_minor": 2
}

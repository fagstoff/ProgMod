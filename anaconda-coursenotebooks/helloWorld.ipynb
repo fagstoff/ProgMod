{
 "cells": [
  {
   "cell_type": "markdown",
   "metadata": {},
   "source": [
    "Hallo verden!\n",
    "=======\n",
    "\n",
    "**Er du klar til å lage ditt første program i python?**\n",
    "\n",
    "I god gammel programmeringstradisjon  skal vi kalle vårt første program \"[Hallo verden](https://no.wikipedia.org/wiki/Hello,_world)\". Dette er den vanligste måten å bli kjent med et nytt programmeringsspråk. Programmet vi lager skal skrive teksten \"Hallo verden!\" ut på skjermen.\n",
    "\n",
    "La oss begynne med å legge inn teksten i en variabel:"
   ]
  },
  {
   "cell_type": "code",
   "execution_count": 1,
   "metadata": {
    "collapsed": true
   },
   "outputs": [],
   "source": [
    "minHilsen = \"Hallo verden!\""
   ]
  },
  {
   "cell_type": "markdown",
   "metadata": {},
   "source": [
    "Vi har nå _deklarert_ og _tilordnet_ en verdi til _variabelen_ minHilsen\n",
    "\n",
    "Vi kan nå skrive ut innholdet i variabelen med kommandoen print()"
   ]
  },
  {
   "cell_type": "code",
   "execution_count": 2,
   "metadata": {
    "collapsed": false
   },
   "outputs": [
    {
     "name": "stdout",
     "output_type": "stream",
     "text": [
      "Hallo verden!\n"
     ]
    }
   ],
   "source": [
    "print(minHilsen)"
   ]
  },
  {
   "cell_type": "markdown",
   "metadata": {},
   "source": [
    "Det var det. :-)"
   ]
  },
  {
   "cell_type": "code",
   "execution_count": null,
   "metadata": {
    "collapsed": true
   },
   "outputs": [],
   "source": []
  }
 ],
 "metadata": {
  "kernelspec": {
   "display_name": "Python 3",
   "language": "python",
   "name": "python3"
  },
  "language_info": {
   "codemirror_mode": {
    "name": "ipython",
    "version": 3
   },
   "file_extension": ".py",
   "mimetype": "text/x-python",
   "name": "python",
   "nbconvert_exporter": "python",
   "pygments_lexer": "ipython3",
   "version": "3.6.0"
  }
 },
 "nbformat": 4,
 "nbformat_minor": 2
}

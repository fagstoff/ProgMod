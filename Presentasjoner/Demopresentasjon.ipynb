{
 "cells": [
  {
   "cell_type": "markdown",
   "metadata": {
    "slideshow": {
     "slide_type": "slide"
    }
   },
   "source": [
    "# Demopresentasjon\n",
    "## Kan vi bruke Jupyter og nbconvert til forelesninger?"
   ]
  },
  {
   "cell_type": "markdown",
   "metadata": {
    "slideshow": {
     "slide_type": "subslide"
    }
   },
   "source": [
    "## Noen fordeler:\n",
    "* Integrert miljø med [Anaconda](anaconda.org)\n",
    "* Full markdownstøtte\n",
    "* Full støtte for $\\LaTeX$\n",
    "* Enkelt å vise kodeeksempler i Python\n"
   ]
  },
  {
   "cell_type": "markdown",
   "metadata": {
    "slideshow": {
     "slide_type": "subslide"
    }
   },
   "source": [
    "### Kode kan demonstreres slik:"
   ]
  },
  {
   "cell_type": "markdown",
   "metadata": {
    "slideshow": {
     "slide_type": "fragment"
    }
   },
   "source": [
    "Vi skal nå se nærmere på en if-test i Python"
   ]
  },
  {
   "cell_type": "code",
   "execution_count": 11,
   "metadata": {
    "slideshow": {
     "slide_type": "fragment"
    }
   },
   "outputs": [
    {
     "name": "stdout",
     "output_type": "stream",
     "text": [
      "tall2 er størst\n"
     ]
    }
   ],
   "source": [
    "tall1 = 100\n",
    "tall2 = 150\n",
    "\n",
    "if tall1 > tall2:\n",
    "    print(\"tall1 er størst\")\n",
    "elif tall1 < tall2:\n",
    "    print(\"tall2 er størst\")\n",
    "else:\n",
    "    print(\"Tallene er like store\")"
   ]
  },
  {
   "cell_type": "markdown",
   "metadata": {
    "slideshow": {
     "slide_type": "slide"
    }
   },
   "source": [
    "Eller hva med litt htmlkode?\n",
    "\n",
    "```html\n",
    "<select>\n",
    "    <option value=\"0\">HTML</option>\n",
    "    <option value=\"1\">CSS</option>\n",
    "    <option value=\"2\">JavaScript</option>\n",
    "    <option value=\"3\">Python</option>\n",
    "</select>\n",
    "```"
   ]
  },
  {
   "cell_type": "markdown",
   "metadata": {
    "slideshow": {
     "slide_type": "slide"
    }
   },
   "source": [
    "Youtubefilmer?"
   ]
  },
  {
   "cell_type": "markdown",
   "metadata": {
    "slideshow": {
     "slide_type": "fragment"
    }
   },
   "source": [
    "Det går fint! :-)"
   ]
  },
  {
   "cell_type": "markdown",
   "metadata": {
    "slideshow": {
     "slide_type": "fragment"
    }
   },
   "source": [
    "<iframe width=\"560\" height=\"315\" src=\"https://www.youtube.com/embed/StTqXEQ2l-Y?rel=0&amp;showinfo=0&amp;start=4\" frameborder=\"0\" allowfullscreen></iframe>"
   ]
  }
 ],
 "metadata": {
  "celltoolbar": "Slideshow",
  "kernelspec": {
   "display_name": "Python 3",
   "language": "python",
   "name": "python3"
  },
  "language_info": {
   "codemirror_mode": {
    "name": "ipython",
    "version": 3
   },
   "file_extension": ".py",
   "mimetype": "text/x-python",
   "name": "python",
   "nbconvert_exporter": "python",
   "pygments_lexer": "ipython3",
   "version": "3.6.1"
  }
 },
 "nbformat": 4,
 "nbformat_minor": 2
}

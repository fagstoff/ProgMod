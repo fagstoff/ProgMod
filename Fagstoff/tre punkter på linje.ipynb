{
 "cells": [
  {
   "cell_type": "markdown",
   "metadata": {},
   "source": [
    "# Avgjør om tre punkter ligger på en rett linje\n",
    "__Creative Commons BY-SA : bitjungle (Rune Mathisen) og fuzzbin (Tom Jarle Christiansen)__\n",
    "\n",
    "Noen ganger kan det være nyttig å la en datamaskin regne på ting som kan være vanskelig å avgjøre med det blotte øye. Et slikt eksempel kan være å sjekke om tre vilkårlige punkte i et koordinatsystem ligger på en rett linje.\n",
    "\n",
    "## Lese inn data\n",
    "\n",
    "Det første vi gjør er å lage kode der brukeren kan taste inn tre vilkårlige punkter på formen _x y_"
   ]
  },
  {
   "cell_type": "code",
   "execution_count": 1,
   "metadata": {},
   "outputs": [
    {
     "name": "stdout",
     "output_type": "stream",
     "text": [
      "Tast inn punkt 1 pa formen <x y>:1 1\n",
      "Tast inn punkt 2 pa formen <x y>:3 3\n",
      "Tast inn punkt 3 pa formen <x y>:10 10\n"
     ]
    }
   ],
   "source": [
    "# Importerer biblioteker som skal brukes\n",
    "import numpy as np\n",
    "import matplotlib.pyplot as plt\n",
    "\n",
    "# Leser inn tre punkter og konverterer til liste.\n",
    "P1 = list(map(int, input(\"Tast inn punkt 1 pa formen <x y>:\").split()))\n",
    "P2 = list(map(int, input(\"Tast inn punkt 2 pa formen <x y>:\").split()))\n",
    "P3 = list(map(int, input(\"Tast inn punkt 3 pa formen <x y>:\").split()))\n"
   ]
  },
  {
   "cell_type": "markdown",
   "metadata": {},
   "source": [
    "## Beregning\n",
    "\n",
    "Vi må nå gjøre noen beregninger. Det enkleste er å bruke vektorregning, og lage oss to vilkårlige vektorer mellom punktene, og så sjekke om kryssproduktet er null. (Fancy LaTeX-kode her....) ++ forlakring\n",
    "\n",
    "Vi lager så en funksjon som tar våre tre punker som innparameter, og returnerer [True]() eller [False]()"
   ]
  },
  {
   "cell_type": "code",
   "execution_count": 6,
   "metadata": {
    "collapsed": true
   },
   "outputs": [],
   "source": [
    "def ligger_pa_linje(punkt1, punkt2, punkt3):\n",
    "    # Avgjør om punktene ligger på en rett linje. Returnerer True/False\n",
    "    # Lager to vektorer av punktene P1, P2 og P3\n",
    "    v_1 = np.array(punkt3) - np.array(punkt1)\n",
    "    v_2 = np.array(punkt2) - np.array(punkt1)\n",
    "    print(\"Vi lager vektorene {} og {} basert på \".format(v_1, v_2))\n",
    "    # Sjekker om kryssporduktet er null\n",
    "    if np.cross(v_1, v_2) == 0:\n",
    "        return True\n",
    "    else:\n",
    "        return False"
   ]
  },
  {
   "cell_type": "markdown",
   "metadata": {},
   "source": [
    "## Utskrift og resultat\n",
    "\n",
    "Da gjenstår det bare å lage hovedprogrammet, med informativ tekst og utskrift."
   ]
  },
  {
   "cell_type": "code",
   "execution_count": 7,
   "metadata": {},
   "outputs": [
    {
     "name": "stdout",
     "output_type": "stream",
     "text": [
      "Vi lager vektorene [9 9] og [2 2] basert på \n",
      "punktene [1, 1], [3, 3] og [10, 10], og de ligger pa en rett linje\n"
     ]
    },
    {
     "data": {
      "image/png": "[encoded data removed]",
      "text/plain": [
       "<matplotlib.figure.Figure at 0x112431e80>"
      ]
     },
     "metadata": {},
     "output_type": "display_data"
    },
    {
     "name": "stdout",
     "output_type": "stream",
     "text": [
      "=== Have a nice day! ===\n"
     ]
    }
   ],
   "source": [
    "# Mainfunksjonen\n",
    "def main():\n",
    "    # Hovedfunksjonen - Skriver ut svar og plotter punktene\n",
    "    if ligger_pa_linje(P1, P2, P3):\n",
    "        print(\"punktene {}, {} og {}, og de ligger pa en rett linje\".format(P1, P2, P3))\n",
    "    else:\n",
    "        print(\"punktene {}, {} og {}, og de ligger ikke pa en rett linje\".format(P1, P2, P3))\n",
    "\n",
    "    # Skriver ut punktene i et koordinatsystem\n",
    "    plt.plot([P1[0], P2[0], P3[0]], [P1[1], P2[1], P3[1]], 'bo')\n",
    "    plt.ylabel('Y')\n",
    "    plt.xlabel('X')\n",
    "    plt.show()\n",
    "\n",
    "if __name__ == '__main__':\n",
    "    # Programmet starter her. Vi kaller på funksjonen main().\n",
    "    main()\n",
    "    # Når vi er ferdige, skriver vi ut en liten avskjedshilsen på skjermen.\n",
    "    print(\"=== Have a nice day! ===\")"
   ]
  },
  {
   "cell_type": "code",
   "execution_count": null,
   "metadata": {
    "collapsed": true
   },
   "outputs": [],
   "source": []
  }
 ],
 "metadata": {
  "kernelspec": {
   "display_name": "Python 3",
   "language": "python",
   "name": "python3"
  },
  "language_info": {
   "codemirror_mode": {
    "name": "ipython",
    "version": 3
   },
   "file_extension": ".py",
   "mimetype": "text/x-python",
   "name": "python",
   "nbconvert_exporter": "python",
   "pygments_lexer": "ipython3",
   "version": "3.6.1"
  }
 },
 "nbformat": 4,
 "nbformat_minor": 2
}

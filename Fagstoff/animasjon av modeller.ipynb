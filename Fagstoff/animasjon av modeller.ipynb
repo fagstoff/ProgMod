{
 "cells": [
  {
   "cell_type": "markdown",
   "metadata": {},
   "source": [
    "# Animasjon av modeller - Uferdig!\n",
    "__Creative Commons BY-SA : bitjungle (Rune Mathisen) og fuzzbin (Tom Jarle Christiansen)__\n",
    "\n",
    "<hr/>\n",
    "\n",
    "<img alt=\"Hester. Lisens: PD\" style=\"float: right; margin-left: 10px;\" src=\"img/animasjon-hester.jpg\">\n",
    "\n",
    "**Vi skal nå bruke pygame til å visualisere noen modeller**\n",
    "\n",
    "> Denne siden dekker helt eller delvis kompetansemålene: [Grunnleggende programmering 3 og 4](https://github.com/fagstoff/ProgMod/blob/master/L%C3%A6replan/kompetansem%C3%A5l.md#grunnleggende-programmering)"
   ]
  },
  {
   "cell_type": "markdown",
   "metadata": {},
   "source": [
    "## Vertikalt kast\n",
    "\n",
    "Vi skal nå visualisere et vertikalt kast. Vi bruker bevegelseslikningen $ s(t)=s_0 + v_0 \\cdot t + \\frac{1}{2}\\cdot a \\cdot t^2 $"
   ]
  },
  {
   "cell_type": "code",
   "execution_count": 12,
   "metadata": {},
   "outputs": [],
   "source": [
    "# Vi implementerer først gravitasjonsmodellen\n",
    "def y_pos(tid):\n",
    "    return s_0 + v_0 * tid + 0.5 * a * tid**2"
   ]
  },
  {
   "cell_type": "markdown",
   "metadata": {},
   "source": [
    "Vi tester om vi har data..."
   ]
  },
  {
   "cell_type": "code",
   "execution_count": 11,
   "metadata": {},
   "outputs": [
    {
     "name": "stdout",
     "output_type": "stream",
     "text": [
      "0.0\n",
      "1.95095\n",
      "3.8038\n",
      "5.55855\n",
      "7.2152\n",
      "8.77375\n",
      "10.2342\n",
      "11.59655\n",
      "12.8608\n",
      "14.02695\n",
      "15.095\n",
      "16.06495\n",
      "16.9368\n",
      "17.71055\n",
      "18.3862\n",
      "18.96375\n",
      "19.4432\n",
      "19.82455\n",
      "20.1078\n",
      "20.29295\n",
      "20.38\n",
      "20.36895\n",
      "20.2598\n",
      "20.05255\n",
      "19.7472\n",
      "19.34375\n",
      "18.8422\n",
      "18.24255\n",
      "17.5448\n",
      "16.74895\n",
      "15.855\n",
      "14.86295\n",
      "13.7728\n",
      "12.58455\n",
      "11.2982\n",
      "9.91375\n",
      "8.4312\n",
      "6.85055\n",
      "5.1718\n",
      "3.39495\n",
      "1.52\n",
      "-0.45305\n",
      "-2.5242\n",
      "-4.69345\n",
      "-6.9608\n",
      "-9.32625\n",
      "-11.7898\n",
      "-14.35145\n",
      "-17.0112\n",
      "-19.76905\n"
     ]
    }
   ],
   "source": [
    "import numpy\n",
    "\n",
    "s_0 = 0\n",
    "v_0 = 20\n",
    "a = -9.81\n",
    "\n",
    "for t in numpy.arange(0.0, 5.0, 0.1):\n",
    "    print(y_pos(t))"
   ]
  }
 ],
 "metadata": {
  "kernelspec": {
   "display_name": "Python 3",
   "language": "python",
   "name": "python3"
  },
  "language_info": {
   "codemirror_mode": {
    "name": "ipython",
    "version": 3
   },
   "file_extension": ".py",
   "mimetype": "text/x-python",
   "name": "python",
   "nbconvert_exporter": "python",
   "pygments_lexer": "ipython3",
   "version": "3.6.2"
  }
 },
 "nbformat": 4,
 "nbformat_minor": 2
}

{
 "cells": [
  {
   "cell_type": "markdown",
   "metadata": {},
   "source": [
    "# Hallo verden!\n",
    "__Creative Commons BY-SA : bitjungle (Rune Mathisen) og fuzzbin (Tom Jarle Christiansen)__\n",
    "\n",
    "**Er du klar til å lage ditt første program i python?**\n",
    "\n",
    "<img alt=\"Cover til spillet Overwatch. Opphavsrett: Blizzard\" style=\"float: right; margin-left: 10px;\" src=\"img/helloworld.png\">\n",
    "\n",
    "I god gammel programmeringstradisjon  skal vi kalle vårt første program \"[Hallo verden](https://no.wikipedia.org/wiki/Hello,_world)\". Dette er den vanligste måten å bli kjent med et nytt programmeringsspråk. Programmet vi lager skal skrive teksten \"Hallo verden!\" ut på skjermen.\n",
    "\n",
    "*Før vi starter, er det viktig å å sjekke at python er installert på maskinen du skal bruke. Du kan sjekke dette ved å skrive kommandoen* `python` *i [terminalvinduet](https://en.wikipedia.org/wiki/Terminal_emulator).*\n",
    "\n",
    "For å skrive ut en tekst skal vi bruke python-kommandoen `print()`. En kommando i programmering fungerer slik at datamaskinen utfører en forhåndsbestemt oppgave når kommandoen leses inn. Som regel trenger kommandoene litt ekstra informasjon for å fungere skikkelig. Kommandoen `print()` må vite hva den skal skrive ut. Denne informasjonen skrives inne i parantesen.\n",
    "\n",
    "Vi ser på noen eksempler:"
   ]
  },
  {
   "cell_type": "code",
   "execution_count": 1,
   "metadata": {},
   "outputs": [
    {
     "name": "stdout",
     "output_type": "stream",
     "text": [
      "\n"
     ]
    }
   ],
   "source": [
    "print()"
   ]
  },
  {
   "cell_type": "markdown",
   "metadata": {},
   "source": [
    "Kommandoen over har ingen utskrift, fordi vi ikke har skrevet noe inne i parantesen.\n",
    "\n",
    "La oss nå prøve å skrive ut teksten: Hallo verden!"
   ]
  },
  {
   "cell_type": "code",
   "execution_count": 2,
   "metadata": {},
   "outputs": [
    {
     "ename": "SyntaxError",
     "evalue": "invalid syntax (<ipython-input-2-4a0f153ebab2>, line 1)",
     "output_type": "error",
     "traceback": [
      "\u001b[0;36m  File \u001b[0;32m\"<ipython-input-2-4a0f153ebab2>\"\u001b[0;36m, line \u001b[0;32m1\u001b[0m\n\u001b[0;31m    print(Hallo verden!)\u001b[0m\n\u001b[0m                     ^\u001b[0m\n\u001b[0;31mSyntaxError\u001b[0m\u001b[0;31m:\u001b[0m invalid syntax\n"
     ]
    }
   ],
   "source": [
    "print(Hallo verden!)"
   ]
  },
  {
   "cell_type": "markdown",
   "metadata": {},
   "source": [
    "Her fikk vi en feilmelding. Kommandoen print fungerte ikke, fordi den skjønte ikke teksten i parantesen. For å fortelle kommandoen at *Hallo verden!* er en tekst må vi plassere teksten i anførselstegn slik: *\"Hallo verden!\"*"
   ]
  },
  {
   "cell_type": "code",
   "execution_count": 3,
   "metadata": {},
   "outputs": [
    {
     "name": "stdout",
     "output_type": "stream",
     "text": [
      "Hallo verden!\n"
     ]
    }
   ],
   "source": [
    "print(\"Hallo verden!\")"
   ]
  },
  {
   "cell_type": "markdown",
   "metadata": {},
   "source": [
    "Vi kan også skrive ut tall og regnestykker slik:"
   ]
  },
  {
   "cell_type": "code",
   "execution_count": 4,
   "metadata": {},
   "outputs": [
    {
     "name": "stdout",
     "output_type": "stream",
     "text": [
      "5\n"
     ]
    }
   ],
   "source": [
    "print(5)"
   ]
  },
  {
   "cell_type": "code",
   "execution_count": 5,
   "metadata": {},
   "outputs": [
    {
     "name": "stdout",
     "output_type": "stream",
     "text": [
      "8\n"
     ]
    }
   ],
   "source": [
    "print(5 + 3)"
   ]
  },
  {
   "cell_type": "markdown",
   "metadata": {},
   "source": [
    "Tekst og tall kan kombineres ved å bruke komma."
   ]
  },
  {
   "cell_type": "code",
   "execution_count": 6,
   "metadata": {},
   "outputs": [
    {
     "name": "stdout",
     "output_type": "stream",
     "text": [
      "Regnestykket 5 + 3 er lik 8\n"
     ]
    }
   ],
   "source": [
    "print(\"Regnestykket 5 + 3 er lik\", 5 + 3)"
   ]
  },
  {
   "cell_type": "markdown",
   "metadata": {},
   "source": [
    "## Oppgaver\n",
    "Gjør oppgavene nedenfor, kjør gjennom programmet hver gang du har gjort en endring.\n",
    "1. Skriv ut teksten \"Hallo Norge!\".\n",
    "2. Skriv ut tre ulike regnestykker der du bruker alle fire regnearter.\n",
    "3. Skriv ut noen regnestykker med forklarende tekst.\n",
    "4. Skriv ut reglene for [regnerekkefølge](https://no.wikipedia.org/wiki/Regnerekkef%C3%B8lge) i python med eksempler."
   ]
  },
  {
   "cell_type": "code",
   "execution_count": null,
   "metadata": {
    "collapsed": true
   },
   "outputs": [],
   "source": []
  }
 ],
 "metadata": {
  "kernelspec": {
   "display_name": "Python 3",
   "language": "python",
   "name": "python3"
  },
  "language_info": {
   "codemirror_mode": {
    "name": "ipython",
    "version": 3
   },
   "file_extension": ".py",
   "mimetype": "text/x-python",
   "name": "python",
   "nbconvert_exporter": "python",
   "pygments_lexer": "ipython3",
   "version": "3.6.1"
  },
  "widgets": {
   "application/vnd.jupyter.widget-state+json": {
    "state": {},
    "version_major": 1,
    "version_minor": 0
   }
  }
 },
 "nbformat": 4,
 "nbformat_minor": 2
}

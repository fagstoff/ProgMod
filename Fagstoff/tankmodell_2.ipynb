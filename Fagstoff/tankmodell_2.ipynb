{
 "cells": [
  {
   "cell_type": "markdown",
   "metadata": {
    "deletable": true,
    "editable": true
   },
   "source": [
    "# Tankmodell - Vi tømmer tanken (konstant utstrømming)\n",
    "__Creative Commons BY-SA : bitjungle (Rune Mathisen) og fuzzbin (Tom Jarle Christiansen)__\n",
    "\n",
    "Vi har tidligere laget en enkel modell for sammenhengen mellom væskenivået i en tank og trykket som virker mot bunnen av tanken. Det er en enkel lineær modell hvor trykk og væskehøyde er proporsjonale størrelser.\n",
    "\n",
    "Nå skal vi se på et eksempel som ikke kan løses like enkelt, og hvor vi må bruke en matematisk metode som kalles __differensiallikning__. Differensiallikninger brukes ofte for å løse praktiske problemer. Vi skal her bruke metoden for å finne ut hvor lang tid det tar å tømme en vanntank dersom vi kan anta at væskestrømmen ut av tanken er konstant.\n",
    "\n",
    "Vi har en tank med samme tverrsnitt $A_t=2 \\ \\mathrm{m}^2$ over hele høyden til tanken. I bunnen av tanken er det et hull hvor innholdet i tanken renner ut, og vi antar at væskestrømmen $q_{ut}$ ut gjennom dette hullet er konstant lik $50 \\frac{\\mathrm{l}}{\\mathrm{s}} = 0.050 \\frac{\\mathrm{m^3}}{\\mathrm{s}}$.\n",
    "\n",
    "![Skisse av tanken](img/tank01.png)\n",
    "\n",
    "La oss først definere de parametrene vi har fått oppgitt:"
   ]
  },
  {
   "cell_type": "code",
   "execution_count": 1,
   "metadata": {
    "collapsed": true,
    "deletable": true,
    "editable": true
   },
   "outputs": [],
   "source": [
    "A_t = 2.00 # Tankens tverrsnittareal (m^2)\n",
    "h = 4.00 # Vannivået når forsøket starter (m)\n",
    "q_ut = -0.05 # Væskestrøm ut (m^3/s)"
   ]
  },
  {
   "cell_type": "markdown",
   "metadata": {
    "deletable": true,
    "editable": true
   },
   "source": [
    "Volumet av væsken i tanken (før det renner ut) kan skrives som:\n",
    "\n",
    "$$ V = A_t \\cdot h $$\n",
    "\n",
    "Vi kan nå regne ut volumet $V_{0}$ av væsken i tanken ved tiden $t=0 \\ \\mathrm{s}$ på følgende måte i python:"
   ]
  },
  {
   "cell_type": "code",
   "execution_count": 2,
   "metadata": {
    "collapsed": false,
    "deletable": true,
    "editable": true
   },
   "outputs": [
    {
     "name": "stdout",
     "output_type": "stream",
     "text": [
      "Volumet ved tiden t = 0 s er 8.0 m^3\n"
     ]
    }
   ],
   "source": [
    "V0 = A_t * h\n",
    "print(\"Volumet ved tiden t = 0 s er {} m^3\".format(V0))"
   ]
  },
  {
   "cell_type": "markdown",
   "metadata": {
    "deletable": true,
    "editable": true
   },
   "source": [
    "Vi vet at volumet $V$ av væsken i tanken vil være en funksjon av tiden $t$, men foreløpig vet vi ikke hvordan denne funksjonen ser ut.\n",
    "\n",
    "$$ V(t) = ?$$\n",
    "\n",
    "Hadde vi vist hvordan denne funksjonen så ut, så kunne vi ha satt inn en tid (i sekunder fra vi starter tømmingen) og funnet ut hva volumet var ved akkurat det tidspunktet.\n",
    "\n",
    "Det vi vet fra opplysningene som er gitt, er at det renner ut $0.050$ kubikkmeter væske fra tanken per sekund. Det betyr at endringen av væskemengden $\\Delta V$ i tanken per tidsenhet må være:\n",
    "\n",
    "$$\\frac{\\Delta V}{\\Delta t} = -0.05$$\n",
    "\n",
    "Endringen må være negativ fordi vi vet at volumet minker når noe renner ut av tanken. Uttrykket du ser ovenfor kjenner du kanskje igjen som den deriverte av $V$. Det kan vi skrive slik:\n",
    "\n",
    "$$\\frac{dV}{dt} = -0.05$$\n",
    "\n",
    "Det vi har kommet fram til nå, er en differensiallikning for tankproblemet vårt. Vi kan også skrive det som $V'(t)$. Nå kan vi finne funksjonen $V(t)$ ved å løse det ubestemte integralet:\n",
    "\n",
    "$$\\int V'(t)dt$$\n",
    "\n",
    "Vi har allerede funnet ut at $V'(t) = -0.05$, så det kan vi sette inn. Nå løser vi integralet:\n",
    "\n",
    "$$\\int -0.05 dt = -0.05t + c$$\n",
    "\n",
    "Nå har vi altså funnet ut at:\n",
    "\n",
    "$$V(t) = -0.05t + c$$\n",
    "\n",
    "Men hva skal vi gjøre med integrasjonskonstanten $c$? Ofte vet vi (eller vi kan anta) noen __initialbetingelser__, det vil si at vi kjenner tilstanden ved tidspunktet $t=0$. I dette tilfellet vet vi hvor mye væske vi har et væskevolum på $8.0$ kubikkmeter før vi begynner å tømme tanken. Vi setter inn i funksjonen vår:\n",
    "\n",
    "$$8.0 = -0.05 \\cdot 0 + c$$\n",
    "$$c = 8.0$$\n",
    "\n",
    "La oss nå lage oss et lite Python-program som regner ut volumet av væsken hvert 5 sekund inntil tanken er tom."
   ]
  },
  {
   "cell_type": "code",
   "execution_count": 4,
   "metadata": {
    "collapsed": false
   },
   "outputs": [
    {
     "name": "stdout",
     "output_type": "stream",
     "text": [
      "V(0) = 8.0\n",
      "V(5) = 7.75\n",
      "V(10) = 7.5\n",
      "V(15) = 7.25\n",
      "V(20) = 7.0\n",
      "V(25) = 6.75\n",
      "V(30) = 6.5\n",
      "V(35) = 6.25\n",
      "V(40) = 6.0\n",
      "V(45) = 5.75\n",
      "V(50) = 5.5\n",
      "V(55) = 5.25\n",
      "V(60) = 5.0\n",
      "V(65) = 4.75\n",
      "V(70) = 4.5\n",
      "V(75) = 4.25\n",
      "V(80) = 4.0\n",
      "V(85) = 3.75\n",
      "V(90) = 3.5\n",
      "V(95) = 3.25\n",
      "V(100) = 3.0\n",
      "V(105) = 2.75\n",
      "V(110) = 2.5\n",
      "V(115) = 2.25\n",
      "V(120) = 2.0\n",
      "V(125) = 1.75\n",
      "V(130) = 1.5\n",
      "V(135) = 1.25\n",
      "V(140) = 1.0\n",
      "V(145) = 0.75\n",
      "V(150) = 0.5\n",
      "V(155) = 0.25\n",
      "V(160) = 0.0\n"
     ]
    }
   ],
   "source": [
    "t = 0\n",
    "dt = 5\n",
    "V = V0\n",
    "while V > 0:\n",
    "    V = q_ut * t + V0\n",
    "    print(\"V({}) = {}\".format(t, V))\n",
    "    t += dt"
   ]
  },
  {
   "cell_type": "markdown",
   "metadata": {
    "deletable": true,
    "editable": true
   },
   "source": [
    "# Oppgaver\n",
    "1. ...\n",
    "2. ..."
   ]
  },
  {
   "cell_type": "code",
   "execution_count": null,
   "metadata": {
    "collapsed": true
   },
   "outputs": [],
   "source": []
  }
 ],
 "metadata": {
  "kernelspec": {
   "display_name": "Python 3",
   "language": "python",
   "name": "python3"
  },
  "language_info": {
   "codemirror_mode": {
    "name": "ipython",
    "version": 3
   },
   "file_extension": ".py",
   "mimetype": "text/x-python",
   "name": "python",
   "nbconvert_exporter": "python",
   "pygments_lexer": "ipython3",
   "version": "3.6.2"
  }
 },
 "nbformat": 4,
 "nbformat_minor": 2
}

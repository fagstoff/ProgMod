{
 "cells": [
  {
   "cell_type": "markdown",
   "metadata": {},
   "source": [
    "# Eulers metode\n",
    "__Creative Commons BY-SA : bitjungle (Rune Mathisen) og fuzzbin (Tom Jarle Christiansen)__\n",
    "\n",
    "<hr/>\n",
    "<img alt=\"Opphavsmann: Mestigoit Lisens: Creative Commons BY-SA 3.0 Unported\" title=\"Opphavsmann: Stefan Walkowski Lisens: Creative Commons BY-SA 4.0 Unported\" style=\"width: 200px; float: right; margin-left: 30px;\" src=\"img/Euler.png\">\n",
    "\n",
    "__[Eulers metode](https://en.wikipedia.org/wiki/Euler_method) er en algoritme for å finne numeriske løsninger til [ordinære differensialligninger](https://en.wikipedia.org/wiki/Ordinary_differential_equation). I naturvitenskapen beskriver slike likninger som oftest en størrelse og endringen av denne størrelsen over tid. Eksempler på dette kan være populasjonsvekst i en bakteriekultur eller fartsendring til et objekt som faller i et gravitsjonsfelt. Eulers metode brukes for å finne [numeriske løsninger](https://no.wikipedia.org/wiki/Numerisk_analyse)  på slike problemer når du kjenner en initialverdi.__\n",
    "\n",
    "> Denne siden dekker helt eller delvis kompetansemålene: [Matematiske metoder 1](https://github.com/fagstoff/ProgMod/blob/master/L%C3%A6replan/kompetansem%C3%A5l.md#modellering)\n",
    "\n",
    "\n"
   ]
  },
  {
   "cell_type": "markdown",
   "metadata": {},
   "source": [
    "<img alt=\"Opphavsmann: Mestigoit Lisens: Creative Commons BY-SA 3.0 Unported\" title=\"Opphavsmann: Mestigoit Lisens: Creative Commons BY-SA 3.0 Unported\" style=\"width: 200px; float: right; margin-left: 30px;\" src=\"img/Mycobacterium_smegmatis.jpg\">\n",
    "\n",
    "La oss si at vi har en funksjon $y$ og differensiallikningen $ y' = y $. Vi har i tillegg initialbetingelsen $ y(0) = 1 $. Dette kan for eksempel være en beskrivelse av eksponentiell vekst i en bakteriekultur, hvor vi vet antall bakterier vi starter med ved tidspunktet $ t = 0 $.\n",
    "\n",
    "Vi ønsker nå å bruke Eulers metode for å finne denne verdien numerisk. For å få til dette må vi starte et sted som vi vet noe om. I dette tilfellet bruker vi initialbetingelsen $ y(0) = 1 $, og starter derifra. Vi må også bestemme oss for en $ \\Delta t $ som er hvor store \"skritt\" vi skal ta mellom hver beregning.\n",
    "\n",
    "__Grunnprinsippet er at hver nye verdi beregnes med utgangspunkt i den forrige.__\n",
    "\n",
    "Vi tar utgangspunkt i $ y' = y $, og vet at $y$ på nå-tidspunktet er en funksjon av forrige $y$ og tiden $t$:\n",
    "\n",
    "$$ \\frac{\\Delta y}{\\Delta t} = f(t_n,y_n) $$\n",
    "\n",
    "Her er $\\Delta y$ forskjellen mellom foregående og neste y-verdi, når vi har beveget oss med tidsskrittet $\\Delta t$.  Vi kan skrive det som:\n",
    "\n",
    "$$ \\frac{y_{n+1} - y_n}{\\Delta t} = f(t_n,y_n) $$\n",
    "\n",
    "Vi gjør om slik at vi får et uttrykk for neste y-verdi:\n",
    "\n",
    "$$ y_{n+1} = y_n + \\Delta t \\cdot f(t_n,y_n) $$\n",
    "\n",
    "I dette tilfellet vet vi også at $ f(t_n,y_n) $ er $y'_n = y_n$.\n",
    "\n",
    "$$ y_{n+1} = y_n + \\Delta t \\cdot y_n $$\n",
    "\n",
    "Vi skal nå regne ut $y'(0)$ med utgangspunkt i initialbetingelsen. Vi vet at $y'= y$ og $y(0) = 1$. Dette betyr at $y'(0)=1$.\n",
    "\n",
    "Neste skritt er å øke $t$ med $\\Delta t$ og regne ut en gang til. Vi lar $\\Delta t = 1$\n",
    "\n",
    "$$y(1) = y(0) + \\Delta x \\cdot y(0) = 1 + 1 \\cdot 1 = 2$$\n",
    "\n",
    "Vi kan nå bruke dette resultatet til å regne ut neste verdi:\n",
    "$$y(2) = y(1) + \\Delta t \\cdot y(1) = 2 + 1 \\cdot 2 = 4$$\n",
    "\n",
    "Slik kan vi fortsette helt til vi har regnet ut $y(5)$ som i tabellen under.\n",
    "\n",
    "|$t$ |$y$ |$y'$|\n",
    "|:--:|:--:|:--:|\n",
    "|0|1|1|\n",
    "|1|2|2|\n",
    "|2|4|4|\n",
    "|3|8|8|\n",
    "|4|16|16|\n",
    "|5|32|32|\n",
    "\n",
    "I dette eksemplet har vi ikke sagt noe om hvordan funksjonen $y$ ser ut. Det er en eksponentialfunksjon $e^x$. Siden vi her kjenner den virkelige funksjonen, kan vi sammenlikne våre numeriske tilnærminger med de virkelige verdiene. Startverdien $y_0$ er en konstant som multipliseres med eksponentialfunksjonen."
   ]
  },
  {
   "cell_type": "code",
   "execution_count": 18,
   "metadata": {},
   "outputs": [
    {
     "data": {
      "image/png": "[encoded data removed]",
      "text/plain": [
       "<matplotlib.figure.Figure at 0x10b9fb470>"
      ]
     },
     "metadata": {},
     "output_type": "display_data"
    }
   ],
   "source": [
    "# Importerer nødvendige biblioteker\n",
    "import matplotlib.pyplot as plt\n",
    "import numpy as np\n",
    "\n",
    "# Initialbetingelser\n",
    "y0 = 1\n",
    "delta_t = 1\n",
    "\n",
    "# For hvilken t skal beregningene stoppe?\n",
    "max_t = 5\n",
    "\n",
    "# Eksakt løsning\n",
    "def A(x, k):\n",
    "    return k * np.exp(x)\n",
    "\n",
    "# Eulers metode for denne spesifikke problemstillingen\n",
    "def next_y(t, yn):\n",
    "    return yn + t * yn\n",
    "\n",
    "# x-verdier for plotting av eksakt løsning\n",
    "x = np.arange(0, max_t, 0.1)\n",
    "y = []\n",
    "\n",
    "# Regner ut eksakt løsning\n",
    "for i in x:\n",
    "    y.append(A(i, y0))\n",
    "\n",
    "# x-verdier for plotting av Euler\n",
    "xe = np.arange(0, max_t, delta_t).tolist()\n",
    "\n",
    "# Initialiserer med startverdien for ye\n",
    "ye = [y0] \n",
    "\n",
    "# Bruker Eulers metode for å regne ut neste y-verdi\n",
    "for verdi in xe:\n",
    "    ye.append(next_y(delta_t, ye[-1]))\n",
    "\n",
    "# Legger til den siste x-verdien\n",
    "xe.append(xe[-1] + delta_t)\n",
    "\n",
    "# Utskrift av data\n",
    "plt.grid() # Lager rutenett\n",
    "plt.xlabel('$t$') # Merker x-aksen\n",
    "plt.ylabel('$A(t)$') # Merker y-aksen\n",
    "plt.plot(x, y, label='$f(x)=e^x$')\n",
    "plt.plot(xe, ye, label='Euler med $\\Delta t={}$'.format(delta_t))\n",
    "plt.legend()\n",
    "plt.show()"
   ]
  },
  {
   "cell_type": "markdown",
   "metadata": {},
   "source": [
    "## Oppsummering\n",
    "\n",
    "Gitt at vi har en førsteordens lineær differensiallikning:\n",
    "$$ \\frac{dy}{dx} = f(x,y) $$\n",
    "\n",
    "Vi har også gitt initialbetingelsene: \n",
    "$$ y(x_0) = y_0 $$\n",
    "\n",
    "Med Eulers metode kan vi nå finne estimater for neste x og y:\n",
    "$$ x_{n+1} = x_n + \\Delta x $$\n",
    "$$ y_{n+1} = y_n + \\Delta x \\cdot f(x,y) $$"
   ]
  },
  {
   "cell_type": "markdown",
   "metadata": {},
   "source": [
    "## Oppgaver\n",
    "\n",
    "1. Ta utgangspunkt i eksempelet over. Endre på step-verdien $\\Delta x$, gjør den gradvis mindre og mindre (la den nærme seg 0). Hva observerer du?\n",
    "2. Kan du løse differensiallikningen $\\frac{dy}{dx}=x+2y$ numerisk når $y(0)=0$? Bruk $\\Delta x = 0.1$. Finn eksakt løsning med f.eks [Wolfram Alpha](http://www.wolframalpha.com), og sammenlign med funksjonen du kommer frem til."
   ]
  },
  {
   "cell_type": "code",
   "execution_count": null,
   "metadata": {},
   "outputs": [],
   "source": []
  }
 ],
 "metadata": {
  "kernelspec": {
   "display_name": "Python 3",
   "language": "python",
   "name": "python3"
  },
  "language_info": {
   "codemirror_mode": {
    "name": "ipython",
    "version": 3
   },
   "file_extension": ".py",
   "mimetype": "text/x-python",
   "name": "python",
   "nbconvert_exporter": "python",
   "pygments_lexer": "ipython3",
   "version": "3.6.4"
  }
 },
 "nbformat": 4,
 "nbformat_minor": 2
}

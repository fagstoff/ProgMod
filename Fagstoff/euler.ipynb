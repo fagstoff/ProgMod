{
 "cells": [
  {
   "cell_type": "markdown",
   "metadata": {},
   "source": [
    "# Eulers metode\n",
    "__Creative Commons BY-SA : bitjungle (Rune Mathisen) og fuzzbin (Tom Jarle Christiansen)__\n",
    "\n",
    "<hr/>\n",
    "<img alt=\"Opphavsmann: Mestigoit Lisens: Creative Commons BY-SA 3.0 Unported\" title=\"Opphavsmann: Mestigoit Lisens: Creative Commons BY-SA 3.0 Unported\" style=\"width: 400px; float: right; margin-left: 30px;\" src=\"img/Euler.png\">\n",
    "\n",
    "__[Eulers metode](https://en.wikipedia.org/wiki/Euler_method) er en algoritme for å finne numeriske løsninger til ordinære differensialligninger. Dette er en mye brukt [numerisk metode](https://no.wikipedia.org/wiki/Numerisk_analyse) for å finne løsninger på førsteordens differensiallikninger når du har en initialverdi.__\n",
    "\n",
    "> Denne siden dekker helt eller delvis kompetansemålene: [Matematiske metoder 1](https://github.com/fagstoff/ProgMod/blob/master/L%C3%A6replan/kompetansem%C3%A5l.md#modellering)\n",
    "\n",
    "La oss se på den enkle differensiallikningen $ y' = y $ og initialbetingelsen $ y(0) = 1 $.\n",
    "\n",
    "Vi ønsker nå å bruke Eulers metode for å finne denne verdien numerisk. For å få til dette må vi starte et sted som vi vet noe om. I dette tilfellet bruker vi initialbetingelsen $ y(0) = 1 $, og starter derifra. Vi må også bestemme oss for en $ \\Delta x $ som er hvor store \"skritt\" vi skal ta mellom hver beregning.\n",
    "\n",
    "__Grunnprinsippet er at hver nye verdi beregnes med utgangspunkt i den forrige.__\n",
    "\n",
    "$$ y_{n+1} = y_n + \\Delta x \\cdot f(x_n,y_n) $$\n",
    "\n",
    "Siden vår differensiallikning er så enkel er $ f(x_n,y_n) $ i dette tilfellet verdien til y.\n",
    "\n",
    "Vi skal nå regne ut $y'(0)$ med utgangspunkt i initialbetingelsen og lar $\\Delta x = 1$. Vi vet at $y'=y$ og $y(0)=1$. Dette betyr at $y'(0)=1$.\n",
    "\n",
    "Neste skritt er å øke $x$ med $\\Delta x$ og regne ut en gang til.\n",
    "\n",
    "$$y(1) = y(0) + \\Delta x \\cdot y(0) = 1 + 1 \\cdot 1 = 2$$\n",
    "\n",
    "Vi kan nå bruke dette resultatet til å regne ut neste verdi:\n",
    "$$y(2) = y(1) + \\Delta x \\cdot y(1) = 2 + 1 \\cdot 2 = 2$$\n",
    "\n",
    "Slik kan vi fortsette helt til vi har regnet ut $y(5)$ som i tabellen under.\n",
    "\n",
    "|$x$|$y$|$y'$|\n",
    "|:--:|:--:|:--:|\n",
    "|0|1|1|\n",
    "|1|2|2|\n",
    "|2|4|4|\n",
    "|3|8|8|\n",
    "|4|16|16|\n",
    "|5|32|32|\n"
   ]
  },
  {
   "cell_type": "code",
   "execution_count": 1,
   "metadata": {
    "collapsed": true
   },
   "outputs": [
    {
     "data": {
      "image/png": "[encoded data removed]",
      "text/plain": [
       "<matplotlib.figure.Figure at 0x1102a5278>"
      ]
     },
     "metadata": {},
     "output_type": "display_data"
    }
   ],
   "source": [
    "# TODO: Koden må renskrives og legges i funksjoner\n",
    "\n",
    "# Importerer nødvendige biblioteker\n",
    "import matplotlib.pyplot as plt\n",
    "import numpy as np\n",
    "\n",
    "#Initialbetingelser\n",
    "y_0 = 1\n",
    "step = 1\n",
    "\n",
    "# Eksakt løsning\n",
    "def A(x):\n",
    "    return np.exp(x)\n",
    "\n",
    "# Regner ut neste verdi av y\n",
    "def y_n1(t, init, yn):\n",
    "    return yn + t * yn\n",
    "\n",
    "# x-verdier for plotting av eksakt løsning\n",
    "x = np.arange(0,5,0.1)\n",
    "y = []\n",
    "\n",
    "# Regner ut eksakt løsning\n",
    "for i in x:\n",
    "    y.append(A(i))\n",
    "\n",
    "# x-verdier for plotting av Euler med step = 1\n",
    "xe = np.arange(0,5,step).tolist()\n",
    "ye = [1]\n",
    "\n",
    "for verdi in xe:\n",
    "    ye.append(y_n1(step, y_0, ye[-1]))\n",
    "\n",
    "#print(xe,ye)\n",
    "xe.append(xe[-1] + 1)\n",
    "\n",
    "#print('x er {}\\ny er {}'.format(xe,ye))\n",
    "\n",
    "\n",
    "step = 0.5\n",
    "\n",
    "# x-verdier for plotting av Euler med step = 0.5\n",
    "xe1 = np.arange(0,5,step).tolist()\n",
    "ye1 = [1]\n",
    "\n",
    "for verdi in xe1:\n",
    "    ye1.append(y_n1(step, y_0, ye1[-1]))\n",
    "\n",
    "#print(xe1,ye1)\n",
    "xe1.append(xe1[-1] + step)\n",
    "\n",
    "#print('x er {}\\ny er {}'.format(xe1,ye1))\n",
    "\n",
    "    \n",
    "# Utskrift av data\n",
    "plt.grid() # Lager rutenett\n",
    "plt.xlabel('$x$') # Merker x-aksen\n",
    "plt.ylabel('$A(x)$') # Merker y-aksen\n",
    "plt.plot(x, y, label='$f(x)=e^x$')\n",
    "plt.plot(xe, ye, label='Euler med $\\Delta x=1$')\n",
    "plt.plot(xe1, ye1, label='Euler med $\\Delta x=0.5$')\n",
    "plt.legend()\n",
    "plt.show()"
   ]
  },
  {
   "cell_type": "code",
   "execution_count": null,
   "metadata": {
    "collapsed": true
   },
   "outputs": [],
   "source": []
  },
  {
   "cell_type": "code",
   "execution_count": null,
   "metadata": {},
   "outputs": [],
   "source": []
  }
 ],
 "metadata": {
  "kernelspec": {
   "display_name": "Python 3",
   "language": "python",
   "name": "python3"
  },
  "language_info": {
   "codemirror_mode": {
    "name": "ipython",
    "version": 3
   },
   "file_extension": ".py",
   "mimetype": "text/x-python",
   "name": "python",
   "nbconvert_exporter": "python",
   "pygments_lexer": "ipython3",
   "version": "3.6.2"
  }
 },
 "nbformat": 4,
 "nbformat_minor": 2
}

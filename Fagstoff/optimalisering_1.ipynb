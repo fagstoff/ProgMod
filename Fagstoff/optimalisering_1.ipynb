{
 "cells": [
  {
   "cell_type": "markdown",
   "metadata": {},
   "source": [
    "# Optimalisering\n",
    "\n",
    "Optimalisere er å gjøre så god som mulig, å bringe en prosess eller et system til et optimum under de betingelsene som er gitt.\n",
    "\n",
    "Optimalisering skjer gjerne ved at man konstruerer en matematisk modell av prosessen eller systemet, og så undersøker man ved hjelp av datamaskin hvordan modellen fungerer når man varierer ulike parametre. Kilde:[SNL](https://snl.no/optimalisere)\n",
    "\n",
    "Med denne flott beskrivelsen av hva optimalisering er skal vi se på noen eksempler på hvordan dette gjøres i praksis.\n",
    "\n",
    "Et enkelt scenario kan være at vi driver en butikk. Da ønsker vi kanskje å tjene mest mulig penger på denne virksomheten. For å få til dette må vi først få en oversikt over hvilke parametre som påvirker inntjeningen.\n",
    "\n",
    "## Eksempel - Inngjerding\n",
    "\n",
    "Vi tenker oss at vi har 60 meter med nettinggjerde som vi skal bruke til å lage en hønsegård. Inngjerdingen skal være rektangelformet. Vi vil jo selvfølgelig at hønene skal ha det best mulig, og ønsker derfor å lage området de kan bruke størst mulig. Hvordan kan dette løses?\n",
    "\n",
    "Vi vet at arealet av et rektangel kan skrives som:\n",
    "\n",
    "$$ A = høyde \\cdot bredde $$\n",
    "\n",
    "og omkretsen til kan skrives som:\n",
    "\n",
    "$$ O = 2h + 2b $$, der $h$ er høyden, og $b$ er breddeen på rektangelet.\n",
    "\n",
    "Siden vi har 60 meter med gjerde, så blir omkretsen:\n",
    "\n",
    "$$ 60m = 2h + 2b $$\n",
    "\n",
    "Hvis vi kaller høyden for $x$, kan vi skrive omkretsen som:\n",
    "\n",
    "$$ O = 2x + 2 \\cdot (30 - x) $$ ,der $b = 30 - x$\n",
    "\n",
    "Arealet av inngjerdingen blir da:\n",
    "\n",
    "$$ A(x) = x \\cdot (30 - x) = 30x - x^2$$ , der x er mellom 0 og 30\n",
    "\n",
    "\n",
    "\n",
    "\n",
    "\n",
    "\n"
   ]
  },
  {
   "cell_type": "code",
   "execution_count": 15,
   "metadata": {},
   "outputs": [
    {
     "name": "stdout",
     "output_type": "stream",
     "text": [
      "[0, 1, 2, 3, 4, 5, 6, 7, 8, 9, 10, 11, 12, 13, 14, 15, 16, 17, 18, 19, 20, 21, 22, 23, 24, 25, 26, 27, 28, 29, 30] [0, 29, 56, 81, 104, 125, 144, 161, 176, 189, 200, 209, 216, 221, 224, 225, 224, 221, 216, 209, 200, 189, 176, 161, 144, 125, 104, 81, 56, 29, 0] [30, 28, 26, 24, 22, 20, 18, 16, 14, 12, 10, 8, 6, 4, 2, 0, -2, -4, -6, -8, -10, -12, -14, -16, -18, -20, -22, -24, -26, -28, -30]\n"
     ]
    },
    {
     "data": {
      "image/png": "[encoded data removed]",
      "text/plain": [
       "<matplotlib.figure.Figure at 0x10dc09208>"
      ]
     },
     "metadata": {},
     "output_type": "display_data"
    }
   ],
   "source": [
    "# Importerer nødvendige biblioteker\n",
    "import matplotlib.pyplot as plt\n",
    "import numpy as np\n",
    "\n",
    "def A(x):\n",
    "    return 30 * x - x**2\n",
    "\n",
    "def A_der(x):\n",
    "    return 30 - 2 * x\n",
    "\n",
    "x = []\n",
    "y = []\n",
    "yd = []\n",
    "\n",
    "for i in range(31):\n",
    "    x.append(i)\n",
    "    y.append(A(i))\n",
    "    yd.append(A_der(i))\n",
    "    \n",
    "\n",
    "print(x,y, yd)\n",
    "    \n",
    "# Utskrift av data\n",
    "plt.grid() # Lager rutenett\n",
    "plt.xlabel('$x$') # Merker x-aksen\n",
    "plt.ylabel('$f(x)$') # Merker y-aksen\n",
    "plt.plot(x, y)\n",
    "plt.plot(x, yd)\n",
    "plt.show()\n"
   ]
  },
  {
   "cell_type": "code",
   "execution_count": null,
   "metadata": {},
   "outputs": [],
   "source": []
  }
 ],
 "metadata": {
  "kernelspec": {
   "display_name": "Python 3",
   "language": "python",
   "name": "python3"
  },
  "language_info": {
   "codemirror_mode": {
    "name": "ipython",
    "version": 3
   },
   "file_extension": ".py",
   "mimetype": "text/x-python",
   "name": "python",
   "nbconvert_exporter": "python",
   "pygments_lexer": "ipython3",
   "version": "3.6.2"
  }
 },
 "nbformat": 4,
 "nbformat_minor": 2
}

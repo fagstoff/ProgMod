{
 "cells": [
  {
   "cell_type": "markdown",
   "metadata": {},
   "source": [
    "# Optimalisering\n",
    "\n",
    "Optimalisere er å gjøre så god som mulig, å bringe en prosess eller et system til et optimum under de betingelsene som er gitt.\n",
    "\n",
    "Optimalisering skjer gjerne ved at man konstruerer en matematisk modell av prosessen eller systemet, og så undersøker man ved hjelp av datamaskin hvordan modellen fungerer når man varierer ulike parametre. Kilde:[SNL](https://snl.no/optimalisere)\n",
    "\n",
    "Med denne flott beskrivelsen av hva optimalisering er skal vi se på noen eksempler på hvordan dette gjøres i praksis.\n",
    "\n",
    "Et enkelt scenario kan være at vi driver en butikk. Da ønsker vi kanskje å tjene mest mulig penger på denne virksomheten. For å få til dette må vi først få en oversikt over hvilke parametre som påvirker inntjeningen.\n",
    "\n",
    "## Eksempel - Inngjerding\n",
    "\n",
    "Vi tenker oss at vi har 60 meter med nettinggjerde som vi skal bruke til å lage en hønsegård. Inngjerdingen skal være rektangelformet. Vi vil jo selvfølgelig at hønene skal ha det best mulig, og ønsker derfor å lage området de kan bruke størst mulig. Hvordan kan dette løses?\n",
    "\n",
    "Vi vet at et rektangel kan beskrives ved:\n",
    "\n",
    "Areal: $ A = h \\cdot b $ og omkrets: $ O = 2h + 2b $\n",
    ", der $h$ er høyden, og $b$ er breddeen på rektangelet.\n",
    "\n",
    "Siden vi har 60 meter med gjerde, så blir omkretsen $ 60m = 2h + 2b $.\n",
    "\n",
    "Hvis vi kaller høyden for $x$, kan vi skrive omkretsen som $ O = 2x + 2 \\cdot (30 - x) $ der $b = 30 - x$.\n",
    "\n",
    "Arealet av inngjerdingen blir da $ A(x) = x \\cdot (30 - x) = 30x - x^2$ , der x er mellom 0 og 30.\n",
    "\n",
    "Vi plotter så funksjonen $A(x)$:"
   ]
  },
  {
   "cell_type": "code",
   "execution_count": 29,
   "metadata": {},
   "outputs": [
    {
     "data": {
      "image/png": "[encoded data removed]",
      "text/plain": [
       "<matplotlib.figure.Figure at 0x10dd1de10>"
      ]
     },
     "metadata": {},
     "output_type": "display_data"
    }
   ],
   "source": [
    "# Importerer nødvendige biblioteker\n",
    "import matplotlib.pyplot as plt\n",
    "import numpy as np\n",
    "\n",
    "def A(x):\n",
    "    return 30 * x - x**2\n",
    "\n",
    "x = []\n",
    "y = []\n",
    "\n",
    "for i in range(31):\n",
    "    x.append(i)\n",
    "    y.append(A(i))\n",
    "    \n",
    "# Utskrift av data\n",
    "plt.grid() # Lager rutenett\n",
    "plt.xlabel('$x$') # Merker x-aksen\n",
    "plt.ylabel('$A(x)$') # Merker y-aksen\n",
    "plt.plot(x, y)\n",
    "plt.show()\n"
   ]
  },
  {
   "cell_type": "markdown",
   "metadata": {},
   "source": [
    "Vi kan se av grafen at arealet av rektangelet er størst nå høyden $x$ = 15m. Dette er jo toppunktet til funksjonen. Dette kan vi også finne ut ved å se på når den deriverte $A'(x) = 0$."
   ]
  },
  {
   "cell_type": "code",
   "execution_count": 35,
   "metadata": {},
   "outputs": [
    {
     "name": "stdout",
     "output_type": "stream",
     "text": [
      "Det største arealet av rektangelet er: 225 m^2\n",
      "Når arealet er størst er høyden 15 meter.\n"
     ]
    }
   ],
   "source": [
    "print(\"Det største arealet av rektangelet er: {} m^2\".format(max(y))) # Finner toppunktet til A(x)\n",
    "print(\"Når arealet er størst er høyden {} meter.\".format(y.index(max(y)))) # Finnver ved hvilken x-verdi dette er."
   ]
  },
  {
   "cell_type": "markdown",
   "metadata": {},
   "source": []
  }
 ],
 "metadata": {
  "kernelspec": {
   "display_name": "Python 3",
   "language": "python",
   "name": "python3"
  },
  "language_info": {
   "codemirror_mode": {
    "name": "ipython",
    "version": 3
   },
   "file_extension": ".py",
   "mimetype": "text/x-python",
   "name": "python",
   "nbconvert_exporter": "python",
   "pygments_lexer": "ipython3",
   "version": "3.6.2"
  }
 },
 "nbformat": 4,
 "nbformat_minor": 2
}

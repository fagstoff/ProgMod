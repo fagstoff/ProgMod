{
 "cells": [
  {
   "cell_type": "markdown",
   "metadata": {},
   "source": [
    "# Optimalisering\n",
    "\n",
    "Optimalisere er å gjøre så god som mulig, å bringe en prosess eller et system til et optimum under de betingelsene som er gitt.\n",
    "\n",
    "Optimalisering skjer gjerne ved at man konstruerer en matematisk modell av prosessen eller systemet, og så undersøker man ved hjelp av datamaskin hvordan modellen fungerer når man varierer ulike parametre. Kilde:[SNL](https://snl.no/optimalisere)\n",
    "\n",
    "Med denne flott beskrivelsen av hva optimalisering er skal vi se på noen eksempler på hvordan dette gjøres i praksis.\n",
    "\n",
    "Et enkelt scenario kan være at vi driver en butikk. Da ønsker vi kanskje å tjene mest mulig penger på denne virksomheten. For å få til dette må vi først få en oversikt over hvilke parametre som påvirker inntjeningen.\n",
    "\n",
    "## Eksempel - Økonomisk inntjening (Kilde: [NDLA](https://ndla.no/nb/node/118306?fag=98366))\n",
    "\n",
    "Vi tenker oss at vi har en bedrift som produserer noen produkter som skal selges i vår egen butikk. I den forbindelse er det kostnader. Dette kan være leie av produksjonslokaler, råvarer, lønn og andre ting.\n",
    "\n",
    "En mulig funksjon for kostnaden som funksjon av antall produserte enheter kan være:\n",
    "\n",
    "$$ K(x) = 3x^2 + 150x + 11000 , x \\epsilon [0, 150] $$\n",
    "\n",
    "der $11000$ er husleie, $150x$ er delekostnader og $3x^2$ er lønnsutgifter.\n",
    "\n",
    "Hvis en vare er veldig billig så kan vi tenke oss at det blir stor etterspørsel etter denne. Motsatt kan vi tenke oss at etterspørselen er lav hvis varen er veldig dyr.\n",
    "\n",
    "Det generelle matematiske uttrykket kan være:\n",
    "\n",
    "$$ e(p) = N - k \\cdot p $$\n",
    "\n",
    ",der $e(p)$ er etterspørselen i antall enheter, $N$ er antall tilgjengelige enheter, $k$ er en konstant* og $p$ er prisen.\n",
    "\n",
    "Vi kan videre si at inntjeningen som funksjon av prisen $I(p)$ vil være:\n",
    "\n",
    "$$ I(p) = p \\cdot e(p) $$\n",
    "$$ I(p) = p \\cdot (N - k \\cdot p) $$\n",
    "$$ I(p) = N \\cdot p - k \\cdot p^2$$\n",
    "\n",
    "Vi har nå funksjoner for kostnad og inntjening. Differansen mellom disse kan vi kalle for overskuddet $O(p)$\n",
    "\n",
    "\n",
    ".....masse TODO"
   ]
  },
  {
   "cell_type": "code",
   "execution_count": null,
   "metadata": {},
   "outputs": [],
   "source": []
  }
 ],
 "metadata": {
  "kernelspec": {
   "display_name": "Python 3",
   "language": "python",
   "name": "python3"
  },
  "language_info": {
   "codemirror_mode": {
    "name": "ipython",
    "version": 3
   },
   "file_extension": ".py",
   "mimetype": "text/x-python",
   "name": "python",
   "nbconvert_exporter": "python",
   "pygments_lexer": "ipython3",
   "version": "3.6.2"
  }
 },
 "nbformat": 4,
 "nbformat_minor": 2
}

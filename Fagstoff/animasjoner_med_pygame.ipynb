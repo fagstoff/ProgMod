{
 "cells": [
  {
   "cell_type": "markdown",
   "metadata": {},
   "source": [
    "# Animasjon med Pygame\n",
    "\n",
    "__Creative Commons BY-SA : bitjungle (Rune Mathisen) og fuzzbin (Tom Jarle Christiansen)__\n",
    "\n",
    "<hr/>\n",
    "<img alt=\"Fotball. Lisens: GNU\" style=\"float: right; margin-left: 10px;\" src=\"img/animasjon_med_pygame.png\">\n",
    "\n",
    "**Å lage visualiseringer av modeller kan være nyttig for å forstå det som modelleres, i tillegg til at det er både lærerikt og moro å lage animasjoner. Her skal vi se på hvordan du kan lage enkle animasjoner med Python-biblioteket  [Pygame](https://www.pygame.org).**\n",
    "\n",
    "> Denne siden dekker helt eller delvis kompetansemålene: [Grunnleggende programmering 3](https://github.com/fagstoff/ProgMod/blob/master/L%C3%A6replan/kompetansem%C3%A5l.md#grunnleggende-programmering)\n",
    "\n",
    "Pygame er bygget over det kjente og populære multimedia-biblioteket [Simple DirectMedia Layer (SDL)](https://en.wikipedia.org/wiki/Simple_DirectMedia_Layer). Med Pygame og SDL er det enkelt å lage fine animasjoner skrevet i Python, og her skal vi se på et enkelt eksempel med en fotball som spretter rundt på en fotballbane.\n",
    "\n",
    "Koden som står nedenfor er ikke laget for å kjøres i Jupyter, men du kan [laste ned kildefila her](../Programkode/fotballpong_v1.py). Du må også laste ned bildene av [ballen](../Programkode/fotballpong_ball.png) og [banen](../Programkode/fotballpong_bane.png), og lagre dem i samme mappe som `.py`-fila.\n",
    "\n",
    "Programkoden er i stor grad basert på [Pygame-introduksjonen til Pete Shinners](http://pygame.org/docs/tut/PygameIntro.html), men med noen endringer. La oss se nærmere på hvordan programmet er implementert.\n",
    "\n",
    "Aller først laster vi modulene `sys` og `pygame`. Vi bruker `sys.exit()` fra `sys`-moulen for å avslutte Python når programvinduet vårt lukkes (`event.type == pygame.QUIT`). Det er på grunn av denne at vi ikke kan kjøre programmet fra Jupyter (når vi lukker animasjonen vil Jupyter avsluttes også).\n",
    "\n",
    "Det neste som skjer er at modulene i Pygame-biblioteket lastes med [pygame.init()](http://pygame.org/docs/ref/pygame.html#pygame.init). Nå kan vi begynne å bruke pygame, og det første vi gjør er å laste bildene av banen og ballen. Deretter finner vi de rektangulære koordinatene (left, top, width, height) til de to bildene med `.get_rect()`. Vi bruker størrelsen til bildet av banen til å sette korrekt størrelse på animasjonsvinduet vårt. Nå kan vi starte selve animasjonsloopen som står inne i en `while`-løkke.\n",
    "\n",
    "<img alt=\"Grafikk-koordinater Lisens: CC BY-SA bitjungle\" style=\"float: right; margin-left: 10px;\" src=\"img/grafikk-geometri.png\">\n",
    "\n",
    "En viktig ting å være klar over når du jobber med datagrafikk, er at det brukes et koordinatsystem som er litt uvant for de fleste. Origo til et bilde er oppe til venstre, og nedover langs \"y-aksen\" får vi et positivt tall som angir avstand fra toppen. Studer grafen til høyre nøye, sånn at du unngår å gjøre feil når du skal plassere grafikk i dette koordinatsystemet.\n",
    "\n",
    "For hver loop inne i `while`-løkken flytter vi ballen med en fast offset som her er 5 piksler i x-retningen og 5 piksler i y-retningen. Dersom ballen treffer en kant i vinduet, endrer vi fortegn på en av disse offset-parameterne. \n",
    "\n",
    "Til slutt i loopen tegner vi inn de to bildene på bildeflaten vår med [blit()](http://pygame.org/docs/ref/surface.html#pygame.Surface.blit), og så tegner vi selve bildeflaten til skjermen med [flip()](http://pygame.org/docs/ref/display.html#pygame.display.flip).\n",
    "\n",
    "<hr/>\n",
    "\n",
    "```python\n",
    "import sys\n",
    "import pygame\n",
    "\n",
    "pygame.init()\n",
    "\n",
    "field = pygame.image.load('animasjon_med_pygame_bane.png')\n",
    "ball = pygame.image.load(\"animasjon_med_pygame_ball.png\")\n",
    "\n",
    "fieldrect = field.get_rect()\n",
    "ballrect = ball.get_rect()\n",
    "\n",
    "offset = [5, 5]\n",
    "\n",
    "screen = pygame.display.set_mode(fieldrect.size)\n",
    "\n",
    "while True:\n",
    "    for event in pygame.event.get():\n",
    "        if event.type == pygame.QUIT: sys.exit()\n",
    "\n",
    "    ballrect = ballrect.move(offset)\n",
    "    \n",
    "    if ballrect.left < 0 or ballrect.right > fieldrect.width:\n",
    "        offset[0] = -offset[0]\n",
    "    if ballrect.top < 0 or ballrect.bottom > fieldrect.height:\n",
    "        offset[1] = -offset[1]\n",
    "\n",
    "    screen.blit(field, fieldrect)\n",
    "    screen.blit(ball, ballrect)\n",
    "    pygame.display.flip()\n",
    "```"
   ]
  },
  {
   "cell_type": "markdown",
   "metadata": {},
   "source": [
    "## Oppgaver\n",
    "1. Bytt ut bildene av ball og bane med andre objekter, og kjør programmet.\n",
    "2. Forsøk å endre offset på bevegelsen til ballen, og se hva som skjer. Prøv med ulik offset i x- og y-retning. Får du den bevegelsen du forventer?\n",
    "3. Se nøye på koden som detekterer om ballen treffer en kant, og endrer retning på ballen. Eksperimenter med andre alternativer. Kan du finne interessante måter å endre størrelsen på offset, og ikke bare fortegnet?"
   ]
  },
  {
   "cell_type": "code",
   "execution_count": null,
   "metadata": {
    "collapsed": true
   },
   "outputs": [],
   "source": []
  }
 ],
 "metadata": {
  "kernelspec": {
   "display_name": "Python 3",
   "language": "python",
   "name": "python3"
  },
  "language_info": {
   "codemirror_mode": {
    "name": "ipython",
    "version": 3
   },
   "file_extension": ".py",
   "mimetype": "text/x-python",
   "name": "python",
   "nbconvert_exporter": "python",
   "pygments_lexer": "ipython3",
   "version": "3.6.2"
  }
 },
 "nbformat": 4,
 "nbformat_minor": 2
}

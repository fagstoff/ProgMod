{
 "cells": [
  {
   "cell_type": "markdown",
   "metadata": {},
   "source": [
    "# Nullpunkt\n",
    "__Creative Commons BY-SA : fuzzbin (Tom Jarle Christiansen) og bitjungle (Rune Mathisen)__\n",
    "\n",
    "<hr/>\n",
    "<img alt=\"Lisens: Creative Commons CC-0\" style=\"width: 200px; float: right; margin-left: 30px;\" src=\"img/nullpunkt.png\">\n",
    "\n",
    "__For en funksjon f er et [nullpunkt](https://snl.no/nullpunkt) et tall a som gjør at funksjonsverdien $f(a) = 0$. Dette kan vi blant annet bruke for å løse likninger. Her skal vi se på flere ulike teknikker for å finne nullpunkter numerisk.__\n",
    "\n",
    "I matematikk er [roten til en ligning](https://no.wikipedia.org/wiki/Rot_til_en_ligning) der den ukjente er et reelt eller et komplekst tall det samme som løsningen av ligningen. En ligning kan ha én eller flere røtter.\n",
    "\n",
    "> Denne siden dekker helt eller delvis kompetansemålene: [Matematiske metoder 3](https://github.com/fagstoff/ProgMod/blob/master/L%C3%A6replan/kompetansem%C3%A5l.md#matematiske-metoder)\n",
    "\n",
    "\n"
   ]
  },
  {
   "cell_type": "markdown",
   "metadata": {},
   "source": [
    "## Brute force\n",
    "Vi starter med en enkel men ikke så veldig effektiv metode for å finne nullpunkter hvor vi regner ut veldig mange funksjonsverdier og sammenlikner dem med hverandre. Dette kalles brute force-metoden. Vi begynner med å definere funsjonen:"
   ]
  },
  {
   "cell_type": "code",
   "execution_count": 3,
   "metadata": {},
   "outputs": [],
   "source": [
    "def f(x):\n",
    "    return x**2 - 2"
   ]
  },
  {
   "cell_type": "markdown",
   "metadata": {},
   "source": [
    "Så lager vi oss mange x-verdier i det angitte intervallet. Det er viktig at x-verdiene ligger tett på hverandre, sånn at vi ikke overser noen nullpunkter. Her bruker vi `numpy`, og lager 400 x-verdier i intervallet $[-2, 2]$:"
   ]
  },
  {
   "cell_type": "code",
   "execution_count": 4,
   "metadata": {},
   "outputs": [],
   "source": [
    "import numpy as np \n",
    "xverdier = np.linspace(-2, 2, 400)"
   ]
  },
  {
   "source": [
    "Nå kan vi regne ut alle de tilhørende funksjonsverdiene:"
   ],
   "cell_type": "markdown",
   "metadata": {}
  },
  {
   "cell_type": "code",
   "execution_count": 5,
   "metadata": {},
   "outputs": [],
   "source": [
    "yverdier = f(xverdier)"
   ]
  },
  {
   "source": [
    "Så begynner vi å lete gjennom alle funksjonsverdiene for å finne ut hvor fortegnet endres. Da vet vi at vi må ha passert et nullpunkt (se på grafen øverst på denne siden, ser du at funksjonsverdien endrer fortegn over et nullpunkt?). Vi kan finne fortegnsendringer ved å multiplisere nabo-funksjonsverdier med hverandre. Det er bare der hvor funksjonsverdien endrer seg fra positiv til negativ (eller motsatt) at vi kan få et negativt svar."
   ],
   "cell_type": "markdown",
   "metadata": {}
  },
  {
   "cell_type": "code",
   "execution_count": 6,
   "metadata": {},
   "outputs": [
    {
     "output_type": "stream",
     "name": "stdout",
     "text": [
      "Nullpunkt for x = -1.4135338345864663\nNullpunkt for x = 1.4135338345864659\n"
     ]
    }
   ],
   "source": [
    "for i in range(0, 399):\n",
    "    if yverdier[i] * yverdier[i + 1] < 0:\n",
    "        # Her har vi passert et nullpunkt. Finner et estimat for x\n",
    "        x_null =  (xverdier[i] + xverdier[i + 1]) / 2\n",
    "        print('Nullpunkt for x =', x_null)"
   ]
  },
  {
   "source": [
    "## Halveringsmetoden\n",
    "En mye mer effektiv metode for å finne nullpunkter, er halveringsmetoden. Den vil kreve mange færre utregninger, men kan gi minst like presise svar som brute force-metoden.\n",
    "\n",
    "I halveringsmetoden starter vi med å gjette på to x-verdier som vi tror at ligger på hver sin side av et nullpunkt. Det er den vanskligste delen av metoden, og vi går ikke nærmere inn på hvordan det kan gjøres her. Vi jobber med den samme funksjonen som tidligere, og antar at vi har et nullpunkt i intervallet $[-2, 0]$ et et nullpunkt mellom $<0, -2].\n"
   ],
   "cell_type": "markdown",
   "metadata": {}
  },
  {
   "cell_type": "code",
   "execution_count": 7,
   "metadata": {},
   "outputs": [
    {
     "output_type": "stream",
     "name": "stdout",
     "text": [
      "Nullpunkt for x = -1.4142131805419922\nNullpunkt for x = 1.4142131805419922\n"
     ]
    }
   ],
   "source": [
    "def halvering(f, a, b, it):\n",
    "    '''Finner rot til en funksjon f.\n",
    "       a og b er startverdier.\n",
    "       it er antall iterasjoner.'''\n",
    "    for i in range(it):   \n",
    "        x = (a + b)/2     # velg x midt mellom a og b\n",
    "        if f(a)*f(x) > 0: # dersom produktet er større enn null\n",
    "            a = x # sett a til x-verdien\n",
    "        else:\n",
    "            b = x # sett b til x-verdien\n",
    "    return x # Returnerer estimat for x-verdi ved nullpunkt\n",
    "\n",
    "x_null = halvering(f, -2, 0, 20)\n",
    "print('Nullpunkt for x =', x_null)\n",
    "\n",
    "x_null = halvering(f, 0, 2, 20)\n",
    "print('Nullpunkt for x =', x_null)"
   ]
  },
  {
   "source": [
    "Det riktige svaret skal være $\\pm \\sqrt 2$, og vi ser at vi er mye nærmere det riktige svaret med bare 20+20 beregninger med halveringsmetoden, mot 400 beregninger med brute force-metoden."
   ],
   "cell_type": "markdown",
   "metadata": {}
  },
  {
   "source": [
    "## Newtons metode\n",
    "\n",
    "En annen måte å finne nullpunkter på er å velge et punkt som vi tror er i nærheten av et nullpunkt, og bruke dette punktet som estimat. Så finner vi tangenten til grafen i punktet, og bruker tangentens skjæringspunkt med x-aksen som nytt estimat. Prosessen gjentas til vi har fått ønsket nøyaktighet. Utregninga av nytt estimat for x gjøres da slik:\n",
    "\n",
    "$$ x_{i+1} = x_i - \\frac{f(x)}{f'(x)} $$"
   ],
   "cell_type": "markdown",
   "metadata": {}
  },
  {
   "cell_type": "code",
   "execution_count": 13,
   "metadata": {},
   "outputs": [
    {
     "output_type": "stream",
     "name": "stdout",
     "text": [
      "Nullpunkt for x = -1.4142135623730951\nNullpunkt for x = 1.4142135623730951\n"
     ]
    }
   ],
   "source": [
    "def deriv(f, x, h=1E-9):\n",
    "    '''Derivasjon med Newtons symmetriske kvotient'''\n",
    "    return ((f(x+h) - f(x-h)) / (2*h))\n",
    "\n",
    "def newton_null(f, x, it):\n",
    "    '''Newtons metode for å finne nullpunkt'''\n",
    "    for _ in range(it):\n",
    "        x = x - f(x) / deriv(f, x)\n",
    "    return x\n",
    "\n",
    "x_null = newton_null(f, -2, 10)\n",
    "print('Nullpunkt for x =', x_null)\n",
    "\n",
    "x_null = newton_null(f, 2, 10)\n",
    "print('Nullpunkt for x =', x_null)\n"
   ]
  },
  {
   "source": [
    "Her kom vi enda nærmere det riktige svaret med bare halvparten av beregningene vi gjorde med halveringsmetoden."
   ],
   "cell_type": "markdown",
   "metadata": {}
  },
  {
   "source": [
    "## Oppgaver\n",
    "1. Test ut alle de tre metodene ovenfor, og finn eventuelle nullpunkter for funksjonen $f(x) = \\frac{1}{4}x^3 - \\frac{3}{4}x^2 - x + 2$ i intervallet $[-2, 4]$. Hvilken metode er enklest? Hvilken metode gir det mest presise svaret.\n",
    "2. Finn skjæringspunktet til grafene til de to funksjonene $f(x) = x^3 - 2x^2 + x - 1 $ og $g(x) = x^2 - 4$. \n",
    "3. Løs likninga $sin(x) = x - 1$."
   ],
   "cell_type": "markdown",
   "metadata": {}
  },
  {
   "cell_type": "code",
   "execution_count": null,
   "metadata": {},
   "outputs": [],
   "source": []
  }
 ],
 "metadata": {
  "kernelspec": {
   "display_name": "Python 3",
   "language": "python",
   "name": "python3"
  },
  "language_info": {
   "codemirror_mode": {
    "name": "ipython",
    "version": 3
   },
   "file_extension": ".py",
   "mimetype": "text/x-python",
   "name": "python",
   "nbconvert_exporter": "python",
   "pygments_lexer": "ipython3",
   "version": "3.8.6-final"
  }
 },
 "nbformat": 4,
 "nbformat_minor": 4
}
{
 "cells": [
  {
   "cell_type": "markdown",
   "metadata": {
    "slideshow": {
     "slide_type": "-"
    }
   },
   "source": [
    "\n",
    "# Variabler\n",
    "__Creative Commons BY-SA : bitjungle (Rune Mathisen) og fuzzbin (Tom Jarle Christiansen)__\n",
    "\n",
    "**I nesten alle programmer behandler, lagrer og manipulerer vi tall og tekst. For å få til dette er vi helt avhengige av å kunne lagre denne informasjonen et sted. Dette gjøres ved hjelp av variabler.**\n",
    "\n",
    "En variabel i programmering brukes på samme måte som i matematikk. Den  representeres med et symbol eller navn som kan inneholde en verdi. Denne verdien kan være et tall, en tekst, en liste eller helt andre ting. En variabel kan som oftest endre sin verdi etter at den er laget.\n",
    "\n",
    "Variabler kan ha mange ulike typer innhold. Dette kalles for datatyper. Noen av disse har også undertyper, for eksempel datatypen *tall* som bl.a. har undertypene int/heltall og float/desimaltall.\n",
    "\n",
    "Python har fem standard datatyper som igjen kan ha undertyper:\n",
    "\n",
    "\n",
    ">+ Numbers -> 3.1415926 eller 3\n",
    ">+ String -> \"Hallo verden!\"\n",
    ">+ Liste -> [123, \"Rune\"]\n",
    ">+ Tuppel -> (123, \"Tom Jarle\")\n",
    ">+ Dictionary -> {\"fag\": \"ProgMod\", \"type\": \"Realfag\", \"inntakspoeng\": \"45.6\"}\n",
    "\n",
    "La oss se på noen eksempler der vi *deklarerer* noen ulike variabeltyper, *tilordner* verdi, og skriver ut datatypen."
   ]
  },
  {
   "cell_type": "code",
   "execution_count": 1,
   "metadata": {},
   "outputs": [
    {
     "name": "stdout",
     "output_type": "stream",
     "text": [
      "10 er et heltall, og har datatypen:  <class 'int'>\n"
     ]
    }
   ],
   "source": [
    "tall1 = 10 # deklarerer variabelen tall1, og tilordner den verdien 10\n",
    "print(tall1, \"er et heltall, og har datatypen: \", type(tall1))"
   ]
  },
  {
   "cell_type": "code",
   "execution_count": 2,
   "metadata": {},
   "outputs": [
    {
     "name": "stdout",
     "output_type": "stream",
     "text": [
      "10.0 er et desimaltall, og har datatypen:  <class 'float'>\n"
     ]
    }
   ],
   "source": [
    "tall2 = 10.0\n",
    "print(tall2, \"er et desimaltall, og har datatypen: \", type(tall2))"
   ]
  },
  {
   "cell_type": "code",
   "execution_count": 3,
   "metadata": {},
   "outputs": [
    {
     "name": "stdout",
     "output_type": "stream",
     "text": [
      "Dette er en tekst! er en tekst, og har datatypen:  <class 'str'>\n"
     ]
    }
   ],
   "source": [
    "tekst = \"Dette er en tekst!\"\n",
    "print(tekst, \"er en tekst, og har datatypen: \", type(tekst))"
   ]
  },
  {
   "cell_type": "code",
   "execution_count": 4,
   "metadata": {},
   "outputs": [
    {
     "name": "stdout",
     "output_type": "stream",
     "text": [
      "[1, 2, 3, 'Heisann', 4] er en liste, og har datatypen:  <class 'list'>\n"
     ]
    }
   ],
   "source": [
    "liste = [1, 2, 3, \"Heisann\", 4,]\n",
    "print(liste, \"er en liste, og har datatypen: \", type(liste))"
   ]
  },
  {
   "cell_type": "markdown",
   "metadata": {
    "collapsed": true
   },
   "source": [
    "### Eksempel - Variabler\n",
    "La oss starte med et enkelt eksempel fra fysikken der vi ser på hvordan vi regner ut tilbakelagt strekning når vi vet den konstante farten og tiden. I eksempelet brukes variabler av datatypen _Numbers_ (int)\n",
    "\n",
    "$$s=v \\cdot t$$\n",
    "\n",
    "Hvis vi lar $v=20\\textrm{ m/s}$ og $t=30\\textrm{s}$ så kan vi regne ut tilbakelagt strekning på følgende måte.\n",
    "\n",
    "$$ s = 20 \\cdot 30 $$\n",
    "$$ s= \\underline{\\underline{600\\textrm{ m}}}$$\n",
    "\n",
    "I python ville samme eksempel bli løst som vist under:"
   ]
  },
  {
   "cell_type": "code",
   "execution_count": 5,
   "metadata": {
    "slideshow": {
     "slide_type": "-"
    }
   },
   "outputs": [
    {
     "name": "stdout",
     "output_type": "stream",
     "text": [
      "Tilbakelagt strekning er: 600 meter.\n"
     ]
    }
   ],
   "source": [
    "# Vi deklarerer variablene v og t, og tilordner verdier.\n",
    "v = 20 # 20 m/s\n",
    "t = 30 # 30 s\n",
    "\n",
    "s = v*t\n",
    "\n",
    "print(\"Tilbakelagt strekning er: {} meter.\".format(s))"
   ]
  },
  {
   "cell_type": "markdown",
   "metadata": {},
   "source": [
    "## Oppgaver\n",
    "\n",
    "1. Endre verdiene til v og t, og sjekk om koden fungerer for alle tallverdier.\n",
    "2. Klarer du å få programmet til å kræsje? Forklar hvorfor!"
   ]
  },
  {
   "cell_type": "markdown",
   "metadata": {},
   "source": [
    "## Mer om variabler og matematikk\n",
    "\n",
    "Det er _mye_ å lære om variabler, og i dette kurset vil vi såvidt se på noen av de viktigste egenskapene.\n",
    "Tabellen unde viser noen variableoperasjoner med tilhørende resultat:\n",
    "\n",
    "| Kommando | Resultat      | Kommentar  |\n",
    "|:--------|:-------------| :---------|\n",
    "| 2 + 2           | 4  | Sum/diff av heltall ([int](https://no.wikipedia.org/wiki/Heltall)) gir heltall som svar|\n",
    "| 2 + 3\\*6        | 20 | Vanlig regnerekkefølge gjelder |\n",
    "| (50 - 5\\*6) / 4 | 5.0| Divisjon gir _alltd_ et desimaltall ([float](https://en.wikipedia.org/wiki/Floating-point_arithmetic))|\n",
    "| 5 \\*\\* 2 | 25 | \\*\\* brukes for å opphøye et tall med et annet |\n",
    "\n",
    "## Oppgaver\n",
    "\n",
    "1. Lag et program som der du oppretter variablene _tall1_ og _tall2_. Skriv så ut resultatet av minst fem ulike operasjoner på disse tallene.\n",
    "2. Lag et program der du deklarerer, tilordner verdi til variabler med ulike datatyper.\n",
    "3. Lag et program der du konverterer fra en datatype til en annen.\n"
   ]
  },
  {
   "cell_type": "code",
   "execution_count": null,
   "metadata": {
    "collapsed": true
   },
   "outputs": [],
   "source": []
  }
 ],
 "metadata": {
  "celltoolbar": "Attachments",
  "kernelspec": {
   "display_name": "Python 3",
   "language": "python",
   "name": "python3"
  },
  "language_info": {
   "codemirror_mode": {
    "name": "ipython",
    "version": 3
   },
   "file_extension": ".py",
   "mimetype": "text/x-python",
   "name": "python",
   "nbconvert_exporter": "python",
   "pygments_lexer": "ipython3",
   "version": "3.6.1"
  }
 },
 "nbformat": 4,
 "nbformat_minor": 2
}

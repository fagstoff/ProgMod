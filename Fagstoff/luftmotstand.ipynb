{
 "cells": [
  {
   "cell_type": "markdown",
   "metadata": {},
   "source": [
    "# Vertikalt fall med luftmotstand - Ikke ferdig Førsteutkast\n",
    "\n",
    "**Creative Commons BY-SA : bitjungle (Rune Mathisen) og fuzzbin (Tom Jarle Christiansen)** figur her\n",
    "\n",
    "brødtekst her"
   ]
  },
  {
   "cell_type": "markdown",
   "metadata": {},
   "source": [
    "## Utregning\n",
    "\n",
    "Fyll på med forklaringer\n",
    "$$ F = ma $$\n",
    "$$ mg - kv = ma $$\n",
    "$$ mg - kv = mv' $$\n",
    "$$ v' = g - \\frac{kv}{m}$$\n"
   ]
  },
  {
   "cell_type": "markdown",
   "metadata": {},
   "source": [
    "## Euler\n",
    "\n",
    "Fyll på med forklaringer\n",
    "\n",
    "$ v'_{t+1} = v'_t + (g - \\frac{kv_t}{m}) \\cdot dt  $\n",
    "\n",
    "|v_t|v_tp1|\n",
    "|:-:|:-:|\n",
    "|0|9.81|\n",
    "|9.81|x|\n",
    "|y|x|\n",
    "|y|x|\n"
   ]
  },
  {
   "cell_type": "code",
   "execution_count": 3,
   "metadata": {},
   "outputs": [
    {
     "data": {
      "image/png": "[encoded data removed]",
      "text/plain": [
       "<matplotlib.figure.Figure at 0x1135502e8>"
      ]
     },
     "metadata": {},
     "output_type": "display_data"
    }
   ],
   "source": [
    "# Splitt opp og forklar...\n",
    "\n",
    "import math\n",
    "import matplotlib.pyplot as plt\n",
    "\n",
    "# Konstanter - Positiv retning nedover\n",
    "g = 9.81\n",
    "m = 100\n",
    "k = 20\n",
    "v_0 = 0\n",
    "d_t = 0.01\n",
    "\n",
    "t = [0]\n",
    "v = [v_0]\n",
    "\n",
    "def dv_tp1(v):\n",
    "    return g - k * v / m # Modell: Endring av fart\n",
    "\n",
    "for x in range(0,3000):\n",
    "    t.append(t[-1] + d_t)\n",
    "    v.append(v[-1] + dv_tp1(v[-1]) * d_t) # Eulers metode\n",
    "\n",
    "plt.plot(t,v)\n",
    "plt.ylabel('Fart [m/s]')\n",
    "plt.xlabel('Tid [s]')\n",
    "plt.grid()\n",
    "plt.show()"
   ]
  },
  {
   "cell_type": "markdown",
   "metadata": {},
   "source": [
    "## Oppgaver\n",
    "\n",
    "1. En mer realistisk [modell for luftmotstand](https://snl.no/luftmotstand) kan være $L = k \\cdot v^2$. Endre programmet slik at denne modellen brukes.\n",
    "2. Lag et program som bruker Eulers metode på en annen modell."
   ]
  },
  {
   "cell_type": "code",
   "execution_count": null,
   "metadata": {},
   "outputs": [],
   "source": []
  }
 ],
 "metadata": {
  "kernelspec": {
   "display_name": "Python 3",
   "language": "python",
   "name": "python3"
  },
  "language_info": {
   "codemirror_mode": {
    "name": "ipython",
    "version": 3
   },
   "file_extension": ".py",
   "mimetype": "text/x-python",
   "name": "python",
   "nbconvert_exporter": "python",
   "pygments_lexer": "ipython3",
   "version": "3.6.4"
  }
 },
 "nbformat": 4,
 "nbformat_minor": 2
}

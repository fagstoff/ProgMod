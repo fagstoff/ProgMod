{
 "cells": [
  {
   "cell_type": "markdown",
   "metadata": {
    "deletable": true,
    "editable": true
   },
   "source": [
    "# Kodekommentarer og dokumentasjon\n",
    "__Creative Commons BY-SA : bitjungle (Rune Mathisen) og fuzzbin (Tom Jarle Christiansen)__\n",
    "\n",
    "<hr/>\n",
    "<img alt=\"Opphavsmann: Mestigoit Lisens: Creative Commons Attribution-Share Alike 3.0 Unported\" style=\"float: right; margin-left: 10px;\" src=\"img/ISO_7010_M002.mirrored.png\">\n",
    "\n",
    "**Når du skriver programkode bør du tenke på at du selv skal forstå hva du har gjort når du finner fram koden igjen om et år. Kanskje må også andre enn deg kunne lese og forstå koden din. Da er det viktig å skrive gode kodekommentarer, og å dokumentere hva alle funksjoner og moduler gjør.**\n",
    "\n",
    "> Denne siden dekker helt eller delvis kompetansemålene: [Grunnleggende programmering4](https://github.com/fagstoff/ProgMod/blob/master/L%C3%A6replan/kompetansem%C3%A5l.md#grunnleggende-programmering)\n",
    "\n",
    "Programmeringsspråket Python har en egen standard for hvordan god Python-kode skal se ut. Denne standarden heter [PEP-8](https://www.python.org/dev/peps/pep-0008/), og du bør gjøre deg kjent med hva som står i standarden. I dette dokumentet skal vi se nærmere på hva PEP-8 sier om [kodekommentarer og dokumentasjon](https://www.python.org/dev/peps/pep-0008/#comments)."
   ]
  },
  {
   "cell_type": "markdown",
   "metadata": {
    "deletable": true,
    "editable": true
   },
   "source": [
    "## Kodekommentarer\n",
    "Kommentarer i koden din bør være fullstendige setninger, og de bør beskrive hva koden faktisk gjør. Husk at du må oppdatere kommentarer når du endrer koden, sånn at du ikke ender opp med kommentarer som ikke stemmer overens med koden.\n",
    "\n",
    "Du bør siden skrive alle kommentarene dine på engelsk. Det er veldig få mennesker her i verden som forstår norsk, og om du dokumenterer på norsk er det veldig få mennesker som vil ha mulighet til å sette seg inn i koden din. I dette kurset kan du skrive kommentarer på norsk.\n",
    "\n",
    "En kommentarlinje starter med en enkelt `#`. Her er et eksempel:"
   ]
  },
  {
   "cell_type": "code",
   "execution_count": 1,
   "metadata": {
    "collapsed": false,
    "deletable": true,
    "editable": true
   },
   "outputs": [
    {
     "name": "stdout",
     "output_type": "stream",
     "text": [
      "Help on built-in function ceil in module math:\n",
      "\n",
      "ceil(...)\n",
      "    ceil(x)\n",
      "    \n",
      "    Return the ceiling of x as an Integral.\n",
      "    This is the smallest integer >= x.\n",
      "\n"
     ]
    }
   ],
   "source": [
    "# Loading the math library.\n",
    "import math\n",
    "\n",
    "# Print help for the ceil function.\n",
    "help(math.ceil)"
   ]
  },
  {
   "cell_type": "markdown",
   "metadata": {
    "deletable": true,
    "editable": true
   },
   "source": [
    "Du kan også skrive en kommentar på samme linje som en kodesnutt, men ikke bruk denne teknikken for mye, og ikke skriv noe som er opplagt. Kommentaren din bør utfylle koden. Her er et eksempel på en unyttig kommentar, og et eksempel på en kommentar som gir ekstra informasjon."
   ]
  },
  {
   "cell_type": "code",
   "execution_count": 2,
   "metadata": {
    "collapsed": false,
    "deletable": true,
    "editable": true
   },
   "outputs": [
    {
     "name": "stdout",
     "output_type": "stream",
     "text": [
      "t = 0.001 => a = 3.0\n"
     ]
    }
   ],
   "source": [
    "t = 0.001 # Give variable x the value 0.001\n",
    "\n",
    "a = math.log10(1/t) # Converting from transmittance to absorbance (spectroscopy)\n",
    "\n",
    "print('t = {} => a = {}'.format(t, a))"
   ]
  },
  {
   "cell_type": "markdown",
   "metadata": {
    "deletable": true,
    "editable": true
   },
   "source": [
    "## Dokumentasjonsstrenger\n",
    "I python er det vanlig å skrive det som kalles [docstrings](https://en.wikipedia.org/wiki/Docstring#Python) for å dokumentere funksjoner og programmer. Når en bruker skriver kommandoen ```help()```, så er det docstringen som vises. I større prosjekter er det vanlig å lage docstrings i begynnelsen av programmet, men også til hver funksjon. \n",
    "\n",
    "Eksempelet under viser hvordan man kan skrive en docstring i en funksjon."
   ]
  },
  {
   "cell_type": "code",
   "execution_count": 3,
   "metadata": {
    "collapsed": true,
    "deletable": true,
    "editable": true
   },
   "outputs": [],
   "source": [
    "def sum_av_to_tall(a, b):\n",
    "    '''\n",
    "    Denne funksjonen returnerer summen av to tall.\n",
    "    Tallene sendes inn som to innparameter. a og b.\n",
    "    '''\n",
    "    return a + b"
   ]
  },
  {
   "cell_type": "markdown",
   "metadata": {
    "deletable": true,
    "editable": true
   },
   "source": [
    "Vi kan nå bruke kommandoen ```help(sum_av_to_tall)``` for å skrive ut docstringen."
   ]
  },
  {
   "cell_type": "code",
   "execution_count": 4,
   "metadata": {
    "collapsed": false,
    "deletable": true,
    "editable": true
   },
   "outputs": [
    {
     "name": "stdout",
     "output_type": "stream",
     "text": [
      "Help on function sum_av_to_tall in module __main__:\n",
      "\n",
      "sum_av_to_tall(a, b)\n",
      "    Denne funksjonen returnerer summen av to tall.\n",
      "    Tallene sendes inn som to innparameter. a og b.\n",
      "\n"
     ]
    }
   ],
   "source": [
    "help(sum_av_to_tall)"
   ]
  },
  {
   "cell_type": "markdown",
   "metadata": {
    "deletable": true,
    "editable": true
   },
   "source": [
    "La oss nå kjøre funksjonen:"
   ]
  },
  {
   "cell_type": "code",
   "execution_count": 5,
   "metadata": {
    "collapsed": false,
    "deletable": true,
    "editable": true
   },
   "outputs": [
    {
     "data": {
      "text/plain": [
       "12"
      ]
     },
     "execution_count": 5,
     "metadata": {},
     "output_type": "execute_result"
    }
   ],
   "source": [
    "sum_av_to_tall(3, 9)"
   ]
  },
  {
   "cell_type": "markdown",
   "metadata": {
    "deletable": true,
    "editable": true
   },
   "source": [
    "Utfordring: Kan du forklare neste kodelinje i detalj til en medelev?"
   ]
  },
  {
   "cell_type": "code",
   "execution_count": 6,
   "metadata": {
    "collapsed": false,
    "deletable": true,
    "editable": true
   },
   "outputs": [
    {
     "name": "stdout",
     "output_type": "stream",
     "text": [
      "Summen av 3 og 9 er 12\n"
     ]
    }
   ],
   "source": [
    "tall1 = 3\n",
    "tall2 = 9\n",
    "print('Summen av {} og {} er {}'.format(tall1, tall2, sum_av_to_tall(tall1, tall2)))"
   ]
  }
 ],
 "metadata": {
  "kernelspec": {
   "display_name": "Python 3",
   "language": "python",
   "name": "python3"
  },
  "language_info": {
   "codemirror_mode": {
    "name": "ipython",
    "version": 3
   },
   "file_extension": ".py",
   "mimetype": "text/x-python",
   "name": "python",
   "nbconvert_exporter": "python",
   "pygments_lexer": "ipython3",
   "version": "3.6.3"
  }
 },
 "nbformat": 4,
 "nbformat_minor": 2
}

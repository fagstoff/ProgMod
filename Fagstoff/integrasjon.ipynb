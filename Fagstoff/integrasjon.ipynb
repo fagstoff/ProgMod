{
 "cells": [
  {
   "cell_type": "markdown",
   "metadata": {},
   "source": [
    "# Integral som areal\n",
    "\n",
    "__Creative Commons BY-SA : bitjungle (Rune Mathisen) og fuzzbin (Tom Jarle Christiansen)__\n",
    "\n",
    "<hr/>\n",
    "\n",
    "<img alt=\"Opphavsmann: 4C Lisens: Creative Commons Attribution-Share Alike 3.0 Unported\" style=\"float: right; margin-left: 10px;\" src=\"img/integral.png\">\n",
    "\n",
    "**Matematisk svarer beregning av flateinnholdet $S$ til integrasjon. Det arealet som begrenses ved x-aksen, to ordinater x = a og x = b og kurven y = f(x), er gitt ved det bestemte integral Kilde: [SNL](https://snl.no/areal)**\n",
    "\n",
    "Dette kan skrives som $$S = \\int_{a}^{b} f(x) dx$$"
   ]
  },
  {
   "cell_type": "markdown",
   "metadata": {},
   "source": [
    "## Arealet under en funksjon\n",
    "\n",
    "La oss se på funksjonen $-x^2 + 25$, og lage en utskrift av denne."
   ]
  },
  {
   "cell_type": "code",
   "execution_count": 2,
   "metadata": {},
   "outputs": [
    {
     "name": "stdout",
     "output_type": "stream",
     "text": [
      "x-verdier:  [-5, -4, -3, -2, -1, 0, 1, 2, 3, 4, 5]\n",
      "y-verdier:  [0, 9, 16, 21, 24, 25, 24, 21, 16, 9, 0]\n"
     ]
    },
    {
     "data": {
      "image/png": "[encoded data removed]",
      "text/plain": [
       "<Figure size 432x288 with 1 Axes>"
      ]
     },
     "metadata": {
      "needs_background": "light"
     },
     "output_type": "display_data"
    }
   ],
   "source": [
    "import matplotlib.pyplot as plt\n",
    "import numpy as np\n",
    "\n",
    "# Deinerer en funksjon\n",
    "def f(x):\n",
    "    return -x**2 + 25\n",
    "\n",
    "x_verdier = []\n",
    "y_verdier = []\n",
    "\n",
    "for x in range(-5,6):\n",
    "    x_verdier.append(x)\n",
    "    y_verdier.append(f(x))\n",
    "\n",
    "print(\"x-verdier: \", x_verdier)\n",
    "print(\"y-verdier: \", y_verdier)\n",
    "\n",
    "plt.plot(x_verdier, y_verdier)\n",
    "plt.grid()\n",
    "plt.show()    "
   ]
  },
  {
   "cell_type": "markdown",
   "metadata": {},
   "source": [
    "Arealet under en funksjon kan ha mange betydninger. I fysikk er arelet under en fartsgraf v(t) det samme som tilbakelagt strekning. Totallønn, strømforbruk m.m. er andre eksmepler.\n",
    "\n",
    "For å finne arealet under en funksjon uten å måtte integrere kan vi bruke en teknikk som kalles Riemannsum. Den baserer seg på at vi lager mange rektangler med en fast bredde. Høyden på hvert enkelt rektangel tilsvarer funksjonsverdien. Hvis vi summerer arealet av alle rektanglene får vi en ganske god tilnærming av totalarealet under funksjonen. Hvis vi gjør bredden på hvert enkelt rektangel mindre får vi en bedre tilnærimg."
   ]
  },
  {
   "cell_type": "markdown",
   "metadata": {},
   "source": [
    "<img alt=\"Opphavsmann: Mestigoit Lisens: Creative Commons Attribution-Share Alike 3.0 Unported\" style=\"width: 200px; margin-left: 30px;\" src=\"img/Riemannsum_left.gif\">\n",
    "\n",
    "By <a href=\"//commons.wikimedia.org/wiki/User:09glasgow09\" title=\"User:09glasgow09\">09glasgow09</a> - <span class=\"int-own-work\" lang=\"en\">Own work</span>, <a href=\"https://creativecommons.org/licenses/by-sa/3.0\" title=\"Creative Commons Attribution-Share Alike 3.0\">CC BY-SA 3.0</a>, <a href=\"https://commons.wikimedia.org/w/index.php?curid=7697902\">Link</a>\n",
    "\n",
    "<img alt=\"Opphavsmann: Mestigoit Lisens: Creative Commons Attribution-Share Alike 3.0 Unported\" style=\"width: 200px; margin-left: 30px;\" src=\"img/Riemansum_1.gif\">\n",
    "\n",
    "I figurene ser vi at de grønne rektanglene har ulik bredde. Mindre bredde gir flere rektangler og bedre tilnæring.\n",
    "\n",
    "<img alt=\"Opphavsmann: Mestigoit Lisens: Creative Commons Attribution-Share Alike 3.0 Unported\" style=\"width: 200px; margin-left: 30px;\" src=\"img/Riemansum_2.gif\">\n",
    "User Sten André on sv.wikipedia [Public domain], <a href=\"https://commons.wikimedia.org/wiki/File:Riemansumma_2.gif\">from Wikimedia Commons</a>\n",
    "\n",
    "Når vi deler inn arealet under en funksjon på denne måten kalles det en Riemansum. Denne skrives slik: $$S = \\sum_{n=0}^n f(x_n) \\cdot \\Delta x$$\n",
    "\n",
    "Skal vi implementere dette i Pyhotn gjøres det ganske enkelt med koden under."
   ]
  },
  {
   "cell_type": "code",
   "execution_count": 7,
   "metadata": {},
   "outputs": [
    {
     "name": "stdout",
     "output_type": "stream",
     "text": [
      "Arealet under grafen er 163.625\n"
     ]
    }
   ],
   "source": [
    "# Beregner arealet under grafen numerisk.\n",
    "A = 0\n",
    "dx = 0.5 # bredden på hvert rektangel\n",
    "\n",
    "for x in np.arange(-5,6,dx): # -5 og 6 er definisjonsområdet\n",
    "    A += f(x) * dx\n",
    "\n",
    "print(\"Arealet under grafen er {}\".format(A))"
   ]
  },
  {
   "cell_type": "markdown",
   "metadata": {},
   "source": [
    "## Oppgaver\n",
    "\n",
    "* En bedrift slipper ut 100 tonn av en klimagass hver måned. Dette kan ikke fortsette, så de setter seg mål om å redusere gradvis utslippene med 4% hver måned. Finn samlet utslipp de neste fem årene.\n",
    "\n",
    "* Funksjonen $T(x)=3.2\\sin(0.3x-4.5)+10.5$ når $t\\in[0,24]$ er en modell for hvordan temperaturen endrer seg i løpet av et døgn et sted i Norge. Temperaturen $T$ er målt i °C, og $x$ er antall timer etter midnatt. Plot funksjonen $T(x)$, og bruk integrasjon til å finne gjennomsnittstemperaturen denne dagen."
   ]
  },
  {
   "cell_type": "code",
   "execution_count": null,
   "metadata": {},
   "outputs": [],
   "source": []
  }
 ],
 "metadata": {
  "kernelspec": {
   "display_name": "Python 3",
   "language": "python",
   "name": "python3"
  },
  "language_info": {
   "codemirror_mode": {
    "name": "ipython",
    "version": 3
   },
   "file_extension": ".py",
   "mimetype": "text/x-python",
   "name": "python",
   "nbconvert_exporter": "python",
   "pygments_lexer": "ipython3",
   "version": "3.7.1"
  }
 },
 "nbformat": 4,
 "nbformat_minor": 2
}

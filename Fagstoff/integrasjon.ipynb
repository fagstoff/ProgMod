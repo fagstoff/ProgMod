{
 "cells": [
  {
   "cell_type": "markdown",
   "metadata": {},
   "source": [
    "# Integral som areal\n",
    "\n",
    "__Creative Commons BY-SA : bitjungle (Rune Mathisen) og fuzzbin (Tom Jarle Christiansen)__\n",
    "\n",
    "<hr/>\n",
    "\n",
    "<img alt=\"Opphavsmann: 4C Lisens: Creative Commons Attribution-Share Alike 3.0 Unported\" style=\"float: right; margin-left: 10px;\" src=\"img/integral.png\">\n",
    "\n",
    "**[Integralregning](https://snl.no/integralregning) er en matematisk operasjon som utføres på en matematisk funksjon. Tenk deg at vi har en kurve  $y=f(x)$ og to ordinater $x = a$ og $x = b$. Matematisk svarer beregning av flateinnholdet $S$ til integrasjon. Det arealet $S$ som begrenses av x-aksen, kurven og de to ordinatene, er gitt ved et bestemt integral. Dette kan skrives som:** $$S = \\int_{a}^{b} f(x) dx$$\n",
    "\n",
    "\n",
    "> Denne siden dekker helt eller delvis kompetansemålene: [Matematiske metoder 1, 4 og 5](https://github.com/fagstoff/ProgMod/blob/master/L%C3%A6replan/kompetansem%C3%A5l.md#matematiske-metoder)"
   ]
  },
  {
   "cell_type": "markdown",
   "metadata": {},
   "source": [
    "## Numerisk beregning av arealet under en funksjon"
   ]
  },
  {
   "cell_type": "markdown",
   "metadata": {},
   "source": [
    "Arealet under en funksjon kan ha mange betydninger. I fysikk er for eksempel arealet under en fartsgraf $v(t)$ det samme som tilbakelagt strekning. \n",
    "\n",
    "For å finne arealet under en funksjon uten å integrere kan vi bruke en teknikk hvor vi lager mange rektangler med en fast bredde. Høyden på hvert enkelt rektangel tilsvarer funksjonsverdien. \n",
    "\n",
    "Hvis vi summerer arealet av alle rektanglene får vi en ganske god tilnærming av totalarealet under funksjonen. Hvis vi gjør bredden på hvert enkelt rektangel mindre får vi en bedre tilnærming."
   ]
  },
  {
   "cell_type": "markdown",
   "metadata": {},
   "source": [
    "<img alt=\"Opphavsmann: Mestigoit Lisens: Creative Commons Attribution-Share Alike 3.0 Unported\" style=\"width: 200px; margin-left: 30px;\" src=\"img/Riemannsum_left.gif\">\n",
    "\n",
    "By <a href=\"//commons.wikimedia.org/wiki/User:09glasgow09\" title=\"User:09glasgow09\">09glasgow09</a> - <span class=\"int-own-work\" lang=\"en\">Own work</span>, <a href=\"https://creativecommons.org/licenses/by-sa/3.0\" title=\"Creative Commons Attribution-Share Alike 3.0\">CC BY-SA 3.0</a>, <a href=\"https://commons.wikimedia.org/w/index.php?curid=7697902\">Link</a>\n",
    "\n",
    "Når vi deler inn arealet under en funksjon på denne måten kalles det en Riemansum. Denne skrives slik: $$S = \\sum_{n=0}^n f(x_n) \\cdot \\Delta x$$"
   ]
  },
  {
   "cell_type": "markdown",
   "metadata": {},
   "source": [
    "## Beregning av areal med Pyton\n",
    "\n",
    "La oss se på den enkle funksjonen $f(x)=x^2$ når $x\\in[0,5]$, og lage en utskrift av denne med Python som vist i eksemplet under."
   ]
  },
  {
   "cell_type": "code",
   "execution_count": 7,
   "metadata": {},
   "outputs": [
    {
     "data": {
      "image/png": "[encoded data removed]",
      "text/plain": [
       "<Figure size 432x288 with 1 Axes>"
      ]
     },
     "metadata": {
      "needs_background": "light"
     },
     "output_type": "display_data"
    }
   ],
   "source": [
    "import matplotlib.pyplot as plt\n",
    "import numpy as np\n",
    "\n",
    "# Deinerer funksjonen\n",
    "def f(x):\n",
    "    return x**2\n",
    "\n",
    "# Gjør klar listene for x- og y-verdier\n",
    "x_verdier = [] \n",
    "y_verdier = []\n",
    "\n",
    "# Fyller listene med verdier\n",
    "for x in np.arange(0, 5.1, 0.1):\n",
    "    x_verdier.append(x)\n",
    "    y_verdier.append(f(x))\n",
    "\n",
    "plt.plot(x_verdier, y_verdier, label='$f(x)=x^2$')\n",
    "plt.legend()\n",
    "plt.grid()\n",
    "plt.show()    "
   ]
  },
  {
   "cell_type": "markdown",
   "metadata": {},
   "source": [
    "Vi skal nå lage rektangler på samme måte som forklart ovenfor. Vi bruker denne koden:"
   ]
  },
  {
   "cell_type": "code",
   "execution_count": 2,
   "metadata": {},
   "outputs": [
    {
     "name": "stdout",
     "output_type": "stream",
     "text": [
      "Arealet under grafen er 41.667 enheter\n"
     ]
    }
   ],
   "source": [
    "# Beregner arealet under grafen numerisk.\n",
    "A = 0 # Initierer variabelen som skal inneholde totalarealet.\n",
    "dx = 1E-6 # bredden på hvert rektangel\n",
    "\n",
    "for x in np.arange(0, 5+dx, dx): # Itererer fra 0 til 5 med rektangelbredde dx\n",
    "    A += f(x) * dx # Legger til arealet av et nytt rektangel til totalarealet\n",
    "\n",
    "print(\"Arealet under grafen er {:.3f} enheter\".format(A))"
   ]
  },
  {
   "cell_type": "markdown",
   "metadata": {},
   "source": [
    "## Ulike måter å summere rektangler\n",
    "\n",
    "Ved å plassere rektanglene på litt ulike steder vil summeringen gi litt ulike resultat.\n",
    "\n",
    "\n",
    "Venstre | Høyre | Midt\n",
    ":-------------------------:|:-------------------------:|:-------------------------------:\n",
    "<img alt=\"Opphavsmann: Mestigoit Lisens: Creative Commons Attribution-Share Alike 3.0 Unported\" style=\"width: 200px; margin-left: 30px;\" src=\"img/Riemann-venstre.png\">  |  <img alt=\"Opphavsmann: Mestigoit Lisens: Creative Commons Attribution-Share Alike 3.0 Unported\" style=\"width: 200px; margin-left: 30px;\" src=\"img/Riemann-hoyre.png\"> | <img alt=\"Opphavsmann: Mestigoit Lisens: Creative Commons Attribution-Share Alike 3.0 Unported\" style=\"width: 200px; margin-left: 30px;\" src=\"img/Riemann-midt.png\">\n",
    "Qef [Public domain], <a href=\"https://commons.wikimedia.org/wiki/File:MidRiemann2.svg\">from Wikimedia Commons</a>\n",
    "\n",
    "\n",
    "### Venstresum\n",
    "\n",
    "Den enkleste Riemannsummeringen er en venstresum. Her vil øverste venstre hjørne på hvert rektangel være plassert på funksjonen, og så multipliserer vi denne med bredden $dx$. Funksjonen i eksemplet under er et venstresumareal for en funksjon $f(x)$ når $x\\in[a,b]$"
   ]
  },
  {
   "cell_type": "code",
   "execution_count": 3,
   "metadata": {},
   "outputs": [],
   "source": [
    "def A_v(f, a, b, dx):\n",
    "    A = 0\n",
    "    for x in np.arange(a, b, dx):\n",
    "        A += f(x) * dx\n",
    "    return A"
   ]
  },
  {
   "cell_type": "markdown",
   "metadata": {},
   "source": [
    "### Høyresum\n",
    "\n",
    "Denne metoden ligner veldig på venstresum, men i dette tilfellet vil øverste høyre hjørne på hvert rektangel plasseres på funksjonen. Koden i eksempelet under viser høyresumareal for en funksjon $f(x)$ når $x\\in[a,b]$"
   ]
  },
  {
   "cell_type": "code",
   "execution_count": 4,
   "metadata": {},
   "outputs": [],
   "source": [
    "def A_h(f, a, b, dx):\n",
    "    A = 0\n",
    "    for x in np.arange(a, b, dx):\n",
    "        A += f(x + dx) * dx\n",
    "    return A"
   ]
  },
  {
   "cell_type": "markdown",
   "metadata": {},
   "source": [
    "### Midtsum\n",
    "\n",
    "I denne metoden plasseres midten av topplinjen på hvert rektangel plasseres på funksjonen. Koden i eksempelet under viser midtsumareal for en funksjon $f(x)$ når $x\\in[a,b]$"
   ]
  },
  {
   "cell_type": "code",
   "execution_count": 5,
   "metadata": {},
   "outputs": [],
   "source": [
    "def A_m(f, a, b, dx):\n",
    "    A = 0\n",
    "    for x in np.arange(a, b, dx):\n",
    "        A += f(x + dx/2) * dx\n",
    "    return A"
   ]
  },
  {
   "cell_type": "markdown",
   "metadata": {},
   "source": [
    "La oss sammenlikne resultatene fra de tre metodene."
   ]
  },
  {
   "cell_type": "code",
   "execution_count": 6,
   "metadata": {},
   "outputs": [
    {
     "name": "stdout",
     "output_type": "stream",
     "text": [
      "Venstresum:  1.75\n",
      "Midtsum:  3.75\n",
      "Høyresum:  2.625\n"
     ]
    }
   ],
   "source": [
    "print(\"Venstresum: \", A_v(f, 0, 2, 0.5))\n",
    "print(\"Midtsum: \", A_h(f, 0, 2, 0.5))\n",
    "print(\"Høyresum: \", A_m(f, 0, 2, 0.5))"
   ]
  },
  {
   "cell_type": "markdown",
   "metadata": {},
   "source": [
    "Fasitsvaret er $\\frac{8}{3} \\approx 2.67$, og vi ser at i dette spesielle tilfellet er høyresum nærmest."
   ]
  },
  {
   "cell_type": "markdown",
   "metadata": {},
   "source": [
    "## Oppgaver\n",
    "\n",
    "1. Ta utgangspunkt i funksjonen $f(x) = x^2$, og integrer fra $x=0$ til $x=2$ i Geogebra. Sammenlikn med svarene fra venstresum, høyresum og midtsum ovenfor. Forsøk med ulike bredder $dx$ for å forbedre resultatene.\n",
    "\n",
    "2. En husstands strømforbruk i antall kW gjennom et døgn er gitt ved funksjonen $f(t)=-0.003t^3+0.1t^2-0.7t+2$ for $t\\in[0,24]$ timer. Hva er husstandens totale strømforbruk i kWh dette døgnet? (Kilde: [nkhansen](https://www.nkhansen.com/category/matematikk/funksjoner/integrasjon/))\n",
    "\n",
    "3. Funksjonen $T(t)=3.2\\sin(0.3t-4.5)+10.5$ når $t\\in[0,24]$ er en modell for hvordan temperaturen endrer seg i løpet av et døgn et sted i Norge. Temperaturen $T$ er målt i °C, og $t$ er antall timer etter midnatt. Plot funksjonen $T(t)$, og bruk integrasjon til å finne gjennomsnittstemperaturen denne dagen. (Kilde: NDLA - R2 - [Oppgave 3.8.10](https://ndla.no/sites/default/files/r2_funksjoner_oppgaver_nb_02.12.2016.pdf) )\n",
    "\n",
    "4. Farten til en bil er gitt ved funksjonen $v(t)=-4\\cdot\\left(\\frac{t}{1000}\\right)^3 + \\frac{t}{50}$ for $t\\in[0,2250]$. Finn tilbakelagt strekning i det samme intervallet. Beskriv bevegelsen til bilen.\n",
    "\n",
    "5. Regn ut arealet under funksjonen $f(x)=x^2$ når $x\\in[0,5]$ med venstre-,høyre- og midtpunktssummereing. Hver deloppgave skal løses tre ganger med rektangelbredder (dx) på 1, 0.1 og 0.001. Skriv ned resultatene. Hva ser du?\n",
    "\n",
    "6. Regn ut arealet under funksjonen $f(x)=x^2$ når $x\\in[-5,0]$ med venstre-,høyre- og midtpunktssummereing. Hver deloppgave skal løses tre ganger med rektangelbredder (dx) på 1, 0.1 og 0.001. Skriv ned resultatene. Hva ser du? Sammenlikn resultatene med oppgave 4.\n",
    "\n",
    "7. Vi har fått måledata på hastigheten til en bil fra den starter til det har gått 6 minutter, og tilpasset en funksjon til måledataene. Bruk funksjonen som er gitt nedenfor, og gjør en beregning for å finne ut hvor langt bilen har kjørt. Pass på enhetene som brukes.\n",
    "\n",
    "<img alt=\"Graf tid/hastighet. Lisens: CC0\" src=\"img/fart-tid.png\">\n",
    "\n"
   ]
  },
  {
   "cell_type": "code",
   "execution_count": null,
   "metadata": {},
   "outputs": [],
   "source": []
  }
 ],
 "metadata": {
  "kernelspec": {
   "display_name": "Python 3",
   "language": "python",
   "name": "python3"
  },
  "language_info": {
   "codemirror_mode": {
    "name": "ipython",
    "version": 3
   },
   "file_extension": ".py",
   "mimetype": "text/x-python",
   "name": "python",
   "nbconvert_exporter": "python",
   "pygments_lexer": "ipython3",
   "version": "3.7.4"
  }
 },
 "nbformat": 4,
 "nbformat_minor": 2
}

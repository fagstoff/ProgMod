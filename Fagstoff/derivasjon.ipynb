{
 "cells": [
  {
   "cell_type": "markdown",
   "metadata": {},
   "source": [
    "# Derivasjon\n",
    "__Creative Commons BY-SA : fuzzbin (Tom Jarle Christiansen) og bitjungle (Rune Mathisen)__\n",
    "\n",
    "<hr/>\n",
    "<img alt=\"Opphavsmann: Johann1301h Lisens: Creative Commons BY-SA 3.0 Unported\" title=\"Opphavsmann: Johann1301h Lisens: Creative Commons BY-SA 4.0 Unported\" style=\"width: 200px; float: right; margin-left: 30px;\" src=\"img/derivasjon.gif\">\n",
    "\n",
    "__[Derivasjon](https://snl.no/derivasjon_-_matematikk) er en operasjon på en funksjon som forteller om hvordan funksjonen endrer seg, altså hvordan funksjonsverdien stiger eller synker. Det å utføre en derivasjon kalles å derivere funksjonen.__\n",
    "\n",
    "For en funksjon f(x) er den deriverte funksjonen [ekvivalent](https://no.wiktionary.org/wiki/ekvivalent) med følgende begreper:\n",
    "\n",
    "1. Den momentane vekstraten til funksjonen f(x)\n",
    "2. Stigningstallet til tangenten til funksjonen f(x) i punktet x\n",
    "\n",
    "> Denne siden dekker helt eller delvis kompetansemålene: [Matematiske metoder 1, 4 og 5](https://github.com/fagstoff/ProgMod/blob/master/L%C3%A6replan/kompetansem%C3%A5l.md#matematiske-metoder)\n",
    "\n",
    "\n"
   ]
  },
  {
   "cell_type": "markdown",
   "metadata": {},
   "source": [
    "## Definisjon av den deriverte - Newtons kvotient\n",
    "\n",
    "Vi vet at vi kan finne gjennomsnitlig vekstfart ved å se på endringen i funksjonsverdi i et gitt intervall.\n",
    "\n",
    "$$\\bar{a}=\\frac{y_2-y_1}{x_2-x_1}$$\n",
    "\n",
    "Hvis vil velger å se på mindre og mindre intervaller (grenseverdien $h=x_2-x_1$ går mot $0$), har vi:\n",
    "\n",
    "$$f'(x)=\\lim_{h \\to 0}\\frac{f(x + h)-f(x)}{h}$$\n",
    "\n",
    "### Eksempel\n",
    "\n",
    "Vi begynner med å definere den deriverte med programkode:"
   ]
  },
  {
   "cell_type": "code",
   "execution_count": 1,
   "metadata": {},
   "outputs": [],
   "source": [
    "def derivert(f,x,h):\n",
    "    return (f(x+h)-f(x)) / h"
   ]
  },
  {
   "cell_type": "markdown",
   "metadata": {},
   "source": [
    "Så definerer vi funksjonen $f(x) = x^2 + 2x -3$"
   ]
  },
  {
   "cell_type": "code",
   "execution_count": 3,
   "metadata": {},
   "outputs": [],
   "source": [
    "def f(x):\n",
    "    return x**2 + 2 * x - 3"
   ]
  },
  {
   "cell_type": "markdown",
   "metadata": {},
   "source": [
    "Vi vet fra klassisk matematikk at $f'(x) = 2x+2$ når $f(x)=x^2+2x-3$.\n",
    "\n",
    "Setter vi inn en verdi for x i den deriverte, for eksempel 5, har vi $f'(5) = 2\\cdot5+2=12$ som da er den deriverte av $f(x)$ i punktet $x=12$\n",
    "\n",
    "Ved å bruk de definerte funksjonene i python har vi:"
   ]
  },
  {
   "cell_type": "code",
   "execution_count": 4,
   "metadata": {},
   "outputs": [
    {
     "name": "stdout",
     "output_type": "stream",
     "text": [
      "12.099999999999937\n"
     ]
    }
   ],
   "source": [
    "print(derivert(f,5,0.1))"
   ]
  },
  {
   "cell_type": "markdown",
   "metadata": {},
   "source": [
    "## En forbedret utgave - Newtons symmetriske kvotient\n",
    "La oss se om vi kan forbedre definisjonen ved å se på et symmetrisk område rundt x. Vi modifiserer uttrykket for den deriverte slik:\n",
    "\n",
    "$$f'(x)=\\lim_{h \\to 0}\\frac{f(x + h)-f(x - h)}{2h}$$\n",
    "\n",
    "Vi lar nå grenseverdien nærme seg symetrisk fra begge sider."
   ]
  },
  {
   "cell_type": "code",
   "execution_count": 5,
   "metadata": {},
   "outputs": [],
   "source": [
    "def derivert_2h(f,x,h):\n",
    "    return (f(x+h)-f(x-h)) / (2*h)"
   ]
  },
  {
   "cell_type": "code",
   "execution_count": 6,
   "metadata": {},
   "outputs": [
    {
     "name": "stdout",
     "output_type": "stream",
     "text": [
      "11.999999999999957\n"
     ]
    }
   ],
   "source": [
    "print(derivert_2h(f,5,0.1))"
   ]
  },
  {
   "cell_type": "markdown",
   "metadata": {},
   "source": [
    "## Oppgaver\n",
    "\n",
    "1. Studer koden i eksemplene over. \n",
    "    * Hva er $h$ i eksemplene over?\n",
    "    * Hva skjer når du endrer på $h$?\n",
    "    * Deriver funksjonen $f(x)=x^2+2x-3$ i GeoGebra og sammenlign med resultatene i eksemplene. Hva ser du?\n",
    "2. Bruk numerisk derivasjon og tegn en graf for $f'(x)$ når x$\\epsilon[0,10]$ for $f(x)=x^3-2x^2-x+5$\n",
    "3. Bruk numerisk derivasjon og tegn en graf for $f(x)$ og $f^\\prime(x)$ for $f(x) = sin(x)$ når x$\\epsilon[0,360]$\n",
    "4. Den andrederiverte til en funksjon kan beregnes numerisk med denne formelen: $$ f''(x) = \\frac{f(x+h)-2f(x)+f(x-h)}{h^2}$$ Lag en funksjon i Python som beregner den andrederiverte, og beregn andrederiverte til funksjonene i oppgave 2 og 3 numerisk.\n",
    "5. Fra fysikken vet vi at: $$a(t)=v'(t)=s''(t)$$ Finn strekning, fart og akselerasjon for $t=10$s når du får oppgitt at: $$s(t)=-0.01t^3+0.3t^2+8t$$ når $t\\in[0,10]$."
   ]
  },
  {
   "cell_type": "code",
   "execution_count": null,
   "metadata": {},
   "outputs": [],
   "source": []
  }
 ],
 "metadata": {
  "kernelspec": {
   "display_name": "Python 3",
   "language": "python",
   "name": "python3"
  },
  "language_info": {
   "codemirror_mode": {
    "name": "ipython",
    "version": 3
   },
   "file_extension": ".py",
   "mimetype": "text/x-python",
   "name": "python",
   "nbconvert_exporter": "python",
   "pygments_lexer": "ipython3",
   "version": "3.7.0"
  }
 },
 "nbformat": 4,
 "nbformat_minor": 2
}

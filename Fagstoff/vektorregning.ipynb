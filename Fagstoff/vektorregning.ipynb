{
 "cells": [
  {
   "cell_type": "markdown",
   "metadata": {},
   "source": [
    "# Vektorregning\n",
    "__Creative Commons BY-SA : bitjungle (Rune Mathisen) og fuzzbin (Tom Jarle Christiansen)__\n",
    "\n",
    "<hr/>\n",
    "\n",
    "<img alt=\"Vektor\" style=\"float: right; margin-left: 10px;\" src=\"img/vektor.png\">\n",
    "\n",
    "**I fysikk- og kjemiberegninger jobber vi ofte med parametre som har både en størrelse og en bestemt retning. Det kan for eksempel være et legeme som faller mot bakken med en konstant akselerasjon. Når vi jobber med slike parametre, kan vi bruke vektorregning. Det kan også være nyttig å jobbe med vektorer i geometriske problemer. Her skal vi se på et slikt eksempel.**\n",
    "\n",
    "> Denne siden dekker helt eller delvis kompetansemålene: [Matematiske metoder 1](https://github.com/fagstoff/ProgMod/blob/master/L%C3%A6replan/kompetansem%C3%A5l.md#modellering)\n",
    "\n",
    "Noen ganger kan det være nyttig å la en datamaskin regne på ting som kan være vanskelig å avgjøre med det blotte øye. Et slikt eksempel kan være å sjekke om tre vilkårlige punkter i et koordinatsystem ligger på en rett linje. Vi skal løse et slikt problem med vektorregning.\n",
    "\n",
    "<hr />\n",
    "\n",
    "<img alt=\"Tre punkter\" src=\"img/tre_punkter.png\">\n",
    "\n",
    "<hr />\n",
    "\n",
    "\n",
    "## Lese inn data\n",
    "\n",
    "Det første vi gjør er å lage kode der brukeren kan taste inn tre vilkårlige punkter på formen $x \\ y$."
   ]
  },
  {
   "cell_type": "code",
   "execution_count": 1,
   "metadata": {
    "collapsed": true
   },
   "outputs": [],
   "source": [
    "# Importerer biblioteker som skal brukes\n",
    "import numpy as np\n",
    "import matplotlib.pyplot as plt\n",
    "\n",
    "# Leser inn tre punkter og konverterer til liste.\n",
    "P1 = list(map(int, input(\"Tast inn punkt P1 pa formen <x y>:\").split()))\n",
    "P2 = list(map(int, input(\"Tast inn punkt P2 pa formen <x y>:\").split()))\n",
    "P3 = list(map(int, input(\"Tast inn punkt P3 pa formen <x y>:\").split()))"
   ]
  },
  {
   "cell_type": "markdown",
   "metadata": {},
   "source": [
    "## Beregning\n",
    "\n",
    "Vi må nå gjøre noen beregninger. Det enkleste er å bruke vektorregning. Vi lar $ \\overrightarrow{v_1} $ være vektoren mellom $P1$ og $P3$. Så lar vi $\\overrightarrow{v_2} $ være vektoren mellom $P1$ og $P2$.\n",
    "\n",
    "Hvis $\\overrightarrow{v_1} \\times \\overrightarrow{v_2} = 0 $ kan vi si at $P1$, $P2$ og $P3$ ligger på en rett linje. Animasjonen nedenfor viser kryssproduktet til to vektorer når vi roterer den ene vektoren. Legg merke til at kryssproduktet blir 0 i to tilfeller.\n",
    "\n",
    "<img src=\"img/cross_product.gif\" alt=\"Kryssproduktet til to vektorer\">\n",
    "\n",
    "Nå kan vi lage en funksjon som tar våre tre punker som innparameter, og returnerer [True]() (ligger på samme line) eller [False]() (ligger *ikke* på samme linje)."
   ]
  },
  {
   "cell_type": "code",
   "execution_count": 2,
   "metadata": {
    "collapsed": true
   },
   "outputs": [],
   "source": [
    "def ligger_pa_linje(punkt1, punkt2, punkt3):\n",
    "    # Avgjør om punktene ligger på en rett linje. Returnerer True/False\n",
    "    # Lager to vektorer av punktene P1, P2 og P3\n",
    "    v_1 = np.array(punkt3) - np.array(punkt1)\n",
    "    v_2 = np.array(punkt2) - np.array(punkt1)\n",
    "    print(\"Vi lager vektorene {} og {} basert på \".format(v_1, v_2))\n",
    "    # Sjekker om kryssporduktet er null\n",
    "    if np.cross(v_1, v_2) == 0:\n",
    "        return True\n",
    "    else:\n",
    "        return False"
   ]
  },
  {
   "cell_type": "markdown",
   "metadata": {},
   "source": [
    "## Utskrift og resultat\n",
    "\n",
    "Da gjenstår det bare å lage hovedprogrammet, med informativ tekst og utskrift."
   ]
  },
  {
   "cell_type": "code",
   "execution_count": 3,
   "metadata": {
    "collapsed": false
   },
   "outputs": [
    {
     "name": "stdout",
     "output_type": "stream",
     "text": [
      "Vi lager vektorene [4 4] og [2 2] basert på \n",
      "punktene [1, 1], [3, 3] og [5, 5], og de ligger pa en rett linje\n"
     ]
    },
    {
     "data": {
      "image/png": "[encoded data removed]",
      "text/plain": [
       "<matplotlib.figure.Figure at 0x1122535c0>"
      ]
     },
     "metadata": {},
     "output_type": "display_data"
    },
    {
     "name": "stdout",
     "output_type": "stream",
     "text": [
      "=== Have a nice day! ===\n"
     ]
    }
   ],
   "source": [
    "# Hovedfunksjonen - Skriver ut svar og plotter punktene\n",
    "\n",
    "if ligger_pa_linje(P1, P2, P3):\n",
    "    print(\"punktene {}, {} og {}, og de ligger pa en rett linje\".format(P1, P2, P3))\n",
    "else:\n",
    "    print(\"punktene {}, {} og {}, og de ligger ikke pa en rett linje\".format(P1, P2, P3))\n",
    "\n",
    "# Skriver ut punktene i et koordinatsystem\n",
    "plt.plot([P1[0], P2[0], P3[0]], [P1[1], P2[1], P3[1]], 'bo')\n",
    "plt.ylabel('Y')\n",
    "plt.xlabel('X')\n",
    "plt.show()\n",
    "\n",
    "print(\"=== Have a nice day! ===\")"
   ]
  },
  {
   "cell_type": "markdown",
   "metadata": {},
   "source": [
    "## Oppgaver\n",
    "\n",
    "1. Lag et program som regner ut [arealet av en trekant](https://ndla.no/nb/node/107182?fag=98361) avgrenset av tre punkter.\n",
    "2. Lag et program som avgjør om tre punkter danner en rettvinklet trekant.\n",
    "3. Lag et program som regner ut [volumet av en pyramide](https://ndla.no/nb/node/107244?fag=98361) med trekantet grunnflate og er avgrenset av fire punkter."
   ]
  },
  {
   "cell_type": "code",
   "execution_count": null,
   "metadata": {
    "collapsed": true
   },
   "outputs": [],
   "source": []
  }
 ],
 "metadata": {
  "kernelspec": {
   "display_name": "Python 3",
   "language": "python",
   "name": "python3"
  },
  "language_info": {
   "codemirror_mode": {
    "name": "ipython",
    "version": 3
   },
   "file_extension": ".py",
   "mimetype": "text/x-python",
   "name": "python",
   "nbconvert_exporter": "python",
   "pygments_lexer": "ipython3",
   "version": "3.6.0"
  }
 },
 "nbformat": 4,
 "nbformat_minor": 2
}

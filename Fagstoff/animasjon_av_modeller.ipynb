{
 "cells": [
  {
   "cell_type": "markdown",
   "metadata": {},
   "source": [
    "# Animasjon av modeller - Uferdig!\n",
    "__Creative Commons BY-SA : bitjungle (Rune Mathisen) og fuzzbin (Tom Jarle Christiansen)__\n",
    "\n",
    "<hr/>\n",
    "\n",
    "<img alt=\"Hester. Lisens: PD\" style=\"float: right; margin-left: 10px;\" src=\"img/animasjon-hester.jpg\">\n",
    "\n",
    "**Vi skal nå bruke pygame til å visualisere noen modeller**\n",
    "\n",
    "> Denne siden dekker helt eller delvis kompetansemålene: [Grunnleggende programmering 3 og 4](https://github.com/fagstoff/ProgMod/blob/master/L%C3%A6replan/kompetansem%C3%A5l.md#grunnleggende-programmering)"
   ]
  },
  {
   "cell_type": "markdown",
   "metadata": {},
   "source": [
    "## Vertikalt kast\n",
    "\n",
    "Vi skal nå visualisere et enkelt vertikalt kast. Vi ta utgangspunkt i bevegelseslikningen $ s(t)=s_0 + v_0 \\cdot t + \\frac{1}{2}\\cdot a \\cdot t^2 $\n",
    "\n",
    "Siden pygame ønsker å se på endring i posisjon mellom hvert animasjonstrinn (offset) deriverer vi $s(t)$ og får $ v(t) = v_0 + a \\cdot t $\n",
    "\n",
    "Siden vi vet at fart er endring av posisjon per tid, så passer dette perfekt med ``` pygame.move() ```-kommandoen som har nettopp dette som innparameter.\n",
    "\n"
   ]
  },
  {
   "cell_type": "code",
   "execution_count": 1,
   "metadata": {},
   "outputs": [],
   "source": [
    "# Vi implementerer først modellen v(t)\n",
    "def fart(tid):\n",
    "    return v_0 + a * t"
   ]
  },
  {
   "cell_type": "markdown",
   "metadata": {},
   "source": [
    "Vi tester om modellen gir oss fornuftige data."
   ]
  },
  {
   "cell_type": "code",
   "execution_count": 5,
   "metadata": {},
   "outputs": [
    {
     "name": "stdout",
     "output_type": "stream",
     "text": [
      "20.0\n",
      "15.095\n",
      "10.19\n",
      "5.285\n",
      "0.38\n",
      "-4.525\n",
      "-9.43\n",
      "-14.335\n",
      "-19.24\n",
      "-24.145\n"
     ]
    }
   ],
   "source": [
    "import numpy as np\n",
    "\n",
    "s_0 = 0 # Starthøyde\n",
    "v_0 = 20 # Startfart\n",
    "a = -9.81 # Tyngdens akselesrasjon\n",
    "\n",
    "for t in np.arange(0.0, 5.0, 0.5):\n",
    "    print(fart(t))"
   ]
  },
  {
   "cell_type": "markdown",
   "metadata": {},
   "source": [
    "Vi lager så to lister som kan brukes som x-, og y-parameter i ```pygame.move```-kommandoen."
   ]
  },
  {
   "cell_type": "code",
   "execution_count": 9,
   "metadata": {},
   "outputs": [],
   "source": [
    "# Liste med x-verdier - tiden\n",
    "xv = np.arange(0, 4, 0.05)\n",
    "yv = [] # tom liste som skal inneholde fart som funksjon av tid\n",
    "\n",
    "# Genererer alle verdier i lista\n",
    "for x in xv:\n",
    "    yv.append(-fart(x)) # Studer denne! Legger til ny verdi i lista. Minus grunnet koordinatsystemet i pygame."
   ]
  },
  {
   "cell_type": "markdown",
   "metadata": {},
   "source": [
    "Ved hjelp av en tellevariabel ```teller``` kan nå programmet under kjøres. Dette er en utvidelse av [eksempelet](https://github.com/fagstoff/ProgMod/blob/master/Fagstoff/animasjoner_med_pygame.ipynb) fra introduksjonen av pygame.\n",
    "\n",
    "Den komplette koden vil da være:"
   ]
  },
  {
   "cell_type": "markdown",
   "metadata": {},
   "source": [
    "``` python\n",
    "import sys\n",
    "import pygame\n",
    "import numpy as np\n",
    "\n",
    "# Definerer initialbetingelsene til modellen\n",
    "s0 = 0\n",
    "v0 = 20\n",
    "a = -9.81\n",
    "\n",
    "teller = 0 # index\n",
    "\n",
    "# fart som funksjon av tid\n",
    "def fart(tid):\n",
    "    return v0 + a * tid\n",
    "\n",
    "# Liste med x-verdier - tiden\n",
    "xv = np.arange(0, 4, 0.05)\n",
    "yv = [] # tom liste som skal inneholde fart som funksjon av tid\n",
    "\n",
    "# Genererer alle verdier i lista\n",
    "for x in xv:\n",
    "    yv.append(-fart(x)) # Studer denne! Legger til ny verdi i lista (append).\n",
    "                        #Minus grunnet koordinatsystemet.\n",
    "\n",
    "# Starter pygame\n",
    "pygame.init()\n",
    "\n",
    "field = pygame.image.load('bakgrunnsbilde')\n",
    "ball = pygame.image.load(\"animasjonsobjekt\")\n",
    "\n",
    "fieldrect = field.get_rect()\n",
    "ballrect = ball.get_rect()\n",
    "\n",
    "screen = pygame.display.set_mode(fieldrect.size)\n",
    "\n",
    "ballrect = ballrect.move(10, 600)\n",
    "\n",
    "while True:\n",
    "    for event in pygame.event.get():\n",
    "        if event.type == pygame.QUIT:\n",
    "            sys.exit()\n",
    "            \n",
    "    # Flytter ballen og øker teller\n",
    "    ballrect = ballrect.move([0, yv[teller]])\n",
    "    teller += 1\n",
    "\n",
    "    # Skriver ut bakgrunnsbilde og ballen i sin nye posisjon.\n",
    "    screen.blit(field, fieldrect)\n",
    "    screen.blit(ball, ballrect)\n",
    "    pygame.display.flip()\n",
    "````"
   ]
  },
  {
   "cell_type": "code",
   "execution_count": null,
   "metadata": {},
   "outputs": [],
   "source": []
  }
 ],
 "metadata": {
  "kernelspec": {
   "display_name": "Python 3",
   "language": "python",
   "name": "python3"
  },
  "language_info": {
   "codemirror_mode": {
    "name": "ipython",
    "version": 3
   },
   "file_extension": ".py",
   "mimetype": "text/x-python",
   "name": "python",
   "nbconvert_exporter": "python",
   "pygments_lexer": "ipython3",
   "version": "3.6.2"
  }
 },
 "nbformat": 4,
 "nbformat_minor": 2
}

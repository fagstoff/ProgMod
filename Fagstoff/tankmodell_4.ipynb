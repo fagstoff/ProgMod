{
 "cells": [
  {
   "cell_type": "markdown",
   "metadata": {
    "collapsed": true
   },
   "source": [
    "# Tankmodell - Vi fyller og tømmer tanken\n",
    "__Creative Commons BY-SA : bitjungle (Rune Mathisen) og fuzzbin (Tom Jarle Christiansen)__\n",
    "\n",
    "<hr/>\n",
    "\n",
    "<img alt=\"Opphavsmann: Life-Of-Pix Lisens: Creative Commons CC0\" title=\"Opphavsmann: Life-Of-Pix Lisens: Creative Commons CC0\" style=\"width: 200px; float: right; margin-left: 30px;\" src=\"img/tanks-406908_640.jpg\">\n",
    "\n",
    "__Tidligere har vi laget [en modell for en tank hvor det strømmer væske ut av et hull i bunnen av tanken](https://github.com/fagstoff/ProgMod/blob/master/Fagstoff/tankmodell_3.ipynb). Nå skal vi utvide denne modellen sånn at den har en tilførsel av væske i toppen også.__ \n",
    "\n",
    "> Denne siden dekker helt eller delvis kompetansemålene: <br>\n",
    "> [Grunnleggende programmering 2, 3 og 4](https://github.com/fagstoff/ProgMod/blob/master/L%C3%A6replan/kompetansem%C3%A5l.md#grunnleggende-programmering) <br>\n",
    "> [Matematiske metoder 1, 2, 4 og 5](https://github.com/fagstoff/ProgMod/blob/master/L%C3%A6replan/kompetansem%C3%A5l.md#matematiske-metoder) <br>\n",
    "> [Modellering 1](https://github.com/fagstoff/ProgMod/blob/master/L%C3%A6replan/kompetansem%C3%A5l.md#modellering)\n"
   ]
  },
  {
   "cell_type": "markdown",
   "metadata": {},
   "source": [
    "Vi skal nå se på situasjonen som er vist i figuren nedenfor, hvor det strømmer væske både inn i og ut av en tank samtidig.\n",
    "\n",
    "![Skisse av tanken](img/tank02.png)\n",
    "\n",
    "Tanken har tverrsnitt $A_t=2 \\ \\mathrm{m}^2$ over hele høyden til tanken. I toppen av tanken kommer det inn væske $q_{inn} = 0.005 \\ m^3/s$ (5 liter i sekundet). I bunnen av tanken er det et hull hvor innholdet i tanken renner ut. Arealet til dette hullet er $A_h=0,002 \\ \\mathrm{m}^2$. Ved tiden $t=0 \\ \\mathrm{s}$ er tanken fylt opp til høyden $h=4 \\ \\mathrm{m}$. Hvordan vil høyden $h$ endres over tid? Vil tanken tømmes helt? Vi antar at væsken vann. Vi kan også sette $g=9.81 \\ \\mathrm{m/s}^2$.\n",
    "\n",
    "La oss først definere de parametrene vi har fått oppgitt:"
   ]
  },
  {
   "cell_type": "code",
   "execution_count": 6,
   "metadata": {},
   "outputs": [],
   "source": [
    "import math # vi trenger dette biblioteket senere\n",
    "\n",
    "A_t = 2.00    # Tankens tverrsnittareal (m^2)\n",
    "A_h = 0.002   # Hullets tverrsnittareal (m^2)\n",
    "h = 4.00      # Vannivået når forsøket starter (m)\n",
    "g = 9.81      # Gravitasjonskonstanten (m/s^2)\n",
    "q_inn = 0.005 # Mengde vann inn i toppen av tanken (m^3/s)"
   ]
  },
  {
   "cell_type": "markdown",
   "metadata": {},
   "source": [
    "Nå setter vi opp et uttrykk for hvordan volumet endrer seg over tid, når det kommer væske inn i toppen av tanken samtidig som det strømmer væske ut i bunnen av tanken. Da har vi at:\n",
    "\n",
    "$$ \\frac{dV}{dt} = q_{inn} - q_{ut}$$\n",
    "\n",
    "Eller for å si det med ord: \n",
    "> Endringen til volumet av væsken i tanken er lik mengden væske som strømmer inn i tanken minus det som strømmer ut av tanken.\n",
    "\n",
    "Mengden $q_{ut}$ som strømmer ut av tanken er gitt ved arealet $A_h$ til hullet og hastigheten $v_1$ på væskestrømmen ut av hullet: \n",
    "\n",
    "$$ q_{ut} = A_h \\cdot v_1 $$\n",
    "\n",
    "Siden tverrsnittet $A_t$ til tanken er konstant og volumet av væsken i tanken er gitt ved $V=A_t \\cdot h$, kan vi nå skrive:\n",
    "\n",
    "$$ A_t \\frac{dh_0}{dt} = q_{inn} - A_h \\cdot v_1 $$\n",
    "\n",
    "I [tankmodell 3](https://github.com/fagstoff/ProgMod/blob/master/Fagstoff/tankmodell_3.ipynb) fant vi at vi kunne uttrykke $v_1$ slik:\n",
    "\n",
    "$$ v_1 = k \\sqrt{h} $$\n",
    "\n",
    "Konstanten $k$ var gitt ved:\n",
    "\n",
    "$$ k = C \\cdot \\sqrt{2g} $$\n",
    "\n",
    "Her er $C$ en korreksjonsparameter for viskositeten til væsken. Vi antar at væsken er vann, og at [0,61](https://www.usbr.gov/tsc/techreferences/mands/wmm/chap09_05.html) er en passende korreksjonsfaktor i denne simuleringen."
   ]
  },
  {
   "cell_type": "code",
   "execution_count": 2,
   "metadata": {},
   "outputs": [
    {
     "name": "stdout",
     "output_type": "stream",
     "text": [
      "Konstanten k er 2.7019626200227123\n"
     ]
    }
   ],
   "source": [
    "C = 0.61\n",
    "k = C * math.sqrt(2*g)\n",
    "print(\"Konstanten k er {}\".format(k))"
   ]
  },
  {
   "cell_type": "markdown",
   "metadata": {},
   "source": [
    "Nå kan vi sette inn uttrykket for $v$ i uttrykket for endring av volumet til væsken i tanken:\n",
    "\n",
    "$$ A_t \\frac{dh}{dt} = q_{inn} - A_h k \\sqrt{h}$$\n",
    "\n",
    "Uttrykket for endring av høyden over tid blir da:\n",
    "\n",
    "$$ \\frac{dh}{dt} = \\frac{1}{A_t} \\left( q_{inn} - A_h k \\sqrt{h} \\right) $$\n",
    "\n",
    "Vi bruker Eulers metode for å finne ut hva høyden $h$ er når vi endrer tiden med $\\Delta t = t_{i+1} - t_i$:\n",
    "\n",
    "$$ \\frac{h_{i+1} - h_i}{\\Delta t} = \\frac{1}{A_t} \\left( q_{inn} - A_h k \\sqrt{h_i} \\right) $$\n",
    "\n",
    "$$ h_{i+1} = h_i + \\frac{1}{A_t} \\left( q_{inn} - A_h  k\\sqrt{h_i} \\right) \\Delta t $$\n",
    "\n",
    "Nå kan vi implementere Eulers metode i Python:"
   ]
  },
  {
   "cell_type": "code",
   "execution_count": 3,
   "metadata": {},
   "outputs": [],
   "source": [
    "def euler(h, dh, dt):\n",
    "    '''Regner ut ny høyde i tanken vet tiden t+dt, \n",
    "    gitt høyden og stigningstallet dh ved tiden t.'''\n",
    "    return h + dh * dt\n",
    "\n",
    "def stigning(A_h, A_t, h, q_inn):\n",
    "    '''Regner ut stigningen i punktet h.\n",
    "    Parameteren k er en global konstant.'''\n",
    "    return 1/A_t * ((q_inn) - A_h * k * math.sqrt(h))\n",
    "\n",
    "def hastighet(h):\n",
    "    '''Regner ut hastigheten til væskestrømmen ut av tanken \n",
    "    når væskehøyden er h. Parameteren k er en global konstant.'''\n",
    "    if h > 0.0:\n",
    "        return k * math.sqrt(h)\n",
    "    else:\n",
    "        return 0.0"
   ]
  },
  {
   "cell_type": "markdown",
   "metadata": {},
   "source": [
    "Vi starter ved tiden $t=0$ og endrer tiden med 30 sekunder for hver nye beregning ($\\Delta t=30$)."
   ]
  },
  {
   "cell_type": "code",
   "execution_count": 7,
   "metadata": {},
   "outputs": [
    {
     "name": "stdout",
     "output_type": "stream",
     "text": [
      "t = 0 => h = 4.0 \t v = 5.4 \t q_inn = 0.005 \t q_ut = 0.0108\n",
      "t = 30 => h = 3.91 \t v = 5.34 \t q_inn = 0.005 \t q_ut = 0.0107\n",
      "t = 60 => h = 3.83 \t v = 5.29 \t q_inn = 0.005 \t q_ut = 0.0106\n",
      "t = 90 => h = 3.74 \t v = 5.23 \t q_inn = 0.005 \t q_ut = 0.0105\n",
      "t = 120 => h = 3.66 \t v = 5.17 \t q_inn = 0.005 \t q_ut = 0.0103\n",
      "t = 150 => h = 3.58 \t v = 5.11 \t q_inn = 0.005 \t q_ut = 0.0102\n",
      "t = 180 => h = 3.5 \t v = 5.06 \t q_inn = 0.005 \t q_ut = 0.0101\n",
      "t = 210 => h = 3.43 \t v = 5.0 \t q_inn = 0.005 \t q_ut = 0.01\n",
      "t = 240 => h = 3.35 \t v = 4.95 \t q_inn = 0.005 \t q_ut = 0.0099\n",
      "t = 270 => h = 3.28 \t v = 4.89 \t q_inn = 0.005 \t q_ut = 0.0098\n",
      "t = 300 => h = 3.21 \t v = 4.84 \t q_inn = 0.005 \t q_ut = 0.0097\n",
      "t = 330 => h = 3.14 \t v = 4.79 \t q_inn = 0.005 \t q_ut = 0.0096\n",
      "t = 360 => h = 3.07 \t v = 4.73 \t q_inn = 0.005 \t q_ut = 0.0095\n",
      "t = 390 => h = 3.0 \t v = 4.68 \t q_inn = 0.005 \t q_ut = 0.0094\n",
      "t = 420 => h = 2.94 \t v = 4.63 \t q_inn = 0.005 \t q_ut = 0.0093\n",
      "t = 450 => h = 2.87 \t v = 4.58 \t q_inn = 0.005 \t q_ut = 0.0092\n",
      "t = 480 => h = 2.81 \t v = 4.53 \t q_inn = 0.005 \t q_ut = 0.0091\n",
      "t = 510 => h = 2.75 \t v = 4.48 \t q_inn = 0.005 \t q_ut = 0.009\n",
      "t = 540 => h = 2.69 \t v = 4.43 \t q_inn = 0.005 \t q_ut = 0.0089\n",
      "t = 570 => h = 2.63 \t v = 4.38 \t q_inn = 0.005 \t q_ut = 0.0088\n",
      "t = 600 => h = 2.57 \t v = 4.34 \t q_inn = 0.005 \t q_ut = 0.0087\n",
      "t = 630 => h = 2.52 \t v = 4.29 \t q_inn = 0.005 \t q_ut = 0.0086\n",
      "t = 660 => h = 2.47 \t v = 4.24 \t q_inn = 0.005 \t q_ut = 0.0085\n",
      "t = 690 => h = 2.41 \t v = 4.2 \t q_inn = 0.005 \t q_ut = 0.0084\n",
      "t = 720 => h = 2.36 \t v = 4.15 \t q_inn = 0.005 \t q_ut = 0.0083\n",
      "t = 750 => h = 2.31 \t v = 4.11 \t q_inn = 0.005 \t q_ut = 0.0082\n",
      "t = 780 => h = 2.26 \t v = 4.07 \t q_inn = 0.005 \t q_ut = 0.0081\n",
      "t = 810 => h = 2.22 \t v = 4.02 \t q_inn = 0.005 \t q_ut = 0.008\n",
      "t = 840 => h = 2.17 \t v = 3.98 \t q_inn = 0.005 \t q_ut = 0.008\n",
      "t = 870 => h = 2.13 \t v = 3.94 \t q_inn = 0.005 \t q_ut = 0.0079\n",
      "t = 900 => h = 2.08 \t v = 3.9 \t q_inn = 0.005 \t q_ut = 0.0078\n",
      "t = 930 => h = 2.04 \t v = 3.86 \t q_inn = 0.005 \t q_ut = 0.0077\n",
      "t = 960 => h = 2.0 \t v = 3.82 \t q_inn = 0.005 \t q_ut = 0.0076\n",
      "t = 990 => h = 1.96 \t v = 3.78 \t q_inn = 0.005 \t q_ut = 0.0076\n",
      "t = 1020 => h = 1.92 \t v = 3.75 \t q_inn = 0.005 \t q_ut = 0.0075\n",
      "t = 1050 => h = 1.89 \t v = 3.71 \t q_inn = 0.005 \t q_ut = 0.0074\n",
      "t = 1080 => h = 1.85 \t v = 3.67 \t q_inn = 0.005 \t q_ut = 0.0073\n",
      "t = 1110 => h = 1.81 \t v = 3.64 \t q_inn = 0.005 \t q_ut = 0.0073\n",
      "t = 1140 => h = 1.78 \t v = 3.61 \t q_inn = 0.005 \t q_ut = 0.0072\n",
      "t = 1170 => h = 1.75 \t v = 3.57 \t q_inn = 0.005 \t q_ut = 0.0071\n",
      "t = 1200 => h = 1.71 \t v = 3.54 \t q_inn = 0.005 \t q_ut = 0.0071\n",
      "t = 1230 => h = 1.68 \t v = 3.51 \t q_inn = 0.005 \t q_ut = 0.007\n",
      "t = 1260 => h = 1.65 \t v = 3.47 \t q_inn = 0.005 \t q_ut = 0.0069\n",
      "t = 1290 => h = 1.62 \t v = 3.44 \t q_inn = 0.005 \t q_ut = 0.0069\n",
      "t = 1320 => h = 1.6 \t v = 3.41 \t q_inn = 0.005 \t q_ut = 0.0068\n",
      "t = 1350 => h = 1.57 \t v = 3.38 \t q_inn = 0.005 \t q_ut = 0.0068\n",
      "t = 1380 => h = 1.54 \t v = 3.36 \t q_inn = 0.005 \t q_ut = 0.0067\n",
      "t = 1410 => h = 1.52 \t v = 3.33 \t q_inn = 0.005 \t q_ut = 0.0067\n",
      "t = 1440 => h = 1.49 \t v = 3.3 \t q_inn = 0.005 \t q_ut = 0.0066\n",
      "t = 1470 => h = 1.47 \t v = 3.27 \t q_inn = 0.005 \t q_ut = 0.0065\n",
      "t = 1500 => h = 1.44 \t v = 3.25 \t q_inn = 0.005 \t q_ut = 0.0065\n",
      "t = 1530 => h = 1.42 \t v = 3.22 \t q_inn = 0.005 \t q_ut = 0.0064\n",
      "t = 1560 => h = 1.4 \t v = 3.2 \t q_inn = 0.005 \t q_ut = 0.0064\n",
      "t = 1590 => h = 1.38 \t v = 3.17 \t q_inn = 0.005 \t q_ut = 0.0063\n",
      "t = 1620 => h = 1.36 \t v = 3.15 \t q_inn = 0.005 \t q_ut = 0.0063\n",
      "t = 1650 => h = 1.34 \t v = 3.13 \t q_inn = 0.005 \t q_ut = 0.0063\n",
      "t = 1680 => h = 1.32 \t v = 3.11 \t q_inn = 0.005 \t q_ut = 0.0062\n",
      "t = 1710 => h = 1.3 \t v = 3.08 \t q_inn = 0.005 \t q_ut = 0.0062\n",
      "t = 1740 => h = 1.29 \t v = 3.06 \t q_inn = 0.005 \t q_ut = 0.0061\n",
      "t = 1770 => h = 1.27 \t v = 3.04 \t q_inn = 0.005 \t q_ut = 0.0061\n",
      "t = 1800 => h = 1.25 \t v = 3.02 \t q_inn = 0.005 \t q_ut = 0.006\n",
      "t = 1830 => h = 1.24 \t v = 3.0 \t q_inn = 0.005 \t q_ut = 0.006\n",
      "t = 1860 => h = 1.22 \t v = 2.99 \t q_inn = 0.005 \t q_ut = 0.006\n",
      "t = 1890 => h = 1.21 \t v = 2.97 \t q_inn = 0.005 \t q_ut = 0.0059\n",
      "t = 1920 => h = 1.19 \t v = 2.95 \t q_inn = 0.005 \t q_ut = 0.0059\n",
      "t = 1950 => h = 1.18 \t v = 2.93 \t q_inn = 0.005 \t q_ut = 0.0059\n",
      "t = 1980 => h = 1.17 \t v = 2.92 \t q_inn = 0.005 \t q_ut = 0.0058\n",
      "t = 2010 => h = 1.15 \t v = 2.9 \t q_inn = 0.005 \t q_ut = 0.0058\n",
      "t = 2040 => h = 1.14 \t v = 2.89 \t q_inn = 0.005 \t q_ut = 0.0058\n",
      "t = 2070 => h = 1.13 \t v = 2.87 \t q_inn = 0.005 \t q_ut = 0.0057\n",
      "t = 2100 => h = 1.12 \t v = 2.86 \t q_inn = 0.005 \t q_ut = 0.0057\n",
      "t = 2130 => h = 1.11 \t v = 2.84 \t q_inn = 0.005 \t q_ut = 0.0057\n",
      "t = 2160 => h = 1.1 \t v = 2.83 \t q_inn = 0.005 \t q_ut = 0.0057\n",
      "t = 2190 => h = 1.09 \t v = 2.82 \t q_inn = 0.005 \t q_ut = 0.0056\n",
      "t = 2220 => h = 1.08 \t v = 2.81 \t q_inn = 0.005 \t q_ut = 0.0056\n",
      "t = 2250 => h = 1.07 \t v = 2.79 \t q_inn = 0.005 \t q_ut = 0.0056\n",
      "t = 2280 => h = 1.06 \t v = 2.78 \t q_inn = 0.005 \t q_ut = 0.0056\n",
      "t = 2310 => h = 1.05 \t v = 2.77 \t q_inn = 0.005 \t q_ut = 0.0055\n",
      "t = 2340 => h = 1.04 \t v = 2.76 \t q_inn = 0.005 \t q_ut = 0.0055\n",
      "t = 2370 => h = 1.04 \t v = 2.75 \t q_inn = 0.005 \t q_ut = 0.0055\n",
      "t = 2400 => h = 1.03 \t v = 2.74 \t q_inn = 0.005 \t q_ut = 0.0055\n",
      "t = 2430 => h = 1.02 \t v = 2.73 \t q_inn = 0.005 \t q_ut = 0.0055\n",
      "t = 2460 => h = 1.01 \t v = 2.72 \t q_inn = 0.005 \t q_ut = 0.0054\n",
      "t = 2490 => h = 1.01 \t v = 2.71 \t q_inn = 0.005 \t q_ut = 0.0054\n",
      "t = 2520 => h = 1.0 \t v = 2.7 \t q_inn = 0.005 \t q_ut = 0.0054\n",
      "t = 2550 => h = 1.0 \t v = 2.7 \t q_inn = 0.005 \t q_ut = 0.0054\n",
      "t = 2580 => h = 0.99 \t v = 2.69 \t q_inn = 0.005 \t q_ut = 0.0054\n",
      "t = 2610 => h = 0.98 \t v = 2.68 \t q_inn = 0.005 \t q_ut = 0.0054\n",
      "t = 2640 => h = 0.98 \t v = 2.67 \t q_inn = 0.005 \t q_ut = 0.0053\n",
      "t = 2670 => h = 0.97 \t v = 2.67 \t q_inn = 0.005 \t q_ut = 0.0053\n",
      "t = 2700 => h = 0.97 \t v = 2.66 \t q_inn = 0.005 \t q_ut = 0.0053\n",
      "t = 2730 => h = 0.96 \t v = 2.65 \t q_inn = 0.005 \t q_ut = 0.0053\n",
      "t = 2760 => h = 0.96 \t v = 2.65 \t q_inn = 0.005 \t q_ut = 0.0053\n",
      "t = 2790 => h = 0.95 \t v = 2.64 \t q_inn = 0.005 \t q_ut = 0.0053\n",
      "t = 2820 => h = 0.95 \t v = 2.63 \t q_inn = 0.005 \t q_ut = 0.0053\n",
      "t = 2850 => h = 0.95 \t v = 2.63 \t q_inn = 0.005 \t q_ut = 0.0053\n",
      "t = 2880 => h = 0.94 \t v = 2.62 \t q_inn = 0.005 \t q_ut = 0.0052\n",
      "t = 2910 => h = 0.94 \t v = 2.62 \t q_inn = 0.005 \t q_ut = 0.0052\n",
      "t = 2940 => h = 0.94 \t v = 2.61 \t q_inn = 0.005 \t q_ut = 0.0052\n",
      "t = 2970 => h = 0.93 \t v = 2.61 \t q_inn = 0.005 \t q_ut = 0.0052\n",
      "t = 3000 => h = 0.93 \t v = 2.6 \t q_inn = 0.005 \t q_ut = 0.0052\n",
      "t = 3030 => h = 0.93 \t v = 2.6 \t q_inn = 0.005 \t q_ut = 0.0052\n",
      "t = 3060 => h = 0.92 \t v = 2.6 \t q_inn = 0.005 \t q_ut = 0.0052\n",
      "t = 3090 => h = 0.92 \t v = 2.59 \t q_inn = 0.005 \t q_ut = 0.0052\n",
      "t = 3120 => h = 0.92 \t v = 2.59 \t q_inn = 0.005 \t q_ut = 0.0052\n",
      "t = 3150 => h = 0.91 \t v = 2.58 \t q_inn = 0.005 \t q_ut = 0.0052\n",
      "t = 3180 => h = 0.91 \t v = 2.58 \t q_inn = 0.005 \t q_ut = 0.0052\n",
      "t = 3210 => h = 0.91 \t v = 2.58 \t q_inn = 0.005 \t q_ut = 0.0052\n",
      "t = 3240 => h = 0.91 \t v = 2.57 \t q_inn = 0.005 \t q_ut = 0.0051\n",
      "t = 3270 => h = 0.9 \t v = 2.57 \t q_inn = 0.005 \t q_ut = 0.0051\n",
      "t = 3300 => h = 0.9 \t v = 2.57 \t q_inn = 0.005 \t q_ut = 0.0051\n",
      "t = 3330 => h = 0.9 \t v = 2.56 \t q_inn = 0.005 \t q_ut = 0.0051\n",
      "t = 3360 => h = 0.9 \t v = 2.56 \t q_inn = 0.005 \t q_ut = 0.0051\n",
      "t = 3390 => h = 0.9 \t v = 2.56 \t q_inn = 0.005 \t q_ut = 0.0051\n",
      "t = 3420 => h = 0.9 \t v = 2.56 \t q_inn = 0.005 \t q_ut = 0.0051\n",
      "t = 3450 => h = 0.89 \t v = 2.55 \t q_inn = 0.005 \t q_ut = 0.0051\n",
      "t = 3480 => h = 0.89 \t v = 2.55 \t q_inn = 0.005 \t q_ut = 0.0051\n",
      "t = 3510 => h = 0.89 \t v = 2.55 \t q_inn = 0.005 \t q_ut = 0.0051\n",
      "t = 3540 => h = 0.89 \t v = 2.55 \t q_inn = 0.005 \t q_ut = 0.0051\n",
      "t = 3570 => h = 0.89 \t v = 2.55 \t q_inn = 0.005 \t q_ut = 0.0051\n"
     ]
    },
    {
     "data": {
      "image/png": "[encoded data removed]",
      "text/plain": [
       "<matplotlib.figure.Figure at 0x10e566828>"
      ]
     },
     "metadata": {},
     "output_type": "display_data"
    }
   ],
   "source": [
    "t = 0   # starttiden\n",
    "dt = 30 # tidssteg i sekunder\n",
    "h_lim = 0.01 # vi stopper beregningen når høyden er mindre enn denne\n",
    "t_lim = 3600 # vi stopper beregningen etter 3600 sekunder\n",
    "t_hist = [] # Lagerplass for historiske tidspunkter\n",
    "h_hist = [] # Lagerplass for historiske h-verdier\n",
    "while h > h_lim and t < t_lim:\n",
    "    if t > 0: # ingen beregning ved t = 0, der bruker vi initialverdier\n",
    "        h = euler(h, stigning(A_h, A_t, h, q_inn), dt)\n",
    "    v = hastighet(h) # Hastigheten til væsken som strømmer ut av hullet\n",
    "    q_ut = A_h * v # Mengden væske som strømmer ut av hullet\n",
    "    print(\"t = {} => h = {} \\t v = {} \\t q_inn = {} \\t q_ut = {}\".format(t, round(h,2), round(v,2), q_inn, round(q_ut,4)))\n",
    "    t_hist.append(t)\n",
    "    h_hist.append(h)\n",
    "    t += dt\n",
    "\n",
    "import matplotlib.pyplot as plt\n",
    "plt.plot(t_hist, h_hist)\n",
    "plt.ylabel('Høyde [m]')\n",
    "plt.xlabel('Tid [s]')\n",
    "plt.axis([0, t_lim, 0, h_hist[0]])\n",
    "plt.show()"
   ]
  },
  {
   "cell_type": "markdown",
   "metadata": {
    "collapsed": true
   },
   "source": [
    "# Oppgaver\n",
    "1. Forsøk å endre innstrømmen $q_{inn}$ til tanken. Finn strømningsmengden som gjør at nivået i tanken er tilnærmet konstant.\n",
    "2. I while-løkken er det satt inn to betingelser for at loopen skal kjøre, og begge disse må være oppfylt (and). Hva skjer om du bare krever at en av dem skal være oppfylt (or)? Hva skjer om du fjerner en av betingelsene helt? Prøv deg frem, og se hva som skjer."
   ]
  },
  {
   "cell_type": "code",
   "execution_count": null,
   "metadata": {},
   "outputs": [],
   "source": []
  }
 ],
 "metadata": {
  "kernelspec": {
   "display_name": "Python 3",
   "language": "python",
   "name": "python3"
  },
  "language_info": {
   "codemirror_mode": {
    "name": "ipython",
    "version": 3
   },
   "file_extension": ".py",
   "mimetype": "text/x-python",
   "name": "python",
   "nbconvert_exporter": "python",
   "pygments_lexer": "ipython3",
   "version": "3.6.4"
  }
 },
 "nbformat": 4,
 "nbformat_minor": 2
}

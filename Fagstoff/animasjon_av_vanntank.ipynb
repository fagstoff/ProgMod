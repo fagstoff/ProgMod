{
 "cells": [
  {
   "cell_type": "markdown",
   "metadata": {},
   "source": [
    "# Animasjon av nivået i en vanntank\n",
    "__Creative Commons BY-SA : bitjungle (Rune Mathisen) og fuzzbin (Tom Jarle Christiansen)__\n",
    "\n",
    "<hr/>\n",
    "\n",
    "<img alt=\"Opphavsmann: Life-Of-Pix Lisens: Creative Commons CC0\" title=\"Opphavsmann: Life-Of-Pix Lisens: Creative Commons CC0\" style=\"width: 200px; float: right; margin-left: 30px;\" src=\"img/tanks-406908_640.jpg\">\n",
    "\n",
    "**Vi har tidligere sett på hvordan vi kan lage [animasjoner med pygame](https://github.com/fagstoff/ProgMod/blob/master/Fagstoff/animasjoner_med_pygame.ipynb). Nå skal nå bruke pygame for å lage en enkel animasjon hvor vi viser nivået i en vanntank.**\n",
    "\n",
    "> Denne siden dekker helt eller delvis kompetansemålene: [Grunnleggende programmering 3 og 4](https://github.com/fagstoff/ProgMod/blob/master/L%C3%A6replan/kompetansem%C3%A5l.md#grunnleggende-programmering)"
   ]
  },
  {
   "cell_type": "markdown",
   "metadata": {},
   "source": [
    "I prosjektoppgaven \"[Gode tanker](https://github.com/fagstoff/ProgMod/blob/master/Prosjektoppgaver/Gode_tanker.md)\" skal det lages animasjoner av vanntanker. Her er et enkelt eksempel på hvordan dette kan gjøres. Videoen nedenfor viser hvordan programmet ser ut når det kjøres. Bruk og utvid koden slik at den passer for ditt prosjekt.  \n",
    "\n",
    "<img alt=\"Animasjon av vanntank som tømmes og fylles\" title=\"Lisens: Creative Commons CC0\" src=\"img/tanksim.gif\">\n"
   ]
  },
  {
   "cell_type": "markdown",
   "metadata": {},
   "source": [
    "Koden som står nedenfor er ikke laget for å kjøres i Jupyter, men du kan [laste ned kildefila her](https://github.com/fagstoff/ProgMod/blob/master/Programkode/Diverse/anim_tanksim.py)."
   ]
  },
  {
   "cell_type": "markdown",
   "metadata": {},
   "source": [
    "``` python\n",
    "import sys\n",
    "import pygame\n",
    "\n",
    "pygame.init()\n",
    "\n",
    "# Farge-definisjoner, RGB\n",
    "BLACK = (0, 0, 0)\n",
    "WHITE = (255, 255, 255)\n",
    "LIGHT_GRAY = (211,211,211)\n",
    "SEA_BLUE = (0,105,148)\n",
    "\n",
    "# Dimensjonene til programvinduet\n",
    "SIZE = WIDTH, HEIGHT = 640, 480\n",
    "screen = pygame.display.set_mode(SIZE)\n",
    "CENTER_HORIZ = WIDTH // 2\n",
    "CENTER_VERT = HEIGHT // 2\n",
    "\n",
    "# Hvor mange bilder i sekundet (FPS) skal vi tegne?\n",
    "FPS = 10\n",
    "timer = pygame.time.Clock()\n",
    "timer_txt = pygame.font.SysFont('Consolas', 30)\n",
    "\n",
    "\n",
    "tank_params = {\n",
    "    \"left\": CENTER_HORIZ - 50, # Trekker fra halvparten av bredden\n",
    "    \"top\": CENTER_VERT - 50,   # Trekker fra halvparten av høyden\n",
    "    \"width\": 100,              # Tankens høyde\n",
    "    \"height\": 100,             # Tankens bredde\n",
    "    \"level\": 10,               # Nivået vi starter med\n",
    "    \"fill_color\": SEA_BLUE,    # Farge på innholdet i tanken\n",
    "    \"outline_color\": WHITE,    # Farge på omrisset av tanken\n",
    "    \"border_width\": 3          # Bredde på omrisset av tanken\n",
    "}\n",
    "\n",
    "# Endring av nivå mellom hvert bilde som vises (FPS)\n",
    "level_change = 2\n",
    "\n",
    "while True:\n",
    "    for event in pygame.event.get():\n",
    "        if event.type == pygame.QUIT: sys.exit()\n",
    "\n",
    "    # Bakgrunnsfargen\n",
    "    screen.fill(BLACK)\n",
    "    \n",
    "    # Tegner inn tanknivået\n",
    "    pygame.draw.rect(screen, SEA_BLUE, \n",
    "                     pygame.Rect(tank_params[\"left\"], \n",
    "                                 tank_params[\"top\"] + (tank_params[\"height\"] - tank_params[\"level\"]), \n",
    "                                 tank_params[\"width\"], \n",
    "                                 tank_params[\"level\"]))\n",
    "    # Tegner omrisset av tanken\n",
    "    pygame.draw.rect(screen, WHITE, \n",
    "                     pygame.Rect(tank_params[\"left\"], \n",
    "                                 tank_params[\"top\"], \n",
    "                                 tank_params[\"width\"], \n",
    "                                 tank_params[\"height\"]), \n",
    "                     tank_params[\"border_width\"])\n",
    "    \n",
    "    # Sjekk om vi har nådd topp eller bunn, og endre fortegn på level_change\n",
    "    if tank_params[\"level\"] > tank_params[\"height\"] or tank_params[\"level\"] < 0:\n",
    "        level_change *= -1\n",
    "\n",
    "    # Endrer nivået i tanken\n",
    "    tank_params[\"level\"] += level_change\n",
    "\n",
    "    # Tegner inn \"vannstrålen\" inn i eller ut av tanken\n",
    "    if level_change > 0: # tanken fylles\n",
    "        pygame.draw.line(screen, SEA_BLUE, \n",
    "                    (CENTER_HORIZ,0), \n",
    "                    (CENTER_HORIZ, tank_params[\"top\"] + tank_params[\"height\"] - tank_params[\"border_width\"]), 4)\n",
    "    else: # tanken tømmes\n",
    "        pygame.draw.line(screen, SEA_BLUE, \n",
    "                    (CENTER_HORIZ, tank_params[\"top\"] + tank_params[\"height\"] - tank_params[\"border_width\"]), \n",
    "                    (CENTER_HORIZ, HEIGHT), 4)\n",
    "\n",
    "    timer_string = \"Medgått tid: {} sekunder\".format(round(pygame.time.get_ticks() / 1000, 1))\n",
    "    screen.blit(timer_txt.render(timer_string, True, LIGHT_GRAY), (CENTER_HORIZ // 2, 10))\n",
    "    pygame.display.flip()\n",
    "    timer.tick(FPS)\n",
    "```"
   ]
  },
  {
   "cell_type": "markdown",
   "metadata": {},
   "source": [
    "## Oppgaver\n",
    "1. Endre koden sånn at tanken får en annen plassering på skjermen, for eksempel oppe til venstre.\n",
    "2. I kodeeksemplet endres nivået lineært med tiden med koden `tank_params[\"level\"] += level_change`. Lag en funksjon som endrer nivået på en mer realistisk måte. Bruk modellen fra [Tankmodell 3](https://github.com/fagstoff/ProgMod/blob/master/Fagstoff/tankmodell_3.ipynb). Hver gang tanken er tom, kan du fylle den opp med bruk av en lineær modell."
   ]
  },
  {
   "cell_type": "code",
   "execution_count": null,
   "metadata": {},
   "outputs": [],
   "source": []
  }
 ],
 "metadata": {
  "kernelspec": {
   "display_name": "Python 3",
   "language": "python",
   "name": "python3"
  },
  "language_info": {
   "codemirror_mode": {
    "name": "ipython",
    "version": 3
   },
   "file_extension": ".py",
   "mimetype": "text/x-python",
   "name": "python",
   "nbconvert_exporter": "python",
   "pygments_lexer": "ipython3",
   "version": "3.6.4"
  }
 },
 "nbformat": 4,
 "nbformat_minor": 2
}

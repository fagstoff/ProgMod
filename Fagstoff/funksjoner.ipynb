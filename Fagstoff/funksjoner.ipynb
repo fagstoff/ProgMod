{
 "cells": [
  {
   "cell_type": "markdown",
   "metadata": {
    "deletable": true,
    "editable": true
   },
   "source": [
    "# Funksjoner\n",
    "__Creative Commons BY-SA : bitjungle (Rune Mathisen) og fuzzbin (Tom Jarle Christiansen)__\n",
    "\n",
    "<hr/>\n",
    "\n",
    "<img alt=\"Funksjonsmaskin. Lisens: PD\" style=\"float: right; margin-left: 10px;\" src=\"img/function_machine.png\">\n",
    "\n",
    "**[Funksjoner](https://en.wikipedia.org/wiki/Subroutine) er helt sentrale i programmering. Vi kan tenke på en funksjon som en kodeblokk som utfører en bestemt oppgave. Den kan kjøres når, og så mange ganeger vi selv ønsker det.**\n",
    "\n",
    "> Denne siden dekker helt eller delvis kompetansemålene: [Grunnleggende programmering 3 og 4](https://github.com/fagstoff/ProgMod/blob/master/L%C3%A6replan/kompetansem%C3%A5l.md#grunnleggende-programmering)\n",
    "\n",
    "For å øke gjenbruksverdien til programkode er det lurt å bruke funksjoner. Disse kan kjøres så mange ganger man ønsker, kun ved hjelp av et funksjonskall. \n",
    "\n",
    "```python\n",
    "# Definisjon av en funksjon\n",
    "def funksjonsnavn(<innparameter>):\n",
    "    <kode som skal kjøres>\n",
    "    return <det som skal returneres>\n",
    "\n",
    "# Løkke som kaller funksjonen 10 ganger\n",
    "for i in range(10):\n",
    "    funksjonsnavn(<innparameter>)\n",
    "```\n",
    "\n",
    "I eksemplet under kjøres funksjonen `hilsen()` tre ganger i en løkke."
   ]
  },
  {
   "cell_type": "code",
   "execution_count": 2,
   "metadata": {
    "collapsed": false,
    "deletable": true,
    "editable": true
   },
   "outputs": [
    {
     "name": "stdout",
     "output_type": "stream",
     "text": [
      "Hallo verden!\n",
      "Hallo verden!\n",
      "Hallo verden!\n"
     ]
    }
   ],
   "source": [
    "# Enkel funksjon uten parametre\n",
    "\n",
    "def hilsen():\n",
    "    print(\"Hallo verden!\")\n",
    "    return\n",
    "\n",
    "# Løkke som kjører funksjonen 3 ganger\n",
    "for i in range(3):\n",
    "    hilsen()"
   ]
  },
  {
   "cell_type": "markdown",
   "metadata": {
    "deletable": true,
    "editable": true
   },
   "source": [
    "Mer avanserte funksjoner har [inn-/utparametre](https://en.wikipedia.org/wiki/Parameter_(computer_programming$29), som fungerer litt på samme måte som i matematikk. Dette er den aller vanligste bruksmåten for funksjoner.\n",
    "\n",
    "Koden under viser en funksjon som summerer verdien de tre tallene a, b og c og returner resultatet:"
   ]
  },
  {
   "cell_type": "code",
   "execution_count": 3,
   "metadata": {
    "collapsed": false,
    "deletable": true,
    "editable": true
   },
   "outputs": [
    {
     "name": "stdout",
     "output_type": "stream",
     "text": [
      "Summen er 12\n"
     ]
    }
   ],
   "source": [
    "# En funksjon med tre innparametere.\n",
    "\n",
    "def legg_sammen_tre_tall(a, b, c):\n",
    "    return a + b + c\n",
    "\n",
    "# Variabelen summen settes lik reurverdien til funksjonen\n",
    "summen = legg_sammen_tre_tall(2, 4, 6) # 2, 4 og 6 er innparametere\n",
    "print(\"Summen er {}\".format(summen))"
   ]
  },
  {
   "cell_type": "markdown",
   "metadata": {},
   "source": [
    "La oss se på et eksempel der vi lar en tekststreng være innparameter. Vi kjører så funksjonen to ganger, med ulike innparameter."
   ]
  },
  {
   "cell_type": "code",
   "execution_count": 4,
   "metadata": {},
   "outputs": [
    {
     "name": "stdout",
     "output_type": "stream",
     "text": [
      "Heisann Fuzzbin! Så hyggelig å se deg.\n",
      "Heisann Bitjungle! Så hyggelig å se deg.\n"
     ]
    }
   ],
   "source": [
    "def personligHilsen(navn):\n",
    "    print('Heisann {}! Så hyggelig å se deg.'.format(navn))\n",
    "\n",
    "personligHilsen('Fuzzbin')\n",
    "personligHilsen('Bitjungle')"
   ]
  },
  {
   "cell_type": "markdown",
   "metadata": {
    "deletable": true,
    "editable": true
   },
   "source": [
    "## Oppgaver\n",
    "\n",
    "1. Lag en funksjon som tar imot tallene 1 til 7 som innparameter, og som returnerer ukedag som tekststreng (1 gir \"mandag\", 2 gir \"tirsdag\" og så videre). Hint: Legg ukedagene i en liste.\n",
    "2. Lag en funksjon som regner om fra grader Celsius (innparameter) til Fahrenheit (returverdi). Formelen for omregning fra Celsius til Fahrenheit er: $F = \\frac{9}{5}C + 32$. Skriv ut verdier fra 0 til 100 grader Celsius med tilhørende grader Fahrenheit.\n",
    "3. Lag en funksjon som regner om fra grader Fahrenheit til Celsius."
   ]
  },
  {
   "cell_type": "code",
   "execution_count": null,
   "metadata": {},
   "outputs": [],
   "source": []
  }
 ],
 "metadata": {
  "kernelspec": {
   "display_name": "Python 3",
   "language": "python",
   "name": "python3"
  },
  "language_info": {
   "codemirror_mode": {
    "name": "ipython",
    "version": 3
   },
   "file_extension": ".py",
   "mimetype": "text/x-python",
   "name": "python",
   "nbconvert_exporter": "python",
   "pygments_lexer": "ipython3",
   "version": "3.6.2"
  }
 },
 "nbformat": 4,
 "nbformat_minor": 2
}

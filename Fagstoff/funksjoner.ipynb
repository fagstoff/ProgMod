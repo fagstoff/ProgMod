{
 "cells": [
  {
   "cell_type": "markdown",
   "metadata": {},
   "source": [
    "# Funksjoner\n",
    "__Creative Commons BY-SA : bitjungle (Rune Mathisen) og fuzzbin (Tom Jarle Christiansen)__\n",
    "\n",
    "Denne siden dekker helt eller delvis kompetansemål...\n",
    "\n",
    "[Funksjoner](https://en.wikipedia.org/wiki/Subroutine) er helt sentrale i programmering. Vi kan tenke på en funksjon som en kodeblokk som utfører en bestemt oppgave. Den kan kjøres når, og så mange ganeger vi selv ønsker det.\n",
    "\n",
    "**En funksjon er en samling med kode som kjøres når man henviser til denne i et funksjonskall. Et funksjonskall kan for eksempel skje når man har en *hendelse*, som å trykker på en knapp eller en meny. Man kan også utføre et funksjonskall i et program ved å skrive navnet på funksjonen.**\n",
    "\n",
    "For å øke gjenbruksverdien til kode kan det være lurt å bruke funksjoner. Disse kan kjøres så mange ganger man ønsker, kun ved hjelp av et funksjonskall. I eksempelet under kjøres funksjonen `hilsen();` tre ganger i en løkke.\n",
    "\n",
    "```python\n",
    "# Enkel funksjon uten parametre\n",
    "\n",
    "def min_funksjon(<innparameter>):\n",
    "    <kode som skal kjøres>\n",
    "    return <det som skal returneres>\n",
    "\n",
    "# Løkke som kjører funksjonen 10 ganger\n",
    "for i in range(3):\n",
    "    min_funksjon(<innparameter>)\n",
    "```\n",
    "\n",
    "De aller enkleste funksjonene kjører kun noen linjer med kode."
   ]
  },
  {
   "cell_type": "code",
   "execution_count": 14,
   "metadata": {},
   "outputs": [
    {
     "name": "stdout",
     "output_type": "stream",
     "text": [
      "Hallo verden!\n",
      "Hallo verden!\n",
      "Hallo verden!\n"
     ]
    }
   ],
   "source": [
    "# Enkel funksjon uten parametre\n",
    "\n",
    "def hilsen():\n",
    "    print(\"Hallo verden!\")\n",
    "    return\n",
    "\n",
    "# Løkke som kjører funksjonen 10 ganger\n",
    "for i in range(3):\n",
    "    hilsen()"
   ]
  },
  {
   "cell_type": "markdown",
   "metadata": {},
   "source": [
    "Mer avanserte funksjoner har [inn-/utparametre](https://en.wikipedia.org/wiki/Parameter_(computer_programming$29), som fungerer litt på samme måte som i matematikk. Dette er den aller vanligste bruksmåten for funksjoner.\n",
    "\n",
    "Koden under viser en funksjon som summerer verdien de tre tallene a, b og c og returner resultatet:"
   ]
  },
  {
   "cell_type": "code",
   "execution_count": 1,
   "metadata": {},
   "outputs": [
    {
     "name": "stdout",
     "output_type": "stream",
     "text": [
      "Summen er 12\n"
     ]
    }
   ],
   "source": [
    "def legg_sammen_tre_tall(a, b, c):\n",
    "    return a + b + c\n",
    "\n",
    "summen = legg_sammen_tre_tall(2, 4, 6)\n",
    "print(\"Summen er {}\".format(summen))"
   ]
  },
  {
   "cell_type": "code",
   "execution_count": null,
   "metadata": {
    "collapsed": true
   },
   "outputs": [],
   "source": []
  }
 ],
 "metadata": {
  "kernelspec": {
   "display_name": "Python 3",
   "language": "python",
   "name": "python3"
  },
  "language_info": {
   "codemirror_mode": {
    "name": "ipython",
    "version": 3
   },
   "file_extension": ".py",
   "mimetype": "text/x-python",
   "name": "python",
   "nbconvert_exporter": "python",
   "pygments_lexer": "ipython3",
   "version": "3.6.1"
  }
 },
 "nbformat": 4,
 "nbformat_minor": 2
}

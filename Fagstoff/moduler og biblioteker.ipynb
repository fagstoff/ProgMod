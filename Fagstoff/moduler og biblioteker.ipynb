{
 "cells": [
  {
   "cell_type": "markdown",
   "metadata": {
    "deletable": true,
    "editable": true
   },
   "source": [
    "# Moduler og biblioteker\n",
    "__Creative Commons BY-SA : bitjungle (Rune Mathisen) og fuzzbin (Tom Jarle Christiansen)__\n",
    "\n",
    "<hr>\n",
    "<img alt=\"Teknologi på biblioteket. Lisens: CC0\" style=\"float: right; margin-left: 10px; width: 300px;\" src=\"img/tablet-library.jpg\">\n",
    "\n",
    "**En av fordelene med å bruke [Python](https://www.python.org/) i programvareprosjekter, er det store økosystemet av [moduler](https://docs.python.org/3/library/functions.html) og biblioteker som enkelt kan importeres og tas i bruk. Her skal vi se litt på hvordan du tar i bruk moduler, og du får noen tips til moduler som kan være nyttige for faget Programmering og modellering.**\n",
    "\n",
    "> Denne siden dekker helt eller delvis kompetansemålene: [Grunnleggende programmering 2, 3 og 4](https://github.com/fagstoff/ProgMod/blob/master/L%C3%A6replan/kompetansem%C3%A5l.md#grunnleggende-programmering) og [Matematiske metoder 2, 3 og 4](https://github.com/fagstoff/ProgMod/blob/master/L%C3%A6replan/kompetansem%C3%A5l.md#matematiske-metoder)\n",
    "\n",
    "I Python er et modul en samling av funksjoner og klasser som kan gjenbrukes i mange ulike programmer. Et eksempel på et slikt modul er [math](https://docs.python.org/3/library/math.html), som er en samling av matematiske funksjoner. Her finner du for eksempel trigonometriske funksjoner (sin, cos, tan, og så videre) og konstanter (for eksempel $\\pi$) som du kan bruke i programmene dine. Når du skal lage et program vil det spare deg for mye tid om du finner og bruker moduler som andre har laget allerede.\n",
    "\n",
    "Et bibliotek i Python er en samling av moduler. Det biblioteket du bør gjøre det kjent med aller først, er det såkalte [Python Standard Library](https://docs.python.org/3/library/index.html). Standardbiblioteket er tilgjengelig for deg uten at du trenger å installere ekstra utover en \"vanlig\" Python-installasjon.\n",
    "\n",
    "Om du ikke finner det du trenger i [standardbiblioteket](https://docs.python.org/3/library/index.html) til Python, bør du lete gjennom [The Python Package Index (PyPI)](https://pypi.python.org/pypi). Sjansene er store for at noen har laget akkurat det du trenger allerede, sånn at du ikke må lage alt helt fra bunn av.\n",
    "\n",
    "Nå skal vi gjennomgå noen få (men sentrale) funksjoner og moduler fra [standardbiblioteket](https://docs.python.org/3/library/index.html), men det er viktig at du selv sørger for å gjøre deg kjent med hva du finner der. Vi skal også se på noen biblioteker fra [PyPI](https://pypi.python.org/pypi) som er nyttige i faget Programmering og modellering.\n"
   ]
  },
  {
   "cell_type": "markdown",
   "metadata": {},
   "source": [
    "## Funksjoner og moduler i standardbiblioteket\n",
    "\n",
    "Python har en del [innebygde funksjoner](https://docs.python.org/3/library/functions.html), og du trenger en eller flere av disse i alle programmer. her er noen eksempler.\n"
   ]
  },
  {
   "cell_type": "code",
   "execution_count": 2,
   "metadata": {
    "collapsed": false
   },
   "outputs": [
    {
     "name": "stdout",
     "output_type": "stream",
     "text": [
      "Nå er jeg på tallet 0\n",
      "Nå er jeg på tallet 1\n",
      "Nå er jeg på tallet 2\n",
      "Nå er jeg på tallet 3\n",
      "Nå er jeg på tallet 4\n"
     ]
    }
   ],
   "source": [
    "# Bruk range() for å generere en sekvens av tall som du kan loope gjennom\n",
    "for num in range(5):\n",
    "    print('Nå er jeg på tallet {}'.format(num))"
   ]
  },
  {
   "cell_type": "markdown",
   "metadata": {},
   "source": [
    "## Nyttige biblioteker fra PyPI\n",
    "\n",
    "* [linepsace](https://docs.scipy.org/doc/numpy/reference/generated/numpy.linspace.html)\n",
    "* [numpy](https://docs.scipy.org/doc/numpy/reference/index.html)\n",
    "* [random](https://docs.python.org/3/library/random.html#examples-and-recipes)\n",
    "* [plotting og pyplot](https://matplotlib.org/users/pyplot_tutorial.html)\n",
    "* m.m."
   ]
  },
  {
   "cell_type": "code",
   "execution_count": null,
   "metadata": {
    "collapsed": true,
    "deletable": true,
    "editable": true
   },
   "outputs": [],
   "source": [
    "import numpy as np\n",
    "\n"
   ]
  },
  {
   "cell_type": "markdown",
   "metadata": {
    "deletable": true,
    "editable": true
   },
   "source": []
  }
 ],
 "metadata": {
  "kernelspec": {
   "display_name": "Python 3",
   "language": "python",
   "name": "python3"
  },
  "language_info": {
   "codemirror_mode": {
    "name": "ipython",
    "version": 3
   },
   "file_extension": ".py",
   "mimetype": "text/x-python",
   "name": "python",
   "nbconvert_exporter": "python",
   "pygments_lexer": "ipython3",
   "version": "3.6.0"
  }
 },
 "nbformat": 4,
 "nbformat_minor": 2
}

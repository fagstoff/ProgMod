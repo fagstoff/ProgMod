{
 "cells": [
  {
   "cell_type": "markdown",
   "metadata": {},
   "source": [
    "# Introduksjon til modellbegrepet\n",
    "__Creative Commons BY-SA : bitjungle (Rune Mathisen) og fuzzbin (Tom Jarle Christiansen)__\n",
    "\n",
    "<hr/>\n",
    "<img alt=\"Tavle. Lisens: CC0\" style=\"float: right; margin-left: 10px;\" src=\"img/maxpixel.freegreatpicture.com-Mathematics-Physics-Mathematical-School-Formula-1509559.jpg\">\n",
    "\n",
    "**Hva menes egentlig med en \"matematisk modell\", og hva er hensikten med dem? Det skal vi se nærmere på her.**\n",
    "\n",
    "> Denne siden dekker helt eller delvis kompetansemålene: [Modellering 1 og 2](https://github.com/fagstoff/ProgMod/blob/master/L%C3%A6replan/kompetansem%C3%A5l.md#modellering)\n",
    "\n",
    "Når vi bruker datamaskiner som hjelpemiddel for å forstå og påvirke omgivelsene våre, må vi kunne beskrive disse omgivelesene med matematikk. I tradisjonelle realfag som fysikk, kjemi og biologi bruker vi ofte denne teknikken. Vi kan for eksempel lage en matematisk funksjon som har en eller flere fysiske målinger som variabler, og som regner ut noe vi ønsker å vite mere om. I andre tilfeller hvor det er vanskelig å lage en matematisk funksjon, kan vi gi datamaskinen massevis av data og la den selv finne en passende funksjon.\n",
    "\n",
    "## En kjent modell\n",
    "En kjent matematisk modell som er med på å beskrive omgivelsene våre på en veldig god måte, er Newtons 2. lov. Den sier at dersom vi har et legeme med konstant masse $m$ og akselerasjon $\\vec{a}$, så er summen av kreftene $\\Sigma \\vec{F}$ på legemet gitt ved:\n",
    "\n",
    "$$\\Sigma \\vec{F} = m\\vec{a}$$\n",
    "\n",
    "Om du faller [fritt](https://snl.no/fritt_fall) mot jorda, er din akselerasjonen tilnærmet lik $g = 9.81 \\mathrm{m/s^2}$, og det er *kun* tyngdekraften som virker på deg.\n",
    "\n",
    "La oss nå si at du ikke faller, men isteden står trygt med beina på gulvet slik at $\\Sigma \\vec{F} = 0$. Da kan vi regne ut kraften som virker mellom deg og gulvet på følgende måte:"
   ]
  },
  {
   "cell_type": "code",
   "execution_count": 1,
   "metadata": {
    "collapsed": false
   },
   "outputs": [
    {
     "name": "stdout",
     "output_type": "stream",
     "text": [
      "F = 785.0 N\n"
     ]
    }
   ],
   "source": [
    "g = 9.81 # m/s^2\n",
    "m = 80 # kg\n",
    "F = m*g\n",
    "print(\"F = {} N\".format(round(F, 0)))"
   ]
  },
  {
   "cell_type": "markdown",
   "metadata": {},
   "source": [
    "Men hvor høyt er trykket mellom fotsålen og gulvet? Det kan vi også regne ut, fordi vi vet at trykket $P$ er gitt ved en annen modell:\n",
    "\n",
    "$$P = \\frac{F}{A}$$\n",
    "\n",
    "hvor $A$ er arealet. La oss anta at det samlede arealet av skosålene dine er $500 \\mathrm{cm^2}$ (forsøk gjerne å finne et bedre estimat selv). Da blir trykket:"
   ]
  },
  {
   "cell_type": "code",
   "execution_count": 2,
   "metadata": {
    "collapsed": false
   },
   "outputs": [
    {
     "name": "stdout",
     "output_type": "stream",
     "text": [
      "P = 15696.0 Pa\n"
     ]
    }
   ],
   "source": [
    "A = 500 / (100*100) # m^2\n",
    "P = F / A # Pa (trykkenheten Pascal)\n",
    "print(\"P = {} Pa\".format(round(P, 0)))"
   ]
  },
  {
   "cell_type": "markdown",
   "metadata": {},
   "source": [
    "## Oppgaver\n",
    "1. Lag et program som beregner hastigheten en stuper vil treffer vannflata med.\n",
    "2. Lag et program som regner ut radiusen til en kule når man får oppgitt volumet.\n",
    "3. Lag et program som kan regne ut en [binomisk sannsynlighetsmodell](https://ndla.no/nb/node/103796?fag=57934)."
   ]
  },
  {
   "cell_type": "code",
   "execution_count": null,
   "metadata": {},
   "outputs": [],
   "source": []
  }
 ],
 "metadata": {
  "kernelspec": {
   "display_name": "Python 3",
   "language": "python",
   "name": "python3"
  },
  "language_info": {
   "codemirror_mode": {
    "name": "ipython",
    "version": 3
   },
   "file_extension": ".py",
   "mimetype": "text/x-python",
   "name": "python",
   "nbconvert_exporter": "python",
   "pygments_lexer": "ipython3",
   "version": "3.6.3"
  }
 },
 "nbformat": 4,
 "nbformat_minor": 2
}

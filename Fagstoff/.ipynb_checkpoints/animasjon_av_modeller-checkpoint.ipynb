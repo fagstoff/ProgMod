{
 "cells": [
  {
   "cell_type": "markdown",
   "metadata": {},
   "source": [
    "# Animasjon av modeller\n",
    "__Creative Commons BY-SA : bitjungle (Rune Mathisen) og fuzzbin (Tom Jarle Christiansen)__\n",
    "\n",
    "<hr/>\n",
    "\n",
    "<img alt=\"Hester. Lisens: PD\" style=\"float: right; margin-left: 10px;\" src=\"img/animasjon-hester.jpg\">\n",
    "\n",
    "**Vi har tidligere sett på hvordan vi kan lage [animasjoner med pygame](https://github.com/fagstoff/ProgMod/blob/master/Fagstoff/animasjoner_med_pygame.ipynb). Nå skal nå bruke pygame for å visualisere en fysikkmodell.**\n",
    "\n",
    "> Denne siden dekker helt eller delvis kompetansemålene: [Grunnleggende programmering 3 og 4](https://github.com/fagstoff/ProgMod/blob/master/L%C3%A6replan/kompetansem%C3%A5l.md#grunnleggende-programmering)"
   ]
  },
  {
   "cell_type": "markdown",
   "metadata": {},
   "source": [
    "## Vertikalt kast\n",
    "\n",
    "Først skal vi se på et enkelt vertikalt kast. Vi ta utgangspunkt i bevegelseslikningen \n",
    "\n",
    "$$ s(t)=s_0 + v_0 \\cdot t + \\frac{1}{2}\\cdot a \\cdot t^2 $$\n",
    "\n",
    "Vi setter $ s_0 = 0 $. Siden vi ønsker å se på endring i posisjon mellom hvert animasjonstrinn, deriverer vi $s(t)$ og får \n",
    "\n",
    "$$ v(t) = v_0 + a \\cdot t $$\n",
    "\n",
    "Siden vi vet at fart er endring av posisjon per tid, passer dette perfekt til en animasjon i et dataprogram. Vi ønsker å endre posisjonen til noe over tid. Til dette skal vi bruke kommandoen [move()](https://www.pygame.org/docs/ref/rect.html#pygame.Rect.move) i pygame.\n",
    "\n"
   ]
  },
  {
   "cell_type": "code",
   "execution_count": 2,
   "metadata": {},
   "outputs": [],
   "source": [
    "# Modellen vår, fart som funksjon av tid\n",
    "def fart(v0, a, tid):\n",
    "    return v0 + a * tid"
   ]
  },
  {
   "cell_type": "markdown",
   "metadata": {},
   "source": [
    "Vi tester om modellen gir oss fornuftige data."
   ]
  },
  {
   "cell_type": "code",
   "execution_count": 9,
   "metadata": {},
   "outputs": [
    {
     "name": "stdout",
     "output_type": "stream",
     "text": [
      "Farten i y-retning er 25.0 ved tiden 0.0\n",
      "Farten i y-retning er 20.1 ved tiden 0.5\n",
      "Farten i y-retning er 15.2 ved tiden 1.0\n",
      "Farten i y-retning er 10.3 ved tiden 1.5\n",
      "Farten i y-retning er 5.4 ved tiden 2.0\n",
      "Farten i y-retning er 0.5 ved tiden 2.5\n",
      "Farten i y-retning er -4.4 ved tiden 3.0\n",
      "Farten i y-retning er -9.3 ved tiden 3.5\n",
      "Farten i y-retning er -14.2 ved tiden 4.0\n",
      "Farten i y-retning er -19.1 ved tiden 4.5\n"
     ]
    }
   ],
   "source": [
    "import numpy as np\n",
    "\n",
    "v0y = 25  # Startfart i y-retning\n",
    "a = -9.81 # Tyngdens akselerasjon\n",
    "\n",
    "for x in np.arange(0.0, 5.0, 0.5):\n",
    "    vy = fart(v0y, a, x)\n",
    "    print(\"Farten i y-retning er {} ved tiden {}\".format(round(vy, 1), x))"
   ]
  },
  {
   "cell_type": "markdown",
   "metadata": {},
   "source": [
    "Koden som står nedenfor er ikke laget for å kjøres i Jupyter, men du kan [laste ned kildefila her](https://github.com/fagstoff/ProgMod/blob/master/Programkode/Diverse/anim_kast.py). Du må også laste ned bildene av [ballen](https://github.com/fagstoff/ProgMod/blob/master/Programkode/Diverse/anim_fotball.png) og [banen](https://github.com/fagstoff/ProgMod/blob/master/Programkode/Diverse/anim_fotball_bane.png), og lagre dem i samme mappe som `.py`-fila."
   ]
  },
  {
   "cell_type": "markdown",
   "metadata": {},
   "source": [
    "``` python\n",
    "import sys\n",
    "import pygame\n",
    "import numpy as np\n",
    "\n",
    "# Modellen vår, fart som funksjon av tid\n",
    "def fart(v0, a, tid):\n",
    "    return v0 + a * tid\n",
    "\n",
    "def ball_til_startpunkt():\n",
    "    ballrect.top = fieldrect.height - ballrect.height\n",
    "    ballrect.left = 10\n",
    "\n",
    "# Definerer initialbetingelsene til modellen\n",
    "v0x = 0  # Fart i x-retning (m/s). Sett for eksempel til 15 for et skrått kast.\n",
    "v0y = 25  # Fart u y-retning (m/s).\n",
    "a = -9.81 # Akselerasjon nedover (m/s^2)\n",
    "\n",
    "teller = 0 # Holder styr på hvor langt i simuleringen vi har kommet.\n",
    "\n",
    "tx = np.arange(0, 6, 0.05) # Liste med x-verdier - tiden\n",
    "vy = [] # tom liste som skal inneholde fart som funksjon av tid\n",
    "\n",
    "# Genererer v-verdier verdier for alle tidspunkt t\n",
    "for x in tx:\n",
    "    vy.append(-fart(v0y, a, x))\n",
    "\n",
    "# Starter pygame\n",
    "pygame.init()\n",
    "\n",
    "field = pygame.image.load('anim_fotball_bane.png')\n",
    "ball = pygame.image.load('anim_fotball.png')\n",
    "\n",
    "fieldrect = field.get_rect()\n",
    "ballrect = ball.get_rect()\n",
    "\n",
    "# Setter vindusstørrelsen til det samme som størrelsen på bildet av banen.\n",
    "screen = pygame.display.set_mode(fieldrect.size)\n",
    "\n",
    "# Plasserer ballen der vi vil at den skal starte.\n",
    "ball_til_startpunkt()\n",
    "\n",
    "while True:\n",
    "    for event in pygame.event.get():\n",
    "        if event.type == pygame.QUIT: sys.exit()\n",
    "\n",
    "    try: # Flytter ballen og øker telleren.\n",
    "        # Deler på 2 fordi ett piksel tilsvarer en halv meter.\n",
    "        ballrect = ballrect.move([v0x // 2, vy[teller] // 2])\n",
    "        teller += 1\n",
    "    except IndexError: # Vi har kommet til enden av lista.\n",
    "        teller = 0 # Nullstiller telleren.\n",
    "        ball_til_startpunkt() # Flytter ballen tilbake til startpunkt.\n",
    "\n",
    "    if ballrect.bottom > fieldrect.height: # Sjekker om ballen treffer nedkanten av banen.\n",
    "        teller = 0 # Nullstiller telleren.\n",
    "        ball_til_startpunkt() # Flytter ballen tilbake til startpunkt.\n",
    "\n",
    "    # Skriver ut bakgrunnsbilde og ballen i sin nye posisjon.\n",
    "    screen.blit(field, fieldrect)\n",
    "    screen.blit(ball, ballrect)\n",
    "    pygame.display.flip()\n",
    "````"
   ]
  },
  {
   "cell_type": "markdown",
   "metadata": {},
   "source": [
    "## Oppgaver\n",
    "1. Bytt ut bildene av ball og bane med andre objekter, og kjør programmet.\n",
    "2. Forsøk å endre startfart i x- og y-retning. Får du den bevegelsen du forventer?"
   ]
  },
  {
   "cell_type": "code",
   "execution_count": null,
   "metadata": {},
   "outputs": [],
   "source": []
  }
 ],
 "metadata": {
  "kernelspec": {
   "display_name": "Python 3",
   "language": "python",
   "name": "python3"
  },
  "language_info": {
   "codemirror_mode": {
    "name": "ipython",
    "version": 3
   },
   "file_extension": ".py",
   "mimetype": "text/x-python",
   "name": "python",
   "nbconvert_exporter": "python",
   "pygments_lexer": "ipython3",
   "version": "3.6.4"
  }
 },
 "nbformat": 4,
 "nbformat_minor": 2
}

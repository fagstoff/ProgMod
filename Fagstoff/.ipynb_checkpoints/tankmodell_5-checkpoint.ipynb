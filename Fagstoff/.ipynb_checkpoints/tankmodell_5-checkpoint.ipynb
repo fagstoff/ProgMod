{
 "cells": [
  {
   "cell_type": "markdown",
   "metadata": {},
   "source": [
    "# Tankmodell - To tanker\n",
    "__Creative Commons BY-SA : bitjungle (Rune Mathisen) og fuzzbin (Tom Jarle Christiansen)__\n",
    "\n",
    "<hr/>\n",
    "\n",
    "<img alt=\"Opphavsmann: Life-Of-Pix Lisens: Creative Commons CC0\" title=\"Opphavsmann: Life-Of-Pix Lisens: Creative Commons CC0\" style=\"width: 200px; float: right; margin-left: 30px;\" src=\"img/tanks-406908_640.jpg\">\n",
    "\n",
    "__Tidligere har vi laget [en modell for en tank hvor det strømmer væske ut av et hull i bunnen av tanken](https://github.com/fagstoff/ProgMod/blob/master/Fagstoff/tankmodell_3.ipynb), og [en modell hvor det strømmer væske inn i og ut av tanken samtidig](https://github.com/fagstoff/ProgMod/blob/master/Fagstoff/tankmodell_4.ipynb). Nå skal vi lage en modell med to tanker, hvor utløpet i den første tanken er innløpet til den andre tanken. __ \n",
    "\n",
    "> Denne siden dekker helt eller delvis kompetansemålene: <br>\n",
    "> [Grunnleggende programmering 2, 3 og 4](https://github.com/fagstoff/ProgMod/blob/master/L%C3%A6replan/kompetansem%C3%A5l.md#grunnleggende-programmering) <br>\n",
    "> [Matematiske metoder 1, 2, 4 og 5](https://github.com/fagstoff/ProgMod/blob/master/L%C3%A6replan/kompetansem%C3%A5l.md#matematiske-metoder) <br>\n",
    "> [Modellering 1](https://github.com/fagstoff/ProgMod/blob/master/L%C3%A6replan/kompetansem%C3%A5l.md#modellering)\n"
   ]
  },
  {
   "cell_type": "markdown",
   "metadata": {
    "collapsed": true
   },
   "source": [
    "Vi har nå problemstillingen som er vist i figuren nedenfor:\n",
    "\n",
    "![Skisse av tanken](img/tank03.png)\n",
    "\n",
    "Tanken har tverrsnitt $A_t=2 \\ \\mathrm{m}^2$ over hele høyden til tanken. I toppen av tanken kommer det inn væske $q_{inn} = 0.05 \\ m^3/s$ (50 liter i sekundet). I bunnen av tanken er det et hull hvor innholdet i tanken renner ut. Arealet til dette hullet er $A_h=0,01 \\ \\mathrm{m}^2$. Ved tiden $t=0 \\ \\mathrm{s}$ er tanken fylt opp til høyden $h=4 \\ \\mathrm{m}$. Hvordan vil høyden $h$ endres over tid? Vil tanken tømmes helt? Vi antar at væsken er inkompresibel og at den strømmer friksjonsfritt ut av hullet i bunnen. Vi kan også sette $g=9.81 \\ \\mathrm{m/s}^2$.\n",
    "\n",
    "La oss først definere de parametrene vi har fått oppgitt:"
   ]
  },
  {
   "cell_type": "code",
   "execution_count": 31,
   "metadata": {},
   "outputs": [],
   "source": [
    "import math # vi trenger dette biblioteket senere\n",
    "\n",
    "A_t1 = 2.00  # Tank 1 tverrsnittareal (m^2)\n",
    "A_t2 = 2.00  # Tank 2 tverrsnittareal (m^2)\n",
    "A_h1 = 0.002 # Hull 1 tverrsnittareal (m^2)\n",
    "A_h2 = 0.002 # Hull 2 tverrsnittareal (m^2)\n",
    "h_1 = 4.00 # Vannivået i tank 1 når forsøket starter (m)\n",
    "h_2 = 4.00 # Vannivået i tank 2 når forsøket starter (m)\n",
    "g = 9.81 # Gravitasjonskonstanten (m/s^2)\n",
    "q_inn1 = 0.005 # Mengde vann inn i toppen av tanken (m^3/s)\n",
    "q_inn2 = 0 # initialverdi for innstrømming i tank 2"
   ]
  },
  {
   "cell_type": "markdown",
   "metadata": {},
   "source": [
    "Nå setter vi opp et uttrykk for hvordan volumet endrer seg over tid, når det kommer væske inn i toppen av tanken samtidig som det strømmer væske ut i bunnen av tanken. Da har vi at:\n",
    "\n",
    "$$ \\frac{dV}{dt} = q_{inn} - q_{ut}$$\n",
    "\n",
    "Eller for å si det med ord: \n",
    "> Endringen til volumet av væsken i tanken er lik mengden væske som strømmer inn i tanken minus det som strømmer ut av tanken.\n",
    "\n",
    "Dette betyr at dersom det strømmer 100 liter væske inn i tanken og 300 liter ut av tanken i løpet av et sekund, så har volumet av væsken i tanken minket med 200 liter i løpet av det samme sekundet.\n",
    "\n",
    "Vi tar først for oss tank 1. I [tankmodell 2](https://github.com/fagstoff/ProgMod/blob/master/Fagtekster/Notebooks/tankmodell2.ipynb) fant vi at vi kunne uttrykke endring i væskehøyde over tid slik:\n",
    "\n",
    "$$ \\frac{dh_1}{dt} = \\frac{1}{A_{t1}} \\left( q_{inn1} - A_{h1} k \\sqrt{h_1} \\right) $$\n",
    "\n",
    "\n",
    "hvor $k = C \\cdot \\sqrt{2g}$. Dersom det er vann i tanken, kan vi anta at $C = 0,61$. Vi kan regne ut konstanten $k$:\n"
   ]
  },
  {
   "cell_type": "code",
   "execution_count": 32,
   "metadata": {},
   "outputs": [
    {
     "name": "stdout",
     "output_type": "stream",
     "text": [
      "Konstanten k er 2.7019626200227123\n"
     ]
    }
   ],
   "source": [
    "C = 0.61\n",
    "k = C * math.sqrt(2*g)\n",
    "print(\"Konstanten k er {}\".format(k))"
   ]
  },
  {
   "cell_type": "markdown",
   "metadata": {},
   "source": [
    "Vi kan lage et tilsvarene uttrykk for endring av væskehøyden i tank 2, men her er ikke innstrømmingen i tanken en konstant. Mengden inn i tank 2 er det samme som mengden ut av tank 1:\n",
    "\n",
    "$$ q_{inn2} = q_{ut1} $$\n",
    "\n",
    "Vi kan regne ut $q_{ut1}$ slik:\n",
    "\n",
    "$$ q_{ut1} = A_{h1} \\cdot v_1$$\n",
    "\n",
    "Da kan vi sette opp et uttrykk for endring av væskehøyde i tank 2:\n",
    "\n",
    "$$ \\frac{dh_2}{dt} = \\frac{1}{A_{t2}} \\left( q_{inn2} - A_{h2} k \\sqrt{h_2} \\right) $$\n",
    "\n",
    "Nå må vi implementere Eulers metode i Python slik at funksjonen kan brukes på begge tankene:"
   ]
  },
  {
   "cell_type": "code",
   "execution_count": 33,
   "metadata": {},
   "outputs": [],
   "source": [
    "def euler(h, dh, dt):\n",
    "    '''Regner ut ny høyde i tanken vet tiden t+dt, \n",
    "    gitt høyden og stigningstallet dh ved tiden t.'''\n",
    "    return h + dh * dt\n",
    "\n",
    "def stigning(A_h, A_t, h, q_inn):\n",
    "    '''Regner ut stigningen i punktet h.\n",
    "    Parameteren k er en global konstant.'''\n",
    "    return 1/A_t * ((q_inn) - A_h * k * math.sqrt(h))\n",
    "\n",
    "def hastighet(h):\n",
    "    '''Regner ut hastigheten til væskestrømmen ut av tanken \n",
    "    når væskehøyden er h. Parameteren k er en global konstant.'''\n",
    "    if h > 0.0:\n",
    "        return k * math.sqrt(h)\n",
    "    else:\n",
    "        return 0.0"
   ]
  },
  {
   "cell_type": "markdown",
   "metadata": {},
   "source": [
    "Vi starter ved tiden $t=0$ og endrer tiden med 5 sekunder for hver nye beregning ($\\Delta t=60$)."
   ]
  },
  {
   "cell_type": "code",
   "execution_count": 34,
   "metadata": {},
   "outputs": [
    {
     "name": "stdout",
     "output_type": "stream",
     "text": [
      "t = 0 => h_1 = 4.0 \t q_inn1 = 0.005 \t h_2 = 4.0 \t q_inn2 = 0\n",
      "t = 60 => h_1 = 3.83 \t q_inn1 = 0.005 \t h_2 = 3.99 \t q_inn2 = 0.0106\n",
      "t = 120 => h_1 = 3.66 \t q_inn1 = 0.005 \t h_2 = 3.98 \t q_inn2 = 0.0103\n",
      "t = 180 => h_1 = 3.5 \t q_inn1 = 0.005 \t h_2 = 3.96 \t q_inn2 = 0.0101\n",
      "t = 240 => h_1 = 3.35 \t q_inn1 = 0.005 \t h_2 = 3.93 \t q_inn2 = 0.0099\n",
      "t = 300 => h_1 = 3.2 \t q_inn1 = 0.005 \t h_2 = 3.9 \t q_inn2 = 0.0097\n",
      "t = 360 => h_1 = 3.06 \t q_inn1 = 0.005 \t h_2 = 3.86 \t q_inn2 = 0.0095\n",
      "t = 420 => h_1 = 2.93 \t q_inn1 = 0.005 \t h_2 = 3.82 \t q_inn2 = 0.0092\n",
      "t = 480 => h_1 = 2.8 \t q_inn1 = 0.005 \t h_2 = 3.78 \t q_inn2 = 0.009\n",
      "t = 540 => h_1 = 2.68 \t q_inn1 = 0.005 \t h_2 = 3.73 \t q_inn2 = 0.0088\n",
      "t = 600 => h_1 = 2.56 \t q_inn1 = 0.005 \t h_2 = 3.67 \t q_inn2 = 0.0086\n",
      "t = 660 => h_1 = 2.45 \t q_inn1 = 0.005 \t h_2 = 3.62 \t q_inn2 = 0.0085\n",
      "t = 720 => h_1 = 2.35 \t q_inn1 = 0.005 \t h_2 = 3.56 \t q_inn2 = 0.0083\n",
      "t = 780 => h_1 = 2.25 \t q_inn1 = 0.005 \t h_2 = 3.49 \t q_inn2 = 0.0081\n",
      "t = 840 => h_1 = 2.16 \t q_inn1 = 0.005 \t h_2 = 3.43 \t q_inn2 = 0.0079\n",
      "t = 900 => h_1 = 2.07 \t q_inn1 = 0.005 \t h_2 = 3.36 \t q_inn2 = 0.0078\n",
      "t = 960 => h_1 = 1.99 \t q_inn1 = 0.005 \t h_2 = 3.29 \t q_inn2 = 0.0076\n",
      "t = 1020 => h_1 = 1.91 \t q_inn1 = 0.005 \t h_2 = 3.22 \t q_inn2 = 0.0075\n",
      "t = 1080 => h_1 = 1.83 \t q_inn1 = 0.005 \t h_2 = 3.15 \t q_inn2 = 0.0073\n",
      "t = 1140 => h_1 = 1.76 \t q_inn1 = 0.005 \t h_2 = 3.08 \t q_inn2 = 0.0072\n",
      "t = 1200 => h_1 = 1.7 \t q_inn1 = 0.005 \t h_2 = 3.01 \t q_inn2 = 0.007\n",
      "t = 1260 => h_1 = 1.64 \t q_inn1 = 0.005 \t h_2 = 2.93 \t q_inn2 = 0.0069\n",
      "t = 1320 => h_1 = 1.58 \t q_inn1 = 0.005 \t h_2 = 2.86 \t q_inn2 = 0.0068\n",
      "t = 1380 => h_1 = 1.53 \t q_inn1 = 0.005 \t h_2 = 2.78 \t q_inn2 = 0.0067\n",
      "t = 1440 => h_1 = 1.48 \t q_inn1 = 0.005 \t h_2 = 2.71 \t q_inn2 = 0.0066\n",
      "t = 1500 => h_1 = 1.43 \t q_inn1 = 0.005 \t h_2 = 2.64 \t q_inn2 = 0.0065\n",
      "t = 1560 => h_1 = 1.38 \t q_inn1 = 0.005 \t h_2 = 2.57 \t q_inn2 = 0.0064\n",
      "t = 1620 => h_1 = 1.34 \t q_inn1 = 0.005 \t h_2 = 2.49 \t q_inn2 = 0.0063\n",
      "t = 1680 => h_1 = 1.31 \t q_inn1 = 0.005 \t h_2 = 2.42 \t q_inn2 = 0.0062\n",
      "t = 1740 => h_1 = 1.27 \t q_inn1 = 0.005 \t h_2 = 2.35 \t q_inn2 = 0.0061\n",
      "t = 1800 => h_1 = 1.24 \t q_inn1 = 0.005 \t h_2 = 2.29 \t q_inn2 = 0.006\n",
      "t = 1860 => h_1 = 1.21 \t q_inn1 = 0.005 \t h_2 = 2.22 \t q_inn2 = 0.0059\n",
      "t = 1920 => h_1 = 1.18 \t q_inn1 = 0.005 \t h_2 = 2.15 \t q_inn2 = 0.0059\n",
      "t = 1980 => h_1 = 1.15 \t q_inn1 = 0.005 \t h_2 = 2.09 \t q_inn2 = 0.0058\n",
      "t = 2040 => h_1 = 1.13 \t q_inn1 = 0.005 \t h_2 = 2.03 \t q_inn2 = 0.0057\n",
      "t = 2100 => h_1 = 1.11 \t q_inn1 = 0.005 \t h_2 = 1.97 \t q_inn2 = 0.0057\n",
      "t = 2160 => h_1 = 1.09 \t q_inn1 = 0.005 \t h_2 = 1.91 \t q_inn2 = 0.0056\n",
      "t = 2220 => h_1 = 1.07 \t q_inn1 = 0.005 \t h_2 = 1.85 \t q_inn2 = 0.0056\n",
      "t = 2280 => h_1 = 1.05 \t q_inn1 = 0.005 \t h_2 = 1.8 \t q_inn2 = 0.0055\n",
      "t = 2340 => h_1 = 1.03 \t q_inn1 = 0.005 \t h_2 = 1.74 \t q_inn2 = 0.0055\n",
      "t = 2400 => h_1 = 1.02 \t q_inn1 = 0.005 \t h_2 = 1.69 \t q_inn2 = 0.0055\n",
      "t = 2460 => h_1 = 1.01 \t q_inn1 = 0.005 \t h_2 = 1.65 \t q_inn2 = 0.0054\n",
      "t = 2520 => h_1 = 0.99 \t q_inn1 = 0.005 \t h_2 = 1.6 \t q_inn2 = 0.0054\n",
      "t = 2580 => h_1 = 0.98 \t q_inn1 = 0.005 \t h_2 = 1.56 \t q_inn2 = 0.0054\n",
      "t = 2640 => h_1 = 0.97 \t q_inn1 = 0.005 \t h_2 = 1.51 \t q_inn2 = 0.0053\n",
      "t = 2700 => h_1 = 0.96 \t q_inn1 = 0.005 \t h_2 = 1.47 \t q_inn2 = 0.0053\n",
      "t = 2760 => h_1 = 0.95 \t q_inn1 = 0.005 \t h_2 = 1.43 \t q_inn2 = 0.0053\n",
      "t = 2820 => h_1 = 0.94 \t q_inn1 = 0.005 \t h_2 = 1.4 \t q_inn2 = 0.0053\n",
      "t = 2880 => h_1 = 0.94 \t q_inn1 = 0.005 \t h_2 = 1.36 \t q_inn2 = 0.0052\n",
      "t = 2940 => h_1 = 0.93 \t q_inn1 = 0.005 \t h_2 = 1.33 \t q_inn2 = 0.0052\n",
      "t = 3000 => h_1 = 0.92 \t q_inn1 = 0.005 \t h_2 = 1.3 \t q_inn2 = 0.0052\n",
      "t = 3060 => h_1 = 0.92 \t q_inn1 = 0.005 \t h_2 = 1.27 \t q_inn2 = 0.0052\n",
      "t = 3120 => h_1 = 0.91 \t q_inn1 = 0.005 \t h_2 = 1.24 \t q_inn2 = 0.0052\n",
      "t = 3180 => h_1 = 0.91 \t q_inn1 = 0.005 \t h_2 = 1.21 \t q_inn2 = 0.0051\n",
      "t = 3240 => h_1 = 0.9 \t q_inn1 = 0.005 \t h_2 = 1.19 \t q_inn2 = 0.0051\n",
      "t = 3300 => h_1 = 0.9 \t q_inn1 = 0.005 \t h_2 = 1.17 \t q_inn2 = 0.0051\n",
      "t = 3360 => h_1 = 0.9 \t q_inn1 = 0.005 \t h_2 = 1.15 \t q_inn2 = 0.0051\n",
      "t = 3420 => h_1 = 0.89 \t q_inn1 = 0.005 \t h_2 = 1.12 \t q_inn2 = 0.0051\n",
      "t = 3480 => h_1 = 0.89 \t q_inn1 = 0.005 \t h_2 = 1.11 \t q_inn2 = 0.0051\n",
      "t = 3540 => h_1 = 0.89 \t q_inn1 = 0.005 \t h_2 = 1.09 \t q_inn2 = 0.0051\n",
      "t = 3600 => h_1 = 0.88 \t q_inn1 = 0.005 \t h_2 = 1.07 \t q_inn2 = 0.0051\n",
      "t = 3660 => h_1 = 0.88 \t q_inn1 = 0.005 \t h_2 = 1.06 \t q_inn2 = 0.0051\n",
      "t = 3720 => h_1 = 0.88 \t q_inn1 = 0.005 \t h_2 = 1.04 \t q_inn2 = 0.0051\n",
      "t = 3780 => h_1 = 0.88 \t q_inn1 = 0.005 \t h_2 = 1.03 \t q_inn2 = 0.0051\n",
      "t = 3840 => h_1 = 0.87 \t q_inn1 = 0.005 \t h_2 = 1.01 \t q_inn2 = 0.0051\n",
      "t = 3900 => h_1 = 0.87 \t q_inn1 = 0.005 \t h_2 = 1.0 \t q_inn2 = 0.0051\n",
      "t = 3960 => h_1 = 0.87 \t q_inn1 = 0.005 \t h_2 = 0.99 \t q_inn2 = 0.005\n",
      "t = 4020 => h_1 = 0.87 \t q_inn1 = 0.005 \t h_2 = 0.98 \t q_inn2 = 0.005\n",
      "t = 4080 => h_1 = 0.87 \t q_inn1 = 0.005 \t h_2 = 0.97 \t q_inn2 = 0.005\n",
      "t = 4140 => h_1 = 0.87 \t q_inn1 = 0.005 \t h_2 = 0.96 \t q_inn2 = 0.005\n",
      "t = 4200 => h_1 = 0.87 \t q_inn1 = 0.005 \t h_2 = 0.96 \t q_inn2 = 0.005\n",
      "t = 4260 => h_1 = 0.87 \t q_inn1 = 0.005 \t h_2 = 0.95 \t q_inn2 = 0.005\n",
      "t = 4320 => h_1 = 0.87 \t q_inn1 = 0.005 \t h_2 = 0.94 \t q_inn2 = 0.005\n",
      "t = 4380 => h_1 = 0.86 \t q_inn1 = 0.005 \t h_2 = 0.93 \t q_inn2 = 0.005\n",
      "t = 4440 => h_1 = 0.86 \t q_inn1 = 0.005 \t h_2 = 0.93 \t q_inn2 = 0.005\n",
      "t = 4500 => h_1 = 0.86 \t q_inn1 = 0.005 \t h_2 = 0.92 \t q_inn2 = 0.005\n",
      "t = 4560 => h_1 = 0.86 \t q_inn1 = 0.005 \t h_2 = 0.92 \t q_inn2 = 0.005\n",
      "t = 4620 => h_1 = 0.86 \t q_inn1 = 0.005 \t h_2 = 0.91 \t q_inn2 = 0.005\n",
      "t = 4680 => h_1 = 0.86 \t q_inn1 = 0.005 \t h_2 = 0.91 \t q_inn2 = 0.005\n",
      "t = 4740 => h_1 = 0.86 \t q_inn1 = 0.005 \t h_2 = 0.9 \t q_inn2 = 0.005\n"
     ]
    },
    {
     "data": {
      "image/png": "[encoded data removed]",
      "text/plain": [
       "<matplotlib.figure.Figure at 0x10ca78a90>"
      ]
     },
     "metadata": {},
     "output_type": "display_data"
    }
   ],
   "source": [
    "t = 0  # starttiden\n",
    "dt = 60 # tidssteg i sekunder\n",
    "h_lim = 0.01 # vi stopper beregningen når høyden er mindre enn denne\n",
    "t_lim = 4800 # vi stopper beregningen etter 4800 sekunder\n",
    "t_hist = [] # Lagerplass for historiske tidspunkter\n",
    "h1_hist = [] # Lagerplass for historiske h-verdier\n",
    "h2_hist = [] # Lagerplass for historiske h-verdier\n",
    "while h_1 > h_lim and t < t_lim:\n",
    "    if t > 0: # ingen beregning ved t = 0, der bruker vi initialverdier\n",
    "        h_1 = euler(h_1, stigning(A_h1, A_t1, h_1, q_inn1), dt)\n",
    "        v_1 = hastighet(h_1) # Hastigheten til væsken som strømmer ut av hullet\n",
    "        q_inn2 = A_h1 * v_1 # Mengden væske som strømmer ut av hullet i tank 1\n",
    "        h_2 = euler(h_2, stigning(A_h2, A_t2, h_2, q_inn2), dt)\n",
    "    print(\"t = {} => h_1 = {} \\t q_inn1 = {} \\t h_2 = {} \\t q_inn2 = {}\".format(t, round(h_1,2), q_inn1, round(h_2,2), round(q_inn2,4)))\n",
    "    t_hist.append(t)\n",
    "    h1_hist.append(h_1)\n",
    "    h2_hist.append(h_2)\n",
    "    t += dt\n",
    "\n",
    "import matplotlib.pyplot as plt\n",
    "plt.plot(t_hist, h1_hist)\n",
    "plt.plot(t_hist, h2_hist)\n",
    "plt.ylabel('Høyde [m]')\n",
    "plt.xlabel('Tid [s]')\n",
    "plt.axis([0, t_lim, 0, h1_hist[0]]) # Max y-verdi må fikses!\n",
    "plt.show()"
   ]
  },
  {
   "cell_type": "markdown",
   "metadata": {
    "collapsed": true
   },
   "source": [
    "# Oppgaver\n",
    "1. I koden ovenfor er det to identiske tanker som er koblet sammen. Forsøk å endre parametere på de to tankene ($A_{t1}, A_{t2}, A_{h1}, A_{h2}$), og se hva som skjer.\n",
    "2. Kan du lage en modell som har tre sammenkoblede tanker?"
   ]
  },
  {
   "cell_type": "code",
   "execution_count": null,
   "metadata": {},
   "outputs": [],
   "source": []
  }
 ],
 "metadata": {
  "kernelspec": {
   "display_name": "Python 3",
   "language": "python",
   "name": "python3"
  },
  "language_info": {
   "codemirror_mode": {
    "name": "ipython",
    "version": 3
   },
   "file_extension": ".py",
   "mimetype": "text/x-python",
   "name": "python",
   "nbconvert_exporter": "python",
   "pygments_lexer": "ipython3",
   "version": "3.6.4"
  }
 },
 "nbformat": 4,
 "nbformat_minor": 2
}

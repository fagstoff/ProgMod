{
 "cells": [
  {
   "cell_type": "markdown",
   "metadata": {},
   "source": [
    "# Dette er en overskrift!\n",
    "\n",
    "Dette er vanlig tekst!\n",
    "\n",
    "1. Liste 1\n",
    "2. Liste 2\n",
    "3. [En avis](http://www.vg.no)\n",
    "\n",
    "$ a = \\frac{F}{m} $\n",
    "$$ a = \\frac{F}{m} $$\n",
    "\n",
    "Mer tekst!\n",
    "\n",
    "` print(\"hallo verden\") `"
   ]
  },
  {
   "cell_type": "code",
   "execution_count": 2,
   "metadata": {},
   "outputs": [
    {
     "name": "stdout",
     "output_type": "stream",
     "text": [
      "summen av 11 og 10 er 21\n"
     ]
    }
   ],
   "source": [
    "tall1 = 11\n",
    "tall2 = 10\n",
    "\n",
    "tall3 = tall1 + tall2\n",
    "\n",
    "if tall3 > 20:\n",
    "    print(\"summen av {} og {} er {}\".format(tall1, tall2, tall3))\n",
    "else:\n",
    "    print(\"Tall3 er mindre enn 20\")\n"
   ]
  },
  {
   "cell_type": "markdown",
   "metadata": {},
   "source": [
    "## Utvidelse av eksempel..."
   ]
  },
  {
   "cell_type": "code",
   "execution_count": null,
   "metadata": {
    "collapsed": true
   },
   "outputs": [],
   "source": []
  }
 ],
 "metadata": {
  "kernelspec": {
   "display_name": "Python 3",
   "language": "python",
   "name": "python3"
  },
  "language_info": {
   "codemirror_mode": {
    "name": "ipython",
    "version": 3
   },
   "file_extension": ".py",
   "mimetype": "text/x-python",
   "name": "python",
   "nbconvert_exporter": "python",
   "pygments_lexer": "ipython3",
   "version": "3.6.2"
  }
 },
 "nbformat": 4,
 "nbformat_minor": 2
}

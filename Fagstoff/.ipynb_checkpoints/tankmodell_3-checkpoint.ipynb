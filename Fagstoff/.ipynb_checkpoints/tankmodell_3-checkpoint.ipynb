{
 "cells": [
  {
   "cell_type": "markdown",
   "metadata": {},
   "source": [
    "# Tankmodell - Vi tømmer tanken (fri utstrømming)\n",
    "__Creative Commons BY-SA : bitjungle (Rune Mathisen) og fuzzbin (Tom Jarle Christiansen)__\n",
    "\n",
    "<hr/>\n",
    "\n",
    "<img alt=\"Opphavsmann: Life-Of-Pix Lisens: Creative Commons CC0\" title=\"Opphavsmann: Life-Of-Pix Lisens: Creative Commons CC0\" style=\"width: 200px; float: right; margin-left: 30px;\" src=\"img/tanks-406908_640.jpg\">\n",
    "\n",
    "__Tidligere har vi sett på hvordan vi kan modellere hvordan en tank tømmes for væske dersom utstrømmen fra tanken er konstant. Det forutsetter at vi kan styre utstrømmen. Hva skjer dersom væsken kan strømme fritt ut fra tanken?__\n",
    "\n",
    "> Denne siden dekker helt eller delvis kompetansemålene: <br>\n",
    "> [Grunnleggende programmering 2, 3 og 4](https://github.com/fagstoff/ProgMod/blob/master/L%C3%A6replan/kompetansem%C3%A5l.md#grunnleggende-programmering) <br>\n",
    "> [Matematiske metoder 1, 4 og 5](https://github.com/fagstoff/ProgMod/blob/master/L%C3%A6replan/kompetansem%C3%A5l.md#matematiske-metoder) <br>\n",
    "> [Modellering 1](https://github.com/fagstoff/ProgMod/blob/master/L%C3%A6replan/kompetansem%C3%A5l.md#modellering)\n"
   ]
  },
  {
   "cell_type": "markdown",
   "metadata": {},
   "source": [
    "Vi har en tank med samme tverrsnitt $A_t=2 \\ \\mathrm{m}^2$ over hele høyden til tanken. I bunnen av tanken er det et hull hvor innholdet i tanken renner ut. Arealet til dette hullet er $A_h=0,002 \\ \\mathrm{m}^2$. Ved tiden $t=0 \\ \\mathrm{s}$ er tanken fylt opp til høyden $h=4 \\ \\mathrm{m}$. Hvordan vil høyden $h$ endres over tid? Når er tanken tom? Vi antar at væsken er inkompresibel og at den strømmer friksjonsfritt ut av hullet i bunnen. Vi kan også sette $g=9.81 \\ \\mathrm{m/s}^2$.\n",
    "\n",
    "![Skisse av tanken](img/tank01.png)\n",
    "\n",
    "La oss først definere de parametrene vi har fått oppgitt:"
   ]
  },
  {
   "cell_type": "code",
   "execution_count": 37,
   "metadata": {},
   "outputs": [],
   "source": [
    "import math # vi trenger dette biblioteket senere\n",
    "\n",
    "A_t = 2.00  # Tankens tverrsnittareal (m^2)\n",
    "A_h = 0.002 # Hullets tverrsnittareal (m^2)\n",
    "h = 4.00    # Vannivået når forsøket starter (m)\n",
    "g = 9.81    # Gravitasjonskonstanten (m/s^2)"
   ]
  },
  {
   "cell_type": "markdown",
   "metadata": {},
   "source": [
    "Volumet av væsken i tanken kan skrives som:\n",
    "\n",
    "$$ V = A_t \\cdot h $$\n",
    "\n",
    "Vi kan nå regne ut volumet $V_{0}$ av væsken i tanken ved tiden $t=0 \\ \\mathrm{s}$ på følgende måte i Python:"
   ]
  },
  {
   "cell_type": "code",
   "execution_count": 38,
   "metadata": {},
   "outputs": [
    {
     "name": "stdout",
     "output_type": "stream",
     "text": [
      "Volumet ved tiden t = 0 s er 8.0 m^3\n"
     ]
    }
   ],
   "source": [
    "V0 = A_t * h\n",
    "print(\"Volumet ved tiden t = 0 s er {} m^3\".format(V0))"
   ]
  },
  {
   "cell_type": "markdown",
   "metadata": {},
   "source": [
    "Så setter vi opp et uttrykk for hvordan volumet endrer seg over tid, når det bare strømmer væske ut av tanken og det ikke kommer noe væske inn i tanken. Da har vi at:\n",
    "\n",
    "$$ \\frac{dV}{dt} = -q_{ut}$$\n",
    "\n",
    "Eller for å si det med ord: \n",
    "> Endringen til volumet av væsken i tanken over et gitt tidsrom er lik mengden væske som strømmer ut av tanken i det samme tidsrommet.\n",
    "\n",
    "Det vil si at dersom det strømmer ut 100 liter væske i løpet av ett sekund, så må volumet av væsken i tanken også ha minket med 100 liter i løpet av det samme sekundet.\n",
    "\n",
    "Mengden $q_{ut}$ som strømmer ut av tanken er gitt ved arealet $A_h$ til hullet og hastigheten $v_1$ på væskestrømmen ut av hullet: \n",
    "\n",
    "$$ q_{ut} = A_h \\cdot v_1 $$\n",
    "\n",
    "Siden tverrsnittet $A_t$ til tanken er konstant og volumet av væsken i tanken er gitt ved $V=A_t \\cdot h$, kan vi nå skrive:\n",
    "\n",
    "$$ A_t \\frac{dh}{dt} = -A_h \\cdot v_1 $$\n",
    "\n",
    "Nå må vi forsøke å finne et uttrykk for $v_1$.\n",
    "\n",
    "<img alt=\"Figur av vanntank med beregninger for to ulike punkter i tanken\" style=\"width: 200px; float: right; margin-left: 30px;\" src=\"img/tank04.png\">\n",
    "\n",
    "Fra fysikken kjenner vi [Bernoullis ligning](http://hyperphysics.phy-astr.gsu.edu/hbase/pber.html) som kan brukes til å beskrive hvordan vannet vil renne ut av tanken. Trykkforskjellen mellom innsiden og utsiden av hullet i bunnen av tanken er den drivende kraften som gjør at væsken vil strømme ut gjennom hullet. Væsken vil strømme fra der hvor det er høyt trykk til der hvor det er lavt trykk. Vi velger oss et punkt 0 på vannoverflaten og et punkt 1 ved utløpet i bunnen av tanken. Da kan vi sette opp Bernoulli's ligning slik:\n",
    "\n",
    "$$ P_0 + \\rho g h_0 + \\frac{1}{2}\\rho v_0^2= P_1 + \\rho g h_1 + \\frac{1}{2}\\rho v_1^2$$\n",
    "\n",
    "Der $P$ er trykk og $\\rho$ er massetettheten til væsken. Vi har atmosfæretrykk både over tanken og ved utløpet, så da er $P_0 = P_1 = P_{atm}$. Siden trykket $P$ er likt på begge sider av ligningen, kansellerer disse hverandre. \n",
    "\n",
    "Når vi bruker Bernoullis ligning har vi gjort en rekke __antakelser og forenklinger__. Væsken må være inkompressibel og den må strømme friksjonsfritt. I tillegg må tverrsnittet i tanken være mye større enn tverrsnittet av hullet hvor væsken strømmer ut. Da kan vi anta at $v_0\\approx0 \\ \\mathrm{m/s}$. \n",
    "\n",
    "Vi definerer at høyden er null ved tankens bunn, og vi får $h_1=0\\ \\mathrm{m}$. Høydeforskjellen $h_0 - h_1 = h_0 - 0 = h$ er den til enhver tid gjeldende væskehøyden. Vi kan nå løse ligningen med hensyn på $v_1$, og får:\n",
    "\n",
    "$$ v_1 = \\sqrt{2gh} $$\n",
    "\n",
    "Vi har til nå antatt at væsken strømmer friksjonsfritt gjennom hullet i bunnen av tanken. Det er mulig å sette inn en korreksjonsfaktor $C$ for å korrigere for feilen vi får av denne antakelsen:\n",
    "\n",
    "$$ v_1 = C \\cdot \\sqrt{2gh} $$\n",
    "\n",
    "Siden vi ikke vet hvor stor denne faktoren skal være, setter vi den bare til 1 i beregningene nedenfor. Vi slår sammen $C$ og $\\sqrt{2g}$ til konstanten $k$.\n",
    "\n",
    "$$ k = C \\cdot \\sqrt{2g} $$\n"
   ]
  },
  {
   "cell_type": "code",
   "execution_count": 39,
   "metadata": {},
   "outputs": [
    {
     "name": "stdout",
     "output_type": "stream",
     "text": [
      "Konstanten k er 4.4294469180700204\n"
     ]
    }
   ],
   "source": [
    "C = 1\n",
    "k = C * math.sqrt(2*g)\n",
    "print(\"Konstanten k er {}\".format(k))"
   ]
  },
  {
   "cell_type": "markdown",
   "metadata": {},
   "source": [
    "Farten $v_1$ er nå gitt ved:\n",
    "\n",
    "$$ v_1 = k \\cdot \\sqrt{h} $$\n",
    "\n",
    "Nå kan vi sette inn uttrykket for $v$ i uttrykket for endring av volumet til væsken i tanken:\n",
    "\n",
    "$$ A_t \\frac{dh}{dt} = - A_h k \\sqrt{h}$$\n",
    "\n",
    "Uttrykket for endring av høyden over tid blir da:\n",
    "\n",
    "$$ \\frac{dh}{dt} = - \\frac{A_h}{A_t} k \\sqrt{h}  $$\n",
    "\n",
    "Vi bruker Eulers metode for å finne ut hva høyden $h$ er når vi endrer tiden med $\\Delta t = t_{i+1} - t_i$:\n",
    "\n",
    "$$ \\frac{h_{i+1} - h_i}{\\Delta t} = - \\frac{A_h}{A_t}  k\\sqrt{h_i} $$\n",
    "\n",
    "$$ h_{i+1} = h_i - \\frac{A_h}{A_t}  k\\sqrt{h_i} \\cdot \\Delta t $$\n",
    "\n",
    "Nå kan vi implementere Eulers metode i Python:"
   ]
  },
  {
   "cell_type": "code",
   "execution_count": 40,
   "metadata": {},
   "outputs": [],
   "source": [
    "def euler(h, dh, dt):\n",
    "    '''Regner ut ny høyde i tanken vet tiden t+dt, \n",
    "    gitt høyden og stigningstallet dh ved tiden t.'''\n",
    "    return h + dh * dt\n",
    "\n",
    "def stigning(h):\n",
    "    '''Regner ut stigningen i punktet h.\n",
    "    Parameterene A_h, A_t og K er globale konstanter.'''\n",
    "    return -(A_h/A_t*C) * k * math.sqrt(h)"
   ]
  },
  {
   "cell_type": "markdown",
   "metadata": {},
   "source": [
    "Vi starter ved tiden $t=0$ og endrer tiden med 10 sekunder for hver nye beregning ($\\Delta t=10$)."
   ]
  },
  {
   "cell_type": "code",
   "execution_count": 41,
   "metadata": {},
   "outputs": [
    {
     "name": "stdout",
     "output_type": "stream",
     "text": [
      "t = 0 => h = 4.0 \t v = 8.86 \t qut = 0.0177\n",
      "t = 30 => h = 3.73 \t v = 8.56 \t qut = 0.0171\n",
      "t = 60 => h = 3.48 \t v = 8.26 \t qut = 0.0165\n",
      "t = 90 => h = 3.23 \t v = 7.96 \t qut = 0.0159\n",
      "t = 120 => h = 2.99 \t v = 7.66 \t qut = 0.0153\n",
      "t = 150 => h = 2.76 \t v = 7.36 \t qut = 0.0147\n",
      "t = 180 => h = 2.54 \t v = 7.06 \t qut = 0.0141\n",
      "t = 210 => h = 2.33 \t v = 6.76 \t qut = 0.0135\n",
      "t = 240 => h = 2.13 \t v = 6.46 \t qut = 0.0129\n",
      "t = 270 => h = 1.93 \t v = 6.16 \t qut = 0.0123\n",
      "t = 300 => h = 1.75 \t v = 5.85 \t qut = 0.0117\n",
      "t = 330 => h = 1.57 \t v = 5.55 \t qut = 0.0111\n",
      "t = 360 => h = 1.4 \t v = 5.25 \t qut = 0.0105\n",
      "t = 390 => h = 1.25 \t v = 4.95 \t qut = 0.0099\n",
      "t = 420 => h = 1.1 \t v = 4.64 \t qut = 0.0093\n",
      "t = 450 => h = 0.96 \t v = 4.34 \t qut = 0.0087\n",
      "t = 480 => h = 0.83 \t v = 4.03 \t qut = 0.0081\n",
      "t = 510 => h = 0.71 \t v = 3.73 \t qut = 0.0075\n",
      "t = 540 => h = 0.6 \t v = 3.42 \t qut = 0.0068\n",
      "t = 570 => h = 0.49 \t v = 3.11 \t qut = 0.0062\n",
      "t = 600 => h = 0.4 \t v = 2.8 \t qut = 0.0056\n",
      "t = 630 => h = 0.32 \t v = 2.49 \t qut = 0.005\n",
      "t = 660 => h = 0.24 \t v = 2.18 \t qut = 0.0044\n",
      "t = 690 => h = 0.18 \t v = 1.86 \t qut = 0.0037\n",
      "t = 720 => h = 0.12 \t v = 1.54 \t qut = 0.0031\n",
      "t = 750 => h = 0.07 \t v = 1.21 \t qut = 0.0024\n",
      "t = 780 => h = 0.04 \t v = 0.87 \t qut = 0.0017\n",
      "t = 810 => h = 0.01 \t v = 0.49 \t qut = 0.001\n"
     ]
    },
    {
     "data": {
      "image/png": "[encoded data removed]",
      "text/plain": [
       "<matplotlib.figure.Figure at 0x10c39c160>"
      ]
     },
     "metadata": {},
     "output_type": "display_data"
    }
   ],
   "source": [
    "t = 0   # starttiden\n",
    "dt = 30 # tidssteg i sekunder\n",
    "h_lim = 0.02 # vi stopper beregningen når høyden er mindre enn denne\n",
    "t_hist = [] # Lagerplass for historiske tidspunkter\n",
    "h_hist = [] # Lagerplass for historiske h-verdier\n",
    "while h > h_lim:\n",
    "    if t > 0: # ingen beregning ved t = 0, der bruker vi initialverdier\n",
    "        h = euler(h, stigning(h), dt)\n",
    "    v = k * math.sqrt(h) # Hastigheten til væsken som strømmer ut av hullet\n",
    "    q_ut = A_h * v # Mengden væske som strømmer ut av hullet\n",
    "    print(\"t = {} => h = {} \\t v = {} \\t qut = {}\".format(t, round(h,2), round(v,2), round(q_ut,4)))\n",
    "    t_hist.append(t)\n",
    "    h_hist.append(h)\n",
    "    t += dt # tidspunkt ved neste tidssteg\n",
    "\n",
    "import matplotlib.pyplot as plt\n",
    "plt.plot(t_hist, h_hist)\n",
    "plt.ylabel('Høyde [m]')\n",
    "plt.xlabel('Tid [s]')\n",
    "plt.show()"
   ]
  },
  {
   "cell_type": "markdown",
   "metadata": {},
   "source": [
    "# Oppgaver\n",
    "1. Forsøk å endre på arealet av hullet i bunnen av tanken. Hvordan påvirker det simuleringen?\n",
    "2. Endre tidsstegene i simuleringen, for eksempel til 1 sekund eller til 60 sekunder. Hva er fordelene og ulempene med å bruke korte og lange tidssteg?\n",
    "3. Forsøk med ulike korreksjonsfaktorer $C$. [En passende faktor for vann kan være 0,61](https://www.usbr.gov/tsc/techreferences/mands/wmm/chap09_05.html). Hvor mye har denne korreksjonen å si for simuleringen?"
   ]
  },
  {
   "cell_type": "code",
   "execution_count": null,
   "metadata": {
    "collapsed": true
   },
   "outputs": [],
   "source": []
  }
 ],
 "metadata": {
  "kernelspec": {
   "display_name": "Python 3",
   "language": "python",
   "name": "python3"
  },
  "language_info": {
   "codemirror_mode": {
    "name": "ipython",
    "version": 3
   },
   "file_extension": ".py",
   "mimetype": "text/x-python",
   "name": "python",
   "nbconvert_exporter": "python",
   "pygments_lexer": "ipython3",
   "version": "3.6.4"
  }
 },
 "nbformat": 4,
 "nbformat_minor": 2
}

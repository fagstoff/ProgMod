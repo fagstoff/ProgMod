{
 "cells": [
  {
   "cell_type": "markdown",
   "metadata": {
    "deletable": true,
    "editable": true,
    "slideshow": {
     "slide_type": "-"
    }
   },
   "source": [
    "\n",
    "# Variabler\n",
    "__Creative Commons BY-SA : bitjungle (Rune Mathisen) og fuzzbin (Tom Jarle Christiansen)__\n",
    "\n",
    "<hr/>\n",
    "\n",
    "<img alt=\"(X)\" style=\"float: right; margin-left: 10px;\" src=\"img/variable-x.png\">\n",
    "\n",
    "**I nesten alle programmer har vi behov for å behandle og manipulere tall og tekst. For å få til dette er vi helt avhengige av å kunne lagre denne informasjonen et sted. Dette gjøres ved hjelp av variabler.**\n",
    "\n",
    "> Denne siden dekker helt eller delvis kompetansemålene: [Grunnleggende programmering 3 og 4](https://github.com/fagstoff/ProgMod/blob/master/L%C3%A6replan/kompetansem%C3%A5l.md#grunnleggende-programmering)\n",
    "\n",
    "En variabel i programmering brukes på samme måte som i matematikk. Den  representeres med et symbol eller navn som kan inneholde en verdi. Denne verdien kan være et tall, en tekst, en liste eller helt andre ting. En variabel kan som oftest endre sin verdi etter at den er laget.\n",
    "\n",
    "Variabler kan ha mange ulike typer innhold. Dette kalles for datatyper. Noen av disse har også undertyper, for eksempel datatypen *tall* som bl.a. har undertypene int/heltall og float/desimaltall.\n",
    "\n",
    "Python har fem standard datatyper som igjen kan ha undertyper:\n",
    "\n",
    "\n",
    ">+ Numbers -> 3.1415926 eller 3\n",
    ">+ String -> \"Hallo verden!\"\n",
    ">+ Liste -> [123, \"Rune\"]\n",
    ">+ Tuppel -> (123, \"Tom Jarle\")\n",
    ">+ Dictionary -> {\"fag\": \"ProgMod\", \"type\": \"Realfag\", \"inntakspoeng\": \"45.6\"}\n",
    "\n",
    "La oss se på noen eksempler der vi *deklarerer* noen ulike variabeltyper, *tilordner* verdi, og skriver ut datatypen."
   ]
  },
  {
   "cell_type": "code",
   "execution_count": 1,
   "metadata": {
    "collapsed": false,
    "deletable": true,
    "editable": true
   },
   "outputs": [
    {
     "name": "stdout",
     "output_type": "stream",
     "text": [
      "10 er et heltall, og har datatypen:  <class 'int'>\n"
     ]
    }
   ],
   "source": [
    "tall1 = 10 # deklarerer variabelen tall1, og tilordner den verdien 10\n",
    "print(tall1, \"er et heltall, og har datatypen: \", type(tall1))"
   ]
  },
  {
   "cell_type": "code",
   "execution_count": 4,
   "metadata": {
    "collapsed": false,
    "deletable": true,
    "editable": true
   },
   "outputs": [
    {
     "name": "stdout",
     "output_type": "stream",
     "text": [
      "10.0 er et desimaltall, og har datatypen:  <class 'float'>\n"
     ]
    }
   ],
   "source": [
    "tall2 = 10.0 # verdien 10.0 er ikke det samme som verdien 10, legg merke til datatypen\n",
    "print(tall2, \"er et desimaltall, og har datatypen: \", type(tall2))"
   ]
  },
  {
   "cell_type": "code",
   "execution_count": 3,
   "metadata": {
    "collapsed": false,
    "deletable": true,
    "editable": true
   },
   "outputs": [
    {
     "name": "stdout",
     "output_type": "stream",
     "text": [
      "Dette er en tekst! er en tekst, og har datatypen:  <class 'str'>\n"
     ]
    }
   ],
   "source": [
    "tekst = \"Dette er en tekst!\"\n",
    "print(tekst, \"er en tekst, og har datatypen: \", type(tekst))"
   ]
  },
  {
   "cell_type": "code",
   "execution_count": 6,
   "metadata": {
    "collapsed": false,
    "deletable": true,
    "editable": true
   },
   "outputs": [
    {
     "name": "stdout",
     "output_type": "stream",
     "text": [
      "[1, 2, 3, 'Heisann', 4] er en liste, og har datatypen:  <class 'list'>\n",
      "Nå ser listen slik ut:  [1, 2, 3, 'Hohoho', 4]\n"
     ]
    }
   ],
   "source": [
    "liste = [1, 2, 3, \"Heisann\", 4] # Lister kan inneholde andre datatyper, her bruker vi int og string\n",
    "print(liste, \"er en liste, og har datatypen: \", type(liste))\n",
    "liste[3] = \"Hohoho\" # Vi kan endre verdi på elementene i en liste\n",
    "print(\"Nå ser listen slik ut: \", liste)"
   ]
  },
  {
   "cell_type": "code",
   "execution_count": 12,
   "metadata": {
    "collapsed": false
   },
   "outputs": [
    {
     "name": "stdout",
     "output_type": "stream",
     "text": [
      "(5, 6, 7, 'Hoppsann', 8) er en tuppel, og har datatypen:  <class 'tuple'>\n",
      "I motsetning til en liste, er det ikke mulig å endre verdiene i en tuppel.\n"
     ]
    }
   ],
   "source": [
    "tuppel = (5, 6, 7, \"Hoppsann\", 8) # Tupler kan inneholde andre datatyper, her bruker vi int og string\n",
    "print(tuppel, \"er en tuppel, og har datatypen: \", type(tuppel))\n",
    "print(\"I motsetning til en liste, er det ikke mulig å endre verdiene i en tuppel.\")"
   ]
  },
  {
   "cell_type": "markdown",
   "metadata": {},
   "source": [
    "## Bruk riktig datatype\n",
    "Det er viktig å holde styr på hva slags datatype du bruker i programmene dine, og at du bruker riktig datatype til den oppgaven du skal løse. Nedenfor ser du noen eksempler på resultatet av å legge sammen tall med forskjellige datatyper. Det er ikke mulig å bruke + mellom to ulike datatyper (forsøk gjerne å gjøre det nedenfor)."
   ]
  },
  {
   "cell_type": "code",
   "execution_count": 13,
   "metadata": {
    "collapsed": false
   },
   "outputs": [
    {
     "name": "stdout",
     "output_type": "stream",
     "text": [
      "23\n",
      "5\n",
      "5.0\n",
      "5\n"
     ]
    }
   ],
   "source": [
    "a = \"2\" # Dette er en string\n",
    "b = \"3\" # Dette er også en string\n",
    "c = 2   # Dette er en int\n",
    "d = 3   # Dette er også en int\n",
    "e = 2.0 # Dette er et heltall\n",
    "f = 3.0 # Dette er også et heltall\n",
    "\n",
    "print(a + b) # setter sammen to strenger\n",
    "print(c + d) # legger sammen to heltall\n",
    "print(e + f) # legger sammen to desimaltall\n",
    "print(int(a) + d) # konverterer strengen i a til et heltall, og legger sammen med d"
   ]
  },
  {
   "cell_type": "markdown",
   "metadata": {
    "collapsed": true,
    "deletable": true,
    "editable": true
   },
   "source": [
    "### Eksempel - Variabler\n",
    "La oss starte med et enkelt eksempel fra fysikken der vi ser på hvordan vi regner ut tilbakelagt strekning når vi vet den konstante farten og tiden. I eksempelet brukes variabler av datatypen _Numbers_ (int)\n",
    "\n",
    "$$s=v \\cdot t$$\n",
    "\n",
    "Hvis vi lar $v=20\\textrm{ m/s}$ og $t=30\\textrm{s}$ så kan vi regne ut tilbakelagt strekning på følgende måte.\n",
    "\n",
    "$$ s = 20 \\cdot 30 $$\n",
    "$$ s= \\underline{\\underline{600\\textrm{ m}}}$$\n",
    "\n",
    "I python ville samme eksempel bli løst som vist under:"
   ]
  },
  {
   "cell_type": "code",
   "execution_count": 5,
   "metadata": {
    "collapsed": false,
    "deletable": true,
    "editable": true,
    "slideshow": {
     "slide_type": "-"
    }
   },
   "outputs": [
    {
     "name": "stdout",
     "output_type": "stream",
     "text": [
      "Tilbakelagt strekning er: 600 meter.\n"
     ]
    }
   ],
   "source": [
    "# Vi deklarerer variablene v og t, og tilordner verdier.\n",
    "v = 20 # 20 m/s\n",
    "t = 30 # 30 s\n",
    "\n",
    "s = v*t\n",
    "\n",
    "print(\"Tilbakelagt strekning er: {} meter.\".format(s))"
   ]
  },
  {
   "cell_type": "markdown",
   "metadata": {
    "deletable": true,
    "editable": true
   },
   "source": [
    "## Oppgaver\n",
    "\n",
    "1. Endre verdiene til v og t, og sjekk om koden fungerer for alle tallverdier.\n",
    "2. Klarer du å få programmet til å kræsje? Forklar hvorfor!"
   ]
  },
  {
   "cell_type": "markdown",
   "metadata": {
    "deletable": true,
    "editable": true
   },
   "source": [
    "## Mer om variabler og matematikk\n",
    "\n",
    "Det er _mye_ å lære om variabler, og i dette kurset vil vi såvidt se på noen av de viktigste egenskapene.\n",
    "Tabellen under viser noen variableoperasjoner med tilhørende resultat:\n",
    "\n",
    "| Kommando | Resultat      | Kommentar  |\n",
    "|:--------|:-------------| :---------|\n",
    "| 2 + 2           | 4  | Sum/diff av heltall ([int](https://no.wikipedia.org/wiki/Heltall)) gir heltall som svar|\n",
    "| 2 + 3\\*6        | 20 | Vanlig regnerekkefølge gjelder |\n",
    "| (50 - 5\\*6) / 4 | 5.0| Divisjon gir _alltid_ et desimaltall ([float](https://en.wikipedia.org/wiki/Floating-point_arithmetic))|\n",
    "| 5 \\*\\* 2 | 25 | \\*\\* brukes for å opphøye et tall med et annet |\n",
    "\n",
    "## Oppgaver\n",
    "\n",
    "1. Lag et program som der du oppretter variablene _tall1_ og _tall2_. Skriv så ut resultatet av minst fem ulike operasjoner på disse tallene.\n",
    "2. Lag et program der du deklarerer, tilordner verdi til variabler med ulike datatyper.\n",
    "3. Lag et program der du konverterer fra en datatype til en annen.\n"
   ]
  },
  {
   "cell_type": "code",
   "execution_count": null,
   "metadata": {
    "collapsed": true,
    "deletable": true,
    "editable": true
   },
   "outputs": [],
   "source": []
  }
 ],
 "metadata": {
  "celltoolbar": "Attachments",
  "kernelspec": {
   "display_name": "Python 3",
   "language": "python",
   "name": "python3"
  },
  "language_info": {
   "codemirror_mode": {
    "name": "ipython",
    "version": 3
   },
   "file_extension": ".py",
   "mimetype": "text/x-python",
   "name": "python",
   "nbconvert_exporter": "python",
   "pygments_lexer": "ipython3",
   "version": "3.6.1"
  }
 },
 "nbformat": 4,
 "nbformat_minor": 2
}

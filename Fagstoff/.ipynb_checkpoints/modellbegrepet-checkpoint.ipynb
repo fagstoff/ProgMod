{
 "cells": [
  {
   "cell_type": "markdown",
   "metadata": {},
   "source": [
    "# Introduksjon til modellbegrepet\n",
    "__Creative Commons BY-SA : bitjungle (Rune Mathisen) og fuzzbin (Tom Jarle Christiansen)__\n",
    "\n",
    "<hr/>\n",
    "<img alt=\"Tavle. Lisens: CC0\" style=\"float: right; margin-left: 10px;\" src=\"img/maxpixel.freegreatpicture.com-Mathematics-Physics-Mathematical-School-Formula-1509559.jpg\">\n",
    "\n",
    "**Hva menes egentlig med en \"matematisk modell\", og hva er hensikten med dem? Det skal vi se nærmere på her.**\n",
    "\n",
    "> Denne siden dekker helt eller delvis kompetansemålene: [Modellering 1 og 2](https://github.com/fagstoff/ProgMod/blob/master/L%C3%A6replan/kompetansem%C3%A5l.md#modellering)\n",
    "\n",
    "Når vi bruker datamaskiner som hjelpemiddel for å forstå og påvirke omgivelsene våre, må vi kunne beskrive disse omgivelesene med matematikk. I tradisjonelle realfag som fysikk, kjemi og biologi bruker vi ofte denne teknikken. Vi kan for eksempel lage en matematisk funksjon som har en eller flere fysiske målinger som variabler, og som regner ut noe vi ønsker å vite mere om. I andre tilfeller hvor det er vanskelig å lage en matematisk funksjon, kan vi gi datamaskinen massevis av data og la den selv finne en passende funksjon.\n",
    "\n",
    "Et eksempel på en matematisk modell som beskriver omgivelsene våre på en veldig god måte, er Newtons 2. lov. Den sier at dersom vi har et legeme med konstant masse $m$, så er kraften $F$ fra legemet mot omgivelsene lik:\n",
    "\n",
    "$$F = ma$$\n",
    "\n",
    "hvor $a$ er akselerasjonen til legemet. Om du faller fritt mot jorda (ingen andre krefter virker på kroppen din), er akselerasjonen tilnærmet lik $g = 9.81 \\mathrm{m/s^2}$. La oss si at du står trygt med beina på gulvet. Nå kan vi regne ut kraften som virker mellom deg og gulvet:\n"
   ]
  },
  {
   "cell_type": "code",
   "execution_count": 12,
   "metadata": {
    "collapsed": false
   },
   "outputs": [
    {
     "name": "stdout",
     "output_type": "stream",
     "text": [
      "F = 785.0 N\n"
     ]
    }
   ],
   "source": [
    "g = 9.81 # m/s^2\n",
    "m = 80 # kg\n",
    "F = m*g\n",
    "print(\"F = {} N\".format(round(F, 0)))"
   ]
  },
  {
   "cell_type": "markdown",
   "metadata": {},
   "source": [
    "Men hvor høyt er trykket mellom fotsålen og gulvet? Det kan vi også regne ut, fordi vi vet at trykket $P$ er gitt ved:\n",
    "\n",
    "$$P = \\frac{F}{A}$$\n",
    "\n",
    "hvor $A$ er arealet. La oss anta at det samlede arealet av skosålene dine er $500 \\mathrm{cm^2}$ (forsøk gjerne å finne et bedre estimat selv). Da blir trykket:"
   ]
  },
  {
   "cell_type": "code",
   "execution_count": 13,
   "metadata": {
    "collapsed": false
   },
   "outputs": [
    {
     "name": "stdout",
     "output_type": "stream",
     "text": [
      "P = 15696.0 Pa\n"
     ]
    }
   ],
   "source": [
    "A = 500 / (100*100) # m^2\n",
    "P = F / A # Pa (trykkenheten Pascal)\n",
    "print(\"P = {} Pa\".format(round(P, 0)))"
   ]
  },
  {
   "cell_type": "markdown",
   "metadata": {},
   "source": [
    "## Typer av matematiske modeller\n",
    "TODO\n",
    "\n",
    "### Lineære og ikke-lineære modeller\n",
    "TODO\n",
    "\n",
    "### Deterministiske og  stokastiske modeller\n",
    "TODO\n",
    "\n",
    "### Statiske og dynamiske modeller\n",
    "TODO\n",
    "\n",
    "### Deduktive og induktive modeller\n",
    "TODO"
   ]
  },
  {
   "cell_type": "code",
   "execution_count": null,
   "metadata": {
    "collapsed": true
   },
   "outputs": [],
   "source": []
  }
 ],
 "metadata": {
  "kernelspec": {
   "display_name": "Python 3",
   "language": "python",
   "name": "python3"
  },
  "language_info": {
   "codemirror_mode": {
    "name": "ipython",
    "version": 3
   },
   "file_extension": ".py",
   "mimetype": "text/x-python",
   "name": "python",
   "nbconvert_exporter": "python",
   "pygments_lexer": "ipython3",
   "version": "3.6.0"
  }
 },
 "nbformat": 4,
 "nbformat_minor": 2
}

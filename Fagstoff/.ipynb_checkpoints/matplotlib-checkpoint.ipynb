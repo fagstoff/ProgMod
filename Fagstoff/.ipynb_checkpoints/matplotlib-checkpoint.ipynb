{
 "cells": [
  {
   "cell_type": "markdown",
   "metadata": {},
   "source": [
    "# Plotting med matplotlib\n",
    "\n",
    "__Creative Commons BY-SA : bitjungle (Rune Mathisen) og fuzzbin (Tom Jarle Christiansen)__\n",
    "\n",
    "<hr/>\n",
    "<img alt=\"Opphavsmann: Mestigoit Lisens: Creative Commons Attribution-Share Alike 3.0 Unported\" style=\"width: 200px; float: right; margin-left: 100px;\" src=\"img/funksjoner.png\">\n",
    "\n",
    "**Grafisk presentasjon av data og resultater er helt avgjørende for å vise resultater og sammenhenger. I python kan dette gjøres på veldig mange måter, og det finnes mange gode biblioteker som er spesiallaget for dette. Til å begynne med skal vi først se på et veldig mye brukt bibliotek som heter [matplotlib](https://matplotlib.org/). Fordelen med matplotlib er at det er ganske enkelt å komme i gang med, men har også veldig avanserte funksjoner som kan dekke de [aller fleste behov](https://matplotlib.org/gallery.html). Eller som de sier selv: _Matplotlib tries to make easy things easy and hard things possible._ **\n",
    "\n",
    "> Denne siden dekker helt eller delvis kompetansemålene: [Grunnleggende programmering4](https://github.com/fagstoff/ProgMod/blob/master/L%C3%A6replan/kompetansem%C3%A5l.md#grunnleggende-programmering)\n"
   ]
  },
  {
   "cell_type": "markdown",
   "metadata": {},
   "source": [
    "## Grunnleggende om matplotlib\n",
    "\n",
    "Matplotlib er et bibliotek, og må importeres før det kan brukes. Matplotlib trenger to like lange lister med punkter for å kunne plotte.\n",
    "\n",
    "<table>\n",
    "  <tr>\n",
    "      <td><b>y</b></td>\n",
    "      <td>0</td>\n",
    "      <td>1</td>\n",
    "      <td>2</td>\n",
    "      <td>3</td>\n",
    "      <td>4</td>\n",
    "  </tr>\n",
    "  <tr>\n",
    "      <td><b>x</b></td>\n",
    "      <td>0</td>\n",
    "      <td>1</td>\n",
    "      <td>4</td>\n",
    "      <td>9</td>\n",
    "      <td>16</td>\n",
    "  </tr>\n",
    "</table>\n",
    "\n",
    "Listene over danner punktene (0,0), (1,1), (2,4), (3,9) og (4,16) som så blir plottet ogforbundet med en rett linje."
   ]
  },
  {
   "cell_type": "code",
   "execution_count": 1,
   "metadata": {},
   "outputs": [
    {
     "data": {
      "image/png": "[encoded data removed]",
      "text/plain": [
       "<matplotlib.figure.Figure at 0x10df5aac8>"
      ]
     },
     "metadata": {},
     "output_type": "display_data"
    }
   ],
   "source": [
    "# Importerer nødvendige biblioteker\n",
    "import matplotlib.pyplot as plt\n",
    "\n",
    "# Lager to lister (tupler) med tall.\n",
    "# Hvert tallpar danner et punkt.\n",
    "x = (0, 1, 2, 3, 4)\n",
    "y = (0, 1, 4, 9, 16)\n",
    "\n",
    "# Utskrift av data\n",
    "plt.plot(x, y)\n",
    "plt.show()"
   ]
  },
  {
   "cell_type": "markdown",
   "metadata": {},
   "source": [
    "Som regel ønsker vi mer informasjon i plottet. I eksempelet under ser vi hvordan vi kan legge til mer informasjon."
   ]
  },
  {
   "cell_type": "code",
   "execution_count": 12,
   "metadata": {},
   "outputs": [
    {
     "data": {
      "image/png": "[encoded data removed]",
      "text/plain": [
       "<matplotlib.figure.Figure at 0x11987d3c8>"
      ]
     },
     "metadata": {},
     "output_type": "display_data"
    }
   ],
   "source": [
    "z = (0, 1, 8, 27, 64)\n",
    "\n",
    "plt.grid() # Lager rutenett\n",
    "plt.xlabel('$x$') # Merker x-aksen\n",
    "plt.ylabel('$f(x)$') # Merker y-aksen\n",
    "\n",
    "plt.plot(x, y, 'bx-.', label='$f(x)=x^2$') # bx-- -> blå stiplet linje med x som punktmarkering.\n",
    "plt.plot(x, z, 'gs:', label='$f(x)=x^3$') # gs-- -> grønne kvadrat med finstiplet linje\n",
    "plt.legend() # Infoboksen øverst i hjørnet. Bruker data fra label\n",
    "plt.show()"
   ]
  },
  {
   "cell_type": "markdown",
   "metadata": {},
   "source": [
    "## Oppgaver\n",
    "\n",
    "1. Plot en valgfri andregradsfunksjon med minst fem punkter. Aksene skal merkes.\n",
    "2. Plot forventet temperatur for den neste åtte dager i [Helgeroa](https://www.yr.no/sted/Norge/Vestfold/Larvik/Helgeroa/langtidsvarsel.html), [Geneve](https://www.yr.no/sted/Sveits/Gen%C3%A8ve/Geneva~6458783/langtidsvarsel.html) og [Honolulu](https://www.yr.no/sted/USA/Hawaii/Honolulu/langtidsvarsel.html) i samme diagram. Marker akser og grafer slik at alle data kommer tydelig fram.\n",
    "3. Lag en annen type diagram som du velger selv."
   ]
  },
  {
   "cell_type": "code",
   "execution_count": 17,
   "metadata": {},
   "outputs": [
    {
     "data": {
      "text/plain": [
       "10"
      ]
     },
     "metadata": {},
     "output_type": "display_data"
    }
   ],
   "source": [
    "from __future__ import print_function\n",
    "from ipywidgets import interact, interactive, fixed, interact_manual\n",
    "import ipywidgets as widgets\n",
    "\n",
    "def f(x):\n",
    "    return x\n",
    "\n",
    "interact(f, x=10);"
   ]
  },
  {
   "cell_type": "code",
   "execution_count": null,
   "metadata": {},
   "outputs": [],
   "source": []
  }
 ],
 "metadata": {
  "celltoolbar": "Slideshow",
  "kernelspec": {
   "display_name": "Python 3",
   "language": "python",
   "name": "python3"
  },
  "language_info": {
   "codemirror_mode": {
    "name": "ipython",
    "version": 3
   },
   "file_extension": ".py",
   "mimetype": "text/x-python",
   "name": "python",
   "nbconvert_exporter": "python",
   "pygments_lexer": "ipython3",
   "version": "3.6.2"
  }
 },
 "nbformat": 4,
 "nbformat_minor": 2
}

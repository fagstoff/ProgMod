{
 "cells": [
  {
   "cell_type": "markdown",
   "metadata": {
    "deletable": true,
    "editable": true
   },
   "source": [
    "# Moduler, pakker og biblioteker\n",
    "__Creative Commons BY-SA : bitjungle (Rune Mathisen) og fuzzbin (Tom Jarle Christiansen)__\n",
    "\n",
    "<hr>\n",
    "<img alt=\"Teknologi på biblioteket. Lisens: CC0\" style=\"float: right; margin-left: 10px; width: 300px;\" src=\"img/tablet-library.jpg\">\n",
    "\n",
    "**En av fordelene med å bruke [Python](https://www.python.org/) i programvareprosjekter, er det store økosystemet av moduler som enkelt kan importeres og tas i bruk. Her skal vi se litt på hvordan du tar i bruk moduler, og du får noen tips til moduler som kan være nyttige for faget Programmering og modellering.**\n",
    "\n",
    "> Denne siden dekker helt eller delvis kompetansemålene: [Grunnleggende programmering 2, 3 og 4](https://github.com/fagstoff/ProgMod/blob/master/L%C3%A6replan/kompetansem%C3%A5l.md#grunnleggende-programmering) og [Matematiske metoder 2, 3 og 4](https://github.com/fagstoff/ProgMod/blob/master/L%C3%A6replan/kompetansem%C3%A5l.md#matematiske-metoder)\n",
    "\n",
    "I Python er en **modul** en samling av funksjoner og klasser som kan gjenbrukes i mange ulike programmer. Et eksempel på en slikt modul er [math](https://docs.python.org/3/library/math.html), som er en samling av matematiske funksjoner. Her finner du for eksempel trigonometriske funksjoner (sin, cos, tan, og så videre) og konstanter (for eksempel $\\pi$) som du kan bruke i programmene dine. Når du skal lage et program vil det spare deg for mye tid om du finner og bruker moduler som andre har laget allerede.\n",
    "\n",
    "En **pakke** i Python er en samling av moduler. Mange pakker kan igjen samles i **biblioteker**. Det biblioteket du bør gjøre det kjent med aller først, er det såkalte [Python Standard Library](https://docs.python.org/3/library/index.html). Standardbiblioteket er tilgjengelig for deg uten at du trenger å installere ekstra utover en \"vanlig\" Python-installasjon.\n",
    "\n",
    "Om du ikke finner det du trenger i [standardbiblioteket](https://docs.python.org/3/library/index.html) til Python, bør du lete gjennom [The Python Package Index (PyPI)](https://pypi.python.org/pypi). Sjansene er store for at noen har laget akkurat det du trenger allerede, sånn at du ikke må lage alt helt fra bunn av.\n",
    "\n",
    "Nå skal vi gjennomgå noen få (men sentrale) funksjoner og moduler fra [standardbiblioteket](https://docs.python.org/3/library/index.html), men det er viktig at du selv sørger for å gjøre deg kjent med hva du finner der. Vi skal også se på noen biblioteker fra [PyPI](https://pypi.python.org/pypi) som er nyttige i faget Programmering og modellering.\n"
   ]
  },
  {
   "cell_type": "markdown",
   "metadata": {
    "deletable": true,
    "editable": true
   },
   "source": [
    "## Funksjoner og moduler i standardbiblioteket\n",
    "\n",
    "Python har en del [innebygde funksjoner](https://docs.python.org/3/library/functions.html), og du trenger en eller flere av disse i alle programmer. her er noen eksempler. Forsøk gjerne å gjøre endringer i eksemplene, og se hva som skjer.\n"
   ]
  },
  {
   "cell_type": "code",
   "execution_count": 3,
   "metadata": {
    "collapsed": false,
    "deletable": true,
    "editable": true
   },
   "outputs": [
    {
     "name": "stdout",
     "output_type": "stream",
     "text": [
      "Her er heltallet 7 og desimaltallet 9.81\n"
     ]
    }
   ],
   "source": [
    "# Når du skal sette tall inn i tekststrenger, bruker du format() og {}\n",
    "heltall = 7\n",
    "desimaltall = 9.81\n",
    "print('Her er heltallet {} og desimaltallet {}'.format(heltall, desimaltall))"
   ]
  },
  {
   "cell_type": "code",
   "execution_count": 4,
   "metadata": {
    "collapsed": false,
    "deletable": true,
    "editable": true
   },
   "outputs": [
    {
     "name": "stdout",
     "output_type": "stream",
     "text": [
      "Nå er jeg på tallet 0\n",
      "Nå er jeg på tallet 1\n",
      "Nå er jeg på tallet 2\n",
      "Nå er jeg på tallet 3\n",
      "Nå er jeg på tallet 4\n"
     ]
    }
   ],
   "source": [
    "# Bruk range() for å generere en sekvens av tall som du kan loope gjennom\n",
    "for num in range(5):\n",
    "    print('Nå er jeg på tallet {}'.format(num))"
   ]
  },
  {
   "cell_type": "code",
   "execution_count": 5,
   "metadata": {
    "collapsed": false,
    "deletable": true,
    "editable": true
   },
   "outputs": [
    {
     "name": "stdout",
     "output_type": "stream",
     "text": [
      "a ≈ 2 og b ≈ -3\n"
     ]
    }
   ],
   "source": [
    "# For å runde av et desimaltall kan du bruke round()\n",
    "a = 2.3\n",
    "b = -2.6\n",
    "print('a ≈ {} og b ≈ {}'.format(round(a), round(b)))"
   ]
  },
  {
   "cell_type": "markdown",
   "metadata": {
    "deletable": true,
    "editable": true
   },
   "source": [
    "I tillegg til de innebygde funksjonene, vil du helt garantert få bruk for modulen [math](https://docs.python.org/3/library/math.html), som er en del av [standardbiblioteket](https://docs.python.org/3/library/index.html) i Python. Her er noen få eksempler på funksjonene i math:"
   ]
  },
  {
   "cell_type": "code",
   "execution_count": 6,
   "metadata": {
    "collapsed": false,
    "deletable": true,
    "editable": true
   },
   "outputs": [
    {
     "name": "stdout",
     "output_type": "stream",
     "text": [
      "Absoluttverdien av -4.67 er 4.67\n",
      "e^-4.67 er 0.009372269527006058\n",
      "-4.67^3 er -101.847563\n",
      "kvadratrot av |-4.67| er 2.1610182784974308\n"
     ]
    }
   ],
   "source": [
    "import math\n",
    "\n",
    "x = -4.67\n",
    "\n",
    "# Finne absoluttverdien av et tall\n",
    "x_abs = math.fabs(x)\n",
    "print('Absoluttverdien av {} er {}'.format(x, x_abs))\n",
    "\n",
    "# Finne e^x\n",
    "x_exp = math.exp(x)\n",
    "print('e^{} er {}'.format(x, x_exp))\n",
    "\n",
    "# Finne x^3\n",
    "x_cube = math.pow(x, 3)\n",
    "print('{}^3 er {}'.format(x, x_cube))\n",
    "\n",
    "# Finne kvadratrota til absoluttverdien av x\n",
    "x_abs_sqroot = math.sqrt(x_abs)\n",
    "print('kvadratrot av |{}| er {}'.format(x, x_abs_sqroot))\n"
   ]
  },
  {
   "cell_type": "markdown",
   "metadata": {},
   "source": [
    "### Kommandoen help()\n",
    "For å få dokumentasjon på funksjonene som er tilgjengelige i et bibliotek, kan vi bruke funksjonen `help()`. \n",
    "\n",
    "Prøv for eksempel å skrive kommandoen ```help(math)```"
   ]
  },
  {
   "cell_type": "markdown",
   "metadata": {
    "deletable": true,
    "editable": true
   },
   "source": [
    "En annen nyttig modul i [standardbiblioteket](https://docs.python.org/3/library/index.html) er [random](https://docs.python.org/3/library/random.html). Her er et eksempel hvor vi genererer et tilfeldig tall:"
   ]
  },
  {
   "cell_type": "code",
   "execution_count": 8,
   "metadata": {
    "collapsed": false,
    "deletable": true,
    "editable": true
   },
   "outputs": [
    {
     "name": "stdout",
     "output_type": "stream",
     "text": [
      "Helt tilfeldig valgte jeg tallet 0.42207109420487077\n"
     ]
    }
   ],
   "source": [
    "import random\n",
    "\n",
    "tilfeldig = random.random()\n",
    "print('Helt tilfeldig valgte jeg tallet {}'.format(tilfeldig))"
   ]
  },
  {
   "cell_type": "markdown",
   "metadata": {
    "deletable": true,
    "editable": true
   },
   "source": []
  },
  {
   "cell_type": "markdown",
   "metadata": {
    "deletable": true,
    "editable": true
   },
   "source": [
    "## Nyttige biblioteker fra PyPI\n",
    "\n",
    "Biblioteket [numpy](https://docs.scipy.org/doc/numpy/reference/index.html) inneholder mange funksjoner for behandling av [vektorer](https://en.wikipedia.org/wiki/Vector_space) og [matriser](https://en.wikipedia.org/wiki/Matrix_(mathematics). Du kan også bruke funksjoner i numpy for å generere lister, slik som i dette eksemplet:\n"
   ]
  },
  {
   "cell_type": "code",
   "execution_count": 9,
   "metadata": {
    "collapsed": false,
    "deletable": true,
    "editable": true
   },
   "outputs": [
    {
     "name": "stdout",
     "output_type": "stream",
     "text": [
      "[ 0.          0.44444444  0.88888889  1.33333333  1.77777778  2.22222222\n",
      "  2.66666667  3.11111111  3.55555556  4.        ]\n"
     ]
    }
   ],
   "source": [
    "import numpy as np\n",
    "\n",
    "# Genererer 10 tall mellom 0 og 4\n",
    "minliste = np.linspace(0, 4, num=10)\n",
    "print(minliste)"
   ]
  },
  {
   "cell_type": "code",
   "execution_count": 10,
   "metadata": {
    "collapsed": false,
    "deletable": true,
    "editable": true
   },
   "outputs": [
    {
     "name": "stdout",
     "output_type": "stream",
     "text": [
      "[ 0.          0.42995636  0.77637192  0.9719379   0.9786557   0.79522006\n",
      "  0.45727263  0.03047682 -0.40224065 -0.7568025 ]\n"
     ]
    }
   ],
   "source": [
    "# Nå kan vi for eksempel regne ut sinus til alle verdiene i lista vi genrerte\n",
    "mineverdier = np.sin(minliste)\n",
    "print(mineverdier)"
   ]
  },
  {
   "cell_type": "markdown",
   "metadata": {
    "deletable": true,
    "editable": true
   },
   "source": [
    "Vi vil ofte ha behov for å visualisere data. Da er biblioteket [Matplotlib](http://matplotlib.org/) kjekt å bruke. Her skal vi bruke modulen [pyplot](https://matplotlib.org/users/pyplot_tutorial.html) (som er en del av biblioteket Matplotlib) for å tegne en graf av tallene vi genererte ovenfor."
   ]
  },
  {
   "cell_type": "code",
   "execution_count": 11,
   "metadata": {
    "collapsed": false,
    "deletable": true,
    "editable": true
   },
   "outputs": [
    {
     "data": {
      "image/png": "[encoded data removed]",
      "text/plain": [
       "<matplotlib.figure.Figure at 0x110df2128>"
      ]
     },
     "metadata": {},
     "output_type": "display_data"
    }
   ],
   "source": [
    "import matplotlib.pyplot as plt\n",
    "plt.plot(minliste, mineverdier)\n",
    "plt.show()"
   ]
  },
  {
   "cell_type": "markdown",
   "metadata": {
    "deletable": true,
    "editable": true
   },
   "source": [
    "Med biblioteket [SymPy](http://www.sympy.org) kan du gjøre symbolske utregninger. Her er noen eksempler:"
   ]
  },
  {
   "cell_type": "code",
   "execution_count": 12,
   "metadata": {
    "collapsed": false,
    "deletable": true,
    "editable": true
   },
   "outputs": [
    {
     "name": "stdout",
     "output_type": "stream",
     "text": [
      "sqr(8) =  2*sqrt(2)\n",
      "x^2 + 2xy =  x*(x + 2*y)\n",
      "x^2 + 2xy = 0 =>  [0, -2*y]\n",
      "d/dx (x^2 + 2*x - 3) =  2*x + 2\n",
      "int(2x + 2) =  x**2 + 2*x\n",
      "int(2x + 2) x:[0, 2] =  8\n"
     ]
    }
   ],
   "source": [
    "import sympy\n",
    "\n",
    "# Finner det eksakte svaret til kvadratroten av 8\n",
    "print(\"sqr(8) = \", sympy.sqrt(8))\n",
    "\n",
    "# Faktorisere uttrykk\n",
    "x, y = sympy.symbols('x y')\n",
    "expr_1 = x**2 + 2*x*y \n",
    "print(\"x^2 + 2xy = \", sympy.factor(expr_1))\n",
    "\n",
    "# Løse likninger (her løser vi med hensyn på x)\n",
    "print(\"x^2 + 2xy = 0 => \", sympy.solve(sympy.Eq(expr_1, 0), x))\n",
    "\n",
    "# Derivere\n",
    "expr_2 = x**2 + 2*x - 3\n",
    "print(\"d/dx (x^2 + 2*x - 3) = \", sympy.diff(expr_2, x))\n",
    "\n",
    "# Integrere\n",
    "expr_3 = 2*x + 2\n",
    "# - ubestemt \n",
    "print(\"int(2x + 2) = \", sympy.integrate(expr_3, x))\n",
    "# - bestemt \n",
    "print(\"int(2x + 2) x:[0, 2] = \", sympy.integrate(expr_3, (x, 0, 2)))\n"
   ]
  },
  {
   "cell_type": "markdown",
   "metadata": {
    "deletable": true,
    "editable": true
   },
   "source": [
    "## Oppgaver\n",
    "1. Bruk modulen random, og lag et program som simulerer [Lotto](https://no.wikipedia.org/wiki/Lotto_(Norge&#41;). Du skal trekke 7 tilfeldige heltall mellom 1 og 34, uten tilbakelegging.\n",
    "2. Lag et program der brukeren kan taste inn a, b og c i funksjonen: $ f(x)=ax^2+bx+c $. Programmet skal så skrive ut nullpunktene til funksjonen.\n",
    "3. Lag et program der brukeren kan taste inn a, b og c i funksjonen: $ f(x)=ax^2+bx+c $. Programmet skal så plotte funksjonsverdiene for $ x \\epsilon [0,10] $ se også: [Plotting i python](https://github.com/fagstoff/ProgMod/blob/a8e819bc251175ce6cf81122326d24c20a8ee3b4/Fagstoff/enkel-graf.ipynb)\n",
    "4. Ekstrautfordring: Lag et program der brukeren kan taste inn amplitude og frekvens. Programmet skal så tegne den tilsvarende sinusfunksjonen for to hele perioder. Det skal være navn og verdi på aksene og rutenett som bakgrunn på plottet.\n"
   ]
  },
  {
   "cell_type": "code",
   "execution_count": null,
   "metadata": {
    "collapsed": true
   },
   "outputs": [],
   "source": []
  }
 ],
 "metadata": {
  "kernelspec": {
   "display_name": "Python 3",
   "language": "python",
   "name": "python3"
  },
  "language_info": {
   "codemirror_mode": {
    "name": "ipython",
    "version": 3
   },
   "file_extension": ".py",
   "mimetype": "text/x-python",
   "name": "python",
   "nbconvert_exporter": "python",
   "pygments_lexer": "ipython3",
   "version": "3.6.2"
  }
 },
 "nbformat": 4,
 "nbformat_minor": 2
}

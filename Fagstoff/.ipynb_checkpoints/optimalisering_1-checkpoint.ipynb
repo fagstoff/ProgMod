{
 "cells": [
  {
   "cell_type": "markdown",
   "metadata": {
    "deletable": true,
    "editable": true
   },
   "source": [
    "# Optimalisering\n",
    "\n",
    "__Creative Commons BY-SA : bitjungle (Rune Mathisen) og fuzzbin (Tom Jarle Christiansen)__\n",
    "\n",
    "<hr/>\n",
    "<img alt=\"Opphavsmann: Mestigoit Lisens: Creative Commons BY-SA 3.0 Unported\" title=\"Opphavsmann: Mestigoit Lisens: Creative Commons BY-SA 3.0 Unported\" style=\"width: 400px; float: right; margin-left: 30px;\" src=\"img/optimalisering.png\">\n",
    "\n",
    "__Begrepet \"optimalisering\" brukes ofte i forbindelse med matematisk modellering. Når vi sier at vi skal optimalisere noe i denne sammenhengen, mener vi at vi forsøker å finne den beste mulige løsningen under de betingelsene som er gitt for problemet vårt.__\n",
    "\n",
    "> Denne siden dekker helt eller delvis kompetansemålene: [Matematiske metoder 1](https://github.com/fagstoff/ProgMod/blob/master/L%C3%A6replan/kompetansem%C3%A5l.md#modellering)\n",
    "\n",
    "For at vi skal kunne optimalisere en [prosess](https://en.wikipedia.org/wiki/Process_(engineering) eller et [system](https://en.wikipedia.org/wiki/System#System_concepts), må vi først ha en matematisk beskrivelse av prosessen eller systemet. Ofte er dette et sett av flere likninger med mange [parametre](https://en.wikipedia.org/wiki/Parameter#Mathematical_models). Når vi optimaliserer kan vi forsøke å endre parametrene innenfor gitte begrensninger, og forsøke å finne ut hvilken kombinasjon av parametre som gir det beste (\"optimale\") resultatet.\n"
   ]
  },
  {
   "cell_type": "markdown",
   "metadata": {},
   "source": [
    "## Eksempel - Inngjerding\n",
    "\n",
    "Vi tenker oss at vi har 60 meter med nettinggjerde som vi skal bruke til å lage en hønsegård. Inngjerdingen skal være rektangelformet. Vi vil jo selvfølgelig at hønene skal ha det best mulig, og ønsker derfor å lage området de kan bruke størst mulig. Hvordan kan dette løses?\n",
    "\n",
    "Vi vet at et rektangel kan beskrives ved:\n",
    "\n",
    "Areal: $ A = h \\cdot b $ og omkrets: $ O = 2h + 2b $\n",
    ", der $h$ er høyden, og $b$ er breddeen på rektangelet.\n",
    "\n",
    "Siden vi har 60 meter med gjerde, så blir omkretsen $ 60m = 2h + 2b $.\n",
    "\n",
    "Hvis vi kaller høyden for $x$, kan vi skrive omkretsen som $ O = 2x + 2 \\cdot (30 - x) $ der $b = 30 - x$.\n",
    "\n",
    "Arealet av inngjerdingen blir da $ A(x) = x \\cdot (30 - x) = 30x - x^2$ , der x er mellom 0 og 30.\n",
    "\n",
    "Vi plotter så funksjonen $A(x)$:"
   ]
  },
  {
   "cell_type": "code",
   "execution_count": 1,
   "metadata": {
    "collapsed": false,
    "deletable": true,
    "editable": true
   },
   "outputs": [
    {
     "data": {
      "image/png": "[encoded data removed]",
      "text/plain": [
       "<matplotlib.figure.Figure at 0x1042aa630>"
      ]
     },
     "metadata": {},
     "output_type": "display_data"
    }
   ],
   "source": [
    "# Importerer nødvendige biblioteker\n",
    "import matplotlib.pyplot as plt\n",
    "import numpy as np\n",
    "\n",
    "def A(x):\n",
    "    return 30 * x - x**2\n",
    "\n",
    "x = []\n",
    "y = []\n",
    "\n",
    "# Løkke som fyller tabell\n",
    "for i in range(31):\n",
    "    x.append(i)\n",
    "    y.append(A(i))\n",
    "    \n",
    "# Utskrift av data\n",
    "plt.grid() # Lager rutenett\n",
    "plt.xlabel('$x$') # Merker x-aksen\n",
    "plt.ylabel('$A(x)$') # Merker y-aksen\n",
    "plt.plot(x, y, 'bo-.', label='$A(x)=30x - x^2$')\n",
    "plt.legend()\n",
    "plt.show()\n"
   ]
  },
  {
   "cell_type": "markdown",
   "metadata": {
    "deletable": true,
    "editable": true
   },
   "source": [
    "Vi kan se av grafen at arealet av rektangelet er størst nå høyden $x$ = 15m. Dette er jo toppunktet til funksjonen. Dette kan vi også finne ut ved å se på når den deriverte $A'(x) = 0$."
   ]
  },
  {
   "cell_type": "code",
   "execution_count": 2,
   "metadata": {
    "collapsed": false,
    "deletable": true,
    "editable": true
   },
   "outputs": [
    {
     "name": "stdout",
     "output_type": "stream",
     "text": [
      "Det største arealet av rektangelet er: 225 m^2\n",
      "Når arealet er størst er høyden 15 meter.\n"
     ]
    }
   ],
   "source": [
    "m = max(y)\n",
    "h = y.index(max(y))\n",
    "\n",
    "print(\"Det største arealet av rektangelet er: {} m^2\".format(m)) # Finner toppunktet til A(x)\n",
    "print(\"Når arealet er størst er høyden {} meter.\".format(h)) # Finnver ved hvilken x-verdi dette er."
   ]
  },
  {
   "cell_type": "markdown",
   "metadata": {
    "deletable": true,
    "editable": true
   },
   "source": [
    "Vi har nå funnet det optimale arealet ingjerdingen kan ha hvis vi har 60 meter med gjerde og skal lage en rektangulær hønsegård!"
   ]
  },
  {
   "cell_type": "markdown",
   "metadata": {},
   "source": [
    "## Eksempel - Optimalisering av inntekter i en produksjonsbedrift\n",
    "\n",
    "TODO"
   ]
  },
  {
   "cell_type": "markdown",
   "metadata": {
    "deletable": true,
    "editable": true
   },
   "source": [
    "## Oppgaver\n",
    "\n",
    "1. Lag et program som finner arealet av det største rektangelet som kan innskrives i en rettvinklet trekant med sidene 3m, 4m og 5m.\n",
    "2. Produksjonskostnadene til en vare er gitt ved $K(x) = 0.021^3+0.019x^2+12.21x+22992$, og Inntekten $I(x) = 660x - 6x^2$. x er mellom 0 og 90. Finn ved hvor mange enheter som overskuddet $O(x) = I(x) - K(x)$ er størst."
   ]
  },
  {
   "cell_type": "code",
   "execution_count": null,
   "metadata": {
    "collapsed": true,
    "deletable": true,
    "editable": true
   },
   "outputs": [],
   "source": []
  }
 ],
 "metadata": {
  "kernelspec": {
   "display_name": "Python 3",
   "language": "python",
   "name": "python3"
  },
  "language_info": {
   "codemirror_mode": {
    "name": "ipython",
    "version": 3
   },
   "file_extension": ".py",
   "mimetype": "text/x-python",
   "name": "python",
   "nbconvert_exporter": "python",
   "pygments_lexer": "ipython3",
   "version": "3.6.0"
  }
 },
 "nbformat": 4,
 "nbformat_minor": 2
}

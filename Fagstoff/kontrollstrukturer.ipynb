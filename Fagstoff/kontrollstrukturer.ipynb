{
 "cells": [
  {
   "cell_type": "markdown",
   "metadata": {},
   "source": [
    "# Kontrollstrukturer\n",
    "__Creative Commons BY-SA : bitjungle (Rune Mathisen) og fuzzbin (Tom Jarle Christiansen)__\n",
    "\n",
    "_Denne siden dekker helt eller delvis kompetansemålene: [Grunnleggende programmering 3 og 4](https://github.com/fagstoff/ProgMod/blob/master/L%C3%A6replan/kompetansem%C3%A5l.md#grunnleggende-programmering)_\n",
    "\n",
    "En kontrollstruktur i et dataprogram er kodeblokk som velger en vei gjennom programmet basert på analyse av en eller flere variabler. Kontrollstrukterer i dataprogrammer er helt grunnleggende kode for å få et dataprogram til å reagere på en bestemt måte når en spesiell tilstand inntreffer.\n",
    "\n",
    "Praktisk eksempel her...."
   ]
  },
  {
   "cell_type": "markdown",
   "metadata": {},
   "source": [
    "## Betingede strukturer  (Tester)\n",
    "\n",
    "I nesten alle programmer vil man før eller siden få behov for å teste eller sammenligne verdier slik at programmet kan gjøre ulike ting avhengig av resultatet på testen.\n",
    "\n",
    "### if-test\n",
    "\n",
    "If-kommandoen bruker operatorer til å sammenlikne to verdier, og resultatet av en if-test er enten sann eller falsk. I eksempelet under skrives teksten ut _bare_ hvis variabelen a er lik 1."
   ]
  },
  {
   "cell_type": "code",
   "execution_count": 1,
   "metadata": {},
   "outputs": [
    {
     "name": "stdout",
     "output_type": "stream",
     "text": [
      "Variablen a er lik 1\n"
     ]
    }
   ],
   "source": [
    "a = 1\n",
    "\n",
    "if a == 1:\n",
    "    print(\"Variablen a er lik {}\".format(a)) # Denne linja kjøres kun hvis a er lik 1."
   ]
  },
  {
   "cell_type": "markdown",
   "metadata": {},
   "source": [
    "\n",
    "Ofte ønsker man å gjøre litt mer avanserte ting enn kun å sjekke om to størrelser er like. Dette kan løses ved å bruke ulike operatorer. På denne måten kan man sjekke om to størrelser er større enn, mindre enn eller ulike hverandre. Man kan også kombinere flere tester med logiske operatorer som og og eller. Vi kan også lage større og mer sammensatte tester ved å kombinere kommandoene if, elif og else.\n",
    "\n",
    "I tester brukes dobbelt likhetstegn hvis man skal sjekke om to verdier er like. I en test bruker man [logiske sammenligningsvariabler](https://docs.python.org/3/reference/expressions.html#value-comparisons).\n",
    "\n",
    "La oss se på flere eksempel der vi bruker ulike operatorer."
   ]
  },
  {
   "cell_type": "code",
   "execution_count": 2,
   "metadata": {},
   "outputs": [
    {
     "name": "stdout",
     "output_type": "stream",
     "text": [
      "tall1 er større enn tall2\n",
      "tall1 er større eller lik tall2\n",
      "tall1 er ulik tall2\n"
     ]
    }
   ],
   "source": [
    "# Deklarerer to variabler og tilordner to verdier\n",
    "tall1 = 9\n",
    "tall2 = 7\n",
    "\n",
    "# Test som sjekker om tall1 er lik tall2\n",
    "if tall1 == tall2:\n",
    "    # kode som skal kjøres kun hvis tall1 er lik tall2\n",
    "    print(\"tall1 er lik tall2\")\n",
    "\n",
    "# Test som sjekker om tall1 er større enn tall2\n",
    "if tall1 > tall2:\n",
    "    # kode som skal kjøres kun hvis tall1 er større enn tall2\n",
    "    print(\"tall1 er større enn tall2\")\n",
    "\n",
    "# Test som sjekker om tall1 er større eller lik tall2\n",
    "if tall1 >= tall2:\n",
    "    # kode som skal kjøres kun hvis tall1 er større eller lik tall2\n",
    "    print(\"tall1 er større eller lik tall2\")\n",
    "    \n",
    "# Test som sjekker om tall1 er ulik tall2\n",
    "if tall1 != tall2:\n",
    "    # kode som skal kjøres kun hvis tall1 er ulik tall2\n",
    "    print(\"tall1 er ulik tall2\")"
   ]
  },
  {
   "cell_type": "markdown",
   "metadata": {},
   "source": [
    "### elif og logiske kombinasjoner i tester\n",
    "\n",
    "Noen ganger kan det være nødvendig å kombinere flere typer uttrykk og operatorer for å få testet det man ønsker. Hvis man ønsker å kombinere flere tester etter hverandre, brukes kommandoene _elif_ og _else_. Hvis man ønsker å teste flere ting i samme test, brukes kommandoene [_and_](https://en.wikipedia.org/wiki/Logical_conjunction) og [_or_](https://en.wikipedia.org/wiki/Logical_disjunction)\n"
   ]
  },
  {
   "cell_type": "code",
   "execution_count": 3,
   "metadata": {},
   "outputs": [
    {
     "name": "stdout",
     "output_type": "stream",
     "text": [
      "tall1 er ulik tall2 ELLER tall1 pluss tall2 er større enn 10\n"
     ]
    }
   ],
   "source": [
    "# To tester med if og else-if\n",
    "tall1 = 12\n",
    "tall2 = 11\n",
    "\n",
    "# Første test\n",
    "if tall1 >= tall2 and tall2%2==0:\n",
    "    # kode som skal kjøres kun hvis testen er sann\n",
    "    print(\"tall1 er større eller lik tall2 OG tall2 er et partall\")\n",
    "\n",
    "# Neste test som kun kjøres hvis ikke den første slår til\n",
    "elif tall1 != tall2 or tall1+tall2 > 10:\n",
    "    print(\"tall1 er ulik tall2 ELLER tall1 pluss tall2 er større enn 10\")\n",
    "\n",
    "# Hvis ingen av testene slår til\n",
    "else:\n",
    "    print(\"Ingen av de foregående if-testene slo til når dette vises\")"
   ]
  },
  {
   "cell_type": "markdown",
   "metadata": {
    "collapsed": true
   },
   "source": [
    "## Løkker\n",
    "\n",
    "\n",
    "**I programmering har vi ofte behov for å gjenta kode mange ganger. For å få til dette bruker man løkker. Løkker har mye til felles med tester, men med den forskjellen at i en løkke gjentas kode intill en betingelse er sann eller usann.**\n",
    "\n",
    "Det finnes to hovedtyper løkker - for-løkker og while-løkker:\n",
    "\n",
    "+ **for** - Gjentar kode et gitt antall ganger\n",
    "+ **while** - Gjentar kode sålenge en betingelse er sann\n",
    "\n",
    "### For-løkker\n",
    "\n",
    "I en for-løkke bestemmer vi hvor mange ganger en kode skal gjentas. Alt dette gjøres i deklarasjonen av løkka. Legg spesielt merke til kommandoen [_range()_](https://docs.python.org/3/library/stdtypes.html#range)."
   ]
  },
  {
   "cell_type": "code",
   "execution_count": 4,
   "metadata": {},
   "outputs": [
    {
     "name": "stdout",
     "output_type": "stream",
     "text": [
      "Tellevariabelen i har nå verdien 0\n",
      "Tellevariabelen i har nå verdien 1\n",
      "Tellevariabelen i har nå verdien 2\n",
      "Tellevariabelen i har nå verdien 3\n",
      "Tellevariabelen i har nå verdien 4\n",
      "Tellevariabelen i har nå verdien 5\n",
      "Tellevariabelen i har nå verdien 6\n",
      "Tellevariabelen i har nå verdien 7\n",
      "Tellevariabelen i har nå verdien 8\n",
      "Tellevariabelen i har nå verdien 9\n"
     ]
    }
   ],
   "source": [
    "for i in range(10):\n",
    "    print(\"Tellevariabelen i har nå verdien {}\".format(i))"
   ]
  },
  {
   "cell_type": "markdown",
   "metadata": {},
   "source": [
    "\n",
    "### Oppgave - for-løkke\n",
    "\n",
    "Gjør endringer på range slik at løkke teller som beskrevet i oppgavene.\n",
    "\n",
    "1. Løkka teller fra 0 til 20\n",
    "2. Løkka teller fra 10 til 1\n",
    "3. Løkka teller annenhvert tall fra 10 til 50\n",
    "\n",
    "### for in\n",
    "\n",
    "\n",
    "En annen variant av for-løkker er _for in_. Denne er veldig nyttig når man skal traversere alle elementene i en [liste](https://developers.google.com/edu/python/lists) eller andre kolleksjoner av variabler."
   ]
  },
  {
   "cell_type": "code",
   "execution_count": 5,
   "metadata": {},
   "outputs": [
    {
     "name": "stdout",
     "output_type": "stream",
     "text": [
      "Nå skriver vi ut: H\n",
      "Nå skriver vi ut: a\n",
      "Nå skriver vi ut: l\n",
      "Nå skriver vi ut: l\n",
      "Nå skriver vi ut: o\n",
      "Nå skriver vi ut:  \n",
      "Nå skriver vi ut: v\n",
      "Nå skriver vi ut: e\n",
      "Nå skriver vi ut: r\n",
      "Nå skriver vi ut: d\n",
      "Nå skriver vi ut: e\n",
      "Nå skriver vi ut: n\n",
      "Nå skriver vi ut: !\n"
     ]
    }
   ],
   "source": [
    "tekst = \"Hallo verden!\"\n",
    "for x in tekst:\n",
    "    print(\"Nå skriver vi ut: {}\".format(x))"
   ]
  },
  {
   "cell_type": "markdown",
   "metadata": {},
   "source": [
    "## While-løkker\n",
    "\n",
    "\n",
    "En [while-løkke](https://en.wikipedia.org/wiki/While_loop#Python) har veldig lik funksjonalitet som for-løkker. Forskjellen er at i en while-løkke så må tellevariabelen deklarereres på forhånd, og den må økes eller minkes manuelt inne i koden. Alt dette gjøres i deklarasjonen på en for-løkke.\n"
   ]
  },
  {
   "cell_type": "code",
   "execution_count": 6,
   "metadata": {},
   "outputs": [
    {
     "name": "stdout",
     "output_type": "stream",
     "text": [
      "Telleren har nå verdien: 0\n",
      "Telleren har nå verdien: 1\n",
      "Telleren har nå verdien: 2\n",
      "Telleren har nå verdien: 3\n",
      "Telleren har nå verdien: 4\n",
      "Telleren har nå verdien: 5\n",
      "Telleren har nå verdien: 6\n",
      "Telleren har nå verdien: 7\n",
      "Telleren har nå verdien: 8\n",
      "while-løkken er nå avsluttet\n"
     ]
    }
   ],
   "source": [
    "teller = 0\n",
    "while teller < 9:\n",
    "   print(\"Telleren har nå verdien: {}\".format(teller))\n",
    "   teller = teller + 1 # Kan skrive: teller += 1\n",
    "print(\"while-løkken er nå avsluttet\")"
   ]
  },
  {
   "cell_type": "markdown",
   "metadata": {},
   "source": [
    "## Oppgaver\n",
    "\n",
    "1. Lag en løkke som skriver ut hvert andre tall fra 0 til 50.\n",
    "2. Lag et lite program der brukeren kan taste inn et tall. Programmet skriver så ut tallene fra 0 til det brukeren har tastet inn.\n",
    "3. Lag en løkke som teller"
   ]
  },
  {
   "cell_type": "code",
   "execution_count": null,
   "metadata": {
    "collapsed": true
   },
   "outputs": [],
   "source": []
  }
 ],
 "metadata": {
  "kernelspec": {
   "display_name": "Python 3",
   "language": "python",
   "name": "python3"
  },
  "language_info": {
   "codemirror_mode": {
    "name": "ipython",
    "version": 3
   },
   "file_extension": ".py",
   "mimetype": "text/x-python",
   "name": "python",
   "nbconvert_exporter": "python",
   "pygments_lexer": "ipython3",
   "version": "3.6.1"
  }
 },
 "nbformat": 4,
 "nbformat_minor": 2
}

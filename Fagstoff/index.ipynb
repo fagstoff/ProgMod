{
 "cells": [
  {
   "cell_type": "markdown",
   "metadata": {
    "deletable": true,
    "editable": true
   },
   "source": [
    "# Programmering og modellering\n",
    "\n",
    "I dette dokumentet finner du læremidler til faget [programmering og modellering](https://github.com/fagstoff/ProgMod/tree/master/L%C3%A6replan). Læremidlene er laget som [Jupyter Notebooks](https://jupyter-notebook.readthedocs.io/en/latest/), hvor fagtekster, interaktiv kode og oppgaver er samlet i ett og samme dokument. Læremidlene er laget av [bitjungle](https://github.com/bitjungle) og [fuzzbin](https://github.com/fuzzbin), og kan [brukes fritt](https://github.com/fagstoff/ProgMod/blob/master/LICENSE) av alle."
   ]
  },
  {
   "cell_type": "markdown",
   "metadata": {
    "deletable": true,
    "editable": true
   },
   "source": [
    "## Introduksjon til programmering\n",
    "I denne seksjonen får du en grunnleggende introduksjon til programmering. Seksjonen avsluttes med et prosjekt hvor du skal lage ditt eget spill.\n",
    "\n",
    "1. [Hallo verden](helloWorld.ipynb)\n",
    "2. [Variabler](variabler.ipynb)\n",
    "3. [Kontrollstrukturer](kontrollstrukturer.ipynb)\n",
    "4. [Moduler og biblioteker](moduler%20og%20biblioteker.ipynb)\n",
    "5. [Funksjoner](funksjoner.ipynb)\n",
    "6. [Kodekommentarer og dokumentasjon](kodekommentarer.ipynb)\n",
    "7. [Lag et enkelt spill](lag%20et%20enkelt%20spill.ipynb)\n"
   ]
  },
  {
   "cell_type": "markdown",
   "metadata": {
    "deletable": true,
    "editable": true
   },
   "source": [
    "## Grafisk fremstilling av data\n",
    "1. [Enkel graf](enkel-graf.ipynb)\n",
    "2. [Tre punkter på linje](tre%20punkter%20p%C3%A5%20linje.ipynb)\n"
   ]
  },
  {
   "cell_type": "markdown",
   "metadata": {
    "deletable": true,
    "editable": true
   },
   "source": [
    "## Modeller og differensiallikninger\n",
    "1. Introduksjon til modellbegrepet\n",
    "2. [Enkle differensiallikninger](enkle%20differensiallikninger.ipynb)\n",
    "3. [Eulers metode](euler.ipynb)"
   ]
  },
  {
   "cell_type": "markdown",
   "metadata": {
    "deletable": true,
    "editable": true
   },
   "source": [
    "## Tankmodeller\n",
    "1. [Tankmodell 1 - Trykk og væskehøyde](tankmodell_1.ipynb)\n",
    "2. [Tankmodell 2 - Vi tømmer tanken (konstant utstrømming)](tankmodell_2.ipynb)\n",
    "3. [Tankmodell 3 - Vi tømmer tanken (fri utstrømming)](tankmodell_3.ipynb)\n",
    "4. [Tankmodell 4 - Vi fyller og tømmer tanken](tankmodell_4.ipynb)\n",
    "5. [Tankmodell 5 - To tanker](tankmodell_5.ipynb)\n"
   ]
  },
  {
   "cell_type": "markdown",
   "metadata": {
    "deletable": true,
    "editable": true
   },
   "source": [
    "## Populasjonsmodeller\n",
    "1. [Populasjonsmodeller](populasjonsmodeller.ipynb)"
   ]
  },
  {
   "cell_type": "markdown",
   "metadata": {
    "deletable": true,
    "editable": true
   },
   "source": [
    "## Statistiske modeller\n",
    "1. Minste kvadraters metode\n",
    "2. [Klassifisering](statistiske_modeller_1.ipynb)\n",
    "3. [Prediksjon](statistiske_modeller_2.ipynb)"
   ]
  },
  {
   "cell_type": "markdown",
   "metadata": {
    "deletable": true,
    "editable": true
   },
   "source": [
    "## Astrofysikk\n",
    "Ett av de virkelig store anvendelesesområdene til matematisk modellering er innen astrofysikken. Vi skal se på noe kjente modeller ved hjelp av biblioteket [Rebound](http://rebound.readthedocs.io/en/latest/index.html)\n",
    "1. Kometbaner\n",
    "2. Solsystem\n",
    "3. Tre-legeme"
   ]
  },
  {
   "cell_type": "code",
   "execution_count": null,
   "metadata": {
    "collapsed": true,
    "deletable": true,
    "editable": true
   },
   "outputs": [],
   "source": []
  }
 ],
 "metadata": {
  "kernelspec": {
   "display_name": "Python 3",
   "language": "python",
   "name": "python3"
  },
  "language_info": {
   "codemirror_mode": {
    "name": "ipython",
    "version": 3
   },
   "file_extension": ".py",
   "mimetype": "text/x-python",
   "name": "python",
   "nbconvert_exporter": "python",
   "pygments_lexer": "ipython3",
   "version": "3.6.1"
  }
 },
 "nbformat": 4,
 "nbformat_minor": 2
}

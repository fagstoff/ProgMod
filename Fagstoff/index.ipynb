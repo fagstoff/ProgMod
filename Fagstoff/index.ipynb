{
 "cells": [
  {
   "cell_type": "markdown",
   "metadata": {},
   "source": [
    "# Programmering og modellering\n",
    "\n",
    "I dette dokumentet finner du læremidler til faget [programmering og modellering](https://github.com/fagstoff/ProgMod/tree/master/L%C3%A6replan). Læremidlene er laget som [Jupyter Notebooks](https://jupyter-notebook.readthedocs.io/en/latest/), hvor fagtekster, interaktiv kode og oppgaver er samlet i ett og samme dokument. Læremidlene er laget av [bitjungle](https://github.com/bitjungle) og [fuzzbin](https://github.com/fuzzbin), og kan [brukes fritt](https://github.com/fagstoff/ProgMod/blob/master/LICENSE) av alle."
   ]
  },
  {
   "cell_type": "markdown",
   "metadata": {},
   "source": [
    "## Introduksjon til programmering\n",
    "\n",
    "1. [Hallo verden](https://github.com/fagstoff/ProgMod/blob/master/Fagstoff/helloWorld.ipynb)\n",
    "2. [Variabler](https://github.com/fagstoff/ProgMod/blob/master/Fagstoff/variabler.ipynb)\n",
    "3. [Kontrollstrukturer](https://github.com/fagstoff/ProgMod/blob/master/Fagstoff/kontrollstrukturer.ipynb)\n",
    "4. [Moduler og biblioteker](https://github.com/fagstoff/ProgMod/blob/master/Fagstoff/moduler%20og%20biblioteker.ipynb)\n",
    "5. [Funksjoner](https://github.com/fagstoff/ProgMod/blob/master/Fagstoff/funksjoner.ipynb)\n",
    "6. [Lag et enkelt spill](https://github.com/fagstoff/ProgMod/blob/master/Fagstoff/lag%20et%20enkelt%20spill.ipynb)\n"
   ]
  },
  {
   "cell_type": "markdown",
   "metadata": {},
   "source": [
    "## Grafisk fremstilling av data\n",
    "1. [Enkel graf](https://github.com/fagstoff/ProgMod/blob/master/Fagstoff/enkel-graf.ipynb)\n",
    "2. [Tre punkter på linje](https://github.com/fagstoff/ProgMod/blob/master/Fagstoff/tre%20punkter%20p%C3%A5%20linje.ipynb)\n"
   ]
  },
  {
   "cell_type": "markdown",
   "metadata": {},
   "source": [
    "## Modeller og differensiallikninger\n",
    "1. Introduksjon til modellbegrepet\n",
    "2. [Enkle differensiallikninger](https://github.com/fagstoff/ProgMod/blob/master/Fagstoff/enkle%20differensiallikninger.ipynb)\n",
    "3. [Eulers metode](https://github.com/fagstoff/ProgMod/blob/master/Fagstoff/euler.ipynb)"
   ]
  },
  {
   "cell_type": "markdown",
   "metadata": {},
   "source": [
    "## Tankmodeller\n",
    "1. [Tankmodell 1 - Trykk og væskehøyde](https://github.com/fagstoff/ProgMod/blob/master/Fagstoff/tankmodell_1.ipynb)\n",
    "2. [Tankmodell 2 - Vi tømmer tanken (konstant utstrømming)](https://github.com/fagstoff/ProgMod/blob/master/Fagstoff/tankmodell_2.ipynb)\n",
    "3. [Tankmodell 3 - Vi tømmer tanken (fri utstrømming)](https://github.com/fagstoff/ProgMod/blob/master/Fagstoff/tankmodell_3.ipynb)\n",
    "4. [Tankmodell 4 - Vi fyller og tømmer tanken](https://github.com/fagstoff/ProgMod/blob/master/Fagstoff/tankmodell_4.ipynb)\n",
    "5. [Tankmodell 5 - To tanker](https://github.com/fagstoff/ProgMod/blob/master/Fagstoff/tankmodell_5.ipynb)\n"
   ]
  },
  {
   "cell_type": "markdown",
   "metadata": {},
   "source": [
    "## Populasjonsmodeller\n",
    "1. [Populasjonsmodeller](https://github.com/fagstoff/ProgMod/blob/master/Fagstoff/populasjonsmodeller.ipynb)"
   ]
  },
  {
   "cell_type": "markdown",
   "metadata": {},
   "source": [
    "## Statistiske modeller\n",
    "1. Minste kvadraters metode\n",
    "2. [Klassifisering](https://github.com/fagstoff/ProgMod/blob/master/Fagstoff/statistiske_modeller_1.ipynb)\n",
    "3. [Prediksjon](https://github.com/fagstoff/ProgMod/blob/master/Fagstoff/statistiske_modeller_2.ipynb)"
   ]
  },
  {
   "cell_type": "code",
   "execution_count": null,
   "metadata": {
    "collapsed": true
   },
   "outputs": [],
   "source": []
  }
 ],
 "metadata": {
  "kernelspec": {
   "display_name": "Python 3",
   "language": "python",
   "name": "python3"
  },
  "language_info": {
   "codemirror_mode": {
    "name": "ipython",
    "version": 3
   },
   "file_extension": ".py",
   "mimetype": "text/x-python",
   "name": "python",
   "nbconvert_exporter": "python",
   "pygments_lexer": "ipython3",
   "version": "3.6.0"
  }
 },
 "nbformat": 4,
 "nbformat_minor": 2
}

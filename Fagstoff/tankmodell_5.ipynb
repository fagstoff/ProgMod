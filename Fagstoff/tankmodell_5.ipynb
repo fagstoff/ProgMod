{
 "cells": [
  {
   "cell_type": "markdown",
   "metadata": {},
   "source": [
    "# Tankmodell - To tanker\n",
    "__Creative Commons BY-SA : bitjungle (Rune Mathisen) og fuzzbin (Tom Jarle Christiansen)__\n",
    "\n",
    "<hr/>\n",
    "\n",
    "<img alt=\"Opphavsmann: Life-Of-Pix Lisens: Creative Commons CC0\" title=\"Opphavsmann: Life-Of-Pix Lisens: Creative Commons CC0\" style=\"width: 200px; float: right; margin-left: 30px;\" src=\"img/tanks-406908_640.jpg\">\n",
    "\n",
    "__Tidligere har vi laget [en modell for en tank hvor det strømmer væske ut av et hull i bunnen av tanken](https://github.com/fagstoff/ProgMod/blob/master/Fagstoff/tankmodell_3.ipynb), og [en modell hvor det strømmer væske inn i og ut av tanken samtidig](https://github.com/fagstoff/ProgMod/blob/master/Fagstoff/tankmodell_4.ipynb). Nå skal vi lage en modell med to tanker, hvor utløpet i den første tanken er innløpet til den andre tanken. __ \n",
    "\n",
    "> Denne siden dekker helt eller delvis kompetansemålene: <br>\n",
    "> [Grunnleggende programmering 2, 3 og 4](https://github.com/fagstoff/ProgMod/blob/master/L%C3%A6replan/kompetansem%C3%A5l.md#grunnleggende-programmering) <br>\n",
    "> [Matematiske metoder 1, 4 og 5](https://github.com/fagstoff/ProgMod/blob/master/L%C3%A6replan/kompetansem%C3%A5l.md#matematiske-metoder) <br>\n",
    "> [Modellering 1](https://github.com/fagstoff/ProgMod/blob/master/L%C3%A6replan/kompetansem%C3%A5l.md#modellering)\n"
   ]
  },
  {
   "cell_type": "markdown",
   "metadata": {
    "collapsed": true
   },
   "source": [
    "Vi har nå problemstillingen som er vist i figuren nedenfor:\n",
    "\n",
    "![Skisse av tanken](img/tank03.png)\n",
    "\n",
    "Tanken har tverrsnitt $A_t=2 \\ \\mathrm{m}^2$ over hele høyden til tanken. I toppen av tanken kommer det inn væske $q_{inn} = 0.05 \\ m^3/s$ (50 liter i sekundet). I bunnen av tanken er det et hull hvor innholdet i tanken renner ut. Arealet til dette hullet er $A_h=0,01 \\ \\mathrm{m}^2$. Ved tiden $t=0 \\ \\mathrm{s}$ er tanken fylt opp til høyden $h=4 \\ \\mathrm{m}$. Hvordan vil høyden $h$ endres over tid? Vil tanken tømmes helt? Vi antar at væsken er inkompresibel og at den strømmer friksjonsfritt ut av hullet i bunnen. Vi kan også sette $g=9.81 \\ \\mathrm{m/s}^2$.\n",
    "\n",
    "La oss først definere de parametrene vi har fått oppgitt:"
   ]
  },
  {
   "cell_type": "code",
   "execution_count": 7,
   "metadata": {},
   "outputs": [],
   "source": [
    "import math # vi trenger dette biblioteket senere\n",
    "\n",
    "A_t1 = 2.00 # Tank 1 tverrsnittareal (m^2)\n",
    "A_t2 = 2.00 # Tank 2 tverrsnittareal (m^2)\n",
    "A_h1 = 0.01 # Hull 1 tverrsnittareal (m^2)\n",
    "A_h2 = 0.01 # Hull 2 tverrsnittareal (m^2)\n",
    "h_1 = 4.00 # Vannivået i tank 1 når forsøket starter (m)\n",
    "h_2 = 4.00 # Vannivået i tank 2 når forsøket starter (m)\n",
    "g = 9.81 # Gravitasjonskonstanten (m/s^2)\n",
    "q_inn1 = 0.05 # Mengde vann inn i toppen av tanken (m^3/s)\n",
    "q_inn2 = 0 # initialverdi for innstrømming i tank 2"
   ]
  },
  {
   "cell_type": "markdown",
   "metadata": {},
   "source": [
    "Nå setter vi opp et uttrykk for hvordan volumet endrer seg over tid, når det kommer væske inn i toppen av tanken samtidig som det strømmer væske ut i bunnen av tanken. Da har vi at:\n",
    "\n",
    "$$ \\frac{dV}{dt} = q_{inn} - q_{ut}$$\n",
    "\n",
    "Eller for å si det med ord: \n",
    "> Endringen til volumet av væsken i tanken er lik mengden væske som strømmer inn i tanken minus det som strømmer ut av tanken.\n",
    "\n",
    "Dette betyr at dersom det strømmer 100 liter væske inn i tanken og 300 liter ut av tanken i løpet av et sekund, så har volumet av væsken i tanken minket med 200 liter i løpet av det samme sekundet.\n",
    "\n",
    "Vi tar først for oss tank 1. I [tankmodell 2](https://github.com/fagstoff/ProgMod/blob/master/Fagtekster/Notebooks/tankmodell2.ipynb) fant vi at vi kunne uttrykke endring i væskehøyde over tid slik:\n",
    "\n",
    "$$ \\frac{dh_1}{dt} = \\frac{1}{A_{t1}} \\left( q_{inn1} - A_{h1} k \\sqrt{h_1} \\right) $$\n",
    "\n",
    "\n",
    "hvor $k = \\sqrt{2g}$. Vi kan regne ut denne konstanten:\n"
   ]
  },
  {
   "cell_type": "code",
   "execution_count": 8,
   "metadata": {},
   "outputs": [
    {
     "name": "stdout",
     "output_type": "stream",
     "text": [
      "Konstanten k er 4.4294469180700204\n"
     ]
    }
   ],
   "source": [
    "k = math.sqrt(2*g)\n",
    "print(\"Konstanten k er {}\".format(k))"
   ]
  },
  {
   "cell_type": "markdown",
   "metadata": {},
   "source": [
    "Vi kan lage et tilsvarene uttrykk for endring av væskehøyden i tank 2, men her er ikke innstrømmingen i tanken en konstant. Mengden inn i tank 2 er det samme som mengden ut av tank 1:\n",
    "\n",
    "$$ q_{inn2} = q_{ut1} $$\n",
    "\n",
    "Vi kan regne ut $q_{ut1}$ slik:\n",
    "\n",
    "$$ q_{ut1} = A_{h1} \\cdot v_1$$\n",
    "\n",
    "Da kan vi sette opp et uttrykk for endring av væskehøyde i tank 2:\n",
    "\n",
    "$$ \\frac{dh_2}{dt} = \\frac{1}{A_{t2}} \\left( q_{inn2} - A_{h2} k \\sqrt{h_2} \\right) $$\n",
    "\n",
    "Nå må vi implementere Eulers metode i Python slik at funksjonen kan brukes på begge tankene:"
   ]
  },
  {
   "cell_type": "code",
   "execution_count": 9,
   "metadata": {},
   "outputs": [],
   "source": [
    "def euler(h, A_t, A_h, q_inn, t, t_neste):\n",
    "    '''Regner ut ny høyde i tanken vet tiden t_neste, gitt høyden ved tiden t. \n",
    "       Mengde inn samt tversnittareal av tank og utløp må også gis som parametre til funksjonen.\n",
    "    '''\n",
    "    return 1/A_t * ((q_inn) - A_h * k * math.sqrt(h)) * (t_neste - t) + h"
   ]
  },
  {
   "cell_type": "markdown",
   "metadata": {},
   "source": [
    "Vi starter ved tiden $t=0$ og endrer tiden med 5 sekunder for hver nye beregning ($\\Delta t=5$)."
   ]
  },
  {
   "cell_type": "code",
   "execution_count": 10,
   "metadata": {},
   "outputs": [
    {
     "name": "stdout",
     "output_type": "stream",
     "text": [
      "t = 0 => h_1 = 4.0 \t q_inn1 = 0.05 \t h_2 = 4.0 \t q_inn2 = 0\n",
      "t = 10 => h_1 = 3.81 \t q_inn1 = 0.05 \t h_2 = 3.99 \t q_inn2 = 0.0864\n",
      "t = 20 => h_1 = 3.62 \t q_inn1 = 0.05 \t h_2 = 3.97 \t q_inn2 = 0.0843\n",
      "t = 30 => h_1 = 3.45 \t q_inn1 = 0.05 \t h_2 = 3.94 \t q_inn2 = 0.0823\n",
      "t = 40 => h_1 = 3.29 \t q_inn1 = 0.05 \t h_2 = 3.9 \t q_inn2 = 0.0804\n",
      "t = 50 => h_1 = 3.14 \t q_inn1 = 0.05 \t h_2 = 3.86 \t q_inn2 = 0.0785\n",
      "t = 60 => h_1 = 3.0 \t q_inn1 = 0.05 \t h_2 = 3.8 \t q_inn2 = 0.0767\n",
      "t = 70 => h_1 = 2.86 \t q_inn1 = 0.05 \t h_2 = 3.75 \t q_inn2 = 0.075\n",
      "t = 80 => h_1 = 2.74 \t q_inn1 = 0.05 \t h_2 = 3.69 \t q_inn2 = 0.0733\n",
      "t = 90 => h_1 = 2.62 \t q_inn1 = 0.05 \t h_2 = 3.62 \t q_inn2 = 0.0717\n",
      "t = 100 => h_1 = 2.51 \t q_inn1 = 0.05 \t h_2 = 3.55 \t q_inn2 = 0.0702\n",
      "t = 110 => h_1 = 2.41 \t q_inn1 = 0.05 \t h_2 = 3.48 \t q_inn2 = 0.0688\n",
      "t = 120 => h_1 = 2.32 \t q_inn1 = 0.05 \t h_2 = 3.4 \t q_inn2 = 0.0674\n",
      "t = 130 => h_1 = 2.23 \t q_inn1 = 0.05 \t h_2 = 3.32 \t q_inn2 = 0.0662\n",
      "t = 140 => h_1 = 2.15 \t q_inn1 = 0.05 \t h_2 = 3.24 \t q_inn2 = 0.065\n",
      "t = 150 => h_1 = 2.08 \t q_inn1 = 0.05 \t h_2 = 3.16 \t q_inn2 = 0.0638\n",
      "t = 160 => h_1 = 2.01 \t q_inn1 = 0.05 \t h_2 = 3.08 \t q_inn2 = 0.0627\n",
      "t = 170 => h_1 = 1.94 \t q_inn1 = 0.05 \t h_2 = 3.0 \t q_inn2 = 0.0617\n",
      "t = 180 => h_1 = 1.88 \t q_inn1 = 0.05 \t h_2 = 2.92 \t q_inn2 = 0.0608\n",
      "t = 190 => h_1 = 1.83 \t q_inn1 = 0.05 \t h_2 = 2.84 \t q_inn2 = 0.0599\n",
      "t = 200 => h_1 = 1.78 \t q_inn1 = 0.05 \t h_2 = 2.77 \t q_inn2 = 0.0591\n",
      "t = 210 => h_1 = 1.74 \t q_inn1 = 0.05 \t h_2 = 2.69 \t q_inn2 = 0.0583\n",
      "t = 220 => h_1 = 1.69 \t q_inn1 = 0.05 \t h_2 = 2.61 \t q_inn2 = 0.0576\n",
      "t = 230 => h_1 = 1.66 \t q_inn1 = 0.05 \t h_2 = 2.54 \t q_inn2 = 0.057\n",
      "t = 240 => h_1 = 1.62 \t q_inn1 = 0.05 \t h_2 = 2.47 \t q_inn2 = 0.0564\n",
      "t = 250 => h_1 = 1.59 \t q_inn1 = 0.05 \t h_2 = 2.4 \t q_inn2 = 0.0558\n",
      "t = 260 => h_1 = 1.56 \t q_inn1 = 0.05 \t h_2 = 2.33 \t q_inn2 = 0.0553\n",
      "t = 270 => h_1 = 1.53 \t q_inn1 = 0.05 \t h_2 = 2.27 \t q_inn2 = 0.0548\n",
      "t = 280 => h_1 = 1.51 \t q_inn1 = 0.05 \t h_2 = 2.21 \t q_inn2 = 0.0544\n",
      "t = 290 => h_1 = 1.49 \t q_inn1 = 0.05 \t h_2 = 2.15 \t q_inn2 = 0.054\n",
      "t = 300 => h_1 = 1.47 \t q_inn1 = 0.05 \t h_2 = 2.09 \t q_inn2 = 0.0536\n",
      "t = 310 => h_1 = 1.45 \t q_inn1 = 0.05 \t h_2 = 2.04 \t q_inn2 = 0.0533\n",
      "t = 320 => h_1 = 1.43 \t q_inn1 = 0.05 \t h_2 = 1.99 \t q_inn2 = 0.053\n",
      "t = 330 => h_1 = 1.42 \t q_inn1 = 0.05 \t h_2 = 1.94 \t q_inn2 = 0.0527\n",
      "t = 340 => h_1 = 1.4 \t q_inn1 = 0.05 \t h_2 = 1.89 \t q_inn2 = 0.0525\n",
      "t = 350 => h_1 = 1.39 \t q_inn1 = 0.05 \t h_2 = 1.85 \t q_inn2 = 0.0522\n",
      "t = 360 => h_1 = 1.38 \t q_inn1 = 0.05 \t h_2 = 1.81 \t q_inn2 = 0.052\n",
      "t = 370 => h_1 = 1.37 \t q_inn1 = 0.05 \t h_2 = 1.77 \t q_inn2 = 0.0518\n",
      "t = 380 => h_1 = 1.36 \t q_inn1 = 0.05 \t h_2 = 1.73 \t q_inn2 = 0.0517\n",
      "t = 390 => h_1 = 1.35 \t q_inn1 = 0.05 \t h_2 = 1.7 \t q_inn2 = 0.0515\n",
      "t = 400 => h_1 = 1.34 \t q_inn1 = 0.05 \t h_2 = 1.67 \t q_inn2 = 0.0514\n",
      "t = 410 => h_1 = 1.34 \t q_inn1 = 0.05 \t h_2 = 1.64 \t q_inn2 = 0.0512\n",
      "t = 420 => h_1 = 1.33 \t q_inn1 = 0.05 \t h_2 = 1.61 \t q_inn2 = 0.0511\n",
      "t = 430 => h_1 = 1.33 \t q_inn1 = 0.05 \t h_2 = 1.58 \t q_inn2 = 0.051\n",
      "t = 440 => h_1 = 1.32 \t q_inn1 = 0.05 \t h_2 = 1.56 \t q_inn2 = 0.0509\n",
      "t = 450 => h_1 = 1.32 \t q_inn1 = 0.05 \t h_2 = 1.54 \t q_inn2 = 0.0508\n",
      "t = 460 => h_1 = 1.31 \t q_inn1 = 0.05 \t h_2 = 1.52 \t q_inn2 = 0.0507\n",
      "t = 470 => h_1 = 1.31 \t q_inn1 = 0.05 \t h_2 = 1.5 \t q_inn2 = 0.0507\n",
      "t = 480 => h_1 = 1.31 \t q_inn1 = 0.05 \t h_2 = 1.48 \t q_inn2 = 0.0506\n",
      "t = 490 => h_1 = 1.3 \t q_inn1 = 0.05 \t h_2 = 1.46 \t q_inn2 = 0.0505\n",
      "t = 500 => h_1 = 1.3 \t q_inn1 = 0.05 \t h_2 = 1.45 \t q_inn2 = 0.0505\n",
      "t = 510 => h_1 = 1.3 \t q_inn1 = 0.05 \t h_2 = 1.43 \t q_inn2 = 0.0504\n",
      "t = 520 => h_1 = 1.29 \t q_inn1 = 0.05 \t h_2 = 1.42 \t q_inn2 = 0.0504\n",
      "t = 530 => h_1 = 1.29 \t q_inn1 = 0.05 \t h_2 = 1.41 \t q_inn2 = 0.0504\n",
      "t = 540 => h_1 = 1.29 \t q_inn1 = 0.05 \t h_2 = 1.4 \t q_inn2 = 0.0503\n",
      "t = 550 => h_1 = 1.29 \t q_inn1 = 0.05 \t h_2 = 1.39 \t q_inn2 = 0.0503\n",
      "t = 560 => h_1 = 1.29 \t q_inn1 = 0.05 \t h_2 = 1.38 \t q_inn2 = 0.0503\n",
      "t = 570 => h_1 = 1.29 \t q_inn1 = 0.05 \t h_2 = 1.37 \t q_inn2 = 0.0502\n",
      "t = 580 => h_1 = 1.29 \t q_inn1 = 0.05 \t h_2 = 1.36 \t q_inn2 = 0.0502\n",
      "t = 590 => h_1 = 1.28 \t q_inn1 = 0.05 \t h_2 = 1.35 \t q_inn2 = 0.0502\n",
      "t = 600 => h_1 = 1.28 \t q_inn1 = 0.05 \t h_2 = 1.35 \t q_inn2 = 0.0502\n",
      "t = 610 => h_1 = 1.28 \t q_inn1 = 0.05 \t h_2 = 1.34 \t q_inn2 = 0.0502\n",
      "t = 620 => h_1 = 1.28 \t q_inn1 = 0.05 \t h_2 = 1.33 \t q_inn2 = 0.0501\n",
      "t = 630 => h_1 = 1.28 \t q_inn1 = 0.05 \t h_2 = 1.33 \t q_inn2 = 0.0501\n",
      "t = 640 => h_1 = 1.28 \t q_inn1 = 0.05 \t h_2 = 1.32 \t q_inn2 = 0.0501\n",
      "t = 650 => h_1 = 1.28 \t q_inn1 = 0.05 \t h_2 = 1.32 \t q_inn2 = 0.0501\n",
      "t = 660 => h_1 = 1.28 \t q_inn1 = 0.05 \t h_2 = 1.32 \t q_inn2 = 0.0501\n",
      "t = 670 => h_1 = 1.28 \t q_inn1 = 0.05 \t h_2 = 1.31 \t q_inn2 = 0.0501\n",
      "t = 680 => h_1 = 1.28 \t q_inn1 = 0.05 \t h_2 = 1.31 \t q_inn2 = 0.0501\n",
      "t = 690 => h_1 = 1.28 \t q_inn1 = 0.05 \t h_2 = 1.31 \t q_inn2 = 0.0501\n",
      "t = 700 => h_1 = 1.28 \t q_inn1 = 0.05 \t h_2 = 1.3 \t q_inn2 = 0.0501\n",
      "t = 710 => h_1 = 1.28 \t q_inn1 = 0.05 \t h_2 = 1.3 \t q_inn2 = 0.0501\n",
      "t = 720 => h_1 = 1.28 \t q_inn1 = 0.05 \t h_2 = 1.3 \t q_inn2 = 0.0501\n",
      "t = 730 => h_1 = 1.28 \t q_inn1 = 0.05 \t h_2 = 1.3 \t q_inn2 = 0.05\n",
      "t = 740 => h_1 = 1.28 \t q_inn1 = 0.05 \t h_2 = 1.29 \t q_inn2 = 0.05\n",
      "t = 750 => h_1 = 1.28 \t q_inn1 = 0.05 \t h_2 = 1.29 \t q_inn2 = 0.05\n",
      "t = 760 => h_1 = 1.28 \t q_inn1 = 0.05 \t h_2 = 1.29 \t q_inn2 = 0.05\n",
      "t = 770 => h_1 = 1.28 \t q_inn1 = 0.05 \t h_2 = 1.29 \t q_inn2 = 0.05\n",
      "t = 780 => h_1 = 1.28 \t q_inn1 = 0.05 \t h_2 = 1.29 \t q_inn2 = 0.05\n",
      "t = 790 => h_1 = 1.28 \t q_inn1 = 0.05 \t h_2 = 1.29 \t q_inn2 = 0.05\n",
      "t = 800 => h_1 = 1.28 \t q_inn1 = 0.05 \t h_2 = 1.29 \t q_inn2 = 0.05\n",
      "t = 810 => h_1 = 1.28 \t q_inn1 = 0.05 \t h_2 = 1.28 \t q_inn2 = 0.05\n",
      "t = 820 => h_1 = 1.28 \t q_inn1 = 0.05 \t h_2 = 1.28 \t q_inn2 = 0.05\n",
      "t = 830 => h_1 = 1.28 \t q_inn1 = 0.05 \t h_2 = 1.28 \t q_inn2 = 0.05\n",
      "t = 840 => h_1 = 1.27 \t q_inn1 = 0.05 \t h_2 = 1.28 \t q_inn2 = 0.05\n",
      "t = 850 => h_1 = 1.27 \t q_inn1 = 0.05 \t h_2 = 1.28 \t q_inn2 = 0.05\n",
      "t = 860 => h_1 = 1.27 \t q_inn1 = 0.05 \t h_2 = 1.28 \t q_inn2 = 0.05\n",
      "t = 870 => h_1 = 1.27 \t q_inn1 = 0.05 \t h_2 = 1.28 \t q_inn2 = 0.05\n",
      "t = 880 => h_1 = 1.27 \t q_inn1 = 0.05 \t h_2 = 1.28 \t q_inn2 = 0.05\n",
      "t = 890 => h_1 = 1.27 \t q_inn1 = 0.05 \t h_2 = 1.28 \t q_inn2 = 0.05\n",
      "t = 900 => h_1 = 1.27 \t q_inn1 = 0.05 \t h_2 = 1.28 \t q_inn2 = 0.05\n",
      "t = 910 => h_1 = 1.27 \t q_inn1 = 0.05 \t h_2 = 1.28 \t q_inn2 = 0.05\n",
      "t = 920 => h_1 = 1.27 \t q_inn1 = 0.05 \t h_2 = 1.28 \t q_inn2 = 0.05\n",
      "t = 930 => h_1 = 1.27 \t q_inn1 = 0.05 \t h_2 = 1.28 \t q_inn2 = 0.05\n",
      "t = 940 => h_1 = 1.27 \t q_inn1 = 0.05 \t h_2 = 1.28 \t q_inn2 = 0.05\n",
      "t = 950 => h_1 = 1.27 \t q_inn1 = 0.05 \t h_2 = 1.28 \t q_inn2 = 0.05\n",
      "t = 960 => h_1 = 1.27 \t q_inn1 = 0.05 \t h_2 = 1.28 \t q_inn2 = 0.05\n",
      "t = 970 => h_1 = 1.27 \t q_inn1 = 0.05 \t h_2 = 1.28 \t q_inn2 = 0.05\n",
      "t = 980 => h_1 = 1.27 \t q_inn1 = 0.05 \t h_2 = 1.28 \t q_inn2 = 0.05\n",
      "t = 990 => h_1 = 1.27 \t q_inn1 = 0.05 \t h_2 = 1.28 \t q_inn2 = 0.05\n",
      "t = 1000 => h_1 = 1.27 \t q_inn1 = 0.05 \t h_2 = 1.28 \t q_inn2 = 0.05\n",
      "t = 1010 => h_1 = 1.27 \t q_inn1 = 0.05 \t h_2 = 1.28 \t q_inn2 = 0.05\n",
      "t = 1020 => h_1 = 1.27 \t q_inn1 = 0.05 \t h_2 = 1.28 \t q_inn2 = 0.05\n",
      "t = 1030 => h_1 = 1.27 \t q_inn1 = 0.05 \t h_2 = 1.28 \t q_inn2 = 0.05\n",
      "t = 1040 => h_1 = 1.27 \t q_inn1 = 0.05 \t h_2 = 1.28 \t q_inn2 = 0.05\n",
      "t = 1050 => h_1 = 1.27 \t q_inn1 = 0.05 \t h_2 = 1.28 \t q_inn2 = 0.05\n",
      "t = 1060 => h_1 = 1.27 \t q_inn1 = 0.05 \t h_2 = 1.28 \t q_inn2 = 0.05\n",
      "t = 1070 => h_1 = 1.27 \t q_inn1 = 0.05 \t h_2 = 1.28 \t q_inn2 = 0.05\n",
      "t = 1080 => h_1 = 1.27 \t q_inn1 = 0.05 \t h_2 = 1.28 \t q_inn2 = 0.05\n",
      "t = 1090 => h_1 = 1.27 \t q_inn1 = 0.05 \t h_2 = 1.27 \t q_inn2 = 0.05\n",
      "t = 1100 => h_1 = 1.27 \t q_inn1 = 0.05 \t h_2 = 1.27 \t q_inn2 = 0.05\n",
      "t = 1110 => h_1 = 1.27 \t q_inn1 = 0.05 \t h_2 = 1.27 \t q_inn2 = 0.05\n",
      "t = 1120 => h_1 = 1.27 \t q_inn1 = 0.05 \t h_2 = 1.27 \t q_inn2 = 0.05\n",
      "t = 1130 => h_1 = 1.27 \t q_inn1 = 0.05 \t h_2 = 1.27 \t q_inn2 = 0.05\n",
      "t = 1140 => h_1 = 1.27 \t q_inn1 = 0.05 \t h_2 = 1.27 \t q_inn2 = 0.05\n",
      "t = 1150 => h_1 = 1.27 \t q_inn1 = 0.05 \t h_2 = 1.27 \t q_inn2 = 0.05\n",
      "t = 1160 => h_1 = 1.27 \t q_inn1 = 0.05 \t h_2 = 1.27 \t q_inn2 = 0.05\n",
      "t = 1170 => h_1 = 1.27 \t q_inn1 = 0.05 \t h_2 = 1.27 \t q_inn2 = 0.05\n",
      "t = 1180 => h_1 = 1.27 \t q_inn1 = 0.05 \t h_2 = 1.27 \t q_inn2 = 0.05\n",
      "t = 1190 => h_1 = 1.27 \t q_inn1 = 0.05 \t h_2 = 1.27 \t q_inn2 = 0.05\n"
     ]
    },
    {
     "data": {
      "image/png": "[encoded data removed]",
      "text/plain": [
       "<matplotlib.figure.Figure at 0x1032fe978>"
      ]
     },
     "metadata": {},
     "output_type": "display_data"
    }
   ],
   "source": [
    "t = 0  # starttiden\n",
    "dt = 10 # tidssteg i sekunder\n",
    "h_lim = 0.01 # vi stopper beregningen når høyden er mindre enn denne\n",
    "t_lim = 1200 # vi stopper beregningen etter 1200 sekunder\n",
    "t_hist = [] # Lagerplass for historiske tidspunkter\n",
    "h1_hist = [] # Lagerplass for historiske h-verdier\n",
    "h2_hist = [] # Lagerplass for historiske h-verdier\n",
    "while h_1 > h_lim and t < t_lim:\n",
    "    t_neste = t + dt\n",
    "    if t > 0: # ingen beregning ved t = 0, der bruker vi initialverdier\n",
    "        h_1 = euler(h_1, A_t1, A_h1, q_inn1, t, t_neste)\n",
    "        v_1 = k * math.sqrt(h_1) # Hastigheten til væsken som strømmer ut av hullet\n",
    "        q_inn2 = A_h1 * v_1 # Mengden væske som strømmer ut av hullet i tank 1\n",
    "        h_2 = euler(h_2, A_t2, A_h2, q_inn2, t, t_neste)\n",
    "    print(\"t = {} => h_1 = {} \\t q_inn1 = {} \\t h_2 = {} \\t q_inn2 = {}\".format(t, round(h_1,2), q_inn1, round(h_2,2), round(q_inn2,4)))\n",
    "    t_hist.append(t)\n",
    "    h1_hist.append(h_1)\n",
    "    h2_hist.append(h_2)\n",
    "    t = t_neste\n",
    "\n",
    "import matplotlib.pyplot as plt\n",
    "plt.plot(t_hist, h1_hist)\n",
    "plt.plot(t_hist, h2_hist)\n",
    "plt.ylabel('Høyde [m]')\n",
    "plt.xlabel('Tid [s]')\n",
    "plt.axis([0, t_lim, 0, h1_hist[0]]) # Max y-verdi må fikses!\n",
    "plt.show()"
   ]
  },
  {
   "cell_type": "markdown",
   "metadata": {
    "collapsed": true
   },
   "source": [
    "# Oppgaver\n",
    "1. I koden ovenfor er det to identiske tanker som er koblet sammen. Forsøk å endre parametere på de to tankene ($A_{t1}, A_{t2}, A_{h1}, A_{h2}$), og se hva som skjer.\n",
    "2. Kan du lage en modell som har tre sammenkoblede tanker?"
   ]
  },
  {
   "cell_type": "code",
   "execution_count": null,
   "metadata": {},
   "outputs": [],
   "source": []
  }
 ],
 "metadata": {
  "kernelspec": {
   "display_name": "Python 3",
   "language": "python",
   "name": "python3"
  },
  "language_info": {
   "codemirror_mode": {
    "name": "ipython",
    "version": 3
   },
   "file_extension": ".py",
   "mimetype": "text/x-python",
   "name": "python",
   "nbconvert_exporter": "python",
   "pygments_lexer": "ipython3",
   "version": "3.6.4"
  }
 },
 "nbformat": 4,
 "nbformat_minor": 2
}

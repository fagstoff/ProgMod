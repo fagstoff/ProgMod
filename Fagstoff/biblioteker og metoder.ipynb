{
 "cells": [
  {
   "cell_type": "markdown",
   "metadata": {
    "deletable": true,
    "editable": true
   },
   "source": [
    "# Spesialfunksjoner og biblioteker\n",
    "__Creative Commons BY-SA : bitjungle (Rune Mathisen) og fuzzbin (Tom Jarle Christiansen)__\n",
    "\n",
    "<hr>\n",
    "<img alt=\"Teknologi på biblioteket. Lisens: CC0\" style=\"float: right; margin-left: 10px; width: 300px;\" src=\"img/tablet-library.jpg\">\n",
    "\n",
    "**En av fordelene med å bruke [Python](https://www.python.org/) i programvareprosjekter, er det store økosystemet av [moduler](https://docs.python.org/3/library/functions.html) og biblioteker som enkelt kan importeres og tas i bruk. Her skal vi se litt på hvordan du tar i bruk moduler, og du får noen tips til moduler som kan være nyttige for faget Programmering og modellering.**\n",
    "\n",
    "> Denne siden dekker helt eller delvis kompetansemålene: [Grunnleggende programmering 2, 3 og 4](https://github.com/fagstoff/ProgMod/blob/master/L%C3%A6replan/kompetansem%C3%A5l.md#grunnleggende-programmering) og [Matematiske metoder 2, 3 og 4](https://github.com/fagstoff/ProgMod/blob/master/L%C3%A6replan/kompetansem%C3%A5l.md#matematiske-metoder)\n",
    "\n",
    "... mer introtekst her. \n",
    "Husk lenker til pythondocs. \n",
    "Vi kan ikke dekke alt. \n",
    "Viktig at elevene lærer å bruke dokumentasjon selv.\n",
    "\n",
    "Lag avsnitt om:\n",
    "* [range()](https://docs.python.org/3/library/stdtypes.html#range)\n",
    "* [linepsace](https://docs.scipy.org/doc/numpy/reference/generated/numpy.linspace.html)\n",
    "* [numpy](https://docs.scipy.org/doc/numpy/reference/index.html)\n",
    "* [random](https://docs.python.org/3/library/random.html#examples-and-recipes)\n",
    "* [plotting og pyplot](https://matplotlib.org/users/pyplot_tutorial.html)\n",
    "* m.m."
   ]
  },
  {
   "cell_type": "code",
   "execution_count": null,
   "metadata": {
    "collapsed": true,
    "deletable": true,
    "editable": true
   },
   "outputs": [],
   "source": [
    "import numpy as np\n",
    "\n"
   ]
  },
  {
   "cell_type": "markdown",
   "metadata": {
    "deletable": true,
    "editable": true
   },
   "source": []
  }
 ],
 "metadata": {
  "kernelspec": {
   "display_name": "Python 3",
   "language": "python",
   "name": "python3"
  },
  "language_info": {
   "codemirror_mode": {
    "name": "ipython",
    "version": 3
   },
   "file_extension": ".py",
   "mimetype": "text/x-python",
   "name": "python",
   "nbconvert_exporter": "python",
   "pygments_lexer": "ipython3",
   "version": "3.6.1"
  }
 },
 "nbformat": 4,
 "nbformat_minor": 2
}
